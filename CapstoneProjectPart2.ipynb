{
 "cells": [
  {
   "cell_type": "markdown",
   "metadata": {},
   "source": [
    "# Capstone Project 1: Instacart Market Basket Analysis\n",
    "## Part 2: Predicting Customer's Diet Classification\n",
    "\n",
    "Part 1 of this Project is the Exploratory Data Analysis where a list of questions where answered about the dataset.  This part two section includes:\n",
    "\n",
    "1. overall Aisle Perent distribution calculation\n",
    "2. extracting three sample dataset from customer's order history\n",
    "3. identifying Diet Classification by USERS\n",
    "4. identifying Diet Classification by ORDERS\n",
    "5. generating simulated sample data set\n",
    "6. hypothesis testing part 1: Are there significant differences between Diet distributions classified by USERS vs. by ORDERS?\n",
    "7. hypothesis testing part 2: Are there significant differences between Diet distribution classified by USERS and by ORDERS   \n",
    "   using Empirical dataset vs. Simulated dataset \n",
    "8. Limitations of this algorithm\n",
    "\n",
    "Note: Headings that start with \"F\" (F1,F2,...Fn) are functions"
   ]
  },
  {
   "cell_type": "code",
   "execution_count": 1,
   "metadata": {
    "collapsed": false
   },
   "outputs": [],
   "source": [
    "import pandas as pd\n",
    "import matplotlib.pyplot as plt\n",
    "import matplotlib.ticker as ticker\n",
    "import numpy as np\n",
    "% matplotlib inline\n",
    "import seaborn as sns\n",
    "from matplotlib import rcParams\n",
    "from scipy import stats\n",
    "sns.set(style=\"whitegrid\", color_codes=True)\n",
    "sns.set_context(\"poster\")"
   ]
  },
  {
   "cell_type": "code",
   "execution_count": 2,
   "metadata": {
    "collapsed": false
   },
   "outputs": [],
   "source": [
    "## Read and Save all Tables in a DF\n",
    "prod=pd.read_csv('products.csv')\n",
    "aisles=pd.read_csv('aisles.csv')\n",
    "dep=pd.read_csv('departments.csv')\n",
    "orders=pd.read_csv('orders.csv')\n",
    "train=pd.read_csv('order_products__train.csv')\n",
    "prior=pd.read_csv('order_products__prior.csv')\n",
    "samp=pd.read_csv('sample_submission.csv')"
   ]
  },
  {
   "cell_type": "code",
   "execution_count": 3,
   "metadata": {
    "collapsed": false
   },
   "outputs": [
    {
     "data": {
      "text/html": [
       "<div>\n",
       "<table border=\"1\" class=\"dataframe\">\n",
       "  <thead>\n",
       "    <tr style=\"text-align: right;\">\n",
       "      <th></th>\n",
       "      <th>aisle_id</th>\n",
       "      <th>aisle</th>\n",
       "    </tr>\n",
       "  </thead>\n",
       "  <tbody>\n",
       "    <tr>\n",
       "      <th>0</th>\n",
       "      <td>1</td>\n",
       "      <td>prepared soups salads</td>\n",
       "    </tr>\n",
       "    <tr>\n",
       "      <th>1</th>\n",
       "      <td>2</td>\n",
       "      <td>specialty cheeses</td>\n",
       "    </tr>\n",
       "    <tr>\n",
       "      <th>2</th>\n",
       "      <td>3</td>\n",
       "      <td>energy granola bars</td>\n",
       "    </tr>\n",
       "    <tr>\n",
       "      <th>3</th>\n",
       "      <td>4</td>\n",
       "      <td>instant foods</td>\n",
       "    </tr>\n",
       "    <tr>\n",
       "      <th>4</th>\n",
       "      <td>5</td>\n",
       "      <td>marinades meat preparation</td>\n",
       "    </tr>\n",
       "  </tbody>\n",
       "</table>\n",
       "</div>"
      ],
      "text/plain": [
       "   aisle_id                       aisle\n",
       "0         1       prepared soups salads\n",
       "1         2           specialty cheeses\n",
       "2         3         energy granola bars\n",
       "3         4               instant foods\n",
       "4         5  marinades meat preparation"
      ]
     },
     "execution_count": 3,
     "metadata": {},
     "output_type": "execute_result"
    }
   ],
   "source": [
    "aisles.head()"
   ]
  },
  {
   "cell_type": "code",
   "execution_count": 4,
   "metadata": {
    "collapsed": true
   },
   "outputs": [],
   "source": [
    "## Orders Table Separated to three\n",
    "oprior=orders[orders.eval_set=='prior']\n",
    "otrain=orders[orders.eval_set=='train']\n",
    "otest=orders[orders.eval_set=='test']"
   ]
  },
  {
   "cell_type": "code",
   "execution_count": 5,
   "metadata": {
    "collapsed": false
   },
   "outputs": [
    {
     "data": {
      "text/html": [
       "<div>\n",
       "<table border=\"1\" class=\"dataframe\">\n",
       "  <thead>\n",
       "    <tr style=\"text-align: right;\">\n",
       "      <th></th>\n",
       "      <th>order_id</th>\n",
       "      <th>user_id</th>\n",
       "      <th>eval_set</th>\n",
       "      <th>order_number</th>\n",
       "      <th>order_dow</th>\n",
       "      <th>order_hour_of_day</th>\n",
       "      <th>days_since_prior_order</th>\n",
       "    </tr>\n",
       "  </thead>\n",
       "  <tbody>\n",
       "    <tr>\n",
       "      <th>0</th>\n",
       "      <td>2539329</td>\n",
       "      <td>1</td>\n",
       "      <td>prior</td>\n",
       "      <td>1</td>\n",
       "      <td>2</td>\n",
       "      <td>8</td>\n",
       "      <td>NaN</td>\n",
       "    </tr>\n",
       "    <tr>\n",
       "      <th>1</th>\n",
       "      <td>2398795</td>\n",
       "      <td>1</td>\n",
       "      <td>prior</td>\n",
       "      <td>2</td>\n",
       "      <td>3</td>\n",
       "      <td>7</td>\n",
       "      <td>15.0</td>\n",
       "    </tr>\n",
       "    <tr>\n",
       "      <th>2</th>\n",
       "      <td>473747</td>\n",
       "      <td>1</td>\n",
       "      <td>prior</td>\n",
       "      <td>3</td>\n",
       "      <td>3</td>\n",
       "      <td>12</td>\n",
       "      <td>21.0</td>\n",
       "    </tr>\n",
       "    <tr>\n",
       "      <th>3</th>\n",
       "      <td>2254736</td>\n",
       "      <td>1</td>\n",
       "      <td>prior</td>\n",
       "      <td>4</td>\n",
       "      <td>4</td>\n",
       "      <td>7</td>\n",
       "      <td>29.0</td>\n",
       "    </tr>\n",
       "    <tr>\n",
       "      <th>4</th>\n",
       "      <td>431534</td>\n",
       "      <td>1</td>\n",
       "      <td>prior</td>\n",
       "      <td>5</td>\n",
       "      <td>4</td>\n",
       "      <td>15</td>\n",
       "      <td>28.0</td>\n",
       "    </tr>\n",
       "  </tbody>\n",
       "</table>\n",
       "</div>"
      ],
      "text/plain": [
       "   order_id  user_id eval_set  order_number  order_dow  order_hour_of_day  \\\n",
       "0   2539329        1    prior             1          2                  8   \n",
       "1   2398795        1    prior             2          3                  7   \n",
       "2    473747        1    prior             3          3                 12   \n",
       "3   2254736        1    prior             4          4                  7   \n",
       "4    431534        1    prior             5          4                 15   \n",
       "\n",
       "   days_since_prior_order  \n",
       "0                     NaN  \n",
       "1                    15.0  \n",
       "2                    21.0  \n",
       "3                    29.0  \n",
       "4                    28.0  "
      ]
     },
     "execution_count": 5,
     "metadata": {},
     "output_type": "execute_result"
    }
   ],
   "source": [
    "oprior.head()"
   ]
  },
  {
   "cell_type": "code",
   "execution_count": 6,
   "metadata": {
    "collapsed": false
   },
   "outputs": [
    {
     "data": {
      "text/plain": [
       "206209"
      ]
     },
     "execution_count": 6,
     "metadata": {},
     "output_type": "execute_result"
    }
   ],
   "source": [
    "## Total number of Customers that are in oprior dataframe\n",
    "oprior.user_id.unique().size"
   ]
  },
  {
   "cell_type": "code",
   "execution_count": 7,
   "metadata": {
    "collapsed": false
   },
   "outputs": [],
   "source": [
    "##Merging Oprior DataFrame with prod and aisle dataframes\n",
    "Allprior=oprior.merge(prior)\n",
    "Allprior=Allprior.merge(prod)\n",
    "Allprior=Allprior.merge(aisles)"
   ]
  },
  {
   "cell_type": "code",
   "execution_count": 177,
   "metadata": {
    "collapsed": true
   },
   "outputs": [],
   "source": [
    "Alltrain=otrain.merge(train)"
   ]
  },
  {
   "cell_type": "markdown",
   "metadata": {
    "collapsed": false
   },
   "source": [
    "# 1. Overall Aisle Perent distribution calculation"
   ]
  },
  {
   "cell_type": "code",
   "execution_count": 8,
   "metadata": {
    "collapsed": false,
    "scrolled": true
   },
   "outputs": [
    {
     "data": {
      "text/html": [
       "<div>\n",
       "<table border=\"1\" class=\"dataframe\">\n",
       "  <thead>\n",
       "    <tr style=\"text-align: right;\">\n",
       "      <th></th>\n",
       "      <th>aisle_id</th>\n",
       "      <th>aisle_percent</th>\n",
       "    </tr>\n",
       "  </thead>\n",
       "  <tbody>\n",
       "    <tr>\n",
       "      <th>0</th>\n",
       "      <td>1</td>\n",
       "      <td>0.002218</td>\n",
       "    </tr>\n",
       "    <tr>\n",
       "      <th>1</th>\n",
       "      <td>2</td>\n",
       "      <td>0.002543</td>\n",
       "    </tr>\n",
       "    <tr>\n",
       "      <th>2</th>\n",
       "      <td>3</td>\n",
       "      <td>0.014071</td>\n",
       "    </tr>\n",
       "    <tr>\n",
       "      <th>3</th>\n",
       "      <td>4</td>\n",
       "      <td>0.006187</td>\n",
       "    </tr>\n",
       "    <tr>\n",
       "      <th>4</th>\n",
       "      <td>5</td>\n",
       "      <td>0.001927</td>\n",
       "    </tr>\n",
       "  </tbody>\n",
       "</table>\n",
       "</div>"
      ],
      "text/plain": [
       "   aisle_id  aisle_percent\n",
       "0         1       0.002218\n",
       "1         2       0.002543\n",
       "2         3       0.014071\n",
       "3         4       0.006187\n",
       "4         5       0.001927"
      ]
     },
     "execution_count": 8,
     "metadata": {},
     "output_type": "execute_result"
    }
   ],
   "source": [
    "##Percentage of orders coming from each aisle in the entire Allprior dataframe\n",
    "aisle_percent=Allprior.aisle_id.value_counts()/Allprior.aisle_id.size\n",
    "aisle_percent=pd.DataFrame(aisle_percent).sort_index().reset_index()\n",
    "aisle_percent.columns=['aisle_id', 'aisle_percent']\n",
    "aisle_percent.head()\n"
   ]
  },
  {
   "cell_type": "code",
   "execution_count": 9,
   "metadata": {
    "collapsed": false
   },
   "outputs": [
    {
     "data": {
      "image/png": "[encoded data removed]",
      "text/plain": [
       "<matplotlib.figure.Figure at 0x1c660979a58>"
      ]
     },
     "metadata": {},
     "output_type": "display_data"
    }
   ],
   "source": [
    "fig, ax = plt.subplots(figsize=(8,10))\n",
    "plt.barh(range(len(aisle_percent.aisle_percent)), aisle_percent.aisle_percent, color='r')\n",
    "plt.ylim(0,135)\n",
    "plt.xlabel('Percent')\n",
    "plt.ylabel('aisle_id')\n",
    "plt.title('Aisle Distribution')\n",
    "ax.set_yticks(np.arange(0,136,5))\n",
    "plt.show()"
   ]
  },
  {
   "cell_type": "code",
   "execution_count": 10,
   "metadata": {
    "collapsed": false
   },
   "outputs": [],
   "source": [
    "## U is the dataframe of users with their number of orders\n",
    "U=oprior.groupby('user_id')['order_number'].agg(['max'])\n",
    "U['user_id']=U.index.get_level_values('user_id').values\n",
    "U.columns=['max_order', 'user_id']"
   ]
  },
  {
   "cell_type": "code",
   "execution_count": 11,
   "metadata": {
    "collapsed": false
   },
   "outputs": [],
   "source": [
    "## P_num is the dataframe of users with order_id and the number of products per order\n",
    "P_num=Allprior.groupby('user_id')['order_id'].value_counts()\n",
    "P_num=pd.DataFrame(P_num)\n",
    "P_num.columns=['prod_per_order']\n",
    "P_num['user_id']=P_num.index.get_level_values('user_id').values\n",
    "P_num['order_id']=P_num.index.get_level_values('order_id').values"
   ]
  },
  {
   "cell_type": "code",
   "execution_count": 12,
   "metadata": {
    "collapsed": false
   },
   "outputs": [],
   "source": [
    "### Tot_p is the dataframe of users with total number of products they ordered\n",
    "Tot_p=Allprior.user_id.value_counts()\n",
    "Tot_p=pd.DataFrame(Tot_p).reset_index()\n",
    "Tot_p.columns=['user_id', 'total_products']"
   ]
  },
  {
   "cell_type": "markdown",
   "metadata": {},
   "source": [
    "##  F1. This function provides a sample of 10,000 random users from the oprior dataframe for training dataset"
   ]
  },
  {
   "cell_type": "code",
   "execution_count": 13,
   "metadata": {
    "collapsed": false
   },
   "outputs": [],
   "source": [
    "def Sample_maker(Q):\n",
    "    PO=Q.merge(P_num).merge(Tot_p)\n",
    "    sample1=Q.sample(n=10000, replace=False, random_state=0, axis=0)\n",
    "    \n",
    "    ## sample1 is the DataFrame of the first dataset\n",
    "    sample1=sample1.merge(PO, how='inner')\n",
    "    sample1=sample1.loc[:,['user_id', 'order_id', 'max_order', 'prod_per_order', 'total_products']]\n",
    "\n",
    "\n",
    "    #Emp is the Empirical dataframe\n",
    "    Emp=sample1.merge(Allprior, how='inner')\n",
    "    \n",
    "    return Emp"
   ]
  },
  {
   "cell_type": "markdown",
   "metadata": {},
   "source": [
    "## F2. This Function classifies Users as Meat_Lovers, Pescatarian, Vegan, NonVegan according to users overall order history"
   ]
  },
  {
   "cell_type": "code",
   "execution_count": 14,
   "metadata": {
    "collapsed": true
   },
   "outputs": [],
   "source": [
    "def Diet_Class_user(A):\n",
    "    ## Total products ordered from Meat & Seafood Aisles\n",
    "    MS=A[(A.aisle_id==5)|(A.aisle_id==7)|(A.aisle_id==15)|(A.aisle_id==34)|(A.aisle_id==35)|(A.aisle_id==39)|(A.aisle_id==49)|(A.aisle_id==95)|(A.aisle_id==96)|(A.aisle_id==106)|(A.aisle_id==122)]\n",
    "    \n",
    "    ##Eats Meat and Fish\n",
    "    M=MS[(MS.aisle_id==5)|(A.aisle_id==7)|(A.aisle_id==35)|(A.aisle_id==49)|(A.aisle_id==96)|(A.aisle_id==106)|(A.aisle_id==122)]\n",
    "    MF=M.user_id.unique()\n",
    "    Meat_L=pd.DataFrame(MF, columns=['user_id'])\n",
    "    Meat_L['Diet']='Meat_Lovers'\n",
    "    \n",
    "    ##Pescatarian that eat and not eat other meat\n",
    "    P=MS[(MS.aisle_id==15)|(MS.aisle_id==34)|(MS.aisle_id==39)|(MS.aisle_id==95)]\n",
    "    F=P.user_id.unique()\n",
    "    \n",
    "    ## Pescatarian customers\n",
    "    Pesca=np.setdiff1d(F,MF)\n",
    "    Pesca=pd.DataFrame(Pesca, columns=['user_id'])\n",
    "    Pesca['Diet']='Pescatarian'\n",
    "\n",
    "    ## All Vegetarians\n",
    "    Veg=A.loc[~A.user_id.isin(MS.user_id)]\n",
    "\n",
    "    # NonVegan \n",
    "    NV=Veg[(Veg.aisle_id==86)|(Veg.aisle_id==2)|(Veg.aisle_id==21)|(Veg.aisle_id==53)|(Veg.aisle_id==84)|(Veg.aisle_id==108)|(Veg.aisle_id==120)]\n",
    "    F1=NV.user_id.unique()\n",
    "\n",
    "    NonVeg=pd.DataFrame(F1, columns=['user_id'])\n",
    "    NonVeg['Diet']='NonVegan'\n",
    "    \n",
    "    ##Vegans\n",
    "    Vegans=Veg.loc[~Veg.user_id.isin(F1)]\n",
    "    Vega=Vegans.user_id.unique()\n",
    "    Vega=pd.DataFrame(Vega, columns=['user_id'])\n",
    "    Vega['Diet']='Vegan'\n",
    "    \n",
    "    ## Merge all DataFrame of Different Diets\n",
    "    Sample_class=pd.concat([Meat_L, Pesca, NonVeg, Vega])\n",
    "    \n",
    "    return Sample_class"
   ]
  },
  {
   "cell_type": "markdown",
   "metadata": {},
   "source": [
    "## F3. This Function classifies Meat_Lovers, Pescatarian, Vegan, NonVegan according to orders and disregarding who ordered it (the user)"
   ]
  },
  {
   "cell_type": "code",
   "execution_count": 15,
   "metadata": {
    "collapsed": true
   },
   "outputs": [],
   "source": [
    "def Diet_Class_orders(A):\n",
    "    ## Total products ordered from Meat & Seafood Aisles\n",
    "    MS=A[(A.aisle_id==5)|(A.aisle_id==7)|(A.aisle_id==15)|(A.aisle_id==34)|(A.aisle_id==35)|(A.aisle_id==39)|(A.aisle_id==49)|(A.aisle_id==95)|(A.aisle_id==96)|(A.aisle_id==106)|(A.aisle_id==122)]\n",
    "    \n",
    "    ##Eats Meat and Fish\n",
    "    M=MS[(MS.aisle_id==5)|(A.aisle_id==7)|(A.aisle_id==35)|(A.aisle_id==49)|(A.aisle_id==96)|(A.aisle_id==106)|(A.aisle_id==122)]\n",
    "    MF=M.order_id.unique()\n",
    "    Meat_L=pd.DataFrame(MF, columns=['order_id'])\n",
    "    Meat_L['Diet']='Meat_Lovers'\n",
    "    \n",
    "    ##Pescatarian that eat and not eat other meat\n",
    "    P=MS[(MS.aisle_id==15)|(MS.aisle_id==34)|(MS.aisle_id==39)|(MS.aisle_id==95)]\n",
    "    F=P.order_id.unique()\n",
    "    \n",
    "    ## Pescatarian customers\n",
    "    Pesca=np.setdiff1d(F,MF)\n",
    "    Pesca=pd.DataFrame(Pesca, columns=['order_id'])\n",
    "    Pesca['Diet']='Pescatarian'\n",
    "\n",
    "    ## All Vegetarians\n",
    "    Veg=A.loc[~A.order_id.isin(MS.order_id)]\n",
    "\n",
    "    # NonVegan \n",
    "    NV=Veg[(Veg.aisle_id==86)|(Veg.aisle_id==2)|(Veg.aisle_id==21)|(Veg.aisle_id==53)|(Veg.aisle_id==84)|(Veg.aisle_id==108)|(Veg.aisle_id==120)]\n",
    "    F1=NV.order_id.unique()\n",
    "\n",
    "    NonVeg=pd.DataFrame(F1, columns=['order_id'])\n",
    "    NonVeg['Diet']='NonVegan'\n",
    "    \n",
    "    ##Vegans\n",
    "    Vegans=Veg.loc[~Veg.order_id.isin(F1)]\n",
    "    Vega=Vegans.order_id.unique()\n",
    "    Vega=pd.DataFrame(Vega, columns=['order_id'])\n",
    "    Vega['Diet']='Vegan'\n",
    "    \n",
    "    ## Merge all DataFrame of Different Diets\n",
    "    Sample_class=pd.concat([Meat_L, Pesca, NonVeg, Vega])\n",
    "    \n",
    "    return Sample_class"
   ]
  },
  {
   "cell_type": "markdown",
   "metadata": {},
   "source": [
    "## F4. This function returns a horizontal bar graph of distrubution of the four Diet Categories of Customers "
   ]
  },
  {
   "cell_type": "code",
   "execution_count": 16,
   "metadata": {
    "collapsed": true
   },
   "outputs": [],
   "source": [
    "def Diet_Percentage(B):\n",
    "    Per=B.Diet.value_counts()\n",
    "    Per=pd.DataFrame(Per).reset_index()\n",
    "    Per.columns=['Diet','Size']\n",
    "    Per['Percent']=Per.Size/Per.Size.sum()\n",
    "    \n",
    "    #Bar=Per.sort_index().plot(kind='barh', color='r')\n",
    "    #plt.xlabel('Percentage')\n",
    "    #plt.title('Customer Diet Distribution')\n",
    "    return Per"
   ]
  },
  {
   "cell_type": "markdown",
   "metadata": {},
   "source": [
    "## F5. This function excludes the 10,000 users previously used in a training dataset "
   ]
  },
  {
   "cell_type": "code",
   "execution_count": 17,
   "metadata": {
    "collapsed": true
   },
   "outputs": [],
   "source": [
    "def Remaining_users(S): ## S is an Empirical Sample Generated DataFrame (E1, E2, E3)\n",
    "    Rem=U.loc[~U.user_id.isin(S.user_id)]\n",
    "    return Rem\n",
    "    "
   ]
  },
  {
   "cell_type": "markdown",
   "metadata": {},
   "source": [
    "## 2. Extracting three empirical sample dataset from customer's order history \n",
    "### E1, E2 and E3 are the 3 Empirical Samples each with 10,000 users are extracted"
   ]
  },
  {
   "cell_type": "markdown",
   "metadata": {},
   "source": [
    "## 3. Identifying Diet Classification by USERS\n",
    "### P_user1, P_user2, P_user3 are the USERS FROM E1,E2 and E3 dataframe with classified USERS Diet"
   ]
  },
  {
   "cell_type": "code",
   "execution_count": 18,
   "metadata": {
    "collapsed": false
   },
   "outputs": [
    {
     "name": "stderr",
     "output_type": "stream",
     "text": [
      "C:\\Users\\pamel\\AppData\\Local\\Continuum\\Anaconda3\\lib\\site-packages\\ipykernel\\__main__.py:6: UserWarning: Boolean Series key will be reindexed to match DataFrame index.\n"
     ]
    },
    {
     "data": {
      "text/html": [
       "<div>\n",
       "<table border=\"1\" class=\"dataframe\">\n",
       "  <thead>\n",
       "    <tr style=\"text-align: right;\">\n",
       "      <th></th>\n",
       "      <th>Diet</th>\n",
       "      <th>Size</th>\n",
       "      <th>Percent</th>\n",
       "    </tr>\n",
       "  </thead>\n",
       "  <tbody>\n",
       "    <tr>\n",
       "      <th>0</th>\n",
       "      <td>Meat_Lovers</td>\n",
       "      <td>6426</td>\n",
       "      <td>0.6426</td>\n",
       "    </tr>\n",
       "    <tr>\n",
       "      <th>1</th>\n",
       "      <td>NonVegan</td>\n",
       "      <td>2336</td>\n",
       "      <td>0.2336</td>\n",
       "    </tr>\n",
       "    <tr>\n",
       "      <th>2</th>\n",
       "      <td>Vegan</td>\n",
       "      <td>774</td>\n",
       "      <td>0.0774</td>\n",
       "    </tr>\n",
       "    <tr>\n",
       "      <th>3</th>\n",
       "      <td>Pescatarian</td>\n",
       "      <td>464</td>\n",
       "      <td>0.0464</td>\n",
       "    </tr>\n",
       "  </tbody>\n",
       "</table>\n",
       "</div>"
      ],
      "text/plain": [
       "          Diet  Size  Percent\n",
       "0  Meat_Lovers  6426   0.6426\n",
       "1     NonVegan  2336   0.2336\n",
       "2        Vegan   774   0.0774\n",
       "3  Pescatarian   464   0.0464"
      ]
     },
     "execution_count": 18,
     "metadata": {},
     "output_type": "execute_result"
    }
   ],
   "source": [
    "## First Empirical Sample with 10,000 users from oprior DataFrame\n",
    "\n",
    "E1=Sample_maker(U)           # Empirical Sample Generated\n",
    "C1=Diet_Class_user(E1)       # Diets are of 10,000 in the Empirical Sample Classified by USERS\n",
    "P_user1=Diet_Percentage(C1) # This returns the percentage of the different Diet Classification\n",
    "P_user1"
   ]
  },
  {
   "cell_type": "code",
   "execution_count": 19,
   "metadata": {
    "collapsed": false
   },
   "outputs": [
    {
     "name": "stderr",
     "output_type": "stream",
     "text": [
      "C:\\Users\\pamel\\AppData\\Local\\Continuum\\Anaconda3\\lib\\site-packages\\ipykernel\\__main__.py:6: UserWarning: Boolean Series key will be reindexed to match DataFrame index.\n"
     ]
    },
    {
     "data": {
      "text/html": [
       "<div>\n",
       "<table border=\"1\" class=\"dataframe\">\n",
       "  <thead>\n",
       "    <tr style=\"text-align: right;\">\n",
       "      <th></th>\n",
       "      <th>Diet</th>\n",
       "      <th>Size</th>\n",
       "      <th>Percent</th>\n",
       "    </tr>\n",
       "  </thead>\n",
       "  <tbody>\n",
       "    <tr>\n",
       "      <th>0</th>\n",
       "      <td>Meat_Lovers</td>\n",
       "      <td>6517</td>\n",
       "      <td>0.6517</td>\n",
       "    </tr>\n",
       "    <tr>\n",
       "      <th>1</th>\n",
       "      <td>NonVegan</td>\n",
       "      <td>2294</td>\n",
       "      <td>0.2294</td>\n",
       "    </tr>\n",
       "    <tr>\n",
       "      <th>2</th>\n",
       "      <td>Vegan</td>\n",
       "      <td>691</td>\n",
       "      <td>0.0691</td>\n",
       "    </tr>\n",
       "    <tr>\n",
       "      <th>3</th>\n",
       "      <td>Pescatarian</td>\n",
       "      <td>498</td>\n",
       "      <td>0.0498</td>\n",
       "    </tr>\n",
       "  </tbody>\n",
       "</table>\n",
       "</div>"
      ],
      "text/plain": [
       "          Diet  Size  Percent\n",
       "0  Meat_Lovers  6517   0.6517\n",
       "1     NonVegan  2294   0.2294\n",
       "2        Vegan   691   0.0691\n",
       "3  Pescatarian   498   0.0498"
      ]
     },
     "execution_count": 19,
     "metadata": {},
     "output_type": "execute_result"
    }
   ],
   "source": [
    "## Second Empirical Sample with 10,000 users from oprior DataFrame\n",
    "U1=Remaining_users(E1)      # The 10,000 users in the first Emprical Sample (E1) is excluded from the oprior DataFrame\n",
    "\n",
    "E2=Sample_maker(U1)         # Empirical Sample Generated\n",
    "C2=Diet_Class_user(E2)      # Diets are of 10,000 in the Empirical Sample Classified\n",
    "P_user2=Diet_Percentage(C2)      # This returns the percentage of the different Diet Classification\n",
    "P_user2"
   ]
  },
  {
   "cell_type": "code",
   "execution_count": 20,
   "metadata": {
    "collapsed": false
   },
   "outputs": [
    {
     "name": "stderr",
     "output_type": "stream",
     "text": [
      "C:\\Users\\pamel\\AppData\\Local\\Continuum\\Anaconda3\\lib\\site-packages\\ipykernel\\__main__.py:6: UserWarning: Boolean Series key will be reindexed to match DataFrame index.\n"
     ]
    },
    {
     "data": {
      "text/html": [
       "<div>\n",
       "<table border=\"1\" class=\"dataframe\">\n",
       "  <thead>\n",
       "    <tr style=\"text-align: right;\">\n",
       "      <th></th>\n",
       "      <th>Diet</th>\n",
       "      <th>Size</th>\n",
       "      <th>Percent</th>\n",
       "    </tr>\n",
       "  </thead>\n",
       "  <tbody>\n",
       "    <tr>\n",
       "      <th>0</th>\n",
       "      <td>Meat_Lovers</td>\n",
       "      <td>6511</td>\n",
       "      <td>0.6511</td>\n",
       "    </tr>\n",
       "    <tr>\n",
       "      <th>1</th>\n",
       "      <td>NonVegan</td>\n",
       "      <td>2335</td>\n",
       "      <td>0.2335</td>\n",
       "    </tr>\n",
       "    <tr>\n",
       "      <th>2</th>\n",
       "      <td>Vegan</td>\n",
       "      <td>676</td>\n",
       "      <td>0.0676</td>\n",
       "    </tr>\n",
       "    <tr>\n",
       "      <th>3</th>\n",
       "      <td>Pescatarian</td>\n",
       "      <td>478</td>\n",
       "      <td>0.0478</td>\n",
       "    </tr>\n",
       "  </tbody>\n",
       "</table>\n",
       "</div>"
      ],
      "text/plain": [
       "          Diet  Size  Percent\n",
       "0  Meat_Lovers  6511   0.6511\n",
       "1     NonVegan  2335   0.2335\n",
       "2        Vegan   676   0.0676\n",
       "3  Pescatarian   478   0.0478"
      ]
     },
     "execution_count": 20,
     "metadata": {},
     "output_type": "execute_result"
    }
   ],
   "source": [
    "## Third Empirical Sample with 10,000 users from oprior DataFrame\n",
    "\n",
    "ET=pd.concat([E1,E2])           # The first two Empirical Sample were merged a\n",
    "U2=Remaining_users(ET)      # The 10,000 users in the first and second Emprical Sample (E1+E2) is excluded from the oprior DataFrame\n",
    "E3=Sample_maker(U2)         # Empirical Sample Generated\n",
    "C3=Diet_Class_user(E3)      # Diets are of 10,000 in the Empirical Sample Classified\n",
    "P_user3=Diet_Percentage(C3)      # This returns the percentage of the different Diet Classification\n",
    "P_user3"
   ]
  },
  {
   "cell_type": "markdown",
   "metadata": {},
   "source": [
    "## Bar Graph Comparison of % Diet Classification according to USERS across three Empirical Sample Datasets"
   ]
  },
  {
   "cell_type": "code",
   "execution_count": 21,
   "metadata": {
    "collapsed": false
   },
   "outputs": [
    {
     "data": {
      "image/png": "[encoded data removed]",
      "text/plain": [
       "<matplotlib.figure.Figure at 0x1c614dc2978>"
      ]
     },
     "metadata": {},
     "output_type": "display_data"
    }
   ],
   "source": [
    "fig, ax = plt.subplots(figsize=(10,8))\n",
    "\n",
    "X = np.arange(4)\n",
    "plt.bar(X + 0.00, P_user1.Percent, color = 'b', width = 0.25)\n",
    "plt.bar(X + 0.25, P_user2.Percent, color = 'g', width = 0.25)\n",
    "plt.bar(X + 0.50, P_user3.Percent, color = 'r', width = 0.25)\n",
    "plt.ylabel('Percent')\n",
    "\n",
    "ax.set_xticks([p + 1.5 * 0.25 for p in X])\n",
    "ax.set_xticklabels(P_user1.Diet)\n",
    "\n",
    "plt.legend(['P_user1', 'P_user2', 'P_user3'], loc='upper right')\n",
    "plt.title('Diet Distribution of 3 Empirical Sample (user_id)')\n",
    "plt.show()"
   ]
  },
  {
   "cell_type": "markdown",
   "metadata": {},
   "source": [
    "## 4. Identifying Diet Classification by ORDERS"
   ]
  },
  {
   "cell_type": "code",
   "execution_count": 22,
   "metadata": {
    "collapsed": false
   },
   "outputs": [
    {
     "name": "stderr",
     "output_type": "stream",
     "text": [
      "C:\\Users\\pamel\\AppData\\Local\\Continuum\\Anaconda3\\lib\\site-packages\\ipykernel\\__main__.py:6: UserWarning: Boolean Series key will be reindexed to match DataFrame index.\n"
     ]
    },
    {
     "data": {
      "text/html": [
       "<div>\n",
       "<table border=\"1\" class=\"dataframe\">\n",
       "  <thead>\n",
       "    <tr style=\"text-align: right;\">\n",
       "      <th></th>\n",
       "      <th>Diet</th>\n",
       "      <th>Size</th>\n",
       "      <th>Percent</th>\n",
       "    </tr>\n",
       "  </thead>\n",
       "  <tbody>\n",
       "    <tr>\n",
       "      <th>0</th>\n",
       "      <td>NonVegan</td>\n",
       "      <td>61868</td>\n",
       "      <td>0.401318</td>\n",
       "    </tr>\n",
       "    <tr>\n",
       "      <th>1</th>\n",
       "      <td>Vegan</td>\n",
       "      <td>49542</td>\n",
       "      <td>0.321363</td>\n",
       "    </tr>\n",
       "    <tr>\n",
       "      <th>2</th>\n",
       "      <td>Meat_Lovers</td>\n",
       "      <td>37813</td>\n",
       "      <td>0.245281</td>\n",
       "    </tr>\n",
       "    <tr>\n",
       "      <th>3</th>\n",
       "      <td>Pescatarian</td>\n",
       "      <td>4939</td>\n",
       "      <td>0.032038</td>\n",
       "    </tr>\n",
       "  </tbody>\n",
       "</table>\n",
       "</div>"
      ],
      "text/plain": [
       "          Diet   Size   Percent\n",
       "0     NonVegan  61868  0.401318\n",
       "1        Vegan  49542  0.321363\n",
       "2  Meat_Lovers  37813  0.245281\n",
       "3  Pescatarian   4939  0.032038"
      ]
     },
     "execution_count": 22,
     "metadata": {},
     "output_type": "execute_result"
    }
   ],
   "source": [
    "## Reclassification of Diets using E1 with 154162 total orders\n",
    "C_order1=Diet_Class_orders(E1)       # Diets are classified per order_id\n",
    "P_order1=Diet_Percentage(C_order1)   # This returns the percentage and a bar graph distribution of the different Diet Classification\n",
    "P_order1"
   ]
  },
  {
   "cell_type": "code",
   "execution_count": 23,
   "metadata": {
    "collapsed": false
   },
   "outputs": [
    {
     "name": "stderr",
     "output_type": "stream",
     "text": [
      "C:\\Users\\pamel\\AppData\\Local\\Continuum\\Anaconda3\\lib\\site-packages\\ipykernel\\__main__.py:6: UserWarning: Boolean Series key will be reindexed to match DataFrame index.\n"
     ]
    },
    {
     "data": {
      "text/html": [
       "<div>\n",
       "<table border=\"1\" class=\"dataframe\">\n",
       "  <thead>\n",
       "    <tr style=\"text-align: right;\">\n",
       "      <th></th>\n",
       "      <th>Diet</th>\n",
       "      <th>Size</th>\n",
       "      <th>Percent</th>\n",
       "    </tr>\n",
       "  </thead>\n",
       "  <tbody>\n",
       "    <tr>\n",
       "      <th>0</th>\n",
       "      <td>NonVegan</td>\n",
       "      <td>62354</td>\n",
       "      <td>0.398321</td>\n",
       "    </tr>\n",
       "    <tr>\n",
       "      <th>1</th>\n",
       "      <td>Vegan</td>\n",
       "      <td>49480</td>\n",
       "      <td>0.316081</td>\n",
       "    </tr>\n",
       "    <tr>\n",
       "      <th>2</th>\n",
       "      <td>Meat_Lovers</td>\n",
       "      <td>39572</td>\n",
       "      <td>0.252788</td>\n",
       "    </tr>\n",
       "    <tr>\n",
       "      <th>3</th>\n",
       "      <td>Pescatarian</td>\n",
       "      <td>5136</td>\n",
       "      <td>0.032809</td>\n",
       "    </tr>\n",
       "  </tbody>\n",
       "</table>\n",
       "</div>"
      ],
      "text/plain": [
       "          Diet   Size   Percent\n",
       "0     NonVegan  62354  0.398321\n",
       "1        Vegan  49480  0.316081\n",
       "2  Meat_Lovers  39572  0.252788\n",
       "3  Pescatarian   5136  0.032809"
      ]
     },
     "execution_count": 23,
     "metadata": {},
     "output_type": "execute_result"
    }
   ],
   "source": [
    "## Reclassification of Diets using E2 with 156542\n",
    "C_order2=Diet_Class_orders(E2)          # Diets are classified per order_id\n",
    "P_order2=Diet_Percentage(C_order2)      # This returns the percentage of the different Diet Classification\n",
    "P_order2"
   ]
  },
  {
   "cell_type": "code",
   "execution_count": 24,
   "metadata": {
    "collapsed": false
   },
   "outputs": [
    {
     "name": "stderr",
     "output_type": "stream",
     "text": [
      "C:\\Users\\pamel\\AppData\\Local\\Continuum\\Anaconda3\\lib\\site-packages\\ipykernel\\__main__.py:6: UserWarning: Boolean Series key will be reindexed to match DataFrame index.\n"
     ]
    },
    {
     "data": {
      "text/html": [
       "<div>\n",
       "<table border=\"1\" class=\"dataframe\">\n",
       "  <thead>\n",
       "    <tr style=\"text-align: right;\">\n",
       "      <th></th>\n",
       "      <th>Diet</th>\n",
       "      <th>Size</th>\n",
       "      <th>Percent</th>\n",
       "    </tr>\n",
       "  </thead>\n",
       "  <tbody>\n",
       "    <tr>\n",
       "      <th>0</th>\n",
       "      <td>NonVegan</td>\n",
       "      <td>63624</td>\n",
       "      <td>0.404260</td>\n",
       "    </tr>\n",
       "    <tr>\n",
       "      <th>1</th>\n",
       "      <td>Vegan</td>\n",
       "      <td>50124</td>\n",
       "      <td>0.318482</td>\n",
       "    </tr>\n",
       "    <tr>\n",
       "      <th>2</th>\n",
       "      <td>Meat_Lovers</td>\n",
       "      <td>38783</td>\n",
       "      <td>0.246423</td>\n",
       "    </tr>\n",
       "    <tr>\n",
       "      <th>3</th>\n",
       "      <td>Pescatarian</td>\n",
       "      <td>4853</td>\n",
       "      <td>0.030835</td>\n",
       "    </tr>\n",
       "  </tbody>\n",
       "</table>\n",
       "</div>"
      ],
      "text/plain": [
       "          Diet   Size   Percent\n",
       "0     NonVegan  63624  0.404260\n",
       "1        Vegan  50124  0.318482\n",
       "2  Meat_Lovers  38783  0.246423\n",
       "3  Pescatarian   4853  0.030835"
      ]
     },
     "execution_count": 24,
     "metadata": {},
     "output_type": "execute_result"
    }
   ],
   "source": [
    "## Reclassification of Diets using E3 with 157384 total orders\n",
    "C_order3=Diet_Class_orders(E3)          # Diets are classified per order_id\n",
    "P_order3=Diet_Percentage(C_order3)      # This returns the percentage of the different Diet Classification\n",
    "P_order3"
   ]
  },
  {
   "cell_type": "code",
   "execution_count": 25,
   "metadata": {
    "collapsed": false
   },
   "outputs": [
    {
     "data": {
      "image/png": "[encoded data removed]",
      "text/plain": [
       "<matplotlib.figure.Figure at 0x1c623923978>"
      ]
     },
     "metadata": {},
     "output_type": "display_data"
    }
   ],
   "source": [
    "## Bar Graph comparison of Diet distribution using Empirical Samples classified using ORDERS\n",
    "fig, ax = plt.subplots(figsize=(10,8))\n",
    "\n",
    "X = np.arange(4)\n",
    "plt.bar(X + 0.00, P_order1.Percent, color = 'c', width = 0.25)\n",
    "plt.bar(X + 0.25, P_order2.Percent, color = 'm', width = 0.25)\n",
    "plt.bar(X + 0.50, P_order3.Percent, color = 'g', width = 0.25)\n",
    "plt.ylabel('Percent')\n",
    "\n",
    "ax.set_xticks([p + 1.5 * 0.25 for p in X])\n",
    "ax.set_xticklabels(P_order1.Diet)\n",
    "\n",
    "plt.legend(['P_order1', 'P_order2', 'P_order3'], loc='upper right')\n",
    "plt.title('Diet Distribution of 3 Empirical Samples (order_id)')\n",
    "plt.show()\n",
    "\n",
    "\n"
   ]
  },
  {
   "cell_type": "markdown",
   "metadata": {},
   "source": [
    "## 5. Generating simulated sample data set\n",
    "## F6. This function generates simulated sample dataframe"
   ]
  },
  {
   "cell_type": "code",
   "execution_count": 26,
   "metadata": {
    "collapsed": false
   },
   "outputs": [],
   "source": [
    "def Simulated_sample(S):  # S isn an empirical sample generated dataframe (E1,E2, E3)\n",
    "    G=S.loc[:, ['user_id', 'order_id', 'prod_per_order']]\n",
    "    G=G.drop_duplicates()\n",
    "    \n",
    "    ## G.prod_per_order is turned into a list n.  n will be used on a loop to generate a simulated order dataframe\n",
    "    n=pd.Series.tolist(G.prod_per_order)\n",
    "\n",
    "    ## This will generate the simulated orders where aisle is randomly picked accoring to its calculated probability or percentage from aisle_percent dataframe\n",
    "    B=[]\n",
    "    for i in n:\n",
    "        Q=np.random.choice(a=aisle_percent.aisle_id, size=i, p=aisle_percent.aisle_percent)\n",
    "        Q=Q.tolist()\n",
    "        B.append(Q)\n",
    "    \n",
    "    ## The simulated list of randomly picked aisles \"B\" is turned into dataframe \n",
    "        \n",
    "    Sim1=pd.DataFrame(B).reset_index().stack()\n",
    "    Sim1=pd.DataFrame(Sim1).reset_index()\n",
    "    Sim1=Sim1.rename(columns={'level_0':'order_id', 'level_1':'product_num', 0:'aisle_id'})\n",
    "    Sim1=Sim1[Sim1['product_num']!='index']\n",
    "    Sim1['user_id']=S['user_id']\n",
    "    \n",
    "    return Sim1"
   ]
  },
  {
   "cell_type": "code",
   "execution_count": 27,
   "metadata": {
    "collapsed": false
   },
   "outputs": [],
   "source": [
    "## This is the first simulated Sample dataframe with randomly picked aisles\n",
    "Simu1= Simulated_sample(E1)"
   ]
  },
  {
   "cell_type": "code",
   "execution_count": 28,
   "metadata": {
    "collapsed": false
   },
   "outputs": [
    {
     "name": "stderr",
     "output_type": "stream",
     "text": [
      "C:\\Users\\pamel\\AppData\\Local\\Continuum\\Anaconda3\\lib\\site-packages\\ipykernel\\__main__.py:6: UserWarning: Boolean Series key will be reindexed to match DataFrame index.\n"
     ]
    },
    {
     "data": {
      "text/html": [
       "<div>\n",
       "<table border=\"1\" class=\"dataframe\">\n",
       "  <thead>\n",
       "    <tr style=\"text-align: right;\">\n",
       "      <th></th>\n",
       "      <th>Diet</th>\n",
       "      <th>Size</th>\n",
       "      <th>Percent</th>\n",
       "    </tr>\n",
       "  </thead>\n",
       "  <tbody>\n",
       "    <tr>\n",
       "      <th>0</th>\n",
       "      <td>NonVegan</td>\n",
       "      <td>65667</td>\n",
       "      <td>0.425961</td>\n",
       "    </tr>\n",
       "    <tr>\n",
       "      <th>1</th>\n",
       "      <td>Meat_Lovers</td>\n",
       "      <td>42264</td>\n",
       "      <td>0.274153</td>\n",
       "    </tr>\n",
       "    <tr>\n",
       "      <th>2</th>\n",
       "      <td>Vegan</td>\n",
       "      <td>40759</td>\n",
       "      <td>0.264391</td>\n",
       "    </tr>\n",
       "    <tr>\n",
       "      <th>3</th>\n",
       "      <td>Pescatarian</td>\n",
       "      <td>5472</td>\n",
       "      <td>0.035495</td>\n",
       "    </tr>\n",
       "  </tbody>\n",
       "</table>\n",
       "</div>"
      ],
      "text/plain": [
       "          Diet   Size   Percent\n",
       "0     NonVegan  65667  0.425961\n",
       "1  Meat_Lovers  42264  0.274153\n",
       "2        Vegan  40759  0.264391\n",
       "3  Pescatarian   5472  0.035495"
      ]
     },
     "execution_count": 28,
     "metadata": {},
     "output_type": "execute_result"
    }
   ],
   "source": [
    "Csim_or=Diet_Class_orders(Simu1)    #Each order is classified to a certain Diet\n",
    "Psimulated_order=Diet_Percentage(Csim_or)    #Percentage of each diet is calculated\n",
    "Psimulated_order\n"
   ]
  },
  {
   "cell_type": "code",
   "execution_count": 29,
   "metadata": {
    "collapsed": false
   },
   "outputs": [
    {
     "name": "stderr",
     "output_type": "stream",
     "text": [
      "C:\\Users\\pamel\\AppData\\Local\\Continuum\\Anaconda3\\lib\\site-packages\\ipykernel\\__main__.py:6: UserWarning: Boolean Series key will be reindexed to match DataFrame index.\n"
     ]
    },
    {
     "data": {
      "text/html": [
       "<div>\n",
       "<table border=\"1\" class=\"dataframe\">\n",
       "  <thead>\n",
       "    <tr style=\"text-align: right;\">\n",
       "      <th></th>\n",
       "      <th>Diet</th>\n",
       "      <th>Size</th>\n",
       "      <th>Percent</th>\n",
       "    </tr>\n",
       "  </thead>\n",
       "  <tbody>\n",
       "    <tr>\n",
       "      <th>0</th>\n",
       "      <td>Meat_Lovers</td>\n",
       "      <td>8152</td>\n",
       "      <td>0.814874</td>\n",
       "    </tr>\n",
       "    <tr>\n",
       "      <th>1</th>\n",
       "      <td>NonVegan</td>\n",
       "      <td>1410</td>\n",
       "      <td>0.140944</td>\n",
       "    </tr>\n",
       "    <tr>\n",
       "      <th>2</th>\n",
       "      <td>Pescatarian</td>\n",
       "      <td>266</td>\n",
       "      <td>0.026589</td>\n",
       "    </tr>\n",
       "    <tr>\n",
       "      <th>3</th>\n",
       "      <td>Vegan</td>\n",
       "      <td>176</td>\n",
       "      <td>0.017593</td>\n",
       "    </tr>\n",
       "  </tbody>\n",
       "</table>\n",
       "</div>"
      ],
      "text/plain": [
       "          Diet  Size   Percent\n",
       "0  Meat_Lovers  8152  0.814874\n",
       "1     NonVegan  1410  0.140944\n",
       "2  Pescatarian   266  0.026589\n",
       "3        Vegan   176  0.017593"
      ]
     },
     "execution_count": 29,
     "metadata": {},
     "output_type": "execute_result"
    }
   ],
   "source": [
    "Csim_us=Diet_Class_user(Simu1)    ## Each user is classified to a certain Diet\n",
    "Psimulated_user=Diet_Percentage(Csim_us) ## Percentage of each diet calculated\n",
    "Psimulated_user"
   ]
  },
  {
   "cell_type": "markdown",
   "metadata": {},
   "source": [
    "## F7. This function will merge two dataframes from two group of proportions being compared "
   ]
  },
  {
   "cell_type": "code",
   "execution_count": 30,
   "metadata": {
    "collapsed": true
   },
   "outputs": [],
   "source": [
    "## This function will merge two dataframes from two group of proportions being compared \n",
    "def df_prop_compare(M, N):    ## M and N are dataframes with Diet classification with Size and Percent\n",
    "    M.columns=['Diet', 'Size1', 'Percent1']\n",
    "    N.columns=['Diet', 'Size2', 'Percent2']\n",
    "    MN=M.merge(N)\n",
    "    return MN"
   ]
  },
  {
   "cell_type": "code",
   "execution_count": 31,
   "metadata": {
    "collapsed": false
   },
   "outputs": [
    {
     "data": {
      "text/html": [
       "<div>\n",
       "<table border=\"1\" class=\"dataframe\">\n",
       "  <thead>\n",
       "    <tr style=\"text-align: right;\">\n",
       "      <th></th>\n",
       "      <th>Diet</th>\n",
       "      <th>Size1</th>\n",
       "      <th>Percent1</th>\n",
       "      <th>Size2</th>\n",
       "      <th>Percent2</th>\n",
       "    </tr>\n",
       "  </thead>\n",
       "  <tbody>\n",
       "    <tr>\n",
       "      <th>0</th>\n",
       "      <td>Meat_Lovers</td>\n",
       "      <td>6426</td>\n",
       "      <td>0.6426</td>\n",
       "      <td>37813</td>\n",
       "      <td>0.245281</td>\n",
       "    </tr>\n",
       "    <tr>\n",
       "      <th>1</th>\n",
       "      <td>NonVegan</td>\n",
       "      <td>2336</td>\n",
       "      <td>0.2336</td>\n",
       "      <td>61868</td>\n",
       "      <td>0.401318</td>\n",
       "    </tr>\n",
       "    <tr>\n",
       "      <th>2</th>\n",
       "      <td>Vegan</td>\n",
       "      <td>774</td>\n",
       "      <td>0.0774</td>\n",
       "      <td>49542</td>\n",
       "      <td>0.321363</td>\n",
       "    </tr>\n",
       "    <tr>\n",
       "      <th>3</th>\n",
       "      <td>Pescatarian</td>\n",
       "      <td>464</td>\n",
       "      <td>0.0464</td>\n",
       "      <td>4939</td>\n",
       "      <td>0.032038</td>\n",
       "    </tr>\n",
       "  </tbody>\n",
       "</table>\n",
       "</div>"
      ],
      "text/plain": [
       "          Diet  Size1  Percent1  Size2  Percent2\n",
       "0  Meat_Lovers   6426    0.6426  37813  0.245281\n",
       "1     NonVegan   2336    0.2336  61868  0.401318\n",
       "2        Vegan    774    0.0774  49542  0.321363\n",
       "3  Pescatarian    464    0.0464   4939  0.032038"
      ]
     },
     "execution_count": 31,
     "metadata": {},
     "output_type": "execute_result"
    }
   ],
   "source": [
    "## User_Order_Emp is the dataframe with Sizes and Percentages of Diets classifications from all \"users\" and \"orders\"\n",
    "User_Order_Emp=df_prop_compare(P_user1, P_order1)\n",
    "User_Order_Emp"
   ]
  },
  {
   "cell_type": "markdown",
   "metadata": {},
   "source": [
    "## 6. Hypothesis testing part 1: Are there significant differences between Diet distributions classified by USERS vs. by ORDERS? "
   ]
  },
  {
   "cell_type": "markdown",
   "metadata": {},
   "source": [
    "Ho: There is no significant difference in classifying Diets using \"users overall orders\" versus using \"individual orders disregarding who ordered it\"\n",
    "\n",
    "H1:There is significant difference in classifying Diets between using \"users overall orders\" versus using \"individual orders disregarding who ordered it\"   "
   ]
  },
  {
   "cell_type": "code",
   "execution_count": 32,
   "metadata": {
    "collapsed": false
   },
   "outputs": [
    {
     "data": {
      "image/png": "[encoded data removed]",
      "text/plain": [
       "<matplotlib.figure.Figure at 0x1c61721fef0>"
      ]
     },
     "metadata": {},
     "output_type": "display_data"
    }
   ],
   "source": [
    "fig, ax = plt.subplots(figsize=(10,8))\n",
    "\n",
    "X = np.arange(4)\n",
    "plt.bar(X + 0.00, User_Order_Emp.Percent1, color = 'b', width = 0.25)\n",
    "plt.bar(X + 0.25, User_Order_Emp.Percent2, color = 'g', width = 0.25)\n",
    "plt.ylabel('Percent')\n",
    "\n",
    "ax.set_xticks([p + 1.5 * 0.25 for p in X])\n",
    "ax.set_xticklabels(User_Order_Emp.Diet)\n",
    "\n",
    "plt.legend(['P_user1', 'P_order1'], loc='upper right')\n",
    "plt.title('Diet Distribution by USERS and by ORDERS of Empirical Samples')\n",
    "plt.show()"
   ]
  },
  {
   "cell_type": "markdown",
   "metadata": {},
   "source": [
    "##  F8. This function calculates variance, standard deviation, difference in proportion, MOE, degrees of freedom, t_value and p_value "
   ]
  },
  {
   "cell_type": "code",
   "execution_count": 33,
   "metadata": {
    "collapsed": false
   },
   "outputs": [],
   "source": [
    "def diff_std_p_val(W):    ## W is a dataframe with the Diet classification Sizes and Percentages of 2 groups being compared\n",
    "    W['var_1']=W.Percent1*(1-W.Percent1)/W.Size1\n",
    "    W['var_2']=W.Percent2*(1-W.Percent2)/W.Size2\n",
    "    W['var1_2']=W.var_1+W.var_2\n",
    "    W['std_var1_2']=  W.var1_2**0.5             ## a.k.a. standard error\n",
    "\n",
    "    W['%_diff']=abs(W.Percent1-W.Percent2)      ## absolute difference between two proportions\n",
    "\n",
    "    W['moe']=1.96*W.std_var1_2                   ## margin of error\n",
    "\n",
    "    W['DF']= ((W.var_1/W.Size1 +W.var_2/W.Size2)**2)/(((W.var_1/W.Size1)**2/W.Size1)+((W.var_2/W.Size2)**2/W.Size2))  ## degrees of freedom\n",
    "\n",
    "    W['t_val']=(W['%_diff']-0)/W.std_var1_2\n",
    "\n",
    "    W['p_val']=stats.t.sf(np.abs(W.t_val), W.DF)*2  # two-sided pvalue = Prob(abs(t)>tt)\n",
    "\n",
    "    return W   "
   ]
  },
  {
   "cell_type": "code",
   "execution_count": 34,
   "metadata": {
    "collapsed": false
   },
   "outputs": [
    {
     "data": {
      "text/html": [
       "<div>\n",
       "<table border=\"1\" class=\"dataframe\">\n",
       "  <thead>\n",
       "    <tr style=\"text-align: right;\">\n",
       "      <th></th>\n",
       "      <th>Diet</th>\n",
       "      <th>Size1</th>\n",
       "      <th>Percent1</th>\n",
       "      <th>Size2</th>\n",
       "      <th>Percent2</th>\n",
       "      <th>var_1</th>\n",
       "      <th>var_2</th>\n",
       "      <th>var1_2</th>\n",
       "      <th>std_var1_2</th>\n",
       "      <th>%_diff</th>\n",
       "      <th>moe</th>\n",
       "      <th>DF</th>\n",
       "      <th>t_val</th>\n",
       "      <th>p_val</th>\n",
       "    </tr>\n",
       "  </thead>\n",
       "  <tbody>\n",
       "    <tr>\n",
       "      <th>0</th>\n",
       "      <td>Meat_Lovers</td>\n",
       "      <td>6426</td>\n",
       "      <td>0.6426</td>\n",
       "      <td>37813</td>\n",
       "      <td>0.245281</td>\n",
       "      <td>0.000036</td>\n",
       "      <td>0.000005</td>\n",
       "      <td>0.000041</td>\n",
       "      <td>0.006375</td>\n",
       "      <td>0.397319</td>\n",
       "      <td>0.012494</td>\n",
       "      <td>6728.036494</td>\n",
       "      <td>62.328394</td>\n",
       "      <td>0.000000e+00</td>\n",
       "    </tr>\n",
       "    <tr>\n",
       "      <th>1</th>\n",
       "      <td>NonVegan</td>\n",
       "      <td>2336</td>\n",
       "      <td>0.2336</td>\n",
       "      <td>61868</td>\n",
       "      <td>0.401318</td>\n",
       "      <td>0.000077</td>\n",
       "      <td>0.000004</td>\n",
       "      <td>0.000081</td>\n",
       "      <td>0.008973</td>\n",
       "      <td>0.167718</td>\n",
       "      <td>0.017588</td>\n",
       "      <td>2344.946897</td>\n",
       "      <td>18.690405</td>\n",
       "      <td>8.871788e-73</td>\n",
       "    </tr>\n",
       "    <tr>\n",
       "      <th>2</th>\n",
       "      <td>Vegan</td>\n",
       "      <td>774</td>\n",
       "      <td>0.0774</td>\n",
       "      <td>49542</td>\n",
       "      <td>0.321363</td>\n",
       "      <td>0.000092</td>\n",
       "      <td>0.000004</td>\n",
       "      <td>0.000097</td>\n",
       "      <td>0.009832</td>\n",
       "      <td>0.243963</td>\n",
       "      <td>0.019270</td>\n",
       "      <td>775.154368</td>\n",
       "      <td>24.813971</td>\n",
       "      <td>1.682779e-100</td>\n",
       "    </tr>\n",
       "    <tr>\n",
       "      <th>3</th>\n",
       "      <td>Pescatarian</td>\n",
       "      <td>464</td>\n",
       "      <td>0.0464</td>\n",
       "      <td>4939</td>\n",
       "      <td>0.032038</td>\n",
       "      <td>0.000095</td>\n",
       "      <td>0.000006</td>\n",
       "      <td>0.000102</td>\n",
       "      <td>0.010082</td>\n",
       "      <td>0.014362</td>\n",
       "      <td>0.019760</td>\n",
       "      <td>469.756461</td>\n",
       "      <td>1.424601</td>\n",
       "      <td>1.549365e-01</td>\n",
       "    </tr>\n",
       "  </tbody>\n",
       "</table>\n",
       "</div>"
      ],
      "text/plain": [
       "          Diet  Size1  Percent1  Size2  Percent2     var_1     var_2  \\\n",
       "0  Meat_Lovers   6426    0.6426  37813  0.245281  0.000036  0.000005   \n",
       "1     NonVegan   2336    0.2336  61868  0.401318  0.000077  0.000004   \n",
       "2        Vegan    774    0.0774  49542  0.321363  0.000092  0.000004   \n",
       "3  Pescatarian    464    0.0464   4939  0.032038  0.000095  0.000006   \n",
       "\n",
       "     var1_2  std_var1_2    %_diff       moe           DF      t_val  \\\n",
       "0  0.000041    0.006375  0.397319  0.012494  6728.036494  62.328394   \n",
       "1  0.000081    0.008973  0.167718  0.017588  2344.946897  18.690405   \n",
       "2  0.000097    0.009832  0.243963  0.019270   775.154368  24.813971   \n",
       "3  0.000102    0.010082  0.014362  0.019760   469.756461   1.424601   \n",
       "\n",
       "           p_val  \n",
       "0   0.000000e+00  \n",
       "1   8.871788e-73  \n",
       "2  1.682779e-100  \n",
       "3   1.549365e-01  "
      ]
     },
     "execution_count": 34,
     "metadata": {},
     "output_type": "execute_result"
    }
   ],
   "source": [
    "## pvalues of Diets % difference between using \"users overall orders\" and using \"individual orders disregarding who ordered \n",
    "Use_Or=diff_std_p_val(User_Order_Emp)\n",
    "Use_Or"
   ]
  },
  {
   "cell_type": "markdown",
   "metadata": {},
   "source": [
    "### For Meat_Lovers, NonVegan, and Vegan, p_values are <0.05, we can reject the null hypothesis and accept H1.  \n",
    "H1:There is significant difference in classifying these 3 Diets between using \"users overall orders\" and using \"individual orders disregarding who ordered it\" .  \n",
    "However for Pescatarian p_value>0.05 which means there is no significant difference in calculating % of this group by \"USERS\" or by \"ORDERS\""
   ]
  },
  {
   "cell_type": "markdown",
   "metadata": {},
   "source": [
    "## 7. Hypothesis testing part 2: Are there significant differences between Diet distribution classified by USERS and by ORDERS using Empirical dataset vs. Simulated dataset"
   ]
  },
  {
   "cell_type": "markdown",
   "metadata": {},
   "source": [
    "II.A\n",
    "Ho: There is no significant difference between Diet distribution classified by USERS using Empirical dataset versus Simulated dataset\n",
    "\n",
    "H1: There is significant difference between Diet distribution classified by USERS using Empirical dataset versus Simulated dataset"
   ]
  },
  {
   "cell_type": "code",
   "execution_count": 35,
   "metadata": {
    "collapsed": false
   },
   "outputs": [
    {
     "data": {
      "text/html": [
       "<div>\n",
       "<table border=\"1\" class=\"dataframe\">\n",
       "  <thead>\n",
       "    <tr style=\"text-align: right;\">\n",
       "      <th></th>\n",
       "      <th>Diet</th>\n",
       "      <th>Size1</th>\n",
       "      <th>Percent1</th>\n",
       "      <th>Size2</th>\n",
       "      <th>Percent2</th>\n",
       "    </tr>\n",
       "  </thead>\n",
       "  <tbody>\n",
       "    <tr>\n",
       "      <th>0</th>\n",
       "      <td>Meat_Lovers</td>\n",
       "      <td>6426</td>\n",
       "      <td>0.6426</td>\n",
       "      <td>8152</td>\n",
       "      <td>0.814874</td>\n",
       "    </tr>\n",
       "    <tr>\n",
       "      <th>1</th>\n",
       "      <td>NonVegan</td>\n",
       "      <td>2336</td>\n",
       "      <td>0.2336</td>\n",
       "      <td>1410</td>\n",
       "      <td>0.140944</td>\n",
       "    </tr>\n",
       "    <tr>\n",
       "      <th>2</th>\n",
       "      <td>Vegan</td>\n",
       "      <td>774</td>\n",
       "      <td>0.0774</td>\n",
       "      <td>176</td>\n",
       "      <td>0.017593</td>\n",
       "    </tr>\n",
       "    <tr>\n",
       "      <th>3</th>\n",
       "      <td>Pescatarian</td>\n",
       "      <td>464</td>\n",
       "      <td>0.0464</td>\n",
       "      <td>266</td>\n",
       "      <td>0.026589</td>\n",
       "    </tr>\n",
       "  </tbody>\n",
       "</table>\n",
       "</div>"
      ],
      "text/plain": [
       "          Diet  Size1  Percent1  Size2  Percent2\n",
       "0  Meat_Lovers   6426    0.6426   8152  0.814874\n",
       "1     NonVegan   2336    0.2336   1410  0.140944\n",
       "2        Vegan    774    0.0774    176  0.017593\n",
       "3  Pescatarian    464    0.0464    266  0.026589"
      ]
     },
     "execution_count": 35,
     "metadata": {},
     "output_type": "execute_result"
    }
   ],
   "source": [
    "## Sim_Emp_User is the dataframe comparing % of empirical sample and simulated sample both classified by USERS\n",
    "Sim_Emp_User=df_prop_compare(P_user1, Psimulated_user)\n",
    "Sim_Emp_User"
   ]
  },
  {
   "cell_type": "code",
   "execution_count": 36,
   "metadata": {
    "collapsed": false
   },
   "outputs": [
    {
     "data": {
      "image/png": "[encoded data removed]",
      "text/plain": [
       "<matplotlib.figure.Figure at 0x1c60101ef98>"
      ]
     },
     "metadata": {},
     "output_type": "display_data"
    }
   ],
   "source": [
    "fig, ax = plt.subplots(figsize=(10,8))\n",
    "\n",
    "X = np.arange(4)\n",
    "plt.bar(X + 0.00, Sim_Emp_User.Percent1, color = 'r', width = 0.25)\n",
    "plt.bar(X + 0.25, Sim_Emp_User.Percent2, color = 'm', width = 0.25)\n",
    "plt.ylabel('Percent')\n",
    "\n",
    "ax.set_xticks([p + 1.5 * 0.25 for p in X])\n",
    "ax.set_xticklabels(Sim_Emp_User.Diet)\n",
    "\n",
    "plt.legend(['P_user1', 'Psimulated_user'], loc='upper right')\n",
    "plt.title('Diet Distribution by USERS Empirical and Simulated')\n",
    "plt.show()\n"
   ]
  },
  {
   "cell_type": "code",
   "execution_count": 37,
   "metadata": {
    "collapsed": false
   },
   "outputs": [
    {
     "data": {
      "text/html": [
       "<div>\n",
       "<table border=\"1\" class=\"dataframe\">\n",
       "  <thead>\n",
       "    <tr style=\"text-align: right;\">\n",
       "      <th></th>\n",
       "      <th>Diet</th>\n",
       "      <th>Size1</th>\n",
       "      <th>Percent1</th>\n",
       "      <th>Size2</th>\n",
       "      <th>Percent2</th>\n",
       "      <th>var_1</th>\n",
       "      <th>var_2</th>\n",
       "      <th>var1_2</th>\n",
       "      <th>std_var1_2</th>\n",
       "      <th>%_diff</th>\n",
       "      <th>moe</th>\n",
       "      <th>DF</th>\n",
       "      <th>t_val</th>\n",
       "      <th>p_val</th>\n",
       "    </tr>\n",
       "  </thead>\n",
       "  <tbody>\n",
       "    <tr>\n",
       "      <th>0</th>\n",
       "      <td>Meat_Lovers</td>\n",
       "      <td>6426</td>\n",
       "      <td>0.6426</td>\n",
       "      <td>8152</td>\n",
       "      <td>0.814874</td>\n",
       "      <td>0.000036</td>\n",
       "      <td>0.000019</td>\n",
       "      <td>0.000054</td>\n",
       "      <td>0.007365</td>\n",
       "      <td>0.172274</td>\n",
       "      <td>0.014436</td>\n",
       "      <td>11262.980977</td>\n",
       "      <td>23.390485</td>\n",
       "      <td>3.414334e-118</td>\n",
       "    </tr>\n",
       "    <tr>\n",
       "      <th>1</th>\n",
       "      <td>NonVegan</td>\n",
       "      <td>2336</td>\n",
       "      <td>0.2336</td>\n",
       "      <td>1410</td>\n",
       "      <td>0.140944</td>\n",
       "      <td>0.000077</td>\n",
       "      <td>0.000086</td>\n",
       "      <td>0.000163</td>\n",
       "      <td>0.012748</td>\n",
       "      <td>0.092656</td>\n",
       "      <td>0.024986</td>\n",
       "      <td>2840.743164</td>\n",
       "      <td>7.268312</td>\n",
       "      <td>4.682099e-13</td>\n",
       "    </tr>\n",
       "    <tr>\n",
       "      <th>2</th>\n",
       "      <td>Vegan</td>\n",
       "      <td>774</td>\n",
       "      <td>0.0774</td>\n",
       "      <td>176</td>\n",
       "      <td>0.017593</td>\n",
       "      <td>0.000092</td>\n",
       "      <td>0.000098</td>\n",
       "      <td>0.000190</td>\n",
       "      <td>0.013801</td>\n",
       "      <td>0.059807</td>\n",
       "      <td>0.027050</td>\n",
       "      <td>256.568465</td>\n",
       "      <td>4.333600</td>\n",
       "      <td>2.107624e-05</td>\n",
       "    </tr>\n",
       "    <tr>\n",
       "      <th>3</th>\n",
       "      <td>Pescatarian</td>\n",
       "      <td>464</td>\n",
       "      <td>0.0464</td>\n",
       "      <td>266</td>\n",
       "      <td>0.026589</td>\n",
       "      <td>0.000095</td>\n",
       "      <td>0.000097</td>\n",
       "      <td>0.000193</td>\n",
       "      <td>0.013880</td>\n",
       "      <td>0.019811</td>\n",
       "      <td>0.027205</td>\n",
       "      <td>549.435128</td>\n",
       "      <td>1.427251</td>\n",
       "      <td>1.540757e-01</td>\n",
       "    </tr>\n",
       "  </tbody>\n",
       "</table>\n",
       "</div>"
      ],
      "text/plain": [
       "          Diet  Size1  Percent1  Size2  Percent2     var_1     var_2  \\\n",
       "0  Meat_Lovers   6426    0.6426   8152  0.814874  0.000036  0.000019   \n",
       "1     NonVegan   2336    0.2336   1410  0.140944  0.000077  0.000086   \n",
       "2        Vegan    774    0.0774    176  0.017593  0.000092  0.000098   \n",
       "3  Pescatarian    464    0.0464    266  0.026589  0.000095  0.000097   \n",
       "\n",
       "     var1_2  std_var1_2    %_diff       moe            DF      t_val  \\\n",
       "0  0.000054    0.007365  0.172274  0.014436  11262.980977  23.390485   \n",
       "1  0.000163    0.012748  0.092656  0.024986   2840.743164   7.268312   \n",
       "2  0.000190    0.013801  0.059807  0.027050    256.568465   4.333600   \n",
       "3  0.000193    0.013880  0.019811  0.027205    549.435128   1.427251   \n",
       "\n",
       "           p_val  \n",
       "0  3.414334e-118  \n",
       "1   4.682099e-13  \n",
       "2   2.107624e-05  \n",
       "3   1.540757e-01  "
      ]
     },
     "execution_count": 37,
     "metadata": {},
     "output_type": "execute_result"
    }
   ],
   "source": [
    "##Sim_Emp is a dataframe with calculated standard deviation, moe, degrees of freedom, t_values and p_values (USERS)\n",
    "Sim_Emp=diff_std_p_val(Sim_Emp_User)\n",
    "Sim_Emp"
   ]
  },
  {
   "cell_type": "markdown",
   "metadata": {},
   "source": [
    "### For Meat_Lovers, NonVegan, and Vegan, p_values are <0.05, we can reject the null hypothesis and accept H1.  \n",
    "H1:There is significant difference between Diet distribution classified by USERS using Empirical dataset versus Simulated dataset. \n",
    "However for Pescatarian classified by USERS p_value>0.05 which means there is no significant difference in % of this group using Empirical dataset and Simulated dataset"
   ]
  },
  {
   "cell_type": "markdown",
   "metadata": {
    "collapsed": true
   },
   "source": [
    "II.B\n",
    "Ho: There is no significant difference between Diet distribution classified by ORDERS using Empirical dataset versus Simulated dataset\n",
    "\n",
    "H1: There is significant difference between Diet distribution classified by ORDERS using Empirical dataset versus Simulated dataset"
   ]
  },
  {
   "cell_type": "code",
   "execution_count": 38,
   "metadata": {
    "collapsed": false
   },
   "outputs": [
    {
     "data": {
      "text/html": [
       "<div>\n",
       "<table border=\"1\" class=\"dataframe\">\n",
       "  <thead>\n",
       "    <tr style=\"text-align: right;\">\n",
       "      <th></th>\n",
       "      <th>Diet</th>\n",
       "      <th>Size1</th>\n",
       "      <th>Percent1</th>\n",
       "      <th>Size2</th>\n",
       "      <th>Percent2</th>\n",
       "    </tr>\n",
       "  </thead>\n",
       "  <tbody>\n",
       "    <tr>\n",
       "      <th>0</th>\n",
       "      <td>NonVegan</td>\n",
       "      <td>61868</td>\n",
       "      <td>0.401318</td>\n",
       "      <td>65667</td>\n",
       "      <td>0.425961</td>\n",
       "    </tr>\n",
       "    <tr>\n",
       "      <th>1</th>\n",
       "      <td>Vegan</td>\n",
       "      <td>49542</td>\n",
       "      <td>0.321363</td>\n",
       "      <td>40759</td>\n",
       "      <td>0.264391</td>\n",
       "    </tr>\n",
       "    <tr>\n",
       "      <th>2</th>\n",
       "      <td>Meat_Lovers</td>\n",
       "      <td>37813</td>\n",
       "      <td>0.245281</td>\n",
       "      <td>42264</td>\n",
       "      <td>0.274153</td>\n",
       "    </tr>\n",
       "    <tr>\n",
       "      <th>3</th>\n",
       "      <td>Pescatarian</td>\n",
       "      <td>4939</td>\n",
       "      <td>0.032038</td>\n",
       "      <td>5472</td>\n",
       "      <td>0.035495</td>\n",
       "    </tr>\n",
       "  </tbody>\n",
       "</table>\n",
       "</div>"
      ],
      "text/plain": [
       "          Diet  Size1  Percent1  Size2  Percent2\n",
       "0     NonVegan  61868  0.401318  65667  0.425961\n",
       "1        Vegan  49542  0.321363  40759  0.264391\n",
       "2  Meat_Lovers  37813  0.245281  42264  0.274153\n",
       "3  Pescatarian   4939  0.032038   5472  0.035495"
      ]
     },
     "execution_count": 38,
     "metadata": {},
     "output_type": "execute_result"
    }
   ],
   "source": [
    "## Sim_Emp_Order is the dataframe comparing % of empirical sample and simulated sample both classified by ORDERS\n",
    "Sim_Emp_Order=df_prop_compare(P_order1, Psimulated_order)\n",
    "Sim_Emp_Order"
   ]
  },
  {
   "cell_type": "code",
   "execution_count": 39,
   "metadata": {
    "collapsed": false
   },
   "outputs": [
    {
     "data": {
      "image/png": "[encoded data removed]",
      "text/plain": [
       "<matplotlib.figure.Figure at 0x1c6147d6518>"
      ]
     },
     "metadata": {},
     "output_type": "display_data"
    }
   ],
   "source": [
    "fig, ax = plt.subplots(figsize=(10,8))\n",
    "\n",
    "X = np.arange(4)\n",
    "plt.bar(X + 0.00, Sim_Emp_Order.Percent1, color = 'b', width = 0.25)\n",
    "plt.bar(X + 0.25, Sim_Emp_Order.Percent2, color = 'm', width = 0.25)\n",
    "plt.ylabel('Percent')\n",
    "\n",
    "ax.set_xticks([p + 1.5 * 0.25 for p in X])\n",
    "ax.set_xticklabels(Sim_Emp_Order.Diet)\n",
    "\n",
    "plt.legend(['P_order1', 'Psimulated_order'], loc='upper right')\n",
    "plt.title('Diet Distribution by ORDERS Empirical and Simulated')\n",
    "plt.show()\n"
   ]
  },
  {
   "cell_type": "code",
   "execution_count": 40,
   "metadata": {
    "collapsed": false
   },
   "outputs": [
    {
     "data": {
      "text/html": [
       "<div>\n",
       "<table border=\"1\" class=\"dataframe\">\n",
       "  <thead>\n",
       "    <tr style=\"text-align: right;\">\n",
       "      <th></th>\n",
       "      <th>Diet</th>\n",
       "      <th>Size1</th>\n",
       "      <th>Percent1</th>\n",
       "      <th>Size2</th>\n",
       "      <th>Percent2</th>\n",
       "      <th>var_1</th>\n",
       "      <th>var_2</th>\n",
       "      <th>var1_2</th>\n",
       "      <th>std_var1_2</th>\n",
       "      <th>%_diff</th>\n",
       "      <th>moe</th>\n",
       "      <th>DF</th>\n",
       "      <th>t_val</th>\n",
       "      <th>p_val</th>\n",
       "    </tr>\n",
       "  </thead>\n",
       "  <tbody>\n",
       "    <tr>\n",
       "      <th>0</th>\n",
       "      <td>NonVegan</td>\n",
       "      <td>61868</td>\n",
       "      <td>0.401318</td>\n",
       "      <td>65667</td>\n",
       "      <td>0.425961</td>\n",
       "      <td>0.000004</td>\n",
       "      <td>0.000004</td>\n",
       "      <td>0.000008</td>\n",
       "      <td>0.002758</td>\n",
       "      <td>0.024643</td>\n",
       "      <td>0.005406</td>\n",
       "      <td>126711.971608</td>\n",
       "      <td>8.934768</td>\n",
       "      <td>4.133225e-19</td>\n",
       "    </tr>\n",
       "    <tr>\n",
       "      <th>1</th>\n",
       "      <td>Vegan</td>\n",
       "      <td>49542</td>\n",
       "      <td>0.321363</td>\n",
       "      <td>40759</td>\n",
       "      <td>0.264391</td>\n",
       "      <td>0.000004</td>\n",
       "      <td>0.000005</td>\n",
       "      <td>0.000009</td>\n",
       "      <td>0.003029</td>\n",
       "      <td>0.056973</td>\n",
       "      <td>0.005936</td>\n",
       "      <td>85560.195306</td>\n",
       "      <td>18.810127</td>\n",
       "      <td>9.003728e-79</td>\n",
       "    </tr>\n",
       "    <tr>\n",
       "      <th>2</th>\n",
       "      <td>Meat_Lovers</td>\n",
       "      <td>37813</td>\n",
       "      <td>0.245281</td>\n",
       "      <td>42264</td>\n",
       "      <td>0.274153</td>\n",
       "      <td>0.000005</td>\n",
       "      <td>0.000005</td>\n",
       "      <td>0.000010</td>\n",
       "      <td>0.003099</td>\n",
       "      <td>0.028872</td>\n",
       "      <td>0.006074</td>\n",
       "      <td>78730.244614</td>\n",
       "      <td>9.316549</td>\n",
       "      <td>1.231615e-20</td>\n",
       "    </tr>\n",
       "    <tr>\n",
       "      <th>3</th>\n",
       "      <td>Pescatarian</td>\n",
       "      <td>4939</td>\n",
       "      <td>0.032038</td>\n",
       "      <td>5472</td>\n",
       "      <td>0.035495</td>\n",
       "      <td>0.000006</td>\n",
       "      <td>0.000006</td>\n",
       "      <td>0.000013</td>\n",
       "      <td>0.003541</td>\n",
       "      <td>0.003457</td>\n",
       "      <td>0.006939</td>\n",
       "      <td>10298.935730</td>\n",
       "      <td>0.976523</td>\n",
       "      <td>3.288283e-01</td>\n",
       "    </tr>\n",
       "  </tbody>\n",
       "</table>\n",
       "</div>"
      ],
      "text/plain": [
       "          Diet  Size1  Percent1  Size2  Percent2     var_1     var_2  \\\n",
       "0     NonVegan  61868  0.401318  65667  0.425961  0.000004  0.000004   \n",
       "1        Vegan  49542  0.321363  40759  0.264391  0.000004  0.000005   \n",
       "2  Meat_Lovers  37813  0.245281  42264  0.274153  0.000005  0.000005   \n",
       "3  Pescatarian   4939  0.032038   5472  0.035495  0.000006  0.000006   \n",
       "\n",
       "     var1_2  std_var1_2    %_diff       moe             DF      t_val  \\\n",
       "0  0.000008    0.002758  0.024643  0.005406  126711.971608   8.934768   \n",
       "1  0.000009    0.003029  0.056973  0.005936   85560.195306  18.810127   \n",
       "2  0.000010    0.003099  0.028872  0.006074   78730.244614   9.316549   \n",
       "3  0.000013    0.003541  0.003457  0.006939   10298.935730   0.976523   \n",
       "\n",
       "          p_val  \n",
       "0  4.133225e-19  \n",
       "1  9.003728e-79  \n",
       "2  1.231615e-20  \n",
       "3  3.288283e-01  "
      ]
     },
     "execution_count": 40,
     "metadata": {},
     "output_type": "execute_result"
    }
   ],
   "source": [
    "##Sim_Emp_Order is a dataframe with calculated standard deviation, moe, degrees of freedom, t_values and p_values (ORDERS)\n",
    "Sim_Emp_Order=diff_std_p_val(Sim_Emp_Order)\n",
    "Sim_Emp_Order"
   ]
  },
  {
   "cell_type": "markdown",
   "metadata": {},
   "source": [
    "### For Meat_Lovers, NonVegan, and Vegan, p_values are <0.05, we can reject the null hypothesis and accept H1. \n",
    "H1: There is significant difference between Diet distribution classified by ORDERS using Empirical dataset versus Simulated dataset.  \n",
    "However for Pescatarian classified by ORDERS p_value>0.05 which means there is no significant difference in % of this group using Empirical dataset and Simulated dataset"
   ]
  },
  {
   "cell_type": "markdown",
   "metadata": {},
   "source": [
    "## 8. Limitations of this algorithm\n",
    "* This algorithm does not account users that very rarely buy meat but are nonvegans or vegans.  The algorithm will still classify the user as Meat_Lovers as long as they buy any meat.  It will be the same case for users who very rarely buy fish even but are nonvegans or vegans they will be classified as Pescatarian when they buy on the seafood aisle."
   ]
  },
  {
   "cell_type": "markdown",
   "metadata": {
    "collapsed": true
   },
   "source": [
    "# Part 3: Predicting Next Order List"
   ]
  },
  {
   "cell_type": "code",
   "execution_count": 41,
   "metadata": {
    "collapsed": false
   },
   "outputs": [
    {
     "data": {
      "text/plain": [
       "0.5896974667922161"
      ]
     },
     "execution_count": 41,
     "metadata": {},
     "output_type": "execute_result"
    }
   ],
   "source": [
    "## Percent of products reordered in Allprior DataFrame\n",
    "Allprior[Allprior.reordered==1].shape[0]/Allprior.shape[0]"
   ]
  },
  {
   "cell_type": "code",
   "execution_count": 42,
   "metadata": {
    "collapsed": false
   },
   "outputs": [
    {
     "data": {
      "text/plain": [
       "0.41030253320778387"
      ]
     },
     "execution_count": 42,
     "metadata": {},
     "output_type": "execute_result"
    }
   ],
   "source": [
    "## Percent of products not reordered in Allprior DataFrame\n",
    "Allprior[Allprior.reordered==0].shape[0]/Allprior.shape[0]"
   ]
  },
  {
   "cell_type": "code",
   "execution_count": 178,
   "metadata": {
    "collapsed": false
   },
   "outputs": [
    {
     "data": {
      "text/plain": [
       "0.5985944127509629"
      ]
     },
     "execution_count": 178,
     "metadata": {},
     "output_type": "execute_result"
    }
   ],
   "source": [
    "## Percent of products reordered in Alltrain DataFrame\n",
    "Alltrain[Alltrain.reordered==1].shape[0]/Alltrain.shape[0]"
   ]
  },
  {
   "cell_type": "code",
   "execution_count": 179,
   "metadata": {
    "collapsed": false
   },
   "outputs": [
    {
     "data": {
      "text/plain": [
       "0.4014055872490371"
      ]
     },
     "execution_count": 179,
     "metadata": {},
     "output_type": "execute_result"
    }
   ],
   "source": [
    "## Percent of products not reordered in Allprior DataFrame\n",
    "Alltrain[Alltrain.reordered==0].shape[0]/Alltrain.shape[0]"
   ]
  },
  {
   "cell_type": "code",
   "execution_count": 205,
   "metadata": {
    "collapsed": true
   },
   "outputs": [],
   "source": [
    "oreorder=oprior.loc[oprior.user_id.isin(otrain.user_id)]"
   ]
  },
  {
   "cell_type": "code",
   "execution_count": 206,
   "metadata": {
    "collapsed": false
   },
   "outputs": [
    {
     "data": {
      "text/plain": [
       "131209"
      ]
     },
     "execution_count": 206,
     "metadata": {},
     "output_type": "execute_result"
    }
   ],
   "source": [
    "oreorder.user_id.unique().size"
   ]
  },
  {
   "cell_type": "code",
   "execution_count": 208,
   "metadata": {
    "collapsed": false
   },
   "outputs": [],
   "source": [
    "## O is the dataframe of users with their number of orders\n",
    "O=oreorder.groupby('user_id')['order_number'].agg(['max'])\n",
    "O['user_id']=O.index.get_level_values('user_id').values\n",
    "O.columns=['max_order', 'user_id']"
   ]
  },
  {
   "cell_type": "code",
   "execution_count": 209,
   "metadata": {
    "collapsed": false
   },
   "outputs": [],
   "source": [
    "## 10,000 random users are picked from users in Alltrain DataFrame\n",
    "P=Sample_maker(O)"
   ]
  },
  {
   "cell_type": "code",
   "execution_count": 210,
   "metadata": {
    "collapsed": false
   },
   "outputs": [
    {
     "data": {
      "text/plain": [
       "10000"
      ]
     },
     "execution_count": 210,
     "metadata": {},
     "output_type": "execute_result"
    }
   ],
   "source": [
    "P.user_id.unique().size"
   ]
  },
  {
   "cell_type": "code",
   "execution_count": 240,
   "metadata": {
    "collapsed": false
   },
   "outputs": [],
   "source": [
    "bn=Alltrain.loc[Alltrain.user_id.isin(P.user_id)]"
   ]
  },
  {
   "cell_type": "code",
   "execution_count": 349,
   "metadata": {
    "collapsed": false
   },
   "outputs": [],
   "source": [
    "##Train Data with user_id and latest product ordered\n",
    "ytrain=bn.loc[:,['user_id', 'product_id']]\n",
    "ytrain.columns=['user_id', 'product_id_latest_train']\n"
   ]
  },
  {
   "cell_type": "code",
   "execution_count": 350,
   "metadata": {
    "collapsed": false
   },
   "outputs": [],
   "source": [
    "##Number of products in latest order (Training Data)\n",
    "Tr=ytrain.user_id.value_counts()\n",
    "Tr=pd.DataFrame(Tr).reset_index()\n",
    "Tr.columns=['user_id', 'tQty']"
   ]
  },
  {
   "cell_type": "code",
   "execution_count": 300,
   "metadata": {
    "collapsed": false
   },
   "outputs": [],
   "source": [
    "## DataFrame with the 10,000 users in P with product_id and Qty of product_id purchased\n",
    "R=P.groupby('user_id')['product_id'].value_counts()\n",
    "R=pd.DataFrame(R)\n",
    "R.columns=['Qty']\n",
    "R=R.reset_index()"
   ]
  },
  {
   "cell_type": "code",
   "execution_count": 308,
   "metadata": {
    "collapsed": false
   },
   "outputs": [],
   "source": [
    "##DataFrame with average product per order\n",
    "Q=P.groupby(['user_id', 'order_id'])['product_id'].size()\n",
    "Q=pd.DataFrame(Q)\n",
    "\n",
    "Q=Q.reset_index()\n",
    "p=Q.groupby('user_id')[0].mean()\n",
    "p=pd.DataFrame(p)\n",
    "p.columns=['ave_prod_per_order']\n",
    "p=p.reset_index()\n",
    "Q=Q.merge(p)\n",
    "Q['ave_prod_per_order']=Q['ave_prod_per_order'].round(decimals=0)\n",
    "Q=Q.loc[:,['user_id','order_id', 'ave_prod_per_order']]\n",
    "Q=Q.loc[:,['user_id', 'ave_prod_per_order']].drop_duplicates()"
   ]
  },
  {
   "cell_type": "code",
   "execution_count": 304,
   "metadata": {
    "collapsed": false
   },
   "outputs": [],
   "source": [
    "##DataFrame with user_id and their total product purchaised from Allprior\n",
    "F=P.loc[:,['user_id', 'total_products']].drop_duplicates()"
   ]
  },
  {
   "cell_type": "code",
   "execution_count": 303,
   "metadata": {
    "collapsed": false
   },
   "outputs": [
    {
     "data": {
      "text/html": [
       "<div>\n",
       "<table border=\"1\" class=\"dataframe\">\n",
       "  <thead>\n",
       "    <tr style=\"text-align: right;\">\n",
       "      <th></th>\n",
       "      <th>user_id</th>\n",
       "      <th>product_id</th>\n",
       "      <th>Qty</th>\n",
       "      <th>total_products</th>\n",
       "      <th>Prob</th>\n",
       "    </tr>\n",
       "  </thead>\n",
       "  <tbody>\n",
       "    <tr>\n",
       "      <th>0</th>\n",
       "      <td>34</td>\n",
       "      <td>3957</td>\n",
       "      <td>3</td>\n",
       "      <td>32</td>\n",
       "      <td>0.093750</td>\n",
       "    </tr>\n",
       "    <tr>\n",
       "      <th>1</th>\n",
       "      <td>34</td>\n",
       "      <td>7054</td>\n",
       "      <td>2</td>\n",
       "      <td>32</td>\n",
       "      <td>0.062500</td>\n",
       "    </tr>\n",
       "    <tr>\n",
       "      <th>2</th>\n",
       "      <td>34</td>\n",
       "      <td>15604</td>\n",
       "      <td>2</td>\n",
       "      <td>32</td>\n",
       "      <td>0.062500</td>\n",
       "    </tr>\n",
       "    <tr>\n",
       "      <th>3</th>\n",
       "      <td>34</td>\n",
       "      <td>35547</td>\n",
       "      <td>2</td>\n",
       "      <td>32</td>\n",
       "      <td>0.062500</td>\n",
       "    </tr>\n",
       "    <tr>\n",
       "      <th>4</th>\n",
       "      <td>34</td>\n",
       "      <td>38273</td>\n",
       "      <td>2</td>\n",
       "      <td>32</td>\n",
       "      <td>0.062500</td>\n",
       "    </tr>\n",
       "    <tr>\n",
       "      <th>5</th>\n",
       "      <td>34</td>\n",
       "      <td>2099</td>\n",
       "      <td>1</td>\n",
       "      <td>32</td>\n",
       "      <td>0.031250</td>\n",
       "    </tr>\n",
       "    <tr>\n",
       "      <th>6</th>\n",
       "      <td>34</td>\n",
       "      <td>3098</td>\n",
       "      <td>1</td>\n",
       "      <td>32</td>\n",
       "      <td>0.031250</td>\n",
       "    </tr>\n",
       "    <tr>\n",
       "      <th>7</th>\n",
       "      <td>34</td>\n",
       "      <td>4086</td>\n",
       "      <td>1</td>\n",
       "      <td>32</td>\n",
       "      <td>0.031250</td>\n",
       "    </tr>\n",
       "    <tr>\n",
       "      <th>8</th>\n",
       "      <td>34</td>\n",
       "      <td>4562</td>\n",
       "      <td>1</td>\n",
       "      <td>32</td>\n",
       "      <td>0.031250</td>\n",
       "    </tr>\n",
       "    <tr>\n",
       "      <th>9</th>\n",
       "      <td>34</td>\n",
       "      <td>4605</td>\n",
       "      <td>1</td>\n",
       "      <td>32</td>\n",
       "      <td>0.031250</td>\n",
       "    </tr>\n",
       "    <tr>\n",
       "      <th>10</th>\n",
       "      <td>34</td>\n",
       "      <td>5134</td>\n",
       "      <td>1</td>\n",
       "      <td>32</td>\n",
       "      <td>0.031250</td>\n",
       "    </tr>\n",
       "    <tr>\n",
       "      <th>11</th>\n",
       "      <td>34</td>\n",
       "      <td>12204</td>\n",
       "      <td>1</td>\n",
       "      <td>32</td>\n",
       "      <td>0.031250</td>\n",
       "    </tr>\n",
       "    <tr>\n",
       "      <th>12</th>\n",
       "      <td>34</td>\n",
       "      <td>14678</td>\n",
       "      <td>1</td>\n",
       "      <td>32</td>\n",
       "      <td>0.031250</td>\n",
       "    </tr>\n",
       "    <tr>\n",
       "      <th>13</th>\n",
       "      <td>34</td>\n",
       "      <td>16349</td>\n",
       "      <td>1</td>\n",
       "      <td>32</td>\n",
       "      <td>0.031250</td>\n",
       "    </tr>\n",
       "    <tr>\n",
       "      <th>14</th>\n",
       "      <td>34</td>\n",
       "      <td>19514</td>\n",
       "      <td>1</td>\n",
       "      <td>32</td>\n",
       "      <td>0.031250</td>\n",
       "    </tr>\n",
       "    <tr>\n",
       "      <th>15</th>\n",
       "      <td>34</td>\n",
       "      <td>21137</td>\n",
       "      <td>1</td>\n",
       "      <td>32</td>\n",
       "      <td>0.031250</td>\n",
       "    </tr>\n",
       "    <tr>\n",
       "      <th>16</th>\n",
       "      <td>34</td>\n",
       "      <td>21783</td>\n",
       "      <td>1</td>\n",
       "      <td>32</td>\n",
       "      <td>0.031250</td>\n",
       "    </tr>\n",
       "    <tr>\n",
       "      <th>17</th>\n",
       "      <td>34</td>\n",
       "      <td>25146</td>\n",
       "      <td>1</td>\n",
       "      <td>32</td>\n",
       "      <td>0.031250</td>\n",
       "    </tr>\n",
       "    <tr>\n",
       "      <th>18</th>\n",
       "      <td>34</td>\n",
       "      <td>26751</td>\n",
       "      <td>1</td>\n",
       "      <td>32</td>\n",
       "      <td>0.031250</td>\n",
       "    </tr>\n",
       "    <tr>\n",
       "      <th>19</th>\n",
       "      <td>34</td>\n",
       "      <td>27845</td>\n",
       "      <td>1</td>\n",
       "      <td>32</td>\n",
       "      <td>0.031250</td>\n",
       "    </tr>\n",
       "    <tr>\n",
       "      <th>20</th>\n",
       "      <td>34</td>\n",
       "      <td>31717</td>\n",
       "      <td>1</td>\n",
       "      <td>32</td>\n",
       "      <td>0.031250</td>\n",
       "    </tr>\n",
       "    <tr>\n",
       "      <th>21</th>\n",
       "      <td>34</td>\n",
       "      <td>33731</td>\n",
       "      <td>1</td>\n",
       "      <td>32</td>\n",
       "      <td>0.031250</td>\n",
       "    </tr>\n",
       "    <tr>\n",
       "      <th>22</th>\n",
       "      <td>34</td>\n",
       "      <td>34310</td>\n",
       "      <td>1</td>\n",
       "      <td>32</td>\n",
       "      <td>0.031250</td>\n",
       "    </tr>\n",
       "    <tr>\n",
       "      <th>23</th>\n",
       "      <td>34</td>\n",
       "      <td>45007</td>\n",
       "      <td>1</td>\n",
       "      <td>32</td>\n",
       "      <td>0.031250</td>\n",
       "    </tr>\n",
       "    <tr>\n",
       "      <th>24</th>\n",
       "      <td>34</td>\n",
       "      <td>49248</td>\n",
       "      <td>1</td>\n",
       "      <td>32</td>\n",
       "      <td>0.031250</td>\n",
       "    </tr>\n",
       "    <tr>\n",
       "      <th>25</th>\n",
       "      <td>34</td>\n",
       "      <td>49267</td>\n",
       "      <td>1</td>\n",
       "      <td>32</td>\n",
       "      <td>0.031250</td>\n",
       "    </tr>\n",
       "    <tr>\n",
       "      <th>26</th>\n",
       "      <td>44</td>\n",
       "      <td>1073</td>\n",
       "      <td>3</td>\n",
       "      <td>37</td>\n",
       "      <td>0.081081</td>\n",
       "    </tr>\n",
       "    <tr>\n",
       "      <th>27</th>\n",
       "      <td>44</td>\n",
       "      <td>5955</td>\n",
       "      <td>2</td>\n",
       "      <td>37</td>\n",
       "      <td>0.054054</td>\n",
       "    </tr>\n",
       "    <tr>\n",
       "      <th>28</th>\n",
       "      <td>44</td>\n",
       "      <td>18653</td>\n",
       "      <td>2</td>\n",
       "      <td>37</td>\n",
       "      <td>0.054054</td>\n",
       "    </tr>\n",
       "    <tr>\n",
       "      <th>29</th>\n",
       "      <td>44</td>\n",
       "      <td>21616</td>\n",
       "      <td>2</td>\n",
       "      <td>37</td>\n",
       "      <td>0.054054</td>\n",
       "    </tr>\n",
       "    <tr>\n",
       "      <th>...</th>\n",
       "      <td>...</td>\n",
       "      <td>...</td>\n",
       "      <td>...</td>\n",
       "      <td>...</td>\n",
       "      <td>...</td>\n",
       "    </tr>\n",
       "    <tr>\n",
       "      <th>655155</th>\n",
       "      <td>206153</td>\n",
       "      <td>13108</td>\n",
       "      <td>1</td>\n",
       "      <td>125</td>\n",
       "      <td>0.008000</td>\n",
       "    </tr>\n",
       "    <tr>\n",
       "      <th>655156</th>\n",
       "      <td>206153</td>\n",
       "      <td>14421</td>\n",
       "      <td>1</td>\n",
       "      <td>125</td>\n",
       "      <td>0.008000</td>\n",
       "    </tr>\n",
       "    <tr>\n",
       "      <th>655157</th>\n",
       "      <td>206153</td>\n",
       "      <td>15613</td>\n",
       "      <td>1</td>\n",
       "      <td>125</td>\n",
       "      <td>0.008000</td>\n",
       "    </tr>\n",
       "    <tr>\n",
       "      <th>655158</th>\n",
       "      <td>206153</td>\n",
       "      <td>16020</td>\n",
       "      <td>1</td>\n",
       "      <td>125</td>\n",
       "      <td>0.008000</td>\n",
       "    </tr>\n",
       "    <tr>\n",
       "      <th>655159</th>\n",
       "      <td>206153</td>\n",
       "      <td>16797</td>\n",
       "      <td>1</td>\n",
       "      <td>125</td>\n",
       "      <td>0.008000</td>\n",
       "    </tr>\n",
       "    <tr>\n",
       "      <th>655160</th>\n",
       "      <td>206153</td>\n",
       "      <td>16931</td>\n",
       "      <td>1</td>\n",
       "      <td>125</td>\n",
       "      <td>0.008000</td>\n",
       "    </tr>\n",
       "    <tr>\n",
       "      <th>655161</th>\n",
       "      <td>206153</td>\n",
       "      <td>17221</td>\n",
       "      <td>1</td>\n",
       "      <td>125</td>\n",
       "      <td>0.008000</td>\n",
       "    </tr>\n",
       "    <tr>\n",
       "      <th>655162</th>\n",
       "      <td>206153</td>\n",
       "      <td>17795</td>\n",
       "      <td>1</td>\n",
       "      <td>125</td>\n",
       "      <td>0.008000</td>\n",
       "    </tr>\n",
       "    <tr>\n",
       "      <th>655163</th>\n",
       "      <td>206153</td>\n",
       "      <td>19019</td>\n",
       "      <td>1</td>\n",
       "      <td>125</td>\n",
       "      <td>0.008000</td>\n",
       "    </tr>\n",
       "    <tr>\n",
       "      <th>655164</th>\n",
       "      <td>206153</td>\n",
       "      <td>20097</td>\n",
       "      <td>1</td>\n",
       "      <td>125</td>\n",
       "      <td>0.008000</td>\n",
       "    </tr>\n",
       "    <tr>\n",
       "      <th>655165</th>\n",
       "      <td>206153</td>\n",
       "      <td>21137</td>\n",
       "      <td>1</td>\n",
       "      <td>125</td>\n",
       "      <td>0.008000</td>\n",
       "    </tr>\n",
       "    <tr>\n",
       "      <th>655166</th>\n",
       "      <td>206153</td>\n",
       "      <td>21781</td>\n",
       "      <td>1</td>\n",
       "      <td>125</td>\n",
       "      <td>0.008000</td>\n",
       "    </tr>\n",
       "    <tr>\n",
       "      <th>655167</th>\n",
       "      <td>206153</td>\n",
       "      <td>22587</td>\n",
       "      <td>1</td>\n",
       "      <td>125</td>\n",
       "      <td>0.008000</td>\n",
       "    </tr>\n",
       "    <tr>\n",
       "      <th>655168</th>\n",
       "      <td>206153</td>\n",
       "      <td>24221</td>\n",
       "      <td>1</td>\n",
       "      <td>125</td>\n",
       "      <td>0.008000</td>\n",
       "    </tr>\n",
       "    <tr>\n",
       "      <th>655169</th>\n",
       "      <td>206153</td>\n",
       "      <td>27243</td>\n",
       "      <td>1</td>\n",
       "      <td>125</td>\n",
       "      <td>0.008000</td>\n",
       "    </tr>\n",
       "    <tr>\n",
       "      <th>655170</th>\n",
       "      <td>206153</td>\n",
       "      <td>32981</td>\n",
       "      <td>1</td>\n",
       "      <td>125</td>\n",
       "      <td>0.008000</td>\n",
       "    </tr>\n",
       "    <tr>\n",
       "      <th>655171</th>\n",
       "      <td>206153</td>\n",
       "      <td>34067</td>\n",
       "      <td>1</td>\n",
       "      <td>125</td>\n",
       "      <td>0.008000</td>\n",
       "    </tr>\n",
       "    <tr>\n",
       "      <th>655172</th>\n",
       "      <td>206153</td>\n",
       "      <td>34862</td>\n",
       "      <td>1</td>\n",
       "      <td>125</td>\n",
       "      <td>0.008000</td>\n",
       "    </tr>\n",
       "    <tr>\n",
       "      <th>655173</th>\n",
       "      <td>206153</td>\n",
       "      <td>35042</td>\n",
       "      <td>1</td>\n",
       "      <td>125</td>\n",
       "      <td>0.008000</td>\n",
       "    </tr>\n",
       "    <tr>\n",
       "      <th>655174</th>\n",
       "      <td>206153</td>\n",
       "      <td>36736</td>\n",
       "      <td>1</td>\n",
       "      <td>125</td>\n",
       "      <td>0.008000</td>\n",
       "    </tr>\n",
       "    <tr>\n",
       "      <th>655175</th>\n",
       "      <td>206153</td>\n",
       "      <td>37067</td>\n",
       "      <td>1</td>\n",
       "      <td>125</td>\n",
       "      <td>0.008000</td>\n",
       "    </tr>\n",
       "    <tr>\n",
       "      <th>655176</th>\n",
       "      <td>206153</td>\n",
       "      <td>38510</td>\n",
       "      <td>1</td>\n",
       "      <td>125</td>\n",
       "      <td>0.008000</td>\n",
       "    </tr>\n",
       "    <tr>\n",
       "      <th>655177</th>\n",
       "      <td>206153</td>\n",
       "      <td>39275</td>\n",
       "      <td>1</td>\n",
       "      <td>125</td>\n",
       "      <td>0.008000</td>\n",
       "    </tr>\n",
       "    <tr>\n",
       "      <th>655178</th>\n",
       "      <td>206153</td>\n",
       "      <td>39794</td>\n",
       "      <td>1</td>\n",
       "      <td>125</td>\n",
       "      <td>0.008000</td>\n",
       "    </tr>\n",
       "    <tr>\n",
       "      <th>655179</th>\n",
       "      <td>206153</td>\n",
       "      <td>39877</td>\n",
       "      <td>1</td>\n",
       "      <td>125</td>\n",
       "      <td>0.008000</td>\n",
       "    </tr>\n",
       "    <tr>\n",
       "      <th>655180</th>\n",
       "      <td>206153</td>\n",
       "      <td>40080</td>\n",
       "      <td>1</td>\n",
       "      <td>125</td>\n",
       "      <td>0.008000</td>\n",
       "    </tr>\n",
       "    <tr>\n",
       "      <th>655181</th>\n",
       "      <td>206153</td>\n",
       "      <td>40630</td>\n",
       "      <td>1</td>\n",
       "      <td>125</td>\n",
       "      <td>0.008000</td>\n",
       "    </tr>\n",
       "    <tr>\n",
       "      <th>655182</th>\n",
       "      <td>206153</td>\n",
       "      <td>42406</td>\n",
       "      <td>1</td>\n",
       "      <td>125</td>\n",
       "      <td>0.008000</td>\n",
       "    </tr>\n",
       "    <tr>\n",
       "      <th>655183</th>\n",
       "      <td>206153</td>\n",
       "      <td>48131</td>\n",
       "      <td>1</td>\n",
       "      <td>125</td>\n",
       "      <td>0.008000</td>\n",
       "    </tr>\n",
       "    <tr>\n",
       "      <th>655184</th>\n",
       "      <td>206153</td>\n",
       "      <td>48825</td>\n",
       "      <td>1</td>\n",
       "      <td>125</td>\n",
       "      <td>0.008000</td>\n",
       "    </tr>\n",
       "  </tbody>\n",
       "</table>\n",
       "<p>655185 rows × 5 columns</p>\n",
       "</div>"
      ],
      "text/plain": [
       "        user_id  product_id  Qty  total_products      Prob\n",
       "0            34        3957    3              32  0.093750\n",
       "1            34        7054    2              32  0.062500\n",
       "2            34       15604    2              32  0.062500\n",
       "3            34       35547    2              32  0.062500\n",
       "4            34       38273    2              32  0.062500\n",
       "5            34        2099    1              32  0.031250\n",
       "6            34        3098    1              32  0.031250\n",
       "7            34        4086    1              32  0.031250\n",
       "8            34        4562    1              32  0.031250\n",
       "9            34        4605    1              32  0.031250\n",
       "10           34        5134    1              32  0.031250\n",
       "11           34       12204    1              32  0.031250\n",
       "12           34       14678    1              32  0.031250\n",
       "13           34       16349    1              32  0.031250\n",
       "14           34       19514    1              32  0.031250\n",
       "15           34       21137    1              32  0.031250\n",
       "16           34       21783    1              32  0.031250\n",
       "17           34       25146    1              32  0.031250\n",
       "18           34       26751    1              32  0.031250\n",
       "19           34       27845    1              32  0.031250\n",
       "20           34       31717    1              32  0.031250\n",
       "21           34       33731    1              32  0.031250\n",
       "22           34       34310    1              32  0.031250\n",
       "23           34       45007    1              32  0.031250\n",
       "24           34       49248    1              32  0.031250\n",
       "25           34       49267    1              32  0.031250\n",
       "26           44        1073    3              37  0.081081\n",
       "27           44        5955    2              37  0.054054\n",
       "28           44       18653    2              37  0.054054\n",
       "29           44       21616    2              37  0.054054\n",
       "...         ...         ...  ...             ...       ...\n",
       "655155   206153       13108    1             125  0.008000\n",
       "655156   206153       14421    1             125  0.008000\n",
       "655157   206153       15613    1             125  0.008000\n",
       "655158   206153       16020    1             125  0.008000\n",
       "655159   206153       16797    1             125  0.008000\n",
       "655160   206153       16931    1             125  0.008000\n",
       "655161   206153       17221    1             125  0.008000\n",
       "655162   206153       17795    1             125  0.008000\n",
       "655163   206153       19019    1             125  0.008000\n",
       "655164   206153       20097    1             125  0.008000\n",
       "655165   206153       21137    1             125  0.008000\n",
       "655166   206153       21781    1             125  0.008000\n",
       "655167   206153       22587    1             125  0.008000\n",
       "655168   206153       24221    1             125  0.008000\n",
       "655169   206153       27243    1             125  0.008000\n",
       "655170   206153       32981    1             125  0.008000\n",
       "655171   206153       34067    1             125  0.008000\n",
       "655172   206153       34862    1             125  0.008000\n",
       "655173   206153       35042    1             125  0.008000\n",
       "655174   206153       36736    1             125  0.008000\n",
       "655175   206153       37067    1             125  0.008000\n",
       "655176   206153       38510    1             125  0.008000\n",
       "655177   206153       39275    1             125  0.008000\n",
       "655178   206153       39794    1             125  0.008000\n",
       "655179   206153       39877    1             125  0.008000\n",
       "655180   206153       40080    1             125  0.008000\n",
       "655181   206153       40630    1             125  0.008000\n",
       "655182   206153       42406    1             125  0.008000\n",
       "655183   206153       48131    1             125  0.008000\n",
       "655184   206153       48825    1             125  0.008000\n",
       "\n",
       "[655185 rows x 5 columns]"
      ]
     },
     "execution_count": 303,
     "metadata": {},
     "output_type": "execute_result"
    }
   ],
   "source": [
    "## This will compute probability of products to be purchased by user\n",
    "R=R.merge(F)\n",
    "R['Prob']=R.Qty/R.total_products\n",
    "R"
   ]
  },
  {
   "cell_type": "code",
   "execution_count": 307,
   "metadata": {
    "collapsed": false
   },
   "outputs": [],
   "source": [
    "## This is a list of average product per order per user\n",
    "n=pd.Series.tolist(Q.ave_prod_per_order)"
   ]
  },
  {
   "cell_type": "code",
   "execution_count": 375,
   "metadata": {
    "collapsed": false
   },
   "outputs": [
    {
     "name": "stderr",
     "output_type": "stream",
     "text": [
      "C:\\Users\\pamel\\AppData\\Local\\Continuum\\Anaconda3\\lib\\site-packages\\ipykernel\\__main__.py:9: VisibleDeprecationWarning: using a non-integer number instead of an integer will result in an error in the future\n"
     ]
    }
   ],
   "source": [
    "## This will predict next order list using calculated probabilities of products for each user and using average product per order\n",
    "B=[]\n",
    "user=pd.Series.tolist(Q.user_id)\n",
    "n=pd.Series.tolist(Q.ave_prod_per_order)\n",
    "\n",
    "i=0\n",
    "for i in range(len(n)):\n",
    "    H=R[R.user_id==user[i]]\n",
    "    K=np.random.choice(a=H.product_id, size=n[i], p=H.Prob, replace=False)\n",
    "    K=K.tolist()\n",
    "    B.append(K)\n",
    "    i+=1"
   ]
  },
  {
   "cell_type": "code",
   "execution_count": 342,
   "metadata": {
    "collapsed": false
   },
   "outputs": [
    {
     "data": {
      "text/html": [
       "<div>\n",
       "<table border=\"1\" class=\"dataframe\">\n",
       "  <thead>\n",
       "    <tr style=\"text-align: right;\">\n",
       "      <th></th>\n",
       "      <th>user_id</th>\n",
       "      <th>product_id</th>\n",
       "    </tr>\n",
       "  </thead>\n",
       "  <tbody>\n",
       "    <tr>\n",
       "      <th>0</th>\n",
       "      <td>34</td>\n",
       "      <td>7054.0</td>\n",
       "    </tr>\n",
       "    <tr>\n",
       "      <th>1</th>\n",
       "      <td>34</td>\n",
       "      <td>14678.0</td>\n",
       "    </tr>\n",
       "    <tr>\n",
       "      <th>2</th>\n",
       "      <td>34</td>\n",
       "      <td>38273.0</td>\n",
       "    </tr>\n",
       "    <tr>\n",
       "      <th>3</th>\n",
       "      <td>34</td>\n",
       "      <td>15604.0</td>\n",
       "    </tr>\n",
       "    <tr>\n",
       "      <th>4</th>\n",
       "      <td>34</td>\n",
       "      <td>35547.0</td>\n",
       "    </tr>\n",
       "  </tbody>\n",
       "</table>\n",
       "</div>"
      ],
      "text/plain": [
       "   user_id  product_id\n",
       "0       34      7054.0\n",
       "1       34     14678.0\n",
       "2       34     38273.0\n",
       "3       34     15604.0\n",
       "4       34     35547.0"
      ]
     },
     "execution_count": 342,
     "metadata": {},
     "output_type": "execute_result"
    }
   ],
   "source": [
    "## This is the predicted latest order\n",
    "Reord=pd.DataFrame(B, index=Q.user_id).stack()\n",
    "Reord=pd.DataFrame(Reord, columns=['product_id'])\n",
    "Reord=Reord.reset_index()\n",
    "Reord.drop('level_1', axis=1, inplace=True)\n",
    "Reord.head()"
   ]
  },
  {
   "cell_type": "code",
   "execution_count": 343,
   "metadata": {
    "collapsed": false
   },
   "outputs": [],
   "source": [
    "## DataFrame counting the number of products predicted\n",
    "Pr=Reord.user_id.value_counts()\n",
    "Pr=pd.DataFrame(Pr).reset_index()\n",
    "Pr.columns=['user_id','pQty']"
   ]
  },
  {
   "cell_type": "code",
   "execution_count": 429,
   "metadata": {
    "collapsed": false
   },
   "outputs": [
    {
     "data": {
      "text/html": [
       "<div>\n",
       "<table border=\"1\" class=\"dataframe\">\n",
       "  <thead>\n",
       "    <tr style=\"text-align: right;\">\n",
       "      <th></th>\n",
       "      <th>user_id</th>\n",
       "      <th>tQty</th>\n",
       "      <th>pQty</th>\n",
       "    </tr>\n",
       "  </thead>\n",
       "  <tbody>\n",
       "    <tr>\n",
       "      <th>0</th>\n",
       "      <td>197541</td>\n",
       "      <td>80</td>\n",
       "      <td>23</td>\n",
       "    </tr>\n",
       "    <tr>\n",
       "      <th>1</th>\n",
       "      <td>59321</td>\n",
       "      <td>72</td>\n",
       "      <td>33</td>\n",
       "    </tr>\n",
       "    <tr>\n",
       "      <th>2</th>\n",
       "      <td>7430</td>\n",
       "      <td>70</td>\n",
       "      <td>38</td>\n",
       "    </tr>\n",
       "    <tr>\n",
       "      <th>3</th>\n",
       "      <td>196455</td>\n",
       "      <td>59</td>\n",
       "      <td>35</td>\n",
       "    </tr>\n",
       "    <tr>\n",
       "      <th>4</th>\n",
       "      <td>64835</td>\n",
       "      <td>58</td>\n",
       "      <td>29</td>\n",
       "    </tr>\n",
       "  </tbody>\n",
       "</table>\n",
       "</div>"
      ],
      "text/plain": [
       "   user_id  tQty  pQty\n",
       "0   197541    80    23\n",
       "1    59321    72    33\n",
       "2     7430    70    38\n",
       "3   196455    59    35\n",
       "4    64835    58    29"
      ]
     },
     "execution_count": 429,
     "metadata": {},
     "output_type": "execute_result"
    }
   ],
   "source": [
    "## DataFrame counting the number of products per user in train and predicted dataframes\n",
    "train_pred_Qty=Tr.merge(Pr)\n",
    "train_pred_Qty.head()"
   ]
  },
  {
   "cell_type": "code",
   "execution_count": 314,
   "metadata": {
    "collapsed": false
   },
   "outputs": [
    {
     "data": {
      "text/plain": [
       "105948"
      ]
     },
     "execution_count": 314,
     "metadata": {},
     "output_type": "execute_result"
    }
   ],
   "source": [
    "g.tQty.sum()"
   ]
  },
  {
   "cell_type": "code",
   "execution_count": 315,
   "metadata": {
    "collapsed": false
   },
   "outputs": [
    {
     "data": {
      "text/plain": [
       "99622"
      ]
     },
     "execution_count": 315,
     "metadata": {},
     "output_type": "execute_result"
    }
   ],
   "source": [
    "g.pQty.sum()"
   ]
  },
  {
   "cell_type": "code",
   "execution_count": 345,
   "metadata": {
    "collapsed": true
   },
   "outputs": [],
   "source": [
    "def products_concat(series):\n",
    "    out = ''\n",
    "    for product in series:\n",
    "        if product > 0:\n",
    "            out = out + str(int(product)) + ' '\n",
    "    \n",
    "    if out != '':\n",
    "        return out.rstrip()\n",
    "    else:\n",
    "        return 'None'"
   ]
  },
  {
   "cell_type": "code",
   "execution_count": 346,
   "metadata": {
    "collapsed": false
   },
   "outputs": [
    {
     "data": {
      "text/html": [
       "<div>\n",
       "<table border=\"1\" class=\"dataframe\">\n",
       "  <thead>\n",
       "    <tr style=\"text-align: right;\">\n",
       "      <th></th>\n",
       "      <th>user_id</th>\n",
       "      <th>product_id</th>\n",
       "    </tr>\n",
       "  </thead>\n",
       "  <tbody>\n",
       "    <tr>\n",
       "      <th>0</th>\n",
       "      <td>34</td>\n",
       "      <td>7054 14678 38273 15604 35547 21137</td>\n",
       "    </tr>\n",
       "    <tr>\n",
       "      <th>1</th>\n",
       "      <td>44</td>\n",
       "      <td>35042 28378 21616 47962 3473 1073 18653 43632 ...</td>\n",
       "    </tr>\n",
       "    <tr>\n",
       "      <th>2</th>\n",
       "      <td>64</td>\n",
       "      <td>47209 21903 36550 14947 4920 31040 5473 44359 ...</td>\n",
       "    </tr>\n",
       "    <tr>\n",
       "      <th>3</th>\n",
       "      <td>99</td>\n",
       "      <td>13176 4605 8193 20734 42754 33956 34126 36522 ...</td>\n",
       "    </tr>\n",
       "    <tr>\n",
       "      <th>4</th>\n",
       "      <td>112</td>\n",
       "      <td>34422 30353 34050 16759 25146 6656</td>\n",
       "    </tr>\n",
       "    <tr>\n",
       "      <th>5</th>\n",
       "      <td>145</td>\n",
       "      <td>3873 30795 43616 33198 37947 47591 21267 41950</td>\n",
       "    </tr>\n",
       "    <tr>\n",
       "      <th>6</th>\n",
       "      <td>147</td>\n",
       "      <td>45603 2390 39408 39322 21019</td>\n",
       "    </tr>\n",
       "    <tr>\n",
       "      <th>7</th>\n",
       "      <td>184</td>\n",
       "      <td>15872 39055 22220 26701 42992 11576 31075 4244...</td>\n",
       "    </tr>\n",
       "    <tr>\n",
       "      <th>8</th>\n",
       "      <td>191</td>\n",
       "      <td>6236 44075 31853 7948 30057 8555</td>\n",
       "    </tr>\n",
       "    <tr>\n",
       "      <th>9</th>\n",
       "      <td>243</td>\n",
       "      <td>40339 8809 26209 20920 46979 49683 39275 44014...</td>\n",
       "    </tr>\n",
       "    <tr>\n",
       "      <th>10</th>\n",
       "      <td>258</td>\n",
       "      <td>20084 43858 25093 47626 48171 35090 26032 1060...</td>\n",
       "    </tr>\n",
       "    <tr>\n",
       "      <th>11</th>\n",
       "      <td>285</td>\n",
       "      <td>49235 20289 23716 4366 49683 20574 28204 47144...</td>\n",
       "    </tr>\n",
       "    <tr>\n",
       "      <th>12</th>\n",
       "      <td>314</td>\n",
       "      <td>14251 31268</td>\n",
       "    </tr>\n",
       "    <tr>\n",
       "      <th>13</th>\n",
       "      <td>337</td>\n",
       "      <td>24838 23139 3404 35619 19080 47333 42174 32331...</td>\n",
       "    </tr>\n",
       "    <tr>\n",
       "      <th>14</th>\n",
       "      <td>351</td>\n",
       "      <td>14462 41966 19348 4920 9825 24852 21791 31640 ...</td>\n",
       "    </tr>\n",
       "    <tr>\n",
       "      <th>15</th>\n",
       "      <td>411</td>\n",
       "      <td>28934 34448 9387 21294 12238 35264</td>\n",
       "    </tr>\n",
       "    <tr>\n",
       "      <th>16</th>\n",
       "      <td>438</td>\n",
       "      <td>46979 13176 47463 46667 23165 31694 18465 3300...</td>\n",
       "    </tr>\n",
       "    <tr>\n",
       "      <th>17</th>\n",
       "      <td>444</td>\n",
       "      <td>30252 13984 41787 18272 25931 21616 35939 1245...</td>\n",
       "    </tr>\n",
       "    <tr>\n",
       "      <th>18</th>\n",
       "      <td>454</td>\n",
       "      <td>24425 41067 242 277 47596 47931 28993 12879 76...</td>\n",
       "    </tr>\n",
       "    <tr>\n",
       "      <th>19</th>\n",
       "      <td>456</td>\n",
       "      <td>30489 47766 49235 33000 27104</td>\n",
       "    </tr>\n",
       "    <tr>\n",
       "      <th>20</th>\n",
       "      <td>480</td>\n",
       "      <td>10308 31506 47161 35727 31725 3801 3323 26096 ...</td>\n",
       "    </tr>\n",
       "    <tr>\n",
       "      <th>21</th>\n",
       "      <td>481</td>\n",
       "      <td>44632 28769 19048 43928 35547 48745 47668 2293...</td>\n",
       "    </tr>\n",
       "    <tr>\n",
       "      <th>22</th>\n",
       "      <td>486</td>\n",
       "      <td>30489 32442 5764 11520 19706 21405 9186 32828 ...</td>\n",
       "    </tr>\n",
       "    <tr>\n",
       "      <th>23</th>\n",
       "      <td>509</td>\n",
       "      <td>32211 24852 40963 37766 9515 19173 41453 38456...</td>\n",
       "    </tr>\n",
       "    <tr>\n",
       "      <th>24</th>\n",
       "      <td>511</td>\n",
       "      <td>32864 11891 4193 1891 20119 37158 9339 25965 2...</td>\n",
       "    </tr>\n",
       "    <tr>\n",
       "      <th>25</th>\n",
       "      <td>531</td>\n",
       "      <td>35669 26620 46541 4837 39108 11777</td>\n",
       "    </tr>\n",
       "    <tr>\n",
       "      <th>26</th>\n",
       "      <td>532</td>\n",
       "      <td>45224 24307 33493 8518 44142 29088 23811 2965 ...</td>\n",
       "    </tr>\n",
       "    <tr>\n",
       "      <th>27</th>\n",
       "      <td>541</td>\n",
       "      <td>31471 18531 41055 7948 22935</td>\n",
       "    </tr>\n",
       "    <tr>\n",
       "      <th>28</th>\n",
       "      <td>554</td>\n",
       "      <td>17948 13176 23400 1244 16759 24419 11182 24489...</td>\n",
       "    </tr>\n",
       "    <tr>\n",
       "      <th>29</th>\n",
       "      <td>555</td>\n",
       "      <td>34065 44422 12341 48595 35951 20995 34243 2190...</td>\n",
       "    </tr>\n",
       "    <tr>\n",
       "      <th>...</th>\n",
       "      <td>...</td>\n",
       "      <td>...</td>\n",
       "    </tr>\n",
       "    <tr>\n",
       "      <th>9970</th>\n",
       "      <td>205708</td>\n",
       "      <td>3192 37067 28634 29371 30727 29553 17621 6998 ...</td>\n",
       "    </tr>\n",
       "    <tr>\n",
       "      <th>9971</th>\n",
       "      <td>205713</td>\n",
       "      <td>36063 26620 1219 11821 23341 29447 17802</td>\n",
       "    </tr>\n",
       "    <tr>\n",
       "      <th>9972</th>\n",
       "      <td>205779</td>\n",
       "      <td>39581 33000 30450 13097 13176</td>\n",
       "    </tr>\n",
       "    <tr>\n",
       "      <th>9973</th>\n",
       "      <td>205789</td>\n",
       "      <td>14332 5463 17789 6873 13176 22395 12791 4428 1...</td>\n",
       "    </tr>\n",
       "    <tr>\n",
       "      <th>9974</th>\n",
       "      <td>205790</td>\n",
       "      <td>43409 31610 3765 42534 18670 28577 16953</td>\n",
       "    </tr>\n",
       "    <tr>\n",
       "      <th>9975</th>\n",
       "      <td>205804</td>\n",
       "      <td>47209 38456 38159 33120 21543 25340 38312 8174...</td>\n",
       "    </tr>\n",
       "    <tr>\n",
       "      <th>9976</th>\n",
       "      <td>205806</td>\n",
       "      <td>196</td>\n",
       "    </tr>\n",
       "    <tr>\n",
       "      <th>9977</th>\n",
       "      <td>205825</td>\n",
       "      <td>17630 48795 16797 29487 26209</td>\n",
       "    </tr>\n",
       "    <tr>\n",
       "      <th>9978</th>\n",
       "      <td>205829</td>\n",
       "      <td>16744 20345 8671 44987 40545 23288 32689 49325...</td>\n",
       "    </tr>\n",
       "    <tr>\n",
       "      <th>9979</th>\n",
       "      <td>205841</td>\n",
       "      <td>24852 2378 31683 27845 14996 32347 36519 43920...</td>\n",
       "    </tr>\n",
       "    <tr>\n",
       "      <th>9980</th>\n",
       "      <td>205859</td>\n",
       "      <td>14766 21137 39877 23198 13176</td>\n",
       "    </tr>\n",
       "    <tr>\n",
       "      <th>9981</th>\n",
       "      <td>205863</td>\n",
       "      <td>2447 31557 26842 28204 27695 21872</td>\n",
       "    </tr>\n",
       "    <tr>\n",
       "      <th>9982</th>\n",
       "      <td>205870</td>\n",
       "      <td>7693 35004 8490 11599 27243</td>\n",
       "    </tr>\n",
       "    <tr>\n",
       "      <th>9983</th>\n",
       "      <td>205878</td>\n",
       "      <td>5876 45767 21903 21137 24852 29195 30391</td>\n",
       "    </tr>\n",
       "    <tr>\n",
       "      <th>9984</th>\n",
       "      <td>205905</td>\n",
       "      <td>17322 22890 26280 40348 19836 38944 1405 7495 ...</td>\n",
       "    </tr>\n",
       "    <tr>\n",
       "      <th>9985</th>\n",
       "      <td>205912</td>\n",
       "      <td>40199 33000</td>\n",
       "    </tr>\n",
       "    <tr>\n",
       "      <th>9986</th>\n",
       "      <td>205923</td>\n",
       "      <td>7232 2416 49355 40571 49630 1905 28472 5819 46...</td>\n",
       "    </tr>\n",
       "    <tr>\n",
       "      <th>9987</th>\n",
       "      <td>205930</td>\n",
       "      <td>19660 18670 21775 18370 5212 13176 1158 40723 ...</td>\n",
       "    </tr>\n",
       "    <tr>\n",
       "      <th>9988</th>\n",
       "      <td>205952</td>\n",
       "      <td>27663 4933 5636 39953 35752 45528 16163 40866 ...</td>\n",
       "    </tr>\n",
       "    <tr>\n",
       "      <th>9989</th>\n",
       "      <td>205965</td>\n",
       "      <td>11821 28204 45104 38407 1543 36666 47766 4920 ...</td>\n",
       "    </tr>\n",
       "    <tr>\n",
       "      <th>9990</th>\n",
       "      <td>205968</td>\n",
       "      <td>34234 13575 7862 11365</td>\n",
       "    </tr>\n",
       "    <tr>\n",
       "      <th>9991</th>\n",
       "      <td>205988</td>\n",
       "      <td>24184 27292 47993 46979</td>\n",
       "    </tr>\n",
       "    <tr>\n",
       "      <th>9992</th>\n",
       "      <td>205989</td>\n",
       "      <td>39481 37646 27313 9164 2091 5296 1160 43460 12...</td>\n",
       "    </tr>\n",
       "    <tr>\n",
       "      <th>9993</th>\n",
       "      <td>205993</td>\n",
       "      <td>20448 16732 8843 41787 13575 31759</td>\n",
       "    </tr>\n",
       "    <tr>\n",
       "      <th>9994</th>\n",
       "      <td>206054</td>\n",
       "      <td>36011 6772 28289 35504 24954</td>\n",
       "    </tr>\n",
       "    <tr>\n",
       "      <th>9995</th>\n",
       "      <td>206084</td>\n",
       "      <td>14575 28204 31343 30707 41551 41149</td>\n",
       "    </tr>\n",
       "    <tr>\n",
       "      <th>9996</th>\n",
       "      <td>206089</td>\n",
       "      <td>40939</td>\n",
       "    </tr>\n",
       "    <tr>\n",
       "      <th>9997</th>\n",
       "      <td>206137</td>\n",
       "      <td>5769</td>\n",
       "    </tr>\n",
       "    <tr>\n",
       "      <th>9998</th>\n",
       "      <td>206140</td>\n",
       "      <td>24852 29700 10305 45066 27881 7539 49683 1939 ...</td>\n",
       "    </tr>\n",
       "    <tr>\n",
       "      <th>9999</th>\n",
       "      <td>206153</td>\n",
       "      <td>40910 12784 24838 48131 39877 29628 40706 4008...</td>\n",
       "    </tr>\n",
       "  </tbody>\n",
       "</table>\n",
       "<p>10000 rows × 2 columns</p>\n",
       "</div>"
      ],
      "text/plain": [
       "      user_id                                         product_id\n",
       "0          34                 7054 14678 38273 15604 35547 21137\n",
       "1          44  35042 28378 21616 47962 3473 1073 18653 43632 ...\n",
       "2          64  47209 21903 36550 14947 4920 31040 5473 44359 ...\n",
       "3          99  13176 4605 8193 20734 42754 33956 34126 36522 ...\n",
       "4         112                 34422 30353 34050 16759 25146 6656\n",
       "5         145     3873 30795 43616 33198 37947 47591 21267 41950\n",
       "6         147                       45603 2390 39408 39322 21019\n",
       "7         184  15872 39055 22220 26701 42992 11576 31075 4244...\n",
       "8         191                   6236 44075 31853 7948 30057 8555\n",
       "9         243  40339 8809 26209 20920 46979 49683 39275 44014...\n",
       "10        258  20084 43858 25093 47626 48171 35090 26032 1060...\n",
       "11        285  49235 20289 23716 4366 49683 20574 28204 47144...\n",
       "12        314                                        14251 31268\n",
       "13        337  24838 23139 3404 35619 19080 47333 42174 32331...\n",
       "14        351  14462 41966 19348 4920 9825 24852 21791 31640 ...\n",
       "15        411                 28934 34448 9387 21294 12238 35264\n",
       "16        438  46979 13176 47463 46667 23165 31694 18465 3300...\n",
       "17        444  30252 13984 41787 18272 25931 21616 35939 1245...\n",
       "18        454  24425 41067 242 277 47596 47931 28993 12879 76...\n",
       "19        456                      30489 47766 49235 33000 27104\n",
       "20        480  10308 31506 47161 35727 31725 3801 3323 26096 ...\n",
       "21        481  44632 28769 19048 43928 35547 48745 47668 2293...\n",
       "22        486  30489 32442 5764 11520 19706 21405 9186 32828 ...\n",
       "23        509  32211 24852 40963 37766 9515 19173 41453 38456...\n",
       "24        511  32864 11891 4193 1891 20119 37158 9339 25965 2...\n",
       "25        531                 35669 26620 46541 4837 39108 11777\n",
       "26        532  45224 24307 33493 8518 44142 29088 23811 2965 ...\n",
       "27        541                       31471 18531 41055 7948 22935\n",
       "28        554  17948 13176 23400 1244 16759 24419 11182 24489...\n",
       "29        555  34065 44422 12341 48595 35951 20995 34243 2190...\n",
       "...       ...                                                ...\n",
       "9970   205708  3192 37067 28634 29371 30727 29553 17621 6998 ...\n",
       "9971   205713           36063 26620 1219 11821 23341 29447 17802\n",
       "9972   205779                      39581 33000 30450 13097 13176\n",
       "9973   205789  14332 5463 17789 6873 13176 22395 12791 4428 1...\n",
       "9974   205790           43409 31610 3765 42534 18670 28577 16953\n",
       "9975   205804  47209 38456 38159 33120 21543 25340 38312 8174...\n",
       "9976   205806                                                196\n",
       "9977   205825                      17630 48795 16797 29487 26209\n",
       "9978   205829  16744 20345 8671 44987 40545 23288 32689 49325...\n",
       "9979   205841  24852 2378 31683 27845 14996 32347 36519 43920...\n",
       "9980   205859                      14766 21137 39877 23198 13176\n",
       "9981   205863                 2447 31557 26842 28204 27695 21872\n",
       "9982   205870                        7693 35004 8490 11599 27243\n",
       "9983   205878           5876 45767 21903 21137 24852 29195 30391\n",
       "9984   205905  17322 22890 26280 40348 19836 38944 1405 7495 ...\n",
       "9985   205912                                        40199 33000\n",
       "9986   205923  7232 2416 49355 40571 49630 1905 28472 5819 46...\n",
       "9987   205930  19660 18670 21775 18370 5212 13176 1158 40723 ...\n",
       "9988   205952  27663 4933 5636 39953 35752 45528 16163 40866 ...\n",
       "9989   205965  11821 28204 45104 38407 1543 36666 47766 4920 ...\n",
       "9990   205968                             34234 13575 7862 11365\n",
       "9991   205988                            24184 27292 47993 46979\n",
       "9992   205989  39481 37646 27313 9164 2091 5296 1160 43460 12...\n",
       "9993   205993                 20448 16732 8843 41787 13575 31759\n",
       "9994   206054                       36011 6772 28289 35504 24954\n",
       "9995   206084                14575 28204 31343 30707 41551 41149\n",
       "9996   206089                                              40939\n",
       "9997   206137                                               5769\n",
       "9998   206140  24852 29700 10305 45066 27881 7539 49683 1939 ...\n",
       "9999   206153  40910 12784 24838 48131 39877 29628 40706 4008...\n",
       "\n",
       "[10000 rows x 2 columns]"
      ]
     },
     "execution_count": 346,
     "metadata": {},
     "output_type": "execute_result"
    }
   ],
   "source": [
    "# this creates a DataFrame of predicted latest order product list \n",
    "predicted_order = pd.DataFrame(Reord.groupby('user_id')[\"product_id\"].apply(products_concat)).reset_index()\n",
    "predicted_order"
   ]
  },
  {
   "cell_type": "code",
   "execution_count": 351,
   "metadata": {
    "collapsed": false
   },
   "outputs": [
    {
     "data": {
      "text/html": [
       "<div>\n",
       "<table border=\"1\" class=\"dataframe\">\n",
       "  <thead>\n",
       "    <tr style=\"text-align: right;\">\n",
       "      <th></th>\n",
       "      <th>user_id</th>\n",
       "      <th>product_id_latest_train</th>\n",
       "    </tr>\n",
       "  </thead>\n",
       "  <tbody>\n",
       "    <tr>\n",
       "      <th>0</th>\n",
       "      <td>34</td>\n",
       "      <td>27845 24852 38273 7054 27086</td>\n",
       "    </tr>\n",
       "    <tr>\n",
       "      <th>1</th>\n",
       "      <td>44</td>\n",
       "      <td>49481 48833 43886 9225 35124 35852</td>\n",
       "    </tr>\n",
       "    <tr>\n",
       "      <th>2</th>\n",
       "      <td>64</td>\n",
       "      <td>13176 47209 46969 30391 40723 44359 18811 3655...</td>\n",
       "    </tr>\n",
       "    <tr>\n",
       "      <th>3</th>\n",
       "      <td>99</td>\n",
       "      <td>13176 21903 23029 42342 22035 31717 15290 3652...</td>\n",
       "    </tr>\n",
       "    <tr>\n",
       "      <th>4</th>\n",
       "      <td>112</td>\n",
       "      <td>432</td>\n",
       "    </tr>\n",
       "    <tr>\n",
       "      <th>5</th>\n",
       "      <td>145</td>\n",
       "      <td>47591 21267 37947 10768 17553 43616 36735 26604</td>\n",
       "    </tr>\n",
       "    <tr>\n",
       "      <th>6</th>\n",
       "      <td>147</td>\n",
       "      <td>38164 21019 43961 2390 38656 18205 38548 25934...</td>\n",
       "    </tr>\n",
       "    <tr>\n",
       "      <th>7</th>\n",
       "      <td>184</td>\n",
       "      <td>41806 11576 23233 22220 31076 39557 41332 3927...</td>\n",
       "    </tr>\n",
       "    <tr>\n",
       "      <th>8</th>\n",
       "      <td>191</td>\n",
       "      <td>7673 36082 24838 20512 13176 34940 1139</td>\n",
       "    </tr>\n",
       "    <tr>\n",
       "      <th>9</th>\n",
       "      <td>243</td>\n",
       "      <td>27104 46979 45066 21137 45007 27086 24184 5450...</td>\n",
       "    </tr>\n",
       "    <tr>\n",
       "      <th>10</th>\n",
       "      <td>258</td>\n",
       "      <td>34 8859 20574 11452 8193</td>\n",
       "    </tr>\n",
       "    <tr>\n",
       "      <th>11</th>\n",
       "      <td>285</td>\n",
       "      <td>24852 47344 6459 21137 12409 39216 24253</td>\n",
       "    </tr>\n",
       "    <tr>\n",
       "      <th>12</th>\n",
       "      <td>314</td>\n",
       "      <td>1808</td>\n",
       "    </tr>\n",
       "    <tr>\n",
       "      <th>13</th>\n",
       "      <td>337</td>\n",
       "      <td>19348 27945 14870 44156 2639 23106 24390 44632...</td>\n",
       "    </tr>\n",
       "    <tr>\n",
       "      <th>14</th>\n",
       "      <td>351</td>\n",
       "      <td>27845 47766 24024 29487 38273 49683 27741 1356...</td>\n",
       "    </tr>\n",
       "    <tr>\n",
       "      <th>15</th>\n",
       "      <td>411</td>\n",
       "      <td>21294 9387 12238 28934 6292 35264 38289 31970</td>\n",
       "    </tr>\n",
       "    <tr>\n",
       "      <th>16</th>\n",
       "      <td>438</td>\n",
       "      <td>3873 18465 46979 30776 33000 13176 22240 45007...</td>\n",
       "    </tr>\n",
       "    <tr>\n",
       "      <th>17</th>\n",
       "      <td>444</td>\n",
       "      <td>32052 30450 30252 22963 34949 41588 17789 1827...</td>\n",
       "    </tr>\n",
       "    <tr>\n",
       "      <th>18</th>\n",
       "      <td>454</td>\n",
       "      <td>28993 11463 10049 47931 1989 12332 19468 3243 ...</td>\n",
       "    </tr>\n",
       "    <tr>\n",
       "      <th>19</th>\n",
       "      <td>456</td>\n",
       "      <td>7485 13646 33000 42585 37147 20822</td>\n",
       "    </tr>\n",
       "    <tr>\n",
       "      <th>20</th>\n",
       "      <td>480</td>\n",
       "      <td>16797 10305 29223 40925 27275 25854 7530 24747...</td>\n",
       "    </tr>\n",
       "    <tr>\n",
       "      <th>21</th>\n",
       "      <td>481</td>\n",
       "      <td>38456 22312 30391 39984 47626 21334 22935 34005</td>\n",
       "    </tr>\n",
       "    <tr>\n",
       "      <th>22</th>\n",
       "      <td>486</td>\n",
       "      <td>21903 11520 5450 30489 47626 17083 11777 9186 ...</td>\n",
       "    </tr>\n",
       "    <tr>\n",
       "      <th>23</th>\n",
       "      <td>509</td>\n",
       "      <td>24852</td>\n",
       "    </tr>\n",
       "    <tr>\n",
       "      <th>24</th>\n",
       "      <td>511</td>\n",
       "      <td>21137 24852 22825 28204 44098 5883 42736 44632...</td>\n",
       "    </tr>\n",
       "    <tr>\n",
       "      <th>25</th>\n",
       "      <td>531</td>\n",
       "      <td>13166 33827 25706 39408 37646 22825 21839</td>\n",
       "    </tr>\n",
       "    <tr>\n",
       "      <th>26</th>\n",
       "      <td>532</td>\n",
       "      <td>21709 39732 38399 24519 5025 28993 890 47626 1...</td>\n",
       "    </tr>\n",
       "    <tr>\n",
       "      <th>27</th>\n",
       "      <td>541</td>\n",
       "      <td>12419 13181 39812 44878</td>\n",
       "    </tr>\n",
       "    <tr>\n",
       "      <th>28</th>\n",
       "      <td>554</td>\n",
       "      <td>17948 13176 24489 40706 26604 36389 10243 2113...</td>\n",
       "    </tr>\n",
       "    <tr>\n",
       "      <th>29</th>\n",
       "      <td>555</td>\n",
       "      <td>21137 13943 37646 26128 13629 20995 44422 1317...</td>\n",
       "    </tr>\n",
       "    <tr>\n",
       "      <th>...</th>\n",
       "      <td>...</td>\n",
       "      <td>...</td>\n",
       "    </tr>\n",
       "    <tr>\n",
       "      <th>9970</th>\n",
       "      <td>205708</td>\n",
       "      <td>48264 23734 27360 36086 15100 25423 32638 2089...</td>\n",
       "    </tr>\n",
       "    <tr>\n",
       "      <th>9971</th>\n",
       "      <td>205713</td>\n",
       "      <td>17802 365 45999 19389 48316 36763 11014</td>\n",
       "    </tr>\n",
       "    <tr>\n",
       "      <th>9972</th>\n",
       "      <td>205779</td>\n",
       "      <td>30450 21769 33000 3265 13176 35269</td>\n",
       "    </tr>\n",
       "    <tr>\n",
       "      <th>9973</th>\n",
       "      <td>205789</td>\n",
       "      <td>13176 37691 23650 5463 44471 23622 6656 30391 ...</td>\n",
       "    </tr>\n",
       "    <tr>\n",
       "      <th>9974</th>\n",
       "      <td>205790</td>\n",
       "      <td>47626 22849 48364 28577 24852 19003 26700 3105...</td>\n",
       "    </tr>\n",
       "    <tr>\n",
       "      <th>9975</th>\n",
       "      <td>205804</td>\n",
       "      <td>39928 16083 37067 47209 10749 40706 8174 10132...</td>\n",
       "    </tr>\n",
       "    <tr>\n",
       "      <th>9976</th>\n",
       "      <td>205806</td>\n",
       "      <td>29230</td>\n",
       "    </tr>\n",
       "    <tr>\n",
       "      <th>9977</th>\n",
       "      <td>205825</td>\n",
       "      <td>27845 17630 49175 5390 4605 26882 29594 18176 ...</td>\n",
       "    </tr>\n",
       "    <tr>\n",
       "      <th>9978</th>\n",
       "      <td>205829</td>\n",
       "      <td>22031 13378 21903 25890 47626 12206 44628 4054...</td>\n",
       "    </tr>\n",
       "    <tr>\n",
       "      <th>9979</th>\n",
       "      <td>205841</td>\n",
       "      <td>27845 45840 28204 27966 7781 31847 18531 14996...</td>\n",
       "    </tr>\n",
       "    <tr>\n",
       "      <th>9980</th>\n",
       "      <td>205859</td>\n",
       "      <td>41694 12409 7268 23417 23198 22935 29311 35750</td>\n",
       "    </tr>\n",
       "    <tr>\n",
       "      <th>9981</th>\n",
       "      <td>205863</td>\n",
       "      <td>21150 37646 13176 38689</td>\n",
       "    </tr>\n",
       "    <tr>\n",
       "      <th>9982</th>\n",
       "      <td>205870</td>\n",
       "      <td>17616 45916 33990 25513 2026 34739</td>\n",
       "    </tr>\n",
       "    <tr>\n",
       "      <th>9983</th>\n",
       "      <td>205878</td>\n",
       "      <td>47154 48679 11520 5812</td>\n",
       "    </tr>\n",
       "    <tr>\n",
       "      <th>9984</th>\n",
       "      <td>205905</td>\n",
       "      <td>30340 17008 22142 20468 38944 22619 1819 43295...</td>\n",
       "    </tr>\n",
       "    <tr>\n",
       "      <th>9985</th>\n",
       "      <td>205912</td>\n",
       "      <td>12341 7252 9434 21292 17157 4620 30827</td>\n",
       "    </tr>\n",
       "    <tr>\n",
       "      <th>9986</th>\n",
       "      <td>205923</td>\n",
       "      <td>18432 49355 40403 38054 3880 17878 20738 34414...</td>\n",
       "    </tr>\n",
       "    <tr>\n",
       "      <th>9987</th>\n",
       "      <td>205930</td>\n",
       "      <td>19660 13176 40723 2966 32486 47209 5212 23236 ...</td>\n",
       "    </tr>\n",
       "    <tr>\n",
       "      <th>9988</th>\n",
       "      <td>205952</td>\n",
       "      <td>6497 46877 5636 23341 14788 27167 11919 46802 ...</td>\n",
       "    </tr>\n",
       "    <tr>\n",
       "      <th>9989</th>\n",
       "      <td>205965</td>\n",
       "      <td>47209 13176 40354 21137 32211 43772 1463 13866...</td>\n",
       "    </tr>\n",
       "    <tr>\n",
       "      <th>9990</th>\n",
       "      <td>205968</td>\n",
       "      <td>8048 35336</td>\n",
       "    </tr>\n",
       "    <tr>\n",
       "      <th>9991</th>\n",
       "      <td>205988</td>\n",
       "      <td>37011 21288 46979 47626 33337 7969 29506 44359...</td>\n",
       "    </tr>\n",
       "    <tr>\n",
       "      <th>9992</th>\n",
       "      <td>205989</td>\n",
       "      <td>27313 45645 19863 47626 31553 15526 30661 1938...</td>\n",
       "    </tr>\n",
       "    <tr>\n",
       "      <th>9993</th>\n",
       "      <td>205993</td>\n",
       "      <td>40969 35866 39657 41400 44172 38928 13176 6184...</td>\n",
       "    </tr>\n",
       "    <tr>\n",
       "      <th>9994</th>\n",
       "      <td>206054</td>\n",
       "      <td>20757 33782 11777 27325 36011 22491 13338</td>\n",
       "    </tr>\n",
       "    <tr>\n",
       "      <th>9995</th>\n",
       "      <td>206084</td>\n",
       "      <td>9203 10749 40725 3098 8021 47209</td>\n",
       "    </tr>\n",
       "    <tr>\n",
       "      <th>9996</th>\n",
       "      <td>206089</td>\n",
       "      <td>40939 14715</td>\n",
       "    </tr>\n",
       "    <tr>\n",
       "      <th>9997</th>\n",
       "      <td>206137</td>\n",
       "      <td>5769</td>\n",
       "    </tr>\n",
       "    <tr>\n",
       "      <th>9998</th>\n",
       "      <td>206140</td>\n",
       "      <td>39928 24852 16611 30290 42828 34429 19895 4620...</td>\n",
       "    </tr>\n",
       "    <tr>\n",
       "      <th>9999</th>\n",
       "      <td>206153</td>\n",
       "      <td>18465 46572 33351 40706 16020 22959 24838 3706...</td>\n",
       "    </tr>\n",
       "  </tbody>\n",
       "</table>\n",
       "<p>10000 rows × 2 columns</p>\n",
       "</div>"
      ],
      "text/plain": [
       "      user_id                            product_id_latest_train\n",
       "0          34                       27845 24852 38273 7054 27086\n",
       "1          44                 49481 48833 43886 9225 35124 35852\n",
       "2          64  13176 47209 46969 30391 40723 44359 18811 3655...\n",
       "3          99  13176 21903 23029 42342 22035 31717 15290 3652...\n",
       "4         112                                                432\n",
       "5         145    47591 21267 37947 10768 17553 43616 36735 26604\n",
       "6         147  38164 21019 43961 2390 38656 18205 38548 25934...\n",
       "7         184  41806 11576 23233 22220 31076 39557 41332 3927...\n",
       "8         191            7673 36082 24838 20512 13176 34940 1139\n",
       "9         243  27104 46979 45066 21137 45007 27086 24184 5450...\n",
       "10        258                           34 8859 20574 11452 8193\n",
       "11        285           24852 47344 6459 21137 12409 39216 24253\n",
       "12        314                                               1808\n",
       "13        337  19348 27945 14870 44156 2639 23106 24390 44632...\n",
       "14        351  27845 47766 24024 29487 38273 49683 27741 1356...\n",
       "15        411      21294 9387 12238 28934 6292 35264 38289 31970\n",
       "16        438  3873 18465 46979 30776 33000 13176 22240 45007...\n",
       "17        444  32052 30450 30252 22963 34949 41588 17789 1827...\n",
       "18        454  28993 11463 10049 47931 1989 12332 19468 3243 ...\n",
       "19        456                 7485 13646 33000 42585 37147 20822\n",
       "20        480  16797 10305 29223 40925 27275 25854 7530 24747...\n",
       "21        481    38456 22312 30391 39984 47626 21334 22935 34005\n",
       "22        486  21903 11520 5450 30489 47626 17083 11777 9186 ...\n",
       "23        509                                              24852\n",
       "24        511  21137 24852 22825 28204 44098 5883 42736 44632...\n",
       "25        531          13166 33827 25706 39408 37646 22825 21839\n",
       "26        532  21709 39732 38399 24519 5025 28993 890 47626 1...\n",
       "27        541                            12419 13181 39812 44878\n",
       "28        554  17948 13176 24489 40706 26604 36389 10243 2113...\n",
       "29        555  21137 13943 37646 26128 13629 20995 44422 1317...\n",
       "...       ...                                                ...\n",
       "9970   205708  48264 23734 27360 36086 15100 25423 32638 2089...\n",
       "9971   205713            17802 365 45999 19389 48316 36763 11014\n",
       "9972   205779                 30450 21769 33000 3265 13176 35269\n",
       "9973   205789  13176 37691 23650 5463 44471 23622 6656 30391 ...\n",
       "9974   205790  47626 22849 48364 28577 24852 19003 26700 3105...\n",
       "9975   205804  39928 16083 37067 47209 10749 40706 8174 10132...\n",
       "9976   205806                                              29230\n",
       "9977   205825  27845 17630 49175 5390 4605 26882 29594 18176 ...\n",
       "9978   205829  22031 13378 21903 25890 47626 12206 44628 4054...\n",
       "9979   205841  27845 45840 28204 27966 7781 31847 18531 14996...\n",
       "9980   205859     41694 12409 7268 23417 23198 22935 29311 35750\n",
       "9981   205863                            21150 37646 13176 38689\n",
       "9982   205870                 17616 45916 33990 25513 2026 34739\n",
       "9983   205878                             47154 48679 11520 5812\n",
       "9984   205905  30340 17008 22142 20468 38944 22619 1819 43295...\n",
       "9985   205912             12341 7252 9434 21292 17157 4620 30827\n",
       "9986   205923  18432 49355 40403 38054 3880 17878 20738 34414...\n",
       "9987   205930  19660 13176 40723 2966 32486 47209 5212 23236 ...\n",
       "9988   205952  6497 46877 5636 23341 14788 27167 11919 46802 ...\n",
       "9989   205965  47209 13176 40354 21137 32211 43772 1463 13866...\n",
       "9990   205968                                         8048 35336\n",
       "9991   205988  37011 21288 46979 47626 33337 7969 29506 44359...\n",
       "9992   205989  27313 45645 19863 47626 31553 15526 30661 1938...\n",
       "9993   205993  40969 35866 39657 41400 44172 38928 13176 6184...\n",
       "9994   206054          20757 33782 11777 27325 36011 22491 13338\n",
       "9995   206084                   9203 10749 40725 3098 8021 47209\n",
       "9996   206089                                        40939 14715\n",
       "9997   206137                                               5769\n",
       "9998   206140  39928 24852 16611 30290 42828 34429 19895 4620...\n",
       "9999   206153  18465 46572 33351 40706 16020 22959 24838 3706...\n",
       "\n",
       "[10000 rows x 2 columns]"
      ]
     },
     "execution_count": 351,
     "metadata": {},
     "output_type": "execute_result"
    }
   ],
   "source": [
    "# this creates a DataFrame of train dataset latest order product list \n",
    "train_order = pd.DataFrame(ytrain.groupby('user_id')[\"product_id_latest_train\"].apply(products_concat)).reset_index()\n",
    "train_order"
   ]
  },
  {
   "cell_type": "code",
   "execution_count": 427,
   "metadata": {
    "collapsed": true
   },
   "outputs": [],
   "source": [
    "## Cosine similarity function to compare % similarities in the train and predicted products\n",
    "from collections import Counter\n",
    "import math\n",
    "\n",
    "def counter_cosine_similarity(c1, c2):\n",
    "    terms = set(c1).union(c2)\n",
    "    dotprod = sum(c1.get(k, 0) * c2.get(k, 0) for k in terms)\n",
    "    magA = math.sqrt(sum(c1.get(k, 0)**2 for k in terms))\n",
    "    magB = math.sqrt(sum(c2.get(k, 0)**2 for k in terms))\n",
    "    return dotprod / (magA * magB)"
   ]
  },
  {
   "cell_type": "code",
   "execution_count": 424,
   "metadata": {
    "collapsed": false
   },
   "outputs": [],
   "source": [
    "st=train_order.product_id_latest_train.values.tolist()\n",
    "sp=predicted_order.product_id.values.tolist()"
   ]
  },
  {
   "cell_type": "code",
   "execution_count": 425,
   "metadata": {
    "collapsed": false
   },
   "outputs": [],
   "source": [
    "## Calculation of cosine similarity scores\n",
    "i=0\n",
    "cs=[]\n",
    "for i in range(len(s)):\n",
    "    st[i]=st[i].split()\n",
    "    sp[i]=sp[i].split()\n",
    "    a=Counter(st[i])\n",
    "    b=Counter(sp[i])\n",
    "    cs.append(counter_cosine_similarity(a,b))\n",
    "    i+=1"
   ]
  },
  {
   "cell_type": "code",
   "execution_count": 426,
   "metadata": {
    "collapsed": false
   },
   "outputs": [
    {
     "data": {
      "text/plain": [
       "0.18732840839566126"
      ]
     },
     "execution_count": 426,
     "metadata": {},
     "output_type": "execute_result"
    }
   ],
   "source": [
    "## average of all cosine similarities scores\n",
    "np.mean(cs)"
   ]
  }
 ],
 "metadata": {
  "kernelspec": {
   "display_name": "Python 3",
   "language": "python",
   "name": "python3"
  },
  "language_info": {
   "codemirror_mode": {
    "name": "ipython",
    "version": 3
   },
   "file_extension": ".py",
   "mimetype": "text/x-python",
   "name": "python",
   "nbconvert_exporter": "python",
   "pygments_lexer": "ipython3",
   "version": "3.6.0"
  }
 },
 "nbformat": 4,
 "nbformat_minor": 2
}
