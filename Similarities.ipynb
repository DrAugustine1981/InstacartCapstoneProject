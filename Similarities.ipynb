{
 "cells": [
  {
   "cell_type": "markdown",
   "metadata": {},
   "source": [
    "# Capstone Project 1: Instacart Market Basket Analysis\n",
    "Predicting Customer's Diet Classification"
   ]
  },
  {
   "cell_type": "code",
   "execution_count": 71,
   "metadata": {
    "collapsed": false
   },
   "outputs": [],
   "source": [
    "import pandas as pd\n",
    "import matplotlib.pyplot as plt\n",
    "import numpy as np\n",
    "% matplotlib inline\n",
    "import seaborn as sns\n",
    "from matplotlib import rcParams\n",
    "from scipy import stats\n",
    "sns.set(style=\"whitegrid\", color_codes=True)\n",
    "sns.set_context(\"poster\")"
   ]
  },
  {
   "cell_type": "code",
   "execution_count": 2,
   "metadata": {
    "collapsed": false
   },
   "outputs": [],
   "source": [
    "## Read and Save all Tables in a DF\n",
    "prod=pd.read_csv('products.csv')\n",
    "aisles=pd.read_csv('aisles.csv')\n",
    "dep=pd.read_csv('departments.csv')\n",
    "orders=pd.read_csv('orders.csv')\n",
    "train=pd.read_csv('order_products__train.csv')\n",
    "prior=pd.read_csv('order_products__prior.csv')\n",
    "samp=pd.read_csv('sample_submission.csv')"
   ]
  },
  {
   "cell_type": "code",
   "execution_count": 3,
   "metadata": {
    "collapsed": false
   },
   "outputs": [
    {
     "data": {
      "text/html": [
       "<div>\n",
       "<table border=\"1\" class=\"dataframe\">\n",
       "  <thead>\n",
       "    <tr style=\"text-align: right;\">\n",
       "      <th></th>\n",
       "      <th>aisle_id</th>\n",
       "      <th>aisle</th>\n",
       "    </tr>\n",
       "  </thead>\n",
       "  <tbody>\n",
       "    <tr>\n",
       "      <th>0</th>\n",
       "      <td>1</td>\n",
       "      <td>prepared soups salads</td>\n",
       "    </tr>\n",
       "    <tr>\n",
       "      <th>1</th>\n",
       "      <td>2</td>\n",
       "      <td>specialty cheeses</td>\n",
       "    </tr>\n",
       "    <tr>\n",
       "      <th>2</th>\n",
       "      <td>3</td>\n",
       "      <td>energy granola bars</td>\n",
       "    </tr>\n",
       "    <tr>\n",
       "      <th>3</th>\n",
       "      <td>4</td>\n",
       "      <td>instant foods</td>\n",
       "    </tr>\n",
       "    <tr>\n",
       "      <th>4</th>\n",
       "      <td>5</td>\n",
       "      <td>marinades meat preparation</td>\n",
       "    </tr>\n",
       "  </tbody>\n",
       "</table>\n",
       "</div>"
      ],
      "text/plain": [
       "   aisle_id                       aisle\n",
       "0         1       prepared soups salads\n",
       "1         2           specialty cheeses\n",
       "2         3         energy granola bars\n",
       "3         4               instant foods\n",
       "4         5  marinades meat preparation"
      ]
     },
     "execution_count": 3,
     "metadata": {},
     "output_type": "execute_result"
    }
   ],
   "source": [
    "aisles.head()"
   ]
  },
  {
   "cell_type": "code",
   "execution_count": 4,
   "metadata": {
    "collapsed": true
   },
   "outputs": [],
   "source": [
    "## Orders Table Separated to three\n",
    "oprior=orders[orders.eval_set=='prior']\n",
    "otrain=orders[orders.eval_set=='train']\n",
    "otest=orders[orders.eval_set=='test']"
   ]
  },
  {
   "cell_type": "code",
   "execution_count": 5,
   "metadata": {
    "collapsed": false
   },
   "outputs": [
    {
     "data": {
      "text/html": [
       "<div>\n",
       "<table border=\"1\" class=\"dataframe\">\n",
       "  <thead>\n",
       "    <tr style=\"text-align: right;\">\n",
       "      <th></th>\n",
       "      <th>order_id</th>\n",
       "      <th>user_id</th>\n",
       "      <th>eval_set</th>\n",
       "      <th>order_number</th>\n",
       "      <th>order_dow</th>\n",
       "      <th>order_hour_of_day</th>\n",
       "      <th>days_since_prior_order</th>\n",
       "    </tr>\n",
       "  </thead>\n",
       "  <tbody>\n",
       "    <tr>\n",
       "      <th>0</th>\n",
       "      <td>2539329</td>\n",
       "      <td>1</td>\n",
       "      <td>prior</td>\n",
       "      <td>1</td>\n",
       "      <td>2</td>\n",
       "      <td>8</td>\n",
       "      <td>NaN</td>\n",
       "    </tr>\n",
       "    <tr>\n",
       "      <th>1</th>\n",
       "      <td>2398795</td>\n",
       "      <td>1</td>\n",
       "      <td>prior</td>\n",
       "      <td>2</td>\n",
       "      <td>3</td>\n",
       "      <td>7</td>\n",
       "      <td>15.0</td>\n",
       "    </tr>\n",
       "    <tr>\n",
       "      <th>2</th>\n",
       "      <td>473747</td>\n",
       "      <td>1</td>\n",
       "      <td>prior</td>\n",
       "      <td>3</td>\n",
       "      <td>3</td>\n",
       "      <td>12</td>\n",
       "      <td>21.0</td>\n",
       "    </tr>\n",
       "    <tr>\n",
       "      <th>3</th>\n",
       "      <td>2254736</td>\n",
       "      <td>1</td>\n",
       "      <td>prior</td>\n",
       "      <td>4</td>\n",
       "      <td>4</td>\n",
       "      <td>7</td>\n",
       "      <td>29.0</td>\n",
       "    </tr>\n",
       "    <tr>\n",
       "      <th>4</th>\n",
       "      <td>431534</td>\n",
       "      <td>1</td>\n",
       "      <td>prior</td>\n",
       "      <td>5</td>\n",
       "      <td>4</td>\n",
       "      <td>15</td>\n",
       "      <td>28.0</td>\n",
       "    </tr>\n",
       "  </tbody>\n",
       "</table>\n",
       "</div>"
      ],
      "text/plain": [
       "   order_id  user_id eval_set  order_number  order_dow  order_hour_of_day  \\\n",
       "0   2539329        1    prior             1          2                  8   \n",
       "1   2398795        1    prior             2          3                  7   \n",
       "2    473747        1    prior             3          3                 12   \n",
       "3   2254736        1    prior             4          4                  7   \n",
       "4    431534        1    prior             5          4                 15   \n",
       "\n",
       "   days_since_prior_order  \n",
       "0                     NaN  \n",
       "1                    15.0  \n",
       "2                    21.0  \n",
       "3                    29.0  \n",
       "4                    28.0  "
      ]
     },
     "execution_count": 5,
     "metadata": {},
     "output_type": "execute_result"
    }
   ],
   "source": [
    "oprior.head()"
   ]
  },
  {
   "cell_type": "code",
   "execution_count": 6,
   "metadata": {
    "collapsed": false
   },
   "outputs": [
    {
     "data": {
      "text/plain": [
       "206209"
      ]
     },
     "execution_count": 6,
     "metadata": {},
     "output_type": "execute_result"
    }
   ],
   "source": [
    "## Total number of Customers that are in oprior dataframe\n",
    "oprior.user_id.unique().size"
   ]
  },
  {
   "cell_type": "code",
   "execution_count": 7,
   "metadata": {
    "collapsed": false
   },
   "outputs": [],
   "source": [
    "##Merging Oprior DataFrame with prod and aisle dataframes\n",
    "Allprior=oprior.merge(prior)\n",
    "Allprior=Allprior.merge(prod)\n",
    "Allprior=Allprior.merge(aisles)"
   ]
  },
  {
   "cell_type": "code",
   "execution_count": 8,
   "metadata": {
    "collapsed": false
   },
   "outputs": [
    {
     "data": {
      "text/html": [
       "<div>\n",
       "<table border=\"1\" class=\"dataframe\">\n",
       "  <thead>\n",
       "    <tr style=\"text-align: right;\">\n",
       "      <th></th>\n",
       "      <th>order_id</th>\n",
       "      <th>user_id</th>\n",
       "      <th>eval_set</th>\n",
       "      <th>order_number</th>\n",
       "      <th>order_dow</th>\n",
       "      <th>order_hour_of_day</th>\n",
       "      <th>days_since_prior_order</th>\n",
       "      <th>product_id</th>\n",
       "      <th>add_to_cart_order</th>\n",
       "      <th>reordered</th>\n",
       "      <th>product_name</th>\n",
       "      <th>aisle_id</th>\n",
       "      <th>department_id</th>\n",
       "      <th>aisle</th>\n",
       "    </tr>\n",
       "  </thead>\n",
       "  <tbody>\n",
       "    <tr>\n",
       "      <th>0</th>\n",
       "      <td>2539329</td>\n",
       "      <td>1</td>\n",
       "      <td>prior</td>\n",
       "      <td>1</td>\n",
       "      <td>2</td>\n",
       "      <td>8</td>\n",
       "      <td>NaN</td>\n",
       "      <td>196</td>\n",
       "      <td>1</td>\n",
       "      <td>0</td>\n",
       "      <td>Soda</td>\n",
       "      <td>77</td>\n",
       "      <td>7</td>\n",
       "      <td>soft drinks</td>\n",
       "    </tr>\n",
       "    <tr>\n",
       "      <th>1</th>\n",
       "      <td>2398795</td>\n",
       "      <td>1</td>\n",
       "      <td>prior</td>\n",
       "      <td>2</td>\n",
       "      <td>3</td>\n",
       "      <td>7</td>\n",
       "      <td>15.0</td>\n",
       "      <td>196</td>\n",
       "      <td>1</td>\n",
       "      <td>1</td>\n",
       "      <td>Soda</td>\n",
       "      <td>77</td>\n",
       "      <td>7</td>\n",
       "      <td>soft drinks</td>\n",
       "    </tr>\n",
       "    <tr>\n",
       "      <th>2</th>\n",
       "      <td>473747</td>\n",
       "      <td>1</td>\n",
       "      <td>prior</td>\n",
       "      <td>3</td>\n",
       "      <td>3</td>\n",
       "      <td>12</td>\n",
       "      <td>21.0</td>\n",
       "      <td>196</td>\n",
       "      <td>1</td>\n",
       "      <td>1</td>\n",
       "      <td>Soda</td>\n",
       "      <td>77</td>\n",
       "      <td>7</td>\n",
       "      <td>soft drinks</td>\n",
       "    </tr>\n",
       "    <tr>\n",
       "      <th>3</th>\n",
       "      <td>2254736</td>\n",
       "      <td>1</td>\n",
       "      <td>prior</td>\n",
       "      <td>4</td>\n",
       "      <td>4</td>\n",
       "      <td>7</td>\n",
       "      <td>29.0</td>\n",
       "      <td>196</td>\n",
       "      <td>1</td>\n",
       "      <td>1</td>\n",
       "      <td>Soda</td>\n",
       "      <td>77</td>\n",
       "      <td>7</td>\n",
       "      <td>soft drinks</td>\n",
       "    </tr>\n",
       "    <tr>\n",
       "      <th>4</th>\n",
       "      <td>431534</td>\n",
       "      <td>1</td>\n",
       "      <td>prior</td>\n",
       "      <td>5</td>\n",
       "      <td>4</td>\n",
       "      <td>15</td>\n",
       "      <td>28.0</td>\n",
       "      <td>196</td>\n",
       "      <td>1</td>\n",
       "      <td>1</td>\n",
       "      <td>Soda</td>\n",
       "      <td>77</td>\n",
       "      <td>7</td>\n",
       "      <td>soft drinks</td>\n",
       "    </tr>\n",
       "  </tbody>\n",
       "</table>\n",
       "</div>"
      ],
      "text/plain": [
       "   order_id  user_id eval_set  order_number  order_dow  order_hour_of_day  \\\n",
       "0   2539329        1    prior             1          2                  8   \n",
       "1   2398795        1    prior             2          3                  7   \n",
       "2    473747        1    prior             3          3                 12   \n",
       "3   2254736        1    prior             4          4                  7   \n",
       "4    431534        1    prior             5          4                 15   \n",
       "\n",
       "   days_since_prior_order  product_id  add_to_cart_order  reordered  \\\n",
       "0                     NaN         196                  1          0   \n",
       "1                    15.0         196                  1          1   \n",
       "2                    21.0         196                  1          1   \n",
       "3                    29.0         196                  1          1   \n",
       "4                    28.0         196                  1          1   \n",
       "\n",
       "  product_name  aisle_id  department_id        aisle  \n",
       "0         Soda        77              7  soft drinks  \n",
       "1         Soda        77              7  soft drinks  \n",
       "2         Soda        77              7  soft drinks  \n",
       "3         Soda        77              7  soft drinks  \n",
       "4         Soda        77              7  soft drinks  "
      ]
     },
     "execution_count": 8,
     "metadata": {},
     "output_type": "execute_result"
    }
   ],
   "source": [
    "Allprior.head()"
   ]
  },
  {
   "cell_type": "code",
   "execution_count": 9,
   "metadata": {
    "collapsed": false,
    "scrolled": true
   },
   "outputs": [
    {
     "data": {
      "text/html": [
       "<div>\n",
       "<table border=\"1\" class=\"dataframe\">\n",
       "  <thead>\n",
       "    <tr style=\"text-align: right;\">\n",
       "      <th></th>\n",
       "      <th>aisle_id</th>\n",
       "      <th>aisle_percent</th>\n",
       "    </tr>\n",
       "  </thead>\n",
       "  <tbody>\n",
       "    <tr>\n",
       "      <th>0</th>\n",
       "      <td>1</td>\n",
       "      <td>0.002218</td>\n",
       "    </tr>\n",
       "    <tr>\n",
       "      <th>1</th>\n",
       "      <td>2</td>\n",
       "      <td>0.002543</td>\n",
       "    </tr>\n",
       "    <tr>\n",
       "      <th>2</th>\n",
       "      <td>3</td>\n",
       "      <td>0.014071</td>\n",
       "    </tr>\n",
       "    <tr>\n",
       "      <th>3</th>\n",
       "      <td>4</td>\n",
       "      <td>0.006187</td>\n",
       "    </tr>\n",
       "    <tr>\n",
       "      <th>4</th>\n",
       "      <td>5</td>\n",
       "      <td>0.001927</td>\n",
       "    </tr>\n",
       "  </tbody>\n",
       "</table>\n",
       "</div>"
      ],
      "text/plain": [
       "   aisle_id  aisle_percent\n",
       "0         1       0.002218\n",
       "1         2       0.002543\n",
       "2         3       0.014071\n",
       "3         4       0.006187\n",
       "4         5       0.001927"
      ]
     },
     "execution_count": 9,
     "metadata": {},
     "output_type": "execute_result"
    }
   ],
   "source": [
    "##Percentage of orders coming from each aisle in the entire Allprior dataframe\n",
    "aisle_percent=Allprior.aisle_id.value_counts()/Allprior.aisle_id.size\n",
    "aisle_percent=pd.DataFrame(aisle_percent).sort_index().reset_index()\n",
    "aisle_percent.columns=['aisle_id', 'aisle_percent']\n",
    "aisle_percent.head()\n"
   ]
  },
  {
   "cell_type": "code",
   "execution_count": 77,
   "metadata": {
    "collapsed": false
   },
   "outputs": [
    {
     "data": {
      "image/png": "[encoded data removed]",
      "text/plain": [
       "<matplotlib.figure.Figure at 0x273068ffeb8>"
      ]
     },
     "metadata": {},
     "output_type": "display_data"
    }
   ],
   "source": [
    "aisle_percent.plot(\"aisle_id\", \"aisle_percent\", kind=\"barh\", color='r')\n",
    "plt.title('Aisle Distribution')\n",
    "plt.ylim(0,140)\n",
    "plt.show()"
   ]
  },
  {
   "cell_type": "code",
   "execution_count": 11,
   "metadata": {
    "collapsed": false
   },
   "outputs": [],
   "source": [
    "## U is the dataframe of users with their number of orders\n",
    "U=oprior.groupby('user_id')['order_number'].agg(['max'])\n",
    "U['user_id']=U.index.get_level_values('user_id').values\n",
    "U.columns=['max_order', 'user_id']"
   ]
  },
  {
   "cell_type": "code",
   "execution_count": 12,
   "metadata": {
    "collapsed": false
   },
   "outputs": [],
   "source": [
    "## P_num is the dataframe of users with order_id and the number of products per order\n",
    "P_num=Allprior.groupby('user_id')['order_id'].value_counts()\n",
    "P_num=pd.DataFrame(P_num)\n",
    "P_num.columns=['prod_per_order']\n",
    "P_num['user_id']=P_num.index.get_level_values('user_id').values\n",
    "P_num['order_id']=P_num.index.get_level_values('order_id').values"
   ]
  },
  {
   "cell_type": "code",
   "execution_count": 13,
   "metadata": {
    "collapsed": false
   },
   "outputs": [],
   "source": [
    "### Tot_p is the dataframe of users with total number of products they ordered\n",
    "Tot_p=Allprior.user_id.value_counts()\n",
    "Tot_p=pd.DataFrame(Tot_p).reset_index()\n",
    "Tot_p.columns=['user_id', 'total_products']"
   ]
  },
  {
   "cell_type": "markdown",
   "metadata": {},
   "source": [
    "##  F1. This function provides a sample of 10,000 random users from the oprior dataframe for training dataset"
   ]
  },
  {
   "cell_type": "code",
   "execution_count": 14,
   "metadata": {
    "collapsed": false
   },
   "outputs": [],
   "source": [
    "def Sample_maker(Q):\n",
    "    PO=Q.merge(P_num).merge(Tot_p)\n",
    "    sample1=Q.sample(n=10000, replace=False, random_state=0, axis=0)\n",
    "    \n",
    "    ## sample1 is the DataFrame of the first dataset\n",
    "    sample1=sample1.merge(PO, how='inner')\n",
    "    sample1=sample1.loc[:,['user_id', 'order_id', 'max_order', 'prod_per_order', 'total_products']]\n",
    "\n",
    "\n",
    "    #Emp is the Empirical dataframe\n",
    "    Emp=sample1.merge(Allprior, how='inner')\n",
    "    \n",
    "    return Emp"
   ]
  },
  {
   "cell_type": "markdown",
   "metadata": {},
   "source": [
    "## F2. This Function classifies Users as Meat_Lovers, Pescatarian, Vegan, NonVegan according to users overall order history"
   ]
  },
  {
   "cell_type": "code",
   "execution_count": 15,
   "metadata": {
    "collapsed": true
   },
   "outputs": [],
   "source": [
    "def Diet_Class_user(A):\n",
    "    ## Total products ordered from Meat & Seafood Aisles\n",
    "    MS=A[(A.aisle_id==5)|(A.aisle_id==7)|(A.aisle_id==15)|(A.aisle_id==34)|(A.aisle_id==35)|(A.aisle_id==39)|(A.aisle_id==49)|(A.aisle_id==95)|(A.aisle_id==96)|(A.aisle_id==106)|(A.aisle_id==122)]\n",
    "    \n",
    "    ##Eats Meat and Fish\n",
    "    M=MS[(MS.aisle_id==5)|(A.aisle_id==7)|(A.aisle_id==35)|(A.aisle_id==49)|(A.aisle_id==96)|(A.aisle_id==106)|(A.aisle_id==122)]\n",
    "    MF=M.user_id.unique()\n",
    "    Meat_L=pd.DataFrame(MF, columns=['user_id'])\n",
    "    Meat_L['Diet']='Meat_Lovers'\n",
    "    \n",
    "    ##Pescatarian that eat and not eat other meat\n",
    "    P=MS[(MS.aisle_id==15)|(MS.aisle_id==34)|(MS.aisle_id==39)|(MS.aisle_id==95)]\n",
    "    F=P.user_id.unique()\n",
    "    \n",
    "    ## Pescatarian customers\n",
    "    Pesca=np.setdiff1d(F,MF)\n",
    "    Pesca=pd.DataFrame(Pesca, columns=['user_id'])\n",
    "    Pesca['Diet']='Pescatarian'\n",
    "\n",
    "    ## All Vegetarians\n",
    "    Veg=A.loc[~A.user_id.isin(MS.user_id)]\n",
    "\n",
    "    # NonVegan \n",
    "    NV=Veg[(Veg.aisle_id==86)|(Veg.aisle_id==2)|(Veg.aisle_id==21)|(Veg.aisle_id==53)|(Veg.aisle_id==84)|(Veg.aisle_id==108)|(Veg.aisle_id==120)]\n",
    "    F1=NV.user_id.unique()\n",
    "\n",
    "    NonVeg=pd.DataFrame(F1, columns=['user_id'])\n",
    "    NonVeg['Diet']='NonVegan'\n",
    "    \n",
    "    ##Vegans\n",
    "    Vegans=Veg.loc[~Veg.user_id.isin(F1)]\n",
    "    Vega=Vegans.user_id.unique()\n",
    "    Vega=pd.DataFrame(Vega, columns=['user_id'])\n",
    "    Vega['Diet']='Vegan'\n",
    "    \n",
    "    ## Merge all DataFrame of Different Diets\n",
    "    Sample_class=pd.concat([Meat_L, Pesca, NonVeg, Vega])\n",
    "    \n",
    "    return Sample_class"
   ]
  },
  {
   "cell_type": "markdown",
   "metadata": {},
   "source": [
    "## F3. This Function classifies Meat_Lovers, Pescatarian, Vegan, NonVegan according to orders and disregarding who ordered it (the user)"
   ]
  },
  {
   "cell_type": "code",
   "execution_count": 16,
   "metadata": {
    "collapsed": true
   },
   "outputs": [],
   "source": [
    "def Diet_Class_orders(A):\n",
    "    ## Total products ordered from Meat & Seafood Aisles\n",
    "    MS=A[(A.aisle_id==5)|(A.aisle_id==7)|(A.aisle_id==15)|(A.aisle_id==34)|(A.aisle_id==35)|(A.aisle_id==39)|(A.aisle_id==49)|(A.aisle_id==95)|(A.aisle_id==96)|(A.aisle_id==106)|(A.aisle_id==122)]\n",
    "    \n",
    "    ##Eats Meat and Fish\n",
    "    M=MS[(MS.aisle_id==5)|(A.aisle_id==7)|(A.aisle_id==35)|(A.aisle_id==49)|(A.aisle_id==96)|(A.aisle_id==106)|(A.aisle_id==122)]\n",
    "    MF=M.order_id.unique()\n",
    "    Meat_L=pd.DataFrame(MF, columns=['order_id'])\n",
    "    Meat_L['Diet']='Meat_Lovers'\n",
    "    \n",
    "    ##Pescatarian that eat and not eat other meat\n",
    "    P=MS[(MS.aisle_id==15)|(MS.aisle_id==34)|(MS.aisle_id==39)|(MS.aisle_id==95)]\n",
    "    F=P.order_id.unique()\n",
    "    \n",
    "    ## Pescatarian customers\n",
    "    Pesca=np.setdiff1d(F,MF)\n",
    "    Pesca=pd.DataFrame(Pesca, columns=['order_id'])\n",
    "    Pesca['Diet']='Pescatarian'\n",
    "\n",
    "    ## All Vegetarians\n",
    "    Veg=A.loc[~A.order_id.isin(MS.order_id)]\n",
    "\n",
    "    # NonVegan \n",
    "    NV=Veg[(Veg.aisle_id==86)|(Veg.aisle_id==2)|(Veg.aisle_id==21)|(Veg.aisle_id==53)|(Veg.aisle_id==84)|(Veg.aisle_id==108)|(Veg.aisle_id==120)]\n",
    "    F1=NV.order_id.unique()\n",
    "\n",
    "    NonVeg=pd.DataFrame(F1, columns=['order_id'])\n",
    "    NonVeg['Diet']='NonVegan'\n",
    "    \n",
    "    ##Vegans\n",
    "    Vegans=Veg.loc[~Veg.order_id.isin(F1)]\n",
    "    Vega=Vegans.order_id.unique()\n",
    "    Vega=pd.DataFrame(Vega, columns=['order_id'])\n",
    "    Vega['Diet']='Vegan'\n",
    "    \n",
    "    ## Merge all DataFrame of Different Diets\n",
    "    Sample_class=pd.concat([Meat_L, Pesca, NonVeg, Vega])\n",
    "    \n",
    "    return Sample_class"
   ]
  },
  {
   "cell_type": "markdown",
   "metadata": {},
   "source": [
    "## F4. This function returns a horizontal bar graph of distrubution of the four Diet Categories of Customers "
   ]
  },
  {
   "cell_type": "code",
   "execution_count": 17,
   "metadata": {
    "collapsed": true
   },
   "outputs": [],
   "source": [
    "def Diet_Percentage(B):\n",
    "    Per=B.Diet.value_counts()\n",
    "    Per=pd.DataFrame(Per).reset_index()\n",
    "    Per.columns=['Diet','Size']\n",
    "    Per['Percent']=Per.Size/Per.Size.sum()\n",
    "    \n",
    "    #Bar=Per.sort_index().plot(kind='barh', color='r')\n",
    "    #plt.xlabel('Percentage')\n",
    "    #plt.title('Customer Diet Distribution')\n",
    "    return Per"
   ]
  },
  {
   "cell_type": "markdown",
   "metadata": {},
   "source": [
    "## F5. This function excludes the 10,000 users previously used in a training dataset "
   ]
  },
  {
   "cell_type": "code",
   "execution_count": 18,
   "metadata": {
    "collapsed": true
   },
   "outputs": [],
   "source": [
    "def Remaining_users(S): ## S is an Empirical Sample Generated DataFrame (E1, E2, E3)\n",
    "    Rem=U.loc[~U.user_id.isin(S.user_id)]\n",
    "    return Rem\n",
    "    "
   ]
  },
  {
   "cell_type": "markdown",
   "metadata": {},
   "source": [
    "## Three Empirical Samples are Generated and Customer's Diet Classified"
   ]
  },
  {
   "cell_type": "code",
   "execution_count": 19,
   "metadata": {
    "collapsed": false
   },
   "outputs": [
    {
     "name": "stderr",
     "output_type": "stream",
     "text": [
      "C:\\Users\\pamel\\AppData\\Local\\Continuum\\Anaconda3\\lib\\site-packages\\ipykernel\\__main__.py:6: UserWarning: Boolean Series key will be reindexed to match DataFrame index.\n"
     ]
    },
    {
     "data": {
      "text/html": [
       "<div>\n",
       "<table border=\"1\" class=\"dataframe\">\n",
       "  <thead>\n",
       "    <tr style=\"text-align: right;\">\n",
       "      <th></th>\n",
       "      <th>Diet</th>\n",
       "      <th>Size</th>\n",
       "      <th>Percent</th>\n",
       "    </tr>\n",
       "  </thead>\n",
       "  <tbody>\n",
       "    <tr>\n",
       "      <th>0</th>\n",
       "      <td>Meat_Lovers</td>\n",
       "      <td>6426</td>\n",
       "      <td>0.6426</td>\n",
       "    </tr>\n",
       "    <tr>\n",
       "      <th>1</th>\n",
       "      <td>NonVegan</td>\n",
       "      <td>2336</td>\n",
       "      <td>0.2336</td>\n",
       "    </tr>\n",
       "    <tr>\n",
       "      <th>2</th>\n",
       "      <td>Vegan</td>\n",
       "      <td>774</td>\n",
       "      <td>0.0774</td>\n",
       "    </tr>\n",
       "    <tr>\n",
       "      <th>3</th>\n",
       "      <td>Pescatarian</td>\n",
       "      <td>464</td>\n",
       "      <td>0.0464</td>\n",
       "    </tr>\n",
       "  </tbody>\n",
       "</table>\n",
       "</div>"
      ],
      "text/plain": [
       "          Diet  Size  Percent\n",
       "0  Meat_Lovers  6426   0.6426\n",
       "1     NonVegan  2336   0.2336\n",
       "2        Vegan   774   0.0774\n",
       "3  Pescatarian   464   0.0464"
      ]
     },
     "execution_count": 19,
     "metadata": {},
     "output_type": "execute_result"
    }
   ],
   "source": [
    "## First Empirical Sample with 10,000 users from oprior DataFrame\n",
    "\n",
    "E1=Sample_maker(U)           # Empirical Sample Generated\n",
    "C1=Diet_Class_user(E1)       # Diets are of 10,000 in the Empirical Sample Classified\n",
    "P1=Diet_Percentage(C1)       # This returns the percentage of the different Diet Classification\n",
    "P1"
   ]
  },
  {
   "cell_type": "code",
   "execution_count": 20,
   "metadata": {
    "collapsed": false
   },
   "outputs": [
    {
     "name": "stderr",
     "output_type": "stream",
     "text": [
      "C:\\Users\\pamel\\AppData\\Local\\Continuum\\Anaconda3\\lib\\site-packages\\ipykernel\\__main__.py:6: UserWarning: Boolean Series key will be reindexed to match DataFrame index.\n"
     ]
    },
    {
     "data": {
      "text/html": [
       "<div>\n",
       "<table border=\"1\" class=\"dataframe\">\n",
       "  <thead>\n",
       "    <tr style=\"text-align: right;\">\n",
       "      <th></th>\n",
       "      <th>Diet</th>\n",
       "      <th>Size</th>\n",
       "      <th>Percent</th>\n",
       "    </tr>\n",
       "  </thead>\n",
       "  <tbody>\n",
       "    <tr>\n",
       "      <th>0</th>\n",
       "      <td>Meat_Lovers</td>\n",
       "      <td>6517</td>\n",
       "      <td>0.6517</td>\n",
       "    </tr>\n",
       "    <tr>\n",
       "      <th>1</th>\n",
       "      <td>NonVegan</td>\n",
       "      <td>2294</td>\n",
       "      <td>0.2294</td>\n",
       "    </tr>\n",
       "    <tr>\n",
       "      <th>2</th>\n",
       "      <td>Vegan</td>\n",
       "      <td>691</td>\n",
       "      <td>0.0691</td>\n",
       "    </tr>\n",
       "    <tr>\n",
       "      <th>3</th>\n",
       "      <td>Pescatarian</td>\n",
       "      <td>498</td>\n",
       "      <td>0.0498</td>\n",
       "    </tr>\n",
       "  </tbody>\n",
       "</table>\n",
       "</div>"
      ],
      "text/plain": [
       "          Diet  Size  Percent\n",
       "0  Meat_Lovers  6517   0.6517\n",
       "1     NonVegan  2294   0.2294\n",
       "2        Vegan   691   0.0691\n",
       "3  Pescatarian   498   0.0498"
      ]
     },
     "execution_count": 20,
     "metadata": {},
     "output_type": "execute_result"
    }
   ],
   "source": [
    "## Second Empirical Sample with 10,000 users from oprior DataFrame\n",
    "U1=Remaining_users(E1)      # The 10,000 users in the first Emprical Sample (E1) is excluded from the oprior DataFrame\n",
    "\n",
    "E2=Sample_maker(U1)         # Empirical Sample Generated\n",
    "C2=Diet_Class_user(E2)      # Diets are of 10,000 in the Empirical Sample Classified\n",
    "P2=Diet_Percentage(C2)      # This returns the percentage of the different Diet Classification\n",
    "P2"
   ]
  },
  {
   "cell_type": "code",
   "execution_count": 21,
   "metadata": {
    "collapsed": false
   },
   "outputs": [
    {
     "name": "stderr",
     "output_type": "stream",
     "text": [
      "C:\\Users\\pamel\\AppData\\Local\\Continuum\\Anaconda3\\lib\\site-packages\\ipykernel\\__main__.py:6: UserWarning: Boolean Series key will be reindexed to match DataFrame index.\n"
     ]
    },
    {
     "data": {
      "text/html": [
       "<div>\n",
       "<table border=\"1\" class=\"dataframe\">\n",
       "  <thead>\n",
       "    <tr style=\"text-align: right;\">\n",
       "      <th></th>\n",
       "      <th>Diet</th>\n",
       "      <th>Size</th>\n",
       "      <th>Percent</th>\n",
       "    </tr>\n",
       "  </thead>\n",
       "  <tbody>\n",
       "    <tr>\n",
       "      <th>0</th>\n",
       "      <td>Meat_Lovers</td>\n",
       "      <td>6511</td>\n",
       "      <td>0.6511</td>\n",
       "    </tr>\n",
       "    <tr>\n",
       "      <th>1</th>\n",
       "      <td>NonVegan</td>\n",
       "      <td>2335</td>\n",
       "      <td>0.2335</td>\n",
       "    </tr>\n",
       "    <tr>\n",
       "      <th>2</th>\n",
       "      <td>Vegan</td>\n",
       "      <td>676</td>\n",
       "      <td>0.0676</td>\n",
       "    </tr>\n",
       "    <tr>\n",
       "      <th>3</th>\n",
       "      <td>Pescatarian</td>\n",
       "      <td>478</td>\n",
       "      <td>0.0478</td>\n",
       "    </tr>\n",
       "  </tbody>\n",
       "</table>\n",
       "</div>"
      ],
      "text/plain": [
       "          Diet  Size  Percent\n",
       "0  Meat_Lovers  6511   0.6511\n",
       "1     NonVegan  2335   0.2335\n",
       "2        Vegan   676   0.0676\n",
       "3  Pescatarian   478   0.0478"
      ]
     },
     "execution_count": 21,
     "metadata": {},
     "output_type": "execute_result"
    }
   ],
   "source": [
    "## Third Empirical Sample with 10,000 users from oprior DataFrame\n",
    "\n",
    "ET=pd.concat([E1,E2])           # The first two Empirical Sample were merged a\n",
    "U2=Remaining_users(ET)      # The 10,000 users in the first and second Emprical Sample (E1+E2) is excluded from the oprior DataFrame\n",
    "E3=Sample_maker(U2)         # Empirical Sample Generated\n",
    "C3=Diet_Class_user(E3)      # Diets are of 10,000 in the Empirical Sample Classified\n",
    "P3=Diet_Percentage(C3)      # This returns the percentage of the different Diet Classification\n",
    "P3"
   ]
  },
  {
   "cell_type": "markdown",
   "metadata": {},
   "source": [
    "## Bar Graph Comparison of %"
   ]
  },
  {
   "cell_type": "markdown",
   "metadata": {},
   "source": [
    "## The Three Empirical Samples are reclassified using orders and disregarding users"
   ]
  },
  {
   "cell_type": "code",
   "execution_count": 24,
   "metadata": {
    "collapsed": false
   },
   "outputs": [
    {
     "name": "stderr",
     "output_type": "stream",
     "text": [
      "C:\\Users\\pamel\\AppData\\Local\\Continuum\\Anaconda3\\lib\\site-packages\\ipykernel\\__main__.py:6: UserWarning: Boolean Series key will be reindexed to match DataFrame index.\n"
     ]
    },
    {
     "data": {
      "text/html": [
       "<div>\n",
       "<table border=\"1\" class=\"dataframe\">\n",
       "  <thead>\n",
       "    <tr style=\"text-align: right;\">\n",
       "      <th></th>\n",
       "      <th>Diet</th>\n",
       "      <th>Size</th>\n",
       "      <th>Percent</th>\n",
       "    </tr>\n",
       "  </thead>\n",
       "  <tbody>\n",
       "    <tr>\n",
       "      <th>0</th>\n",
       "      <td>NonVegan</td>\n",
       "      <td>61868</td>\n",
       "      <td>0.401318</td>\n",
       "    </tr>\n",
       "    <tr>\n",
       "      <th>1</th>\n",
       "      <td>Vegan</td>\n",
       "      <td>49542</td>\n",
       "      <td>0.321363</td>\n",
       "    </tr>\n",
       "    <tr>\n",
       "      <th>2</th>\n",
       "      <td>Meat_Lovers</td>\n",
       "      <td>37813</td>\n",
       "      <td>0.245281</td>\n",
       "    </tr>\n",
       "    <tr>\n",
       "      <th>3</th>\n",
       "      <td>Pescatarian</td>\n",
       "      <td>4939</td>\n",
       "      <td>0.032038</td>\n",
       "    </tr>\n",
       "  </tbody>\n",
       "</table>\n",
       "</div>"
      ],
      "text/plain": [
       "          Diet   Size   Percent\n",
       "0     NonVegan  61868  0.401318\n",
       "1        Vegan  49542  0.321363\n",
       "2  Meat_Lovers  37813  0.245281\n",
       "3  Pescatarian   4939  0.032038"
      ]
     },
     "execution_count": 24,
     "metadata": {},
     "output_type": "execute_result"
    }
   ],
   "source": [
    "## Reclassification of Diets using E1 with 154162 total orders\n",
    "C_order1=Diet_Class_orders(E1)       # Diets are classified per order_id\n",
    "P_order1=Diet_Percentage(C_order1)   # This returns the percentage and a bar graph distribution of the different Diet Classification\n",
    "P_order1"
   ]
  },
  {
   "cell_type": "code",
   "execution_count": 25,
   "metadata": {
    "collapsed": false
   },
   "outputs": [
    {
     "name": "stderr",
     "output_type": "stream",
     "text": [
      "C:\\Users\\pamel\\AppData\\Local\\Continuum\\Anaconda3\\lib\\site-packages\\ipykernel\\__main__.py:6: UserWarning: Boolean Series key will be reindexed to match DataFrame index.\n"
     ]
    },
    {
     "data": {
      "text/html": [
       "<div>\n",
       "<table border=\"1\" class=\"dataframe\">\n",
       "  <thead>\n",
       "    <tr style=\"text-align: right;\">\n",
       "      <th></th>\n",
       "      <th>Diet</th>\n",
       "      <th>Size</th>\n",
       "      <th>Percent</th>\n",
       "    </tr>\n",
       "  </thead>\n",
       "  <tbody>\n",
       "    <tr>\n",
       "      <th>0</th>\n",
       "      <td>NonVegan</td>\n",
       "      <td>62354</td>\n",
       "      <td>0.398321</td>\n",
       "    </tr>\n",
       "    <tr>\n",
       "      <th>1</th>\n",
       "      <td>Vegan</td>\n",
       "      <td>49480</td>\n",
       "      <td>0.316081</td>\n",
       "    </tr>\n",
       "    <tr>\n",
       "      <th>2</th>\n",
       "      <td>Meat_Lovers</td>\n",
       "      <td>39572</td>\n",
       "      <td>0.252788</td>\n",
       "    </tr>\n",
       "    <tr>\n",
       "      <th>3</th>\n",
       "      <td>Pescatarian</td>\n",
       "      <td>5136</td>\n",
       "      <td>0.032809</td>\n",
       "    </tr>\n",
       "  </tbody>\n",
       "</table>\n",
       "</div>"
      ],
      "text/plain": [
       "          Diet   Size   Percent\n",
       "0     NonVegan  62354  0.398321\n",
       "1        Vegan  49480  0.316081\n",
       "2  Meat_Lovers  39572  0.252788\n",
       "3  Pescatarian   5136  0.032809"
      ]
     },
     "execution_count": 25,
     "metadata": {},
     "output_type": "execute_result"
    }
   ],
   "source": [
    "## Reclassification of Diets using E2 with 156542\n",
    "C_order2=Diet_Class_orders(E2)          # Diets are classified per order_id\n",
    "P_order2=Diet_Percentage(C_order2)      # This returns the percentage of the different Diet Classification\n",
    "P_order2"
   ]
  },
  {
   "cell_type": "code",
   "execution_count": 26,
   "metadata": {
    "collapsed": false
   },
   "outputs": [
    {
     "name": "stderr",
     "output_type": "stream",
     "text": [
      "C:\\Users\\pamel\\AppData\\Local\\Continuum\\Anaconda3\\lib\\site-packages\\ipykernel\\__main__.py:6: UserWarning: Boolean Series key will be reindexed to match DataFrame index.\n"
     ]
    },
    {
     "data": {
      "text/html": [
       "<div>\n",
       "<table border=\"1\" class=\"dataframe\">\n",
       "  <thead>\n",
       "    <tr style=\"text-align: right;\">\n",
       "      <th></th>\n",
       "      <th>Diet</th>\n",
       "      <th>Size</th>\n",
       "      <th>Percent</th>\n",
       "    </tr>\n",
       "  </thead>\n",
       "  <tbody>\n",
       "    <tr>\n",
       "      <th>0</th>\n",
       "      <td>NonVegan</td>\n",
       "      <td>63624</td>\n",
       "      <td>0.404260</td>\n",
       "    </tr>\n",
       "    <tr>\n",
       "      <th>1</th>\n",
       "      <td>Vegan</td>\n",
       "      <td>50124</td>\n",
       "      <td>0.318482</td>\n",
       "    </tr>\n",
       "    <tr>\n",
       "      <th>2</th>\n",
       "      <td>Meat_Lovers</td>\n",
       "      <td>38783</td>\n",
       "      <td>0.246423</td>\n",
       "    </tr>\n",
       "    <tr>\n",
       "      <th>3</th>\n",
       "      <td>Pescatarian</td>\n",
       "      <td>4853</td>\n",
       "      <td>0.030835</td>\n",
       "    </tr>\n",
       "  </tbody>\n",
       "</table>\n",
       "</div>"
      ],
      "text/plain": [
       "          Diet   Size   Percent\n",
       "0     NonVegan  63624  0.404260\n",
       "1        Vegan  50124  0.318482\n",
       "2  Meat_Lovers  38783  0.246423\n",
       "3  Pescatarian   4853  0.030835"
      ]
     },
     "execution_count": 26,
     "metadata": {},
     "output_type": "execute_result"
    }
   ],
   "source": [
    "## Reclassification of Diets using E3 with 157384 total orders\n",
    "C_order3=Diet_Class_orders(E3)          # Diets are classified per order_id\n",
    "P_order3=Diet_Percentage(C_order3)      # This returns the percentage of the different Diet Classification\n",
    "P_order3"
   ]
  },
  {
   "cell_type": "code",
   "execution_count": 27,
   "metadata": {
    "collapsed": false
   },
   "outputs": [
    {
     "data": {
      "text/plain": [
       "154162"
      ]
     },
     "execution_count": 27,
     "metadata": {},
     "output_type": "execute_result"
    }
   ],
   "source": [
    "E1.order_id.unique().size\n",
    "\n"
   ]
  },
  {
   "cell_type": "code",
   "execution_count": 28,
   "metadata": {
    "collapsed": false
   },
   "outputs": [
    {
     "data": {
      "text/html": [
       "<div>\n",
       "<table border=\"1\" class=\"dataframe\">\n",
       "  <thead>\n",
       "    <tr style=\"text-align: right;\">\n",
       "      <th></th>\n",
       "      <th>user_id</th>\n",
       "      <th>order_id</th>\n",
       "      <th>prod_per_order</th>\n",
       "    </tr>\n",
       "  </thead>\n",
       "  <tbody>\n",
       "    <tr>\n",
       "      <th>0</th>\n",
       "      <td>9380</td>\n",
       "      <td>3007210</td>\n",
       "      <td>24</td>\n",
       "    </tr>\n",
       "    <tr>\n",
       "      <th>24</th>\n",
       "      <td>9380</td>\n",
       "      <td>2242826</td>\n",
       "      <td>15</td>\n",
       "    </tr>\n",
       "    <tr>\n",
       "      <th>39</th>\n",
       "      <td>9380</td>\n",
       "      <td>728817</td>\n",
       "      <td>14</td>\n",
       "    </tr>\n",
       "    <tr>\n",
       "      <th>53</th>\n",
       "      <td>9380</td>\n",
       "      <td>18828</td>\n",
       "      <td>11</td>\n",
       "    </tr>\n",
       "    <tr>\n",
       "      <th>64</th>\n",
       "      <td>9380</td>\n",
       "      <td>380162</td>\n",
       "      <td>11</td>\n",
       "    </tr>\n",
       "  </tbody>\n",
       "</table>\n",
       "</div>"
      ],
      "text/plain": [
       "    user_id  order_id  prod_per_order\n",
       "0      9380   3007210              24\n",
       "24     9380   2242826              15\n",
       "39     9380    728817              14\n",
       "53     9380     18828              11\n",
       "64     9380    380162              11"
      ]
     },
     "execution_count": 28,
     "metadata": {},
     "output_type": "execute_result"
    }
   ],
   "source": [
    "G=E1.loc[:, ['user_id', 'order_id', 'prod_per_order']]\n",
    "G=G.drop_duplicates()\n",
    "G.head()\n"
   ]
  },
  {
   "cell_type": "markdown",
   "metadata": {},
   "source": [
    "## F6. This function generates simulated sample dataframe"
   ]
  },
  {
   "cell_type": "code",
   "execution_count": 29,
   "metadata": {
    "collapsed": false
   },
   "outputs": [],
   "source": [
    "def Simulated_sample(S):  # S isn an empirical sample generated dataframe (E1,E2, E3)\n",
    "    G=S.loc[:, ['user_id', 'order_id', 'prod_per_order']]\n",
    "    G=G.drop_duplicates()\n",
    "    \n",
    "    ## G.prod_per_order is turned into a list n.  n will be used on a loop to generate a simulated order dataframe\n",
    "    n=pd.Series.tolist(G.prod_per_order)\n",
    "\n",
    "    ## This will generate the simulated orders where aisle is randomly picked accoring to its calculated probability or percentage from aisle_percent dataframe\n",
    "    B=[]\n",
    "    for i in n:\n",
    "        Q=np.random.choice(a=aisle_percent.aisle_id, size=i, p=aisle_percent.aisle_percent)\n",
    "        Q=Q.tolist()\n",
    "        B.append(Q)\n",
    "    \n",
    "    ## The simulated list of randomly picked aisles \"B\" is turned into dataframe \n",
    "        \n",
    "    Sim1=pd.DataFrame(B).reset_index().stack()\n",
    "    Sim1=pd.DataFrame(Sim1).reset_index()\n",
    "    Sim1=Sim1.rename(columns={'level_0':'order_id', 'level_1':'product_num', 0:'aisle_id'})\n",
    "    Sim1=Sim1[Sim1['product_num']!='index']\n",
    "    Sim1['user_id']=S['user_id']\n",
    "    \n",
    "    return Sim1"
   ]
  },
  {
   "cell_type": "code",
   "execution_count": 30,
   "metadata": {
    "collapsed": false
   },
   "outputs": [],
   "source": [
    "## This is the first simulated Sample dataframe with randomly picked aisles\n",
    "Simu1= Simulated_sample(E1)"
   ]
  },
  {
   "cell_type": "code",
   "execution_count": 93,
   "metadata": {
    "collapsed": false
   },
   "outputs": [
    {
     "name": "stderr",
     "output_type": "stream",
     "text": [
      "C:\\Users\\pamel\\AppData\\Local\\Continuum\\Anaconda3\\lib\\site-packages\\ipykernel\\__main__.py:6: UserWarning: Boolean Series key will be reindexed to match DataFrame index.\n"
     ]
    },
    {
     "data": {
      "text/html": [
       "<div>\n",
       "<table border=\"1\" class=\"dataframe\">\n",
       "  <thead>\n",
       "    <tr style=\"text-align: right;\">\n",
       "      <th></th>\n",
       "      <th>Diet</th>\n",
       "      <th>Size</th>\n",
       "      <th>Percent</th>\n",
       "    </tr>\n",
       "  </thead>\n",
       "  <tbody>\n",
       "    <tr>\n",
       "      <th>0</th>\n",
       "      <td>NonVegan</td>\n",
       "      <td>65589</td>\n",
       "      <td>0.425455</td>\n",
       "    </tr>\n",
       "    <tr>\n",
       "      <th>1</th>\n",
       "      <td>Meat_Lovers</td>\n",
       "      <td>42454</td>\n",
       "      <td>0.275386</td>\n",
       "    </tr>\n",
       "    <tr>\n",
       "      <th>2</th>\n",
       "      <td>Vegan</td>\n",
       "      <td>40627</td>\n",
       "      <td>0.263534</td>\n",
       "    </tr>\n",
       "    <tr>\n",
       "      <th>3</th>\n",
       "      <td>Pescatarian</td>\n",
       "      <td>5492</td>\n",
       "      <td>0.035625</td>\n",
       "    </tr>\n",
       "  </tbody>\n",
       "</table>\n",
       "</div>"
      ],
      "text/plain": [
       "          Diet   Size   Percent\n",
       "0     NonVegan  65589  0.425455\n",
       "1  Meat_Lovers  42454  0.275386\n",
       "2        Vegan  40627  0.263534\n",
       "3  Pescatarian   5492  0.035625"
      ]
     },
     "execution_count": 93,
     "metadata": {},
     "output_type": "execute_result"
    }
   ],
   "source": [
    "Csim_or=Diet_Class_orders(Simu1)    #Each order is classified to a certain Diet\n",
    "Psim_or=Diet_Percentage(Csim_or)    #Percentage of each diet is calculated\n",
    "Psim_or\n"
   ]
  },
  {
   "cell_type": "code",
   "execution_count": 94,
   "metadata": {
    "collapsed": false
   },
   "outputs": [
    {
     "name": "stderr",
     "output_type": "stream",
     "text": [
      "C:\\Users\\pamel\\AppData\\Local\\Continuum\\Anaconda3\\lib\\site-packages\\ipykernel\\__main__.py:6: UserWarning: Boolean Series key will be reindexed to match DataFrame index.\n"
     ]
    },
    {
     "data": {
      "text/html": [
       "<div>\n",
       "<table border=\"1\" class=\"dataframe\">\n",
       "  <thead>\n",
       "    <tr style=\"text-align: right;\">\n",
       "      <th></th>\n",
       "      <th>Diet</th>\n",
       "      <th>Size</th>\n",
       "      <th>Percent</th>\n",
       "    </tr>\n",
       "  </thead>\n",
       "  <tbody>\n",
       "    <tr>\n",
       "      <th>0</th>\n",
       "      <td>Meat_Lovers</td>\n",
       "      <td>8208</td>\n",
       "      <td>0.820472</td>\n",
       "    </tr>\n",
       "    <tr>\n",
       "      <th>1</th>\n",
       "      <td>NonVegan</td>\n",
       "      <td>1350</td>\n",
       "      <td>0.134946</td>\n",
       "    </tr>\n",
       "    <tr>\n",
       "      <th>2</th>\n",
       "      <td>Pescatarian</td>\n",
       "      <td>262</td>\n",
       "      <td>0.026190</td>\n",
       "    </tr>\n",
       "    <tr>\n",
       "      <th>3</th>\n",
       "      <td>Vegan</td>\n",
       "      <td>184</td>\n",
       "      <td>0.018393</td>\n",
       "    </tr>\n",
       "  </tbody>\n",
       "</table>\n",
       "</div>"
      ],
      "text/plain": [
       "          Diet  Size   Percent\n",
       "0  Meat_Lovers  8208  0.820472\n",
       "1     NonVegan  1350  0.134946\n",
       "2  Pescatarian   262  0.026190\n",
       "3        Vegan   184  0.018393"
      ]
     },
     "execution_count": 94,
     "metadata": {},
     "output_type": "execute_result"
    }
   ],
   "source": [
    "Csim_us=Diet_Class_user(Simu1)    ## Each user is classified to a certain Diet\n",
    "Psim_us=Diet_Percentage(Csim_us) ## Percentage of each diet calculated\n",
    "Psim_us"
   ]
  },
  {
   "cell_type": "markdown",
   "metadata": {},
   "source": [
    "## F7. This function will merge two dataframes from two group of proportions being compared "
   ]
  },
  {
   "cell_type": "code",
   "execution_count": 106,
   "metadata": {
    "collapsed": true
   },
   "outputs": [],
   "source": [
    "## This function will merge two dataframes from two group of proportions being compared \n",
    "def df_prop_compare(M, N):    ## M and N are dataframes with Diet classification with Size and Percent\n",
    "    M.columns=['Diet', 'Size1', 'Percent1']\n",
    "    N.columns=['Diet', 'Size2', 'Percent2']\n",
    "    MN=M.merge(N)\n",
    "    return MN"
   ]
  },
  {
   "cell_type": "code",
   "execution_count": 107,
   "metadata": {
    "collapsed": false
   },
   "outputs": [
    {
     "data": {
      "text/html": [
       "<div>\n",
       "<table border=\"1\" class=\"dataframe\">\n",
       "  <thead>\n",
       "    <tr style=\"text-align: right;\">\n",
       "      <th></th>\n",
       "      <th>Diet</th>\n",
       "      <th>Size1</th>\n",
       "      <th>Percent1</th>\n",
       "      <th>Size2</th>\n",
       "      <th>Percent2</th>\n",
       "    </tr>\n",
       "  </thead>\n",
       "  <tbody>\n",
       "    <tr>\n",
       "      <th>0</th>\n",
       "      <td>Meat_Lovers</td>\n",
       "      <td>6426</td>\n",
       "      <td>0.6426</td>\n",
       "      <td>37813</td>\n",
       "      <td>0.245281</td>\n",
       "    </tr>\n",
       "    <tr>\n",
       "      <th>1</th>\n",
       "      <td>NonVegan</td>\n",
       "      <td>2336</td>\n",
       "      <td>0.2336</td>\n",
       "      <td>61868</td>\n",
       "      <td>0.401318</td>\n",
       "    </tr>\n",
       "    <tr>\n",
       "      <th>2</th>\n",
       "      <td>Vegan</td>\n",
       "      <td>774</td>\n",
       "      <td>0.0774</td>\n",
       "      <td>49542</td>\n",
       "      <td>0.321363</td>\n",
       "    </tr>\n",
       "    <tr>\n",
       "      <th>3</th>\n",
       "      <td>Pescatarian</td>\n",
       "      <td>464</td>\n",
       "      <td>0.0464</td>\n",
       "      <td>4939</td>\n",
       "      <td>0.032038</td>\n",
       "    </tr>\n",
       "  </tbody>\n",
       "</table>\n",
       "</div>"
      ],
      "text/plain": [
       "          Diet  Size1  Percent1  Size2  Percent2\n",
       "0  Meat_Lovers   6426    0.6426  37813  0.245281\n",
       "1     NonVegan   2336    0.2336  61868  0.401318\n",
       "2        Vegan    774    0.0774  49542  0.321363\n",
       "3  Pescatarian    464    0.0464   4939  0.032038"
      ]
     },
     "execution_count": 107,
     "metadata": {},
     "output_type": "execute_result"
    }
   ],
   "source": [
    "## User_Order_Emp is the dataframe with Sizes and Percentages of Diets classifications from all \"users\" and \"orders\"\n",
    "User_Order_Emp=df_prop_compare(P1, P_order1)\n",
    "User_Order_Emp"
   ]
  },
  {
   "cell_type": "markdown",
   "metadata": {},
   "source": [
    "## Hypothesis Testing Part1"
   ]
  },
  {
   "cell_type": "markdown",
   "metadata": {},
   "source": [
    "Ho: There is no significant difference in classifying Diets between using \"users overall orders\" and using \"individual orders disregarding who ordered it\"\n",
    "\n",
    "H1:There is significant difference in classifying Diets between using \"users overall orders\" and using \"individual orders disregarding who ordered it\"   "
   ]
  },
  {
   "cell_type": "markdown",
   "metadata": {},
   "source": [
    "##  F8. This function calculates variance, standard deviation, difference in proportion, MOE, degrees of freedom, t_value and p_value "
   ]
  },
  {
   "cell_type": "code",
   "execution_count": 75,
   "metadata": {
    "collapsed": false
   },
   "outputs": [],
   "source": [
    "def diff_std_p_val(W):    ## W is a dataframe with the Diet classification Sizes and Percentages of 2 groups being compared\n",
    "    W['var_1']=W.Percent1*(1-W.Percent1)/W.Size1\n",
    "    W['var_2']=W.Percent2*(1-W.Percent2)/W.Size2\n",
    "    W['var1_2']=W.var_1+W.var_2\n",
    "    W['std_var1_2']=  W.var1_2**0.5             ## a.k.a. standard error\n",
    "\n",
    "    W['%_diff']=abs(W.Percent1-W.Percent2)      ## absolute difference between two proportions\n",
    "\n",
    "    W['moe']=1.96*W.std_var1_2                   ## margin of error\n",
    "\n",
    "    W['DF']= ((W.var_1/W.Size1 +W.var_2/W.Size2)**2)/(((W.var_1/W.Size1)**2/W.Size1)+((W.var_2/W.Size2)**2/W.Size2))  ## degrees of freedom\n",
    "\n",
    "    W['t_val']=(W['%_diff']-0)/W.std_var1_2\n",
    "\n",
    "    W['p_val']=stats.t.sf(np.abs(W.t_val), W.DF)*2  # two-sided pvalue = Prob(abs(t)>tt)\n",
    "\n",
    "    return W   "
   ]
  },
  {
   "cell_type": "code",
   "execution_count": 92,
   "metadata": {
    "collapsed": false
   },
   "outputs": [
    {
     "data": {
      "text/html": [
       "<div>\n",
       "<table border=\"1\" class=\"dataframe\">\n",
       "  <thead>\n",
       "    <tr style=\"text-align: right;\">\n",
       "      <th></th>\n",
       "      <th>Diet</th>\n",
       "      <th>p_val</th>\n",
       "    </tr>\n",
       "  </thead>\n",
       "  <tbody>\n",
       "    <tr>\n",
       "      <th>0</th>\n",
       "      <td>Meat_Lovers</td>\n",
       "      <td>0.000000e+00</td>\n",
       "    </tr>\n",
       "    <tr>\n",
       "      <th>1</th>\n",
       "      <td>NonVegan</td>\n",
       "      <td>8.871788e-73</td>\n",
       "    </tr>\n",
       "    <tr>\n",
       "      <th>2</th>\n",
       "      <td>Vegan</td>\n",
       "      <td>1.682779e-100</td>\n",
       "    </tr>\n",
       "    <tr>\n",
       "      <th>3</th>\n",
       "      <td>Pescatarian</td>\n",
       "      <td>1.549365e-01</td>\n",
       "    </tr>\n",
       "  </tbody>\n",
       "</table>\n",
       "</div>"
      ],
      "text/plain": [
       "          Diet          p_val\n",
       "0  Meat_Lovers   0.000000e+00\n",
       "1     NonVegan   8.871788e-73\n",
       "2        Vegan  1.682779e-100\n",
       "3  Pescatarian   1.549365e-01"
      ]
     },
     "execution_count": 92,
     "metadata": {},
     "output_type": "execute_result"
    }
   ],
   "source": [
    "## pvalues of Diets % difference between using \"users overall orders\" and using \"individual orders disregarding who ordered \n",
    "Use_Or=diff_std_p_val(User_Order_Emp)\n",
    "Use_Or.loc[:, ['Diet', 'p_val']]"
   ]
  },
  {
   "cell_type": "markdown",
   "metadata": {},
   "source": [
    "## Hypothesis Testing Part 2"
   ]
  },
  {
   "cell_type": "markdown",
   "metadata": {},
   "source": [
    "II\n",
    "Ho: There is no significant difference Diet distribution between users using Empirical Sample and Simulated Sample\n",
    "\n",
    "H1: There is significant difference Diet distribution between users using Empirical Sample and Simulated Sample"
   ]
  },
  {
   "cell_type": "code",
   "execution_count": 108,
   "metadata": {
    "collapsed": false
   },
   "outputs": [
    {
     "data": {
      "text/html": [
       "<div>\n",
       "<table border=\"1\" class=\"dataframe\">\n",
       "  <thead>\n",
       "    <tr style=\"text-align: right;\">\n",
       "      <th></th>\n",
       "      <th>Diet</th>\n",
       "      <th>Size1</th>\n",
       "      <th>Percent1</th>\n",
       "      <th>Size2</th>\n",
       "      <th>Percent2</th>\n",
       "    </tr>\n",
       "  </thead>\n",
       "  <tbody>\n",
       "    <tr>\n",
       "      <th>0</th>\n",
       "      <td>Meat_Lovers</td>\n",
       "      <td>6426</td>\n",
       "      <td>0.6426</td>\n",
       "      <td>8208</td>\n",
       "      <td>0.820472</td>\n",
       "    </tr>\n",
       "    <tr>\n",
       "      <th>1</th>\n",
       "      <td>NonVegan</td>\n",
       "      <td>2336</td>\n",
       "      <td>0.2336</td>\n",
       "      <td>1350</td>\n",
       "      <td>0.134946</td>\n",
       "    </tr>\n",
       "    <tr>\n",
       "      <th>2</th>\n",
       "      <td>Vegan</td>\n",
       "      <td>774</td>\n",
       "      <td>0.0774</td>\n",
       "      <td>184</td>\n",
       "      <td>0.018393</td>\n",
       "    </tr>\n",
       "    <tr>\n",
       "      <th>3</th>\n",
       "      <td>Pescatarian</td>\n",
       "      <td>464</td>\n",
       "      <td>0.0464</td>\n",
       "      <td>262</td>\n",
       "      <td>0.026190</td>\n",
       "    </tr>\n",
       "  </tbody>\n",
       "</table>\n",
       "</div>"
      ],
      "text/plain": [
       "          Diet  Size1  Percent1  Size2  Percent2\n",
       "0  Meat_Lovers   6426    0.6426   8208  0.820472\n",
       "1     NonVegan   2336    0.2336   1350  0.134946\n",
       "2        Vegan    774    0.0774    184  0.018393\n",
       "3  Pescatarian    464    0.0464    262  0.026190"
      ]
     },
     "execution_count": 108,
     "metadata": {},
     "output_type": "execute_result"
    }
   ],
   "source": [
    "## Sim_Emp_User is the dataframe comparing % of empirical sample and simulated sample both classified using user overall orders\n",
    "Sim_Emp_User=df_prop_compare(P1, Psim_us)\n",
    "Sim_Emp_User"
   ]
  },
  {
   "cell_type": "code",
   "execution_count": 109,
   "metadata": {
    "collapsed": false
   },
   "outputs": [
    {
     "data": {
      "text/html": [
       "<div>\n",
       "<table border=\"1\" class=\"dataframe\">\n",
       "  <thead>\n",
       "    <tr style=\"text-align: right;\">\n",
       "      <th></th>\n",
       "      <th>Diet</th>\n",
       "      <th>p_val</th>\n",
       "    </tr>\n",
       "  </thead>\n",
       "  <tbody>\n",
       "    <tr>\n",
       "      <th>0</th>\n",
       "      <td>Meat_Lovers</td>\n",
       "      <td>6.774217e-127</td>\n",
       "    </tr>\n",
       "    <tr>\n",
       "      <th>1</th>\n",
       "      <td>NonVegan</td>\n",
       "      <td>1.574062e-14</td>\n",
       "    </tr>\n",
       "    <tr>\n",
       "      <th>2</th>\n",
       "      <td>Vegan</td>\n",
       "      <td>2.629553e-05</td>\n",
       "    </tr>\n",
       "    <tr>\n",
       "      <th>3</th>\n",
       "      <td>Pescatarian</td>\n",
       "      <td>1.460009e-01</td>\n",
       "    </tr>\n",
       "  </tbody>\n",
       "</table>\n",
       "</div>"
      ],
      "text/plain": [
       "          Diet          p_val\n",
       "0  Meat_Lovers  6.774217e-127\n",
       "1     NonVegan   1.574062e-14\n",
       "2        Vegan   2.629553e-05\n",
       "3  Pescatarian   1.460009e-01"
      ]
     },
     "execution_count": 109,
     "metadata": {},
     "output_type": "execute_result"
    }
   ],
   "source": [
    "##Sim_Emp is a dataframe with calculated standard deviation, moe, degrees of freedom, t_values and p_values\n",
    "Sim_Emp=diff_std_p_val(Sim_Emp_User)\n",
    "Sim_Emp.loc[:, ['Diet', 'p_val']]"
   ]
  },
  {
   "cell_type": "markdown",
   "metadata": {},
   "source": [
    "## All p_values <0.05,  we can reject the null hypothesis and accept H1.  So Yes there is significant difference in Diet distribution between those calculated using Empirical Sample and Simulated Sample "
   ]
  }
 ],
 "metadata": {
  "kernelspec": {
   "display_name": "Python 3",
   "language": "python",
   "name": "python3"
  },
  "language_info": {
   "codemirror_mode": {
    "name": "ipython",
    "version": 3
   },
   "file_extension": ".py",
   "mimetype": "text/x-python",
   "name": "python",
   "nbconvert_exporter": "python",
   "pygments_lexer": "ipython3",
   "version": "3.6.0"
  }
 },
 "nbformat": 4,
 "nbformat_minor": 2
}
