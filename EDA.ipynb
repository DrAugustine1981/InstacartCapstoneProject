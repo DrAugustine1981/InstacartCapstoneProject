{
 "cells": [
  {
   "cell_type": "markdown",
   "metadata": {},
   "source": [
    "## Instacart Capstone Project\n",
    "\n",
    "#### QUESTIONS TO ANSWER USING THE DATA\n",
    "1.\tHow many products?\n",
    "2.\tHow many aisles?\n",
    "3.\tHow many department?\n",
    "4.\tHow many customers?\n",
    "5.\tHow many total orders?\n",
    "6.\tAre there missing data? What type of missing data?\n",
    "7.\tWhen are the peak hours (orders>100,000)? When is the orders highest and lowest?\n",
    "8.\tWhat day of the week has the highest and lowest order volume?\n",
    "9.\tWhat is the probability of each product being ordered?\n",
    "10.\tWhat is the probability of each department being ordered from?\n",
    "11.\tWhat is the probability of each aisle being ordered from?\n",
    "12.\tCan I identify meat eaters, vegetarian, vegan their percentage in the entire customer list?\n",
    "13.\tWhat is the probability of customers being meat eater, vegetarian or vegan\n",
    "14.\tFrom what aisle will vegan usually get from?\n",
    "15.\tWhat products appear in all customer A orders? – These products will have high probability being reordered by customer A\n",
    "16.\tHow many orders for each customer?\n",
    "17.\tWhat is the average number of products for across all orders for each customer?\n",
    "18.\tCan I Identify if the customer is a daily, weekly, bimonthly or monthly buyer?\n",
    "19.\tWhat is the probability that customer is daily, weekly, bimonthly or monthly buyer\n",
    "20.\tIs there a pattern of what day customer buy from Instacart?\n",
    "21.\tUsing average number of product per order for each customer, and probability of product to be reordered by customer, can I predict products that will be reordered by customer?\n",
    "22.\tCan I predict the right which of the predicted products to reorder will be added to cart from 1st to last?\n"
   ]
  },
  {
   "cell_type": "code",
   "execution_count": 2,
   "metadata": {
    "collapsed": false
   },
   "outputs": [],
   "source": [
    "import pandas as pd\n",
    "import matplotlib.pyplot as plt\n",
    "import numpy as np\n",
    "% matplotlib inline"
   ]
  },
  {
   "cell_type": "markdown",
   "metadata": {},
   "source": [
    "## Q1. How many products (49,688 total products)"
   ]
  },
  {
   "cell_type": "code",
   "execution_count": 3,
   "metadata": {
    "collapsed": false
   },
   "outputs": [
    {
     "data": {
      "text/html": [
       "<div>\n",
       "<table border=\"1\" class=\"dataframe\">\n",
       "  <thead>\n",
       "    <tr style=\"text-align: right;\">\n",
       "      <th></th>\n",
       "      <th>product_id</th>\n",
       "      <th>product_name</th>\n",
       "      <th>aisle_id</th>\n",
       "      <th>department_id</th>\n",
       "    </tr>\n",
       "  </thead>\n",
       "  <tbody>\n",
       "    <tr>\n",
       "      <th>0</th>\n",
       "      <td>1</td>\n",
       "      <td>Chocolate Sandwich Cookies</td>\n",
       "      <td>61</td>\n",
       "      <td>19</td>\n",
       "    </tr>\n",
       "    <tr>\n",
       "      <th>1</th>\n",
       "      <td>2</td>\n",
       "      <td>All-Seasons Salt</td>\n",
       "      <td>104</td>\n",
       "      <td>13</td>\n",
       "    </tr>\n",
       "    <tr>\n",
       "      <th>2</th>\n",
       "      <td>3</td>\n",
       "      <td>Robust Golden Unsweetened Oolong Tea</td>\n",
       "      <td>94</td>\n",
       "      <td>7</td>\n",
       "    </tr>\n",
       "    <tr>\n",
       "      <th>3</th>\n",
       "      <td>4</td>\n",
       "      <td>Smart Ones Classic Favorites Mini Rigatoni Wit...</td>\n",
       "      <td>38</td>\n",
       "      <td>1</td>\n",
       "    </tr>\n",
       "    <tr>\n",
       "      <th>4</th>\n",
       "      <td>5</td>\n",
       "      <td>Green Chile Anytime Sauce</td>\n",
       "      <td>5</td>\n",
       "      <td>13</td>\n",
       "    </tr>\n",
       "  </tbody>\n",
       "</table>\n",
       "</div>"
      ],
      "text/plain": [
       "   product_id                                       product_name  aisle_id  \\\n",
       "0           1                         Chocolate Sandwich Cookies        61   \n",
       "1           2                                   All-Seasons Salt       104   \n",
       "2           3               Robust Golden Unsweetened Oolong Tea        94   \n",
       "3           4  Smart Ones Classic Favorites Mini Rigatoni Wit...        38   \n",
       "4           5                          Green Chile Anytime Sauce         5   \n",
       "\n",
       "   department_id  \n",
       "0             19  \n",
       "1             13  \n",
       "2              7  \n",
       "3              1  \n",
       "4             13  "
      ]
     },
     "execution_count": 3,
     "metadata": {},
     "output_type": "execute_result"
    }
   ],
   "source": [
    "prod=pd.read_csv('products.csv')\n",
    "prod.head()\n",
    "prodnum=prod.product_id.size     #number of products available\n",
    "prod.head()"
   ]
  },
  {
   "cell_type": "code",
   "execution_count": 4,
   "metadata": {
    "collapsed": false
   },
   "outputs": [
    {
     "data": {
      "text/plain": [
       "49688"
      ]
     },
     "execution_count": 4,
     "metadata": {},
     "output_type": "execute_result"
    }
   ],
   "source": [
    "prodnum"
   ]
  },
  {
   "cell_type": "code",
   "execution_count": 5,
   "metadata": {
    "collapsed": false
   },
   "outputs": [
    {
     "data": {
      "text/plain": [
       "product_id       0\n",
       "product_name     0\n",
       "aisle_id         0\n",
       "department_id    0\n",
       "dtype: int64"
      ]
     },
     "execution_count": 5,
     "metadata": {},
     "output_type": "execute_result"
    }
   ],
   "source": [
    "prod.isnull().sum()"
   ]
  },
  {
   "cell_type": "markdown",
   "metadata": {},
   "source": [
    "## Q2. How many aisles? (134 total aisles)"
   ]
  },
  {
   "cell_type": "code",
   "execution_count": 6,
   "metadata": {
    "collapsed": false
   },
   "outputs": [
    {
     "data": {
      "text/html": [
       "<div>\n",
       "<table border=\"1\" class=\"dataframe\">\n",
       "  <thead>\n",
       "    <tr style=\"text-align: right;\">\n",
       "      <th></th>\n",
       "      <th>aisle_id</th>\n",
       "      <th>aisle</th>\n",
       "    </tr>\n",
       "  </thead>\n",
       "  <tbody>\n",
       "    <tr>\n",
       "      <th>0</th>\n",
       "      <td>1</td>\n",
       "      <td>prepared soups salads</td>\n",
       "    </tr>\n",
       "    <tr>\n",
       "      <th>1</th>\n",
       "      <td>2</td>\n",
       "      <td>specialty cheeses</td>\n",
       "    </tr>\n",
       "    <tr>\n",
       "      <th>2</th>\n",
       "      <td>3</td>\n",
       "      <td>energy granola bars</td>\n",
       "    </tr>\n",
       "    <tr>\n",
       "      <th>3</th>\n",
       "      <td>4</td>\n",
       "      <td>instant foods</td>\n",
       "    </tr>\n",
       "    <tr>\n",
       "      <th>4</th>\n",
       "      <td>5</td>\n",
       "      <td>marinades meat preparation</td>\n",
       "    </tr>\n",
       "  </tbody>\n",
       "</table>\n",
       "</div>"
      ],
      "text/plain": [
       "   aisle_id                       aisle\n",
       "0         1       prepared soups salads\n",
       "1         2           specialty cheeses\n",
       "2         3         energy granola bars\n",
       "3         4               instant foods\n",
       "4         5  marinades meat preparation"
      ]
     },
     "execution_count": 6,
     "metadata": {},
     "output_type": "execute_result"
    }
   ],
   "source": [
    "aisles=pd.read_csv('aisles.csv')\n",
    "aisles.head()"
   ]
  },
  {
   "cell_type": "code",
   "execution_count": 7,
   "metadata": {
    "collapsed": false
   },
   "outputs": [
    {
     "data": {
      "text/plain": [
       "aisle_id    0\n",
       "aisle       0\n",
       "dtype: int64"
      ]
     },
     "execution_count": 7,
     "metadata": {},
     "output_type": "execute_result"
    }
   ],
   "source": [
    "aisles.isnull().sum()"
   ]
  },
  {
   "cell_type": "code",
   "execution_count": 8,
   "metadata": {
    "collapsed": false
   },
   "outputs": [
    {
     "data": {
      "text/plain": [
       "134"
      ]
     },
     "execution_count": 8,
     "metadata": {},
     "output_type": "execute_result"
    }
   ],
   "source": [
    "aisles.aisle.size"
   ]
  },
  {
   "cell_type": "markdown",
   "metadata": {},
   "source": [
    "## Q3. How many departments?  (There are 21 Departments )"
   ]
  },
  {
   "cell_type": "code",
   "execution_count": 9,
   "metadata": {
    "collapsed": false
   },
   "outputs": [
    {
     "data": {
      "text/html": [
       "<div>\n",
       "<table border=\"1\" class=\"dataframe\">\n",
       "  <thead>\n",
       "    <tr style=\"text-align: right;\">\n",
       "      <th></th>\n",
       "      <th>department_id</th>\n",
       "      <th>department</th>\n",
       "    </tr>\n",
       "  </thead>\n",
       "  <tbody>\n",
       "    <tr>\n",
       "      <th>0</th>\n",
       "      <td>1</td>\n",
       "      <td>frozen</td>\n",
       "    </tr>\n",
       "    <tr>\n",
       "      <th>1</th>\n",
       "      <td>2</td>\n",
       "      <td>other</td>\n",
       "    </tr>\n",
       "    <tr>\n",
       "      <th>2</th>\n",
       "      <td>3</td>\n",
       "      <td>bakery</td>\n",
       "    </tr>\n",
       "    <tr>\n",
       "      <th>3</th>\n",
       "      <td>4</td>\n",
       "      <td>produce</td>\n",
       "    </tr>\n",
       "    <tr>\n",
       "      <th>4</th>\n",
       "      <td>5</td>\n",
       "      <td>alcohol</td>\n",
       "    </tr>\n",
       "  </tbody>\n",
       "</table>\n",
       "</div>"
      ],
      "text/plain": [
       "   department_id department\n",
       "0              1     frozen\n",
       "1              2      other\n",
       "2              3     bakery\n",
       "3              4    produce\n",
       "4              5    alcohol"
      ]
     },
     "execution_count": 9,
     "metadata": {},
     "output_type": "execute_result"
    }
   ],
   "source": [
    "dep=pd.read_csv('departments.csv')     \n",
    "dep.head()\n"
   ]
  },
  {
   "cell_type": "code",
   "execution_count": 10,
   "metadata": {
    "collapsed": false
   },
   "outputs": [
    {
     "data": {
      "text/plain": [
       "21"
      ]
     },
     "execution_count": 10,
     "metadata": {},
     "output_type": "execute_result"
    }
   ],
   "source": [
    "depnum=dep.department_id.max()         # number of departments\n",
    "depnum"
   ]
  },
  {
   "cell_type": "code",
   "execution_count": 11,
   "metadata": {
    "collapsed": false
   },
   "outputs": [
    {
     "data": {
      "text/plain": [
       "department_id    0\n",
       "department       0\n",
       "dtype: int64"
      ]
     },
     "execution_count": 11,
     "metadata": {},
     "output_type": "execute_result"
    }
   ],
   "source": [
    "dep.isnull().sum()                    #no missing values"
   ]
  },
  {
   "cell_type": "markdown",
   "metadata": {},
   "source": [
    "## Q4. How many customers (There are 206, 209 user_ids)\n"
   ]
  },
  {
   "cell_type": "code",
   "execution_count": 12,
   "metadata": {
    "collapsed": false
   },
   "outputs": [
    {
     "data": {
      "text/html": [
       "<div>\n",
       "<table border=\"1\" class=\"dataframe\">\n",
       "  <thead>\n",
       "    <tr style=\"text-align: right;\">\n",
       "      <th></th>\n",
       "      <th>order_id</th>\n",
       "      <th>user_id</th>\n",
       "      <th>eval_set</th>\n",
       "      <th>order_number</th>\n",
       "      <th>order_dow</th>\n",
       "      <th>order_hour_of_day</th>\n",
       "      <th>days_since_prior_order</th>\n",
       "    </tr>\n",
       "  </thead>\n",
       "  <tbody>\n",
       "    <tr>\n",
       "      <th>0</th>\n",
       "      <td>2539329</td>\n",
       "      <td>1</td>\n",
       "      <td>prior</td>\n",
       "      <td>1</td>\n",
       "      <td>2</td>\n",
       "      <td>8</td>\n",
       "      <td>NaN</td>\n",
       "    </tr>\n",
       "    <tr>\n",
       "      <th>1</th>\n",
       "      <td>2398795</td>\n",
       "      <td>1</td>\n",
       "      <td>prior</td>\n",
       "      <td>2</td>\n",
       "      <td>3</td>\n",
       "      <td>7</td>\n",
       "      <td>15.0</td>\n",
       "    </tr>\n",
       "    <tr>\n",
       "      <th>2</th>\n",
       "      <td>473747</td>\n",
       "      <td>1</td>\n",
       "      <td>prior</td>\n",
       "      <td>3</td>\n",
       "      <td>3</td>\n",
       "      <td>12</td>\n",
       "      <td>21.0</td>\n",
       "    </tr>\n",
       "    <tr>\n",
       "      <th>3</th>\n",
       "      <td>2254736</td>\n",
       "      <td>1</td>\n",
       "      <td>prior</td>\n",
       "      <td>4</td>\n",
       "      <td>4</td>\n",
       "      <td>7</td>\n",
       "      <td>29.0</td>\n",
       "    </tr>\n",
       "    <tr>\n",
       "      <th>4</th>\n",
       "      <td>431534</td>\n",
       "      <td>1</td>\n",
       "      <td>prior</td>\n",
       "      <td>5</td>\n",
       "      <td>4</td>\n",
       "      <td>15</td>\n",
       "      <td>28.0</td>\n",
       "    </tr>\n",
       "  </tbody>\n",
       "</table>\n",
       "</div>"
      ],
      "text/plain": [
       "   order_id  user_id eval_set  order_number  order_dow  order_hour_of_day  \\\n",
       "0   2539329        1    prior             1          2                  8   \n",
       "1   2398795        1    prior             2          3                  7   \n",
       "2    473747        1    prior             3          3                 12   \n",
       "3   2254736        1    prior             4          4                  7   \n",
       "4    431534        1    prior             5          4                 15   \n",
       "\n",
       "   days_since_prior_order  \n",
       "0                     NaN  \n",
       "1                    15.0  \n",
       "2                    21.0  \n",
       "3                    29.0  \n",
       "4                    28.0  "
      ]
     },
     "execution_count": 12,
     "metadata": {},
     "output_type": "execute_result"
    }
   ],
   "source": [
    "orders=pd.read_csv('orders.csv')\n",
    "orders.head()    #order_dow days of the week"
   ]
  },
  {
   "cell_type": "code",
   "execution_count": 13,
   "metadata": {
    "collapsed": false
   },
   "outputs": [
    {
     "data": {
      "text/plain": [
       "206209"
      ]
     },
     "execution_count": 13,
     "metadata": {},
     "output_type": "execute_result"
    }
   ],
   "source": [
    "useruniq=orders.user_id.unique()\n",
    "useruniq.size"
   ]
  },
  {
   "cell_type": "markdown",
   "metadata": {},
   "source": [
    "## Q5. How many total orders (There are 3, 421, 083 orders)\n"
   ]
  },
  {
   "cell_type": "code",
   "execution_count": 14,
   "metadata": {
    "collapsed": false
   },
   "outputs": [
    {
     "data": {
      "text/plain": [
       "3421083"
      ]
     },
     "execution_count": 14,
     "metadata": {},
     "output_type": "execute_result"
    }
   ],
   "source": [
    "orders.order_id.count()  "
   ]
  },
  {
   "cell_type": "code",
   "execution_count": 15,
   "metadata": {
    "collapsed": false
   },
   "outputs": [
    {
     "data": {
      "text/plain": [
       "100"
      ]
     },
     "execution_count": 15,
     "metadata": {},
     "output_type": "execute_result"
    }
   ],
   "source": [
    "ornumunique=orders.order_number.unique()\n",
    "ornumunique.size"
   ]
  },
  {
   "cell_type": "markdown",
   "metadata": {},
   "source": [
    "## There are 3 eval_set (prior, train, test) in the ORDERS data frame\n",
    "Prior Set= 3,214,874 data,  Train Set = 131, 209 data, Test Set =75,000 data"
   ]
  },
  {
   "cell_type": "code",
   "execution_count": 16,
   "metadata": {
    "collapsed": false
   },
   "outputs": [
    {
     "data": {
      "text/plain": [
       "prior    3214874\n",
       "train     131209\n",
       "test       75000\n",
       "Name: eval_set, dtype: int64"
      ]
     },
     "execution_count": 16,
     "metadata": {},
     "output_type": "execute_result"
    }
   ],
   "source": [
    "orders.eval_set.value_counts()"
   ]
  },
  {
   "cell_type": "markdown",
   "metadata": {},
   "source": [
    "## Q6. Are there missing data? \n",
    "### (Yes only in \"orders\" DF. MAR type - 206, 209 \"NaN\" in days_since_prior_order are the first time the 206,209 user's first order.)"
   ]
  },
  {
   "cell_type": "code",
   "execution_count": 17,
   "metadata": {
    "collapsed": false
   },
   "outputs": [
    {
     "data": {
      "text/plain": [
       "order_id                       0\n",
       "user_id                        0\n",
       "eval_set                       0\n",
       "order_number                   0\n",
       "order_dow                      0\n",
       "order_hour_of_day              0\n",
       "days_since_prior_order    206209\n",
       "dtype: int64"
      ]
     },
     "execution_count": 17,
     "metadata": {},
     "output_type": "execute_result"
    }
   ],
   "source": [
    "orders.isnull().sum()      #missing values in days_since_prior_order = users first order in INSTACART"
   ]
  },
  {
   "cell_type": "markdown",
   "metadata": {},
   "source": [
    "## Q7. When are peak hours when order>100,000? (8am to 10pm)\n",
    "\n",
    "### When are orders highest and lowest? (lowest at 3am and highest at 10am)"
   ]
  },
  {
   "cell_type": "code",
   "execution_count": 18,
   "metadata": {
    "collapsed": false
   },
   "outputs": [
    {
     "data": {
      "text/plain": [
       "<matplotlib.text.Text at 0x1540037c8d0>"
      ]
     },
     "execution_count": 18,
     "metadata": {},
     "output_type": "execute_result"
    },
    {
     "data": {
      "image/png": "[encoded data removed]",
      "text/plain": [
       "<matplotlib.figure.Figure at 0x1546825a7b8>"
      ]
     },
     "metadata": {},
     "output_type": "display_data"
    }
   ],
   "source": [
    "hourdist=orders['order_hour_of_day'].value_counts().sort_index()\n",
    "hourdist.plot(kind='bar')\n",
    "_=plt.xlabel('hour of the day')\n",
    "_=plt.ylabel('order volume')\n",
    "_=plt.xticks([0,1,2,3,4,5,6,7,8,9,10,11,12,13,14,15,16,17,18,19,20,21,22,23])\n",
    "plt.title('Daily Order Volume')"
   ]
  },
  {
   "cell_type": "code",
   "execution_count": 19,
   "metadata": {
    "collapsed": false
   },
   "outputs": [
    {
     "data": {
      "text/plain": [
       "8     178201\n",
       "9     257812\n",
       "10    288418\n",
       "11    284728\n",
       "12    272841\n",
       "13    277999\n",
       "14    283042\n",
       "15    283639\n",
       "16    272553\n",
       "17    228795\n",
       "18    182912\n",
       "19    140569\n",
       "20    104292\n",
       "Name: order_hour_of_day, dtype: int64"
      ]
     },
     "execution_count": 19,
     "metadata": {},
     "output_type": "execute_result"
    }
   ],
   "source": [
    "## These are the peak hours (8-20 orders are over 100,000)\n",
    "hourdist[hourdist>100000]"
   ]
  },
  {
   "cell_type": "code",
   "execution_count": 20,
   "metadata": {
    "collapsed": false
   },
   "outputs": [
    {
     "data": {
      "text/plain": [
       "10"
      ]
     },
     "execution_count": 20,
     "metadata": {},
     "output_type": "execute_result"
    }
   ],
   "source": [
    "hourdist.idxmax()"
   ]
  },
  {
   "cell_type": "code",
   "execution_count": 21,
   "metadata": {
    "collapsed": false
   },
   "outputs": [
    {
     "data": {
      "text/plain": [
       "3"
      ]
     },
     "execution_count": 21,
     "metadata": {},
     "output_type": "execute_result"
    }
   ],
   "source": [
    "hourdist.idxmin()"
   ]
  },
  {
   "cell_type": "markdown",
   "metadata": {},
   "source": [
    "## Q8. What day of the week is order volume higest and lowest?                                                    \n",
    "\n",
    "## (Order Volume is highest on Mondays and lowest on Fridays)"
   ]
  },
  {
   "cell_type": "code",
   "execution_count": 22,
   "metadata": {
    "collapsed": true
   },
   "outputs": [],
   "source": [
    "orday=orders.order_dow.value_counts()"
   ]
  },
  {
   "cell_type": "code",
   "execution_count": 23,
   "metadata": {
    "collapsed": false
   },
   "outputs": [
    {
     "data": {
      "text/plain": [
       "<matplotlib.text.Text at 0x15400503048>"
      ]
     },
     "execution_count": 23,
     "metadata": {},
     "output_type": "execute_result"
    },
    {
     "data": {
      "image/png": "[encoded data removed]",
      "text/plain": [
       "<matplotlib.figure.Figure at 0x1540041a5c0>"
      ]
     },
     "metadata": {},
     "output_type": "display_data"
    }
   ],
   "source": [
    "orday.sort_index().plot()\n",
    "_=plt.xlabel('day of week')\n",
    "_=plt.ylabel('order volume')\n",
    "_=plt.xticks([0,1,2,3,4,5,6], ['Mon', 'Tue', 'Wed', 'Thu', 'Fri', 'Sat', 'Sun'])\n",
    "plt.title('Weekly Order Volume')"
   ]
  },
  {
   "cell_type": "code",
   "execution_count": 24,
   "metadata": {
    "collapsed": false
   },
   "outputs": [
    {
     "data": {
      "text/plain": [
       "0"
      ]
     },
     "execution_count": 24,
     "metadata": {},
     "output_type": "execute_result"
    }
   ],
   "source": [
    "orday.idxmax()\n"
   ]
  },
  {
   "cell_type": "code",
   "execution_count": 25,
   "metadata": {
    "collapsed": false
   },
   "outputs": [
    {
     "data": {
      "text/plain": [
       "4"
      ]
     },
     "execution_count": 25,
     "metadata": {},
     "output_type": "execute_result"
    }
   ],
   "source": [
    "orday.idxmin()"
   ]
  },
  {
   "cell_type": "markdown",
   "metadata": {},
   "source": [
    "## ORDERS TABLE IS SEPARATED TO THREE EVALUATION SETS - PRIOR, TRAIN, TEST"
   ]
  },
  {
   "cell_type": "code",
   "execution_count": 26,
   "metadata": {
    "collapsed": false
   },
   "outputs": [
    {
     "data": {
      "text/plain": [
       "prior    3214874\n",
       "train     131209\n",
       "test       75000\n",
       "Name: eval_set, dtype: int64"
      ]
     },
     "execution_count": 26,
     "metadata": {},
     "output_type": "execute_result"
    }
   ],
   "source": [
    "orders.eval_set.value_counts()"
   ]
  },
  {
   "cell_type": "code",
   "execution_count": 27,
   "metadata": {
    "collapsed": true
   },
   "outputs": [],
   "source": [
    "oprior=orders[orders.eval_set=='prior']\n",
    "otrain=orders[orders.eval_set=='train']\n",
    "otest=orders[orders.eval_set=='test']"
   ]
  },
  {
   "cell_type": "code",
   "execution_count": 28,
   "metadata": {
    "collapsed": false
   },
   "outputs": [
    {
     "data": {
      "text/html": [
       "<div>\n",
       "<table border=\"1\" class=\"dataframe\">\n",
       "  <thead>\n",
       "    <tr style=\"text-align: right;\">\n",
       "      <th></th>\n",
       "      <th>order_id</th>\n",
       "      <th>user_id</th>\n",
       "      <th>eval_set</th>\n",
       "      <th>order_number</th>\n",
       "      <th>order_dow</th>\n",
       "      <th>order_hour_of_day</th>\n",
       "      <th>days_since_prior_order</th>\n",
       "    </tr>\n",
       "  </thead>\n",
       "  <tbody>\n",
       "    <tr>\n",
       "      <th>0</th>\n",
       "      <td>2539329</td>\n",
       "      <td>1</td>\n",
       "      <td>prior</td>\n",
       "      <td>1</td>\n",
       "      <td>2</td>\n",
       "      <td>8</td>\n",
       "      <td>NaN</td>\n",
       "    </tr>\n",
       "    <tr>\n",
       "      <th>1</th>\n",
       "      <td>2398795</td>\n",
       "      <td>1</td>\n",
       "      <td>prior</td>\n",
       "      <td>2</td>\n",
       "      <td>3</td>\n",
       "      <td>7</td>\n",
       "      <td>15.0</td>\n",
       "    </tr>\n",
       "    <tr>\n",
       "      <th>2</th>\n",
       "      <td>473747</td>\n",
       "      <td>1</td>\n",
       "      <td>prior</td>\n",
       "      <td>3</td>\n",
       "      <td>3</td>\n",
       "      <td>12</td>\n",
       "      <td>21.0</td>\n",
       "    </tr>\n",
       "    <tr>\n",
       "      <th>3</th>\n",
       "      <td>2254736</td>\n",
       "      <td>1</td>\n",
       "      <td>prior</td>\n",
       "      <td>4</td>\n",
       "      <td>4</td>\n",
       "      <td>7</td>\n",
       "      <td>29.0</td>\n",
       "    </tr>\n",
       "    <tr>\n",
       "      <th>4</th>\n",
       "      <td>431534</td>\n",
       "      <td>1</td>\n",
       "      <td>prior</td>\n",
       "      <td>5</td>\n",
       "      <td>4</td>\n",
       "      <td>15</td>\n",
       "      <td>28.0</td>\n",
       "    </tr>\n",
       "  </tbody>\n",
       "</table>\n",
       "</div>"
      ],
      "text/plain": [
       "   order_id  user_id eval_set  order_number  order_dow  order_hour_of_day  \\\n",
       "0   2539329        1    prior             1          2                  8   \n",
       "1   2398795        1    prior             2          3                  7   \n",
       "2    473747        1    prior             3          3                 12   \n",
       "3   2254736        1    prior             4          4                  7   \n",
       "4    431534        1    prior             5          4                 15   \n",
       "\n",
       "   days_since_prior_order  \n",
       "0                     NaN  \n",
       "1                    15.0  \n",
       "2                    21.0  \n",
       "3                    29.0  \n",
       "4                    28.0  "
      ]
     },
     "execution_count": 28,
     "metadata": {},
     "output_type": "execute_result"
    }
   ],
   "source": [
    "oprior.head()"
   ]
  },
  {
   "cell_type": "code",
   "execution_count": 29,
   "metadata": {
    "collapsed": false
   },
   "outputs": [
    {
     "data": {
      "text/html": [
       "<div>\n",
       "<table border=\"1\" class=\"dataframe\">\n",
       "  <thead>\n",
       "    <tr style=\"text-align: right;\">\n",
       "      <th></th>\n",
       "      <th>order_id</th>\n",
       "      <th>user_id</th>\n",
       "      <th>eval_set</th>\n",
       "      <th>order_number</th>\n",
       "      <th>order_dow</th>\n",
       "      <th>order_hour_of_day</th>\n",
       "      <th>days_since_prior_order</th>\n",
       "    </tr>\n",
       "  </thead>\n",
       "  <tbody>\n",
       "    <tr>\n",
       "      <th>10</th>\n",
       "      <td>1187899</td>\n",
       "      <td>1</td>\n",
       "      <td>train</td>\n",
       "      <td>11</td>\n",
       "      <td>4</td>\n",
       "      <td>8</td>\n",
       "      <td>14.0</td>\n",
       "    </tr>\n",
       "    <tr>\n",
       "      <th>25</th>\n",
       "      <td>1492625</td>\n",
       "      <td>2</td>\n",
       "      <td>train</td>\n",
       "      <td>15</td>\n",
       "      <td>1</td>\n",
       "      <td>11</td>\n",
       "      <td>30.0</td>\n",
       "    </tr>\n",
       "    <tr>\n",
       "      <th>49</th>\n",
       "      <td>2196797</td>\n",
       "      <td>5</td>\n",
       "      <td>train</td>\n",
       "      <td>5</td>\n",
       "      <td>0</td>\n",
       "      <td>11</td>\n",
       "      <td>6.0</td>\n",
       "    </tr>\n",
       "    <tr>\n",
       "      <th>74</th>\n",
       "      <td>525192</td>\n",
       "      <td>7</td>\n",
       "      <td>train</td>\n",
       "      <td>21</td>\n",
       "      <td>2</td>\n",
       "      <td>11</td>\n",
       "      <td>6.0</td>\n",
       "    </tr>\n",
       "    <tr>\n",
       "      <th>78</th>\n",
       "      <td>880375</td>\n",
       "      <td>8</td>\n",
       "      <td>train</td>\n",
       "      <td>4</td>\n",
       "      <td>1</td>\n",
       "      <td>14</td>\n",
       "      <td>10.0</td>\n",
       "    </tr>\n",
       "  </tbody>\n",
       "</table>\n",
       "</div>"
      ],
      "text/plain": [
       "    order_id  user_id eval_set  order_number  order_dow  order_hour_of_day  \\\n",
       "10   1187899        1    train            11          4                  8   \n",
       "25   1492625        2    train            15          1                 11   \n",
       "49   2196797        5    train             5          0                 11   \n",
       "74    525192        7    train            21          2                 11   \n",
       "78    880375        8    train             4          1                 14   \n",
       "\n",
       "    days_since_prior_order  \n",
       "10                    14.0  \n",
       "25                    30.0  \n",
       "49                     6.0  \n",
       "74                     6.0  \n",
       "78                    10.0  "
      ]
     },
     "execution_count": 29,
     "metadata": {},
     "output_type": "execute_result"
    }
   ],
   "source": [
    "otrain.head()"
   ]
  },
  {
   "cell_type": "code",
   "execution_count": 30,
   "metadata": {
    "collapsed": false
   },
   "outputs": [
    {
     "data": {
      "text/html": [
       "<div>\n",
       "<table border=\"1\" class=\"dataframe\">\n",
       "  <thead>\n",
       "    <tr style=\"text-align: right;\">\n",
       "      <th></th>\n",
       "      <th>order_id</th>\n",
       "      <th>user_id</th>\n",
       "      <th>eval_set</th>\n",
       "      <th>order_number</th>\n",
       "      <th>order_dow</th>\n",
       "      <th>order_hour_of_day</th>\n",
       "      <th>days_since_prior_order</th>\n",
       "    </tr>\n",
       "  </thead>\n",
       "  <tbody>\n",
       "    <tr>\n",
       "      <th>38</th>\n",
       "      <td>2774568</td>\n",
       "      <td>3</td>\n",
       "      <td>test</td>\n",
       "      <td>13</td>\n",
       "      <td>5</td>\n",
       "      <td>15</td>\n",
       "      <td>11.0</td>\n",
       "    </tr>\n",
       "    <tr>\n",
       "      <th>44</th>\n",
       "      <td>329954</td>\n",
       "      <td>4</td>\n",
       "      <td>test</td>\n",
       "      <td>6</td>\n",
       "      <td>3</td>\n",
       "      <td>12</td>\n",
       "      <td>30.0</td>\n",
       "    </tr>\n",
       "    <tr>\n",
       "      <th>53</th>\n",
       "      <td>1528013</td>\n",
       "      <td>6</td>\n",
       "      <td>test</td>\n",
       "      <td>4</td>\n",
       "      <td>3</td>\n",
       "      <td>16</td>\n",
       "      <td>22.0</td>\n",
       "    </tr>\n",
       "    <tr>\n",
       "      <th>96</th>\n",
       "      <td>1376945</td>\n",
       "      <td>11</td>\n",
       "      <td>test</td>\n",
       "      <td>8</td>\n",
       "      <td>6</td>\n",
       "      <td>11</td>\n",
       "      <td>8.0</td>\n",
       "    </tr>\n",
       "    <tr>\n",
       "      <th>102</th>\n",
       "      <td>1356845</td>\n",
       "      <td>12</td>\n",
       "      <td>test</td>\n",
       "      <td>6</td>\n",
       "      <td>1</td>\n",
       "      <td>20</td>\n",
       "      <td>30.0</td>\n",
       "    </tr>\n",
       "  </tbody>\n",
       "</table>\n",
       "</div>"
      ],
      "text/plain": [
       "     order_id  user_id eval_set  order_number  order_dow  order_hour_of_day  \\\n",
       "38    2774568        3     test            13          5                 15   \n",
       "44     329954        4     test             6          3                 12   \n",
       "53    1528013        6     test             4          3                 16   \n",
       "96    1376945       11     test             8          6                 11   \n",
       "102   1356845       12     test             6          1                 20   \n",
       "\n",
       "     days_since_prior_order  \n",
       "38                     11.0  \n",
       "44                     30.0  \n",
       "53                     22.0  \n",
       "96                      8.0  \n",
       "102                    30.0  "
      ]
     },
     "execution_count": 30,
     "metadata": {},
     "output_type": "execute_result"
    }
   ],
   "source": [
    "otest.head()"
   ]
  },
  {
   "cell_type": "markdown",
   "metadata": {},
   "source": [
    "## ORDER PRODUCTS PRIOR TABLE"
   ]
  },
  {
   "cell_type": "code",
   "execution_count": 31,
   "metadata": {
    "collapsed": false
   },
   "outputs": [
    {
     "data": {
      "text/html": [
       "<div>\n",
       "<table border=\"1\" class=\"dataframe\">\n",
       "  <thead>\n",
       "    <tr style=\"text-align: right;\">\n",
       "      <th></th>\n",
       "      <th>order_id</th>\n",
       "      <th>product_id</th>\n",
       "      <th>add_to_cart_order</th>\n",
       "      <th>reordered</th>\n",
       "    </tr>\n",
       "  </thead>\n",
       "  <tbody>\n",
       "    <tr>\n",
       "      <th>0</th>\n",
       "      <td>2</td>\n",
       "      <td>33120</td>\n",
       "      <td>1</td>\n",
       "      <td>1</td>\n",
       "    </tr>\n",
       "    <tr>\n",
       "      <th>1</th>\n",
       "      <td>2</td>\n",
       "      <td>28985</td>\n",
       "      <td>2</td>\n",
       "      <td>1</td>\n",
       "    </tr>\n",
       "    <tr>\n",
       "      <th>2</th>\n",
       "      <td>2</td>\n",
       "      <td>9327</td>\n",
       "      <td>3</td>\n",
       "      <td>0</td>\n",
       "    </tr>\n",
       "    <tr>\n",
       "      <th>3</th>\n",
       "      <td>2</td>\n",
       "      <td>45918</td>\n",
       "      <td>4</td>\n",
       "      <td>1</td>\n",
       "    </tr>\n",
       "    <tr>\n",
       "      <th>4</th>\n",
       "      <td>2</td>\n",
       "      <td>30035</td>\n",
       "      <td>5</td>\n",
       "      <td>0</td>\n",
       "    </tr>\n",
       "  </tbody>\n",
       "</table>\n",
       "</div>"
      ],
      "text/plain": [
       "   order_id  product_id  add_to_cart_order  reordered\n",
       "0         2       33120                  1          1\n",
       "1         2       28985                  2          1\n",
       "2         2        9327                  3          0\n",
       "3         2       45918                  4          1\n",
       "4         2       30035                  5          0"
      ]
     },
     "execution_count": 31,
     "metadata": {},
     "output_type": "execute_result"
    }
   ],
   "source": [
    "prior=pd.read_csv('order_products__prior.csv')\n",
    "prior.head()"
   ]
  },
  {
   "cell_type": "code",
   "execution_count": 32,
   "metadata": {
    "collapsed": false
   },
   "outputs": [
    {
     "data": {
      "text/plain": [
       "(32434489, 4)"
      ]
     },
     "execution_count": 32,
     "metadata": {},
     "output_type": "execute_result"
    }
   ],
   "source": [
    "prior.shape"
   ]
  },
  {
   "cell_type": "code",
   "execution_count": 33,
   "metadata": {
    "collapsed": false
   },
   "outputs": [
    {
     "data": {
      "text/plain": [
       "3214874"
      ]
     },
     "execution_count": 33,
     "metadata": {},
     "output_type": "execute_result"
    }
   ],
   "source": [
    "prior.order_id.unique().size"
   ]
  },
  {
   "cell_type": "code",
   "execution_count": 34,
   "metadata": {
    "collapsed": false
   },
   "outputs": [
    {
     "data": {
      "text/plain": [
       "order_id             0\n",
       "product_id           0\n",
       "add_to_cart_order    0\n",
       "reordered            0\n",
       "dtype: int64"
      ]
     },
     "execution_count": 34,
     "metadata": {},
     "output_type": "execute_result"
    }
   ],
   "source": [
    "prior.isnull().sum()         # no missing values"
   ]
  },
  {
   "cell_type": "code",
   "execution_count": 35,
   "metadata": {
    "collapsed": false
   },
   "outputs": [
    {
     "data": {
      "text/plain": [
       "1564244    145\n",
       "790903     137\n",
       "61355      127\n",
       "2970392    121\n",
       "2069920    116\n",
       "Name: order_id, dtype: int64"
      ]
     },
     "execution_count": 35,
     "metadata": {},
     "output_type": "execute_result"
    }
   ],
   "source": [
    "prior.order_id.value_counts().head()"
   ]
  },
  {
   "cell_type": "markdown",
   "metadata": {},
   "source": [
    "## ORDER PRODUCTS TRAIN TABLE"
   ]
  },
  {
   "cell_type": "code",
   "execution_count": 36,
   "metadata": {
    "collapsed": false
   },
   "outputs": [
    {
     "data": {
      "text/html": [
       "<div>\n",
       "<table border=\"1\" class=\"dataframe\">\n",
       "  <thead>\n",
       "    <tr style=\"text-align: right;\">\n",
       "      <th></th>\n",
       "      <th>order_id</th>\n",
       "      <th>product_id</th>\n",
       "      <th>add_to_cart_order</th>\n",
       "      <th>reordered</th>\n",
       "    </tr>\n",
       "  </thead>\n",
       "  <tbody>\n",
       "    <tr>\n",
       "      <th>0</th>\n",
       "      <td>1</td>\n",
       "      <td>49302</td>\n",
       "      <td>1</td>\n",
       "      <td>1</td>\n",
       "    </tr>\n",
       "    <tr>\n",
       "      <th>1</th>\n",
       "      <td>1</td>\n",
       "      <td>11109</td>\n",
       "      <td>2</td>\n",
       "      <td>1</td>\n",
       "    </tr>\n",
       "    <tr>\n",
       "      <th>2</th>\n",
       "      <td>1</td>\n",
       "      <td>10246</td>\n",
       "      <td>3</td>\n",
       "      <td>0</td>\n",
       "    </tr>\n",
       "    <tr>\n",
       "      <th>3</th>\n",
       "      <td>1</td>\n",
       "      <td>49683</td>\n",
       "      <td>4</td>\n",
       "      <td>0</td>\n",
       "    </tr>\n",
       "    <tr>\n",
       "      <th>4</th>\n",
       "      <td>1</td>\n",
       "      <td>43633</td>\n",
       "      <td>5</td>\n",
       "      <td>1</td>\n",
       "    </tr>\n",
       "  </tbody>\n",
       "</table>\n",
       "</div>"
      ],
      "text/plain": [
       "   order_id  product_id  add_to_cart_order  reordered\n",
       "0         1       49302                  1          1\n",
       "1         1       11109                  2          1\n",
       "2         1       10246                  3          0\n",
       "3         1       49683                  4          0\n",
       "4         1       43633                  5          1"
      ]
     },
     "execution_count": 36,
     "metadata": {},
     "output_type": "execute_result"
    }
   ],
   "source": [
    "train=pd.read_csv('order_products__train.csv')\n",
    "train.head()"
   ]
  },
  {
   "cell_type": "code",
   "execution_count": 37,
   "metadata": {
    "collapsed": false
   },
   "outputs": [
    {
     "data": {
      "text/plain": [
       "order_id             0\n",
       "product_id           0\n",
       "add_to_cart_order    0\n",
       "reordered            0\n",
       "dtype: int64"
      ]
     },
     "execution_count": 37,
     "metadata": {},
     "output_type": "execute_result"
    }
   ],
   "source": [
    "train.isnull().sum()     # no missing values"
   ]
  },
  {
   "cell_type": "code",
   "execution_count": 38,
   "metadata": {
    "collapsed": false
   },
   "outputs": [
    {
     "data": {
      "text/html": [
       "<div>\n",
       "<table border=\"1\" class=\"dataframe\">\n",
       "  <thead>\n",
       "    <tr style=\"text-align: right;\">\n",
       "      <th></th>\n",
       "      <th>order_id</th>\n",
       "      <th>products</th>\n",
       "    </tr>\n",
       "  </thead>\n",
       "  <tbody>\n",
       "    <tr>\n",
       "      <th>0</th>\n",
       "      <td>17</td>\n",
       "      <td>39276 29259</td>\n",
       "    </tr>\n",
       "    <tr>\n",
       "      <th>1</th>\n",
       "      <td>34</td>\n",
       "      <td>39276 29259</td>\n",
       "    </tr>\n",
       "    <tr>\n",
       "      <th>2</th>\n",
       "      <td>137</td>\n",
       "      <td>39276 29259</td>\n",
       "    </tr>\n",
       "    <tr>\n",
       "      <th>3</th>\n",
       "      <td>182</td>\n",
       "      <td>39276 29259</td>\n",
       "    </tr>\n",
       "    <tr>\n",
       "      <th>4</th>\n",
       "      <td>257</td>\n",
       "      <td>39276 29259</td>\n",
       "    </tr>\n",
       "  </tbody>\n",
       "</table>\n",
       "</div>"
      ],
      "text/plain": [
       "   order_id     products\n",
       "0        17  39276 29259\n",
       "1        34  39276 29259\n",
       "2       137  39276 29259\n",
       "3       182  39276 29259\n",
       "4       257  39276 29259"
      ]
     },
     "execution_count": 38,
     "metadata": {},
     "output_type": "execute_result"
    }
   ],
   "source": [
    "samp=pd.read_csv('sample_submission.csv')\n",
    "samp.head()"
   ]
  },
  {
   "cell_type": "code",
   "execution_count": 39,
   "metadata": {
    "collapsed": false
   },
   "outputs": [
    {
     "data": {
      "text/plain": [
       "order_id    0\n",
       "products    0\n",
       "dtype: int64"
      ]
     },
     "execution_count": 39,
     "metadata": {},
     "output_type": "execute_result"
    }
   ],
   "source": [
    "samp.isnull().sum()     # no missing values"
   ]
  },
  {
   "cell_type": "markdown",
   "metadata": {
    "collapsed": true
   },
   "source": [
    "## MERGING TABLES\n"
   ]
  },
  {
   "cell_type": "markdown",
   "metadata": {},
   "source": [
    "### USING TRAIN DATA"
   ]
  },
  {
   "cell_type": "code",
   "execution_count": 40,
   "metadata": {
    "collapsed": false
   },
   "outputs": [],
   "source": [
    "alltrain=otrain.merge(train)\n",
    "alltrain=alltrain.merge(prod)\n",
    "alltrain=alltrain.merge(dep)\n",
    "alltrain=alltrain.merge(aisles)\n"
   ]
  },
  {
   "cell_type": "code",
   "execution_count": 41,
   "metadata": {
    "collapsed": false,
    "scrolled": true
   },
   "outputs": [
    {
     "data": {
      "text/html": [
       "<div>\n",
       "<table border=\"1\" class=\"dataframe\">\n",
       "  <thead>\n",
       "    <tr style=\"text-align: right;\">\n",
       "      <th></th>\n",
       "      <th>order_id</th>\n",
       "      <th>user_id</th>\n",
       "      <th>eval_set</th>\n",
       "      <th>order_number</th>\n",
       "      <th>order_dow</th>\n",
       "      <th>order_hour_of_day</th>\n",
       "      <th>days_since_prior_order</th>\n",
       "      <th>product_id</th>\n",
       "      <th>add_to_cart_order</th>\n",
       "      <th>reordered</th>\n",
       "      <th>product_name</th>\n",
       "      <th>aisle_id</th>\n",
       "      <th>department_id</th>\n",
       "      <th>department</th>\n",
       "      <th>aisle</th>\n",
       "    </tr>\n",
       "  </thead>\n",
       "  <tbody>\n",
       "    <tr>\n",
       "      <th>0</th>\n",
       "      <td>1187899</td>\n",
       "      <td>1</td>\n",
       "      <td>train</td>\n",
       "      <td>11</td>\n",
       "      <td>4</td>\n",
       "      <td>8</td>\n",
       "      <td>14.0</td>\n",
       "      <td>196</td>\n",
       "      <td>1</td>\n",
       "      <td>1</td>\n",
       "      <td>Soda</td>\n",
       "      <td>77</td>\n",
       "      <td>7</td>\n",
       "      <td>beverages</td>\n",
       "      <td>soft drinks</td>\n",
       "    </tr>\n",
       "    <tr>\n",
       "      <th>1</th>\n",
       "      <td>2757217</td>\n",
       "      <td>67</td>\n",
       "      <td>train</td>\n",
       "      <td>25</td>\n",
       "      <td>0</td>\n",
       "      <td>11</td>\n",
       "      <td>5.0</td>\n",
       "      <td>196</td>\n",
       "      <td>1</td>\n",
       "      <td>1</td>\n",
       "      <td>Soda</td>\n",
       "      <td>77</td>\n",
       "      <td>7</td>\n",
       "      <td>beverages</td>\n",
       "      <td>soft drinks</td>\n",
       "    </tr>\n",
       "    <tr>\n",
       "      <th>2</th>\n",
       "      <td>632715</td>\n",
       "      <td>676</td>\n",
       "      <td>train</td>\n",
       "      <td>12</td>\n",
       "      <td>0</td>\n",
       "      <td>13</td>\n",
       "      <td>26.0</td>\n",
       "      <td>196</td>\n",
       "      <td>2</td>\n",
       "      <td>1</td>\n",
       "      <td>Soda</td>\n",
       "      <td>77</td>\n",
       "      <td>7</td>\n",
       "      <td>beverages</td>\n",
       "      <td>soft drinks</td>\n",
       "    </tr>\n",
       "    <tr>\n",
       "      <th>3</th>\n",
       "      <td>1167274</td>\n",
       "      <td>760</td>\n",
       "      <td>train</td>\n",
       "      <td>5</td>\n",
       "      <td>4</td>\n",
       "      <td>10</td>\n",
       "      <td>8.0</td>\n",
       "      <td>196</td>\n",
       "      <td>2</td>\n",
       "      <td>1</td>\n",
       "      <td>Soda</td>\n",
       "      <td>77</td>\n",
       "      <td>7</td>\n",
       "      <td>beverages</td>\n",
       "      <td>soft drinks</td>\n",
       "    </tr>\n",
       "    <tr>\n",
       "      <th>4</th>\n",
       "      <td>3347074</td>\n",
       "      <td>804</td>\n",
       "      <td>train</td>\n",
       "      <td>16</td>\n",
       "      <td>3</td>\n",
       "      <td>21</td>\n",
       "      <td>5.0</td>\n",
       "      <td>196</td>\n",
       "      <td>4</td>\n",
       "      <td>0</td>\n",
       "      <td>Soda</td>\n",
       "      <td>77</td>\n",
       "      <td>7</td>\n",
       "      <td>beverages</td>\n",
       "      <td>soft drinks</td>\n",
       "    </tr>\n",
       "  </tbody>\n",
       "</table>\n",
       "</div>"
      ],
      "text/plain": [
       "   order_id  user_id eval_set  order_number  order_dow  order_hour_of_day  \\\n",
       "0   1187899        1    train            11          4                  8   \n",
       "1   2757217       67    train            25          0                 11   \n",
       "2    632715      676    train            12          0                 13   \n",
       "3   1167274      760    train             5          4                 10   \n",
       "4   3347074      804    train            16          3                 21   \n",
       "\n",
       "   days_since_prior_order  product_id  add_to_cart_order  reordered  \\\n",
       "0                    14.0         196                  1          1   \n",
       "1                     5.0         196                  1          1   \n",
       "2                    26.0         196                  2          1   \n",
       "3                     8.0         196                  2          1   \n",
       "4                     5.0         196                  4          0   \n",
       "\n",
       "  product_name  aisle_id  department_id department        aisle  \n",
       "0         Soda        77              7  beverages  soft drinks  \n",
       "1         Soda        77              7  beverages  soft drinks  \n",
       "2         Soda        77              7  beverages  soft drinks  \n",
       "3         Soda        77              7  beverages  soft drinks  \n",
       "4         Soda        77              7  beverages  soft drinks  "
      ]
     },
     "execution_count": 41,
     "metadata": {},
     "output_type": "execute_result"
    }
   ],
   "source": [
    "alltrain.head(5)"
   ]
  },
  {
   "cell_type": "code",
   "execution_count": 42,
   "metadata": {
    "collapsed": false
   },
   "outputs": [
    {
     "data": {
      "text/plain": [
       "10.552759338155157"
      ]
     },
     "execution_count": 42,
     "metadata": {},
     "output_type": "execute_result"
    }
   ],
   "source": [
    "#Average number of products per order \n",
    "alltrain.groupby('order_id')['product_name'].size().mean()"
   ]
  },
  {
   "cell_type": "markdown",
   "metadata": {
    "collapsed": true
   },
   "source": [
    "### USING PRIOR DATA"
   ]
  },
  {
   "cell_type": "code",
   "execution_count": 43,
   "metadata": {
    "collapsed": false
   },
   "outputs": [
    {
     "data": {
      "text/html": [
       "<div>\n",
       "<table border=\"1\" class=\"dataframe\">\n",
       "  <thead>\n",
       "    <tr style=\"text-align: right;\">\n",
       "      <th></th>\n",
       "      <th>order_id</th>\n",
       "      <th>user_id</th>\n",
       "      <th>eval_set</th>\n",
       "      <th>order_number</th>\n",
       "      <th>order_dow</th>\n",
       "      <th>order_hour_of_day</th>\n",
       "      <th>days_since_prior_order</th>\n",
       "      <th>product_id</th>\n",
       "      <th>add_to_cart_order</th>\n",
       "      <th>reordered</th>\n",
       "      <th>product_name</th>\n",
       "      <th>aisle_id</th>\n",
       "      <th>department_id</th>\n",
       "      <th>department</th>\n",
       "      <th>aisle</th>\n",
       "    </tr>\n",
       "  </thead>\n",
       "  <tbody>\n",
       "    <tr>\n",
       "      <th>0</th>\n",
       "      <td>2539329</td>\n",
       "      <td>1</td>\n",
       "      <td>prior</td>\n",
       "      <td>1</td>\n",
       "      <td>2</td>\n",
       "      <td>8</td>\n",
       "      <td>NaN</td>\n",
       "      <td>196</td>\n",
       "      <td>1</td>\n",
       "      <td>0</td>\n",
       "      <td>Soda</td>\n",
       "      <td>77</td>\n",
       "      <td>7</td>\n",
       "      <td>beverages</td>\n",
       "      <td>soft drinks</td>\n",
       "    </tr>\n",
       "    <tr>\n",
       "      <th>1</th>\n",
       "      <td>2398795</td>\n",
       "      <td>1</td>\n",
       "      <td>prior</td>\n",
       "      <td>2</td>\n",
       "      <td>3</td>\n",
       "      <td>7</td>\n",
       "      <td>15.0</td>\n",
       "      <td>196</td>\n",
       "      <td>1</td>\n",
       "      <td>1</td>\n",
       "      <td>Soda</td>\n",
       "      <td>77</td>\n",
       "      <td>7</td>\n",
       "      <td>beverages</td>\n",
       "      <td>soft drinks</td>\n",
       "    </tr>\n",
       "    <tr>\n",
       "      <th>2</th>\n",
       "      <td>473747</td>\n",
       "      <td>1</td>\n",
       "      <td>prior</td>\n",
       "      <td>3</td>\n",
       "      <td>3</td>\n",
       "      <td>12</td>\n",
       "      <td>21.0</td>\n",
       "      <td>196</td>\n",
       "      <td>1</td>\n",
       "      <td>1</td>\n",
       "      <td>Soda</td>\n",
       "      <td>77</td>\n",
       "      <td>7</td>\n",
       "      <td>beverages</td>\n",
       "      <td>soft drinks</td>\n",
       "    </tr>\n",
       "    <tr>\n",
       "      <th>3</th>\n",
       "      <td>2254736</td>\n",
       "      <td>1</td>\n",
       "      <td>prior</td>\n",
       "      <td>4</td>\n",
       "      <td>4</td>\n",
       "      <td>7</td>\n",
       "      <td>29.0</td>\n",
       "      <td>196</td>\n",
       "      <td>1</td>\n",
       "      <td>1</td>\n",
       "      <td>Soda</td>\n",
       "      <td>77</td>\n",
       "      <td>7</td>\n",
       "      <td>beverages</td>\n",
       "      <td>soft drinks</td>\n",
       "    </tr>\n",
       "    <tr>\n",
       "      <th>4</th>\n",
       "      <td>431534</td>\n",
       "      <td>1</td>\n",
       "      <td>prior</td>\n",
       "      <td>5</td>\n",
       "      <td>4</td>\n",
       "      <td>15</td>\n",
       "      <td>28.0</td>\n",
       "      <td>196</td>\n",
       "      <td>1</td>\n",
       "      <td>1</td>\n",
       "      <td>Soda</td>\n",
       "      <td>77</td>\n",
       "      <td>7</td>\n",
       "      <td>beverages</td>\n",
       "      <td>soft drinks</td>\n",
       "    </tr>\n",
       "    <tr>\n",
       "      <th>5</th>\n",
       "      <td>3367565</td>\n",
       "      <td>1</td>\n",
       "      <td>prior</td>\n",
       "      <td>6</td>\n",
       "      <td>2</td>\n",
       "      <td>7</td>\n",
       "      <td>19.0</td>\n",
       "      <td>196</td>\n",
       "      <td>1</td>\n",
       "      <td>1</td>\n",
       "      <td>Soda</td>\n",
       "      <td>77</td>\n",
       "      <td>7</td>\n",
       "      <td>beverages</td>\n",
       "      <td>soft drinks</td>\n",
       "    </tr>\n",
       "    <tr>\n",
       "      <th>6</th>\n",
       "      <td>550135</td>\n",
       "      <td>1</td>\n",
       "      <td>prior</td>\n",
       "      <td>7</td>\n",
       "      <td>1</td>\n",
       "      <td>9</td>\n",
       "      <td>20.0</td>\n",
       "      <td>196</td>\n",
       "      <td>1</td>\n",
       "      <td>1</td>\n",
       "      <td>Soda</td>\n",
       "      <td>77</td>\n",
       "      <td>7</td>\n",
       "      <td>beverages</td>\n",
       "      <td>soft drinks</td>\n",
       "    </tr>\n",
       "    <tr>\n",
       "      <th>7</th>\n",
       "      <td>3108588</td>\n",
       "      <td>1</td>\n",
       "      <td>prior</td>\n",
       "      <td>8</td>\n",
       "      <td>1</td>\n",
       "      <td>14</td>\n",
       "      <td>14.0</td>\n",
       "      <td>196</td>\n",
       "      <td>2</td>\n",
       "      <td>1</td>\n",
       "      <td>Soda</td>\n",
       "      <td>77</td>\n",
       "      <td>7</td>\n",
       "      <td>beverages</td>\n",
       "      <td>soft drinks</td>\n",
       "    </tr>\n",
       "    <tr>\n",
       "      <th>8</th>\n",
       "      <td>2295261</td>\n",
       "      <td>1</td>\n",
       "      <td>prior</td>\n",
       "      <td>9</td>\n",
       "      <td>1</td>\n",
       "      <td>16</td>\n",
       "      <td>0.0</td>\n",
       "      <td>196</td>\n",
       "      <td>4</td>\n",
       "      <td>1</td>\n",
       "      <td>Soda</td>\n",
       "      <td>77</td>\n",
       "      <td>7</td>\n",
       "      <td>beverages</td>\n",
       "      <td>soft drinks</td>\n",
       "    </tr>\n",
       "    <tr>\n",
       "      <th>9</th>\n",
       "      <td>2550362</td>\n",
       "      <td>1</td>\n",
       "      <td>prior</td>\n",
       "      <td>10</td>\n",
       "      <td>4</td>\n",
       "      <td>8</td>\n",
       "      <td>30.0</td>\n",
       "      <td>196</td>\n",
       "      <td>1</td>\n",
       "      <td>1</td>\n",
       "      <td>Soda</td>\n",
       "      <td>77</td>\n",
       "      <td>7</td>\n",
       "      <td>beverages</td>\n",
       "      <td>soft drinks</td>\n",
       "    </tr>\n",
       "    <tr>\n",
       "      <th>10</th>\n",
       "      <td>2968173</td>\n",
       "      <td>15</td>\n",
       "      <td>prior</td>\n",
       "      <td>15</td>\n",
       "      <td>1</td>\n",
       "      <td>9</td>\n",
       "      <td>7.0</td>\n",
       "      <td>196</td>\n",
       "      <td>2</td>\n",
       "      <td>0</td>\n",
       "      <td>Soda</td>\n",
       "      <td>77</td>\n",
       "      <td>7</td>\n",
       "      <td>beverages</td>\n",
       "      <td>soft drinks</td>\n",
       "    </tr>\n",
       "    <tr>\n",
       "      <th>11</th>\n",
       "      <td>1870022</td>\n",
       "      <td>15</td>\n",
       "      <td>prior</td>\n",
       "      <td>17</td>\n",
       "      <td>2</td>\n",
       "      <td>16</td>\n",
       "      <td>8.0</td>\n",
       "      <td>196</td>\n",
       "      <td>6</td>\n",
       "      <td>1</td>\n",
       "      <td>Soda</td>\n",
       "      <td>77</td>\n",
       "      <td>7</td>\n",
       "      <td>beverages</td>\n",
       "      <td>soft drinks</td>\n",
       "    </tr>\n",
       "    <tr>\n",
       "      <th>12</th>\n",
       "      <td>1911383</td>\n",
       "      <td>15</td>\n",
       "      <td>prior</td>\n",
       "      <td>18</td>\n",
       "      <td>2</td>\n",
       "      <td>11</td>\n",
       "      <td>7.0</td>\n",
       "      <td>196</td>\n",
       "      <td>1</td>\n",
       "      <td>1</td>\n",
       "      <td>Soda</td>\n",
       "      <td>77</td>\n",
       "      <td>7</td>\n",
       "      <td>beverages</td>\n",
       "      <td>soft drinks</td>\n",
       "    </tr>\n",
       "    <tr>\n",
       "      <th>13</th>\n",
       "      <td>2715276</td>\n",
       "      <td>15</td>\n",
       "      <td>prior</td>\n",
       "      <td>21</td>\n",
       "      <td>1</td>\n",
       "      <td>9</td>\n",
       "      <td>7.0</td>\n",
       "      <td>196</td>\n",
       "      <td>1</td>\n",
       "      <td>1</td>\n",
       "      <td>Soda</td>\n",
       "      <td>77</td>\n",
       "      <td>7</td>\n",
       "      <td>beverages</td>\n",
       "      <td>soft drinks</td>\n",
       "    </tr>\n",
       "    <tr>\n",
       "      <th>14</th>\n",
       "      <td>487368</td>\n",
       "      <td>15</td>\n",
       "      <td>prior</td>\n",
       "      <td>22</td>\n",
       "      <td>1</td>\n",
       "      <td>10</td>\n",
       "      <td>14.0</td>\n",
       "      <td>196</td>\n",
       "      <td>1</td>\n",
       "      <td>1</td>\n",
       "      <td>Soda</td>\n",
       "      <td>77</td>\n",
       "      <td>7</td>\n",
       "      <td>beverages</td>\n",
       "      <td>soft drinks</td>\n",
       "    </tr>\n",
       "    <tr>\n",
       "      <th>15</th>\n",
       "      <td>2293453</td>\n",
       "      <td>19</td>\n",
       "      <td>prior</td>\n",
       "      <td>2</td>\n",
       "      <td>5</td>\n",
       "      <td>14</td>\n",
       "      <td>6.0</td>\n",
       "      <td>196</td>\n",
       "      <td>3</td>\n",
       "      <td>0</td>\n",
       "      <td>Soda</td>\n",
       "      <td>77</td>\n",
       "      <td>7</td>\n",
       "      <td>beverages</td>\n",
       "      <td>soft drinks</td>\n",
       "    </tr>\n",
       "    <tr>\n",
       "      <th>16</th>\n",
       "      <td>1973799</td>\n",
       "      <td>19</td>\n",
       "      <td>prior</td>\n",
       "      <td>5</td>\n",
       "      <td>6</td>\n",
       "      <td>12</td>\n",
       "      <td>8.0</td>\n",
       "      <td>196</td>\n",
       "      <td>15</td>\n",
       "      <td>1</td>\n",
       "      <td>Soda</td>\n",
       "      <td>77</td>\n",
       "      <td>7</td>\n",
       "      <td>beverages</td>\n",
       "      <td>soft drinks</td>\n",
       "    </tr>\n",
       "    <tr>\n",
       "      <th>17</th>\n",
       "      <td>532817</td>\n",
       "      <td>19</td>\n",
       "      <td>prior</td>\n",
       "      <td>7</td>\n",
       "      <td>4</td>\n",
       "      <td>17</td>\n",
       "      <td>6.0</td>\n",
       "      <td>196</td>\n",
       "      <td>1</td>\n",
       "      <td>1</td>\n",
       "      <td>Soda</td>\n",
       "      <td>77</td>\n",
       "      <td>7</td>\n",
       "      <td>beverages</td>\n",
       "      <td>soft drinks</td>\n",
       "    </tr>\n",
       "    <tr>\n",
       "      <th>18</th>\n",
       "      <td>1573906</td>\n",
       "      <td>21</td>\n",
       "      <td>prior</td>\n",
       "      <td>10</td>\n",
       "      <td>3</td>\n",
       "      <td>10</td>\n",
       "      <td>6.0</td>\n",
       "      <td>196</td>\n",
       "      <td>2</td>\n",
       "      <td>0</td>\n",
       "      <td>Soda</td>\n",
       "      <td>77</td>\n",
       "      <td>7</td>\n",
       "      <td>beverages</td>\n",
       "      <td>soft drinks</td>\n",
       "    </tr>\n",
       "    <tr>\n",
       "      <th>19</th>\n",
       "      <td>1593000</td>\n",
       "      <td>31</td>\n",
       "      <td>prior</td>\n",
       "      <td>10</td>\n",
       "      <td>3</td>\n",
       "      <td>8</td>\n",
       "      <td>7.0</td>\n",
       "      <td>196</td>\n",
       "      <td>17</td>\n",
       "      <td>0</td>\n",
       "      <td>Soda</td>\n",
       "      <td>77</td>\n",
       "      <td>7</td>\n",
       "      <td>beverages</td>\n",
       "      <td>soft drinks</td>\n",
       "    </tr>\n",
       "    <tr>\n",
       "      <th>20</th>\n",
       "      <td>2231262</td>\n",
       "      <td>31</td>\n",
       "      <td>prior</td>\n",
       "      <td>17</td>\n",
       "      <td>3</td>\n",
       "      <td>11</td>\n",
       "      <td>8.0</td>\n",
       "      <td>196</td>\n",
       "      <td>14</td>\n",
       "      <td>1</td>\n",
       "      <td>Soda</td>\n",
       "      <td>77</td>\n",
       "      <td>7</td>\n",
       "      <td>beverages</td>\n",
       "      <td>soft drinks</td>\n",
       "    </tr>\n",
       "    <tr>\n",
       "      <th>21</th>\n",
       "      <td>2580647</td>\n",
       "      <td>43</td>\n",
       "      <td>prior</td>\n",
       "      <td>6</td>\n",
       "      <td>4</td>\n",
       "      <td>16</td>\n",
       "      <td>4.0</td>\n",
       "      <td>196</td>\n",
       "      <td>9</td>\n",
       "      <td>0</td>\n",
       "      <td>Soda</td>\n",
       "      <td>77</td>\n",
       "      <td>7</td>\n",
       "      <td>beverages</td>\n",
       "      <td>soft drinks</td>\n",
       "    </tr>\n",
       "    <tr>\n",
       "      <th>22</th>\n",
       "      <td>2187180</td>\n",
       "      <td>43</td>\n",
       "      <td>prior</td>\n",
       "      <td>9</td>\n",
       "      <td>4</td>\n",
       "      <td>12</td>\n",
       "      <td>3.0</td>\n",
       "      <td>196</td>\n",
       "      <td>1</td>\n",
       "      <td>1</td>\n",
       "      <td>Soda</td>\n",
       "      <td>77</td>\n",
       "      <td>7</td>\n",
       "      <td>beverages</td>\n",
       "      <td>soft drinks</td>\n",
       "    </tr>\n",
       "    <tr>\n",
       "      <th>23</th>\n",
       "      <td>2497897</td>\n",
       "      <td>52</td>\n",
       "      <td>prior</td>\n",
       "      <td>1</td>\n",
       "      <td>1</td>\n",
       "      <td>9</td>\n",
       "      <td>NaN</td>\n",
       "      <td>196</td>\n",
       "      <td>4</td>\n",
       "      <td>0</td>\n",
       "      <td>Soda</td>\n",
       "      <td>77</td>\n",
       "      <td>7</td>\n",
       "      <td>beverages</td>\n",
       "      <td>soft drinks</td>\n",
       "    </tr>\n",
       "    <tr>\n",
       "      <th>24</th>\n",
       "      <td>1318871</td>\n",
       "      <td>52</td>\n",
       "      <td>prior</td>\n",
       "      <td>2</td>\n",
       "      <td>1</td>\n",
       "      <td>10</td>\n",
       "      <td>7.0</td>\n",
       "      <td>196</td>\n",
       "      <td>5</td>\n",
       "      <td>1</td>\n",
       "      <td>Soda</td>\n",
       "      <td>77</td>\n",
       "      <td>7</td>\n",
       "      <td>beverages</td>\n",
       "      <td>soft drinks</td>\n",
       "    </tr>\n",
       "    <tr>\n",
       "      <th>25</th>\n",
       "      <td>1261384</td>\n",
       "      <td>52</td>\n",
       "      <td>prior</td>\n",
       "      <td>3</td>\n",
       "      <td>1</td>\n",
       "      <td>10</td>\n",
       "      <td>7.0</td>\n",
       "      <td>196</td>\n",
       "      <td>3</td>\n",
       "      <td>1</td>\n",
       "      <td>Soda</td>\n",
       "      <td>77</td>\n",
       "      <td>7</td>\n",
       "      <td>beverages</td>\n",
       "      <td>soft drinks</td>\n",
       "    </tr>\n",
       "    <tr>\n",
       "      <th>26</th>\n",
       "      <td>580568</td>\n",
       "      <td>52</td>\n",
       "      <td>prior</td>\n",
       "      <td>5</td>\n",
       "      <td>2</td>\n",
       "      <td>10</td>\n",
       "      <td>8.0</td>\n",
       "      <td>196</td>\n",
       "      <td>6</td>\n",
       "      <td>1</td>\n",
       "      <td>Soda</td>\n",
       "      <td>77</td>\n",
       "      <td>7</td>\n",
       "      <td>beverages</td>\n",
       "      <td>soft drinks</td>\n",
       "    </tr>\n",
       "    <tr>\n",
       "      <th>27</th>\n",
       "      <td>2428073</td>\n",
       "      <td>52</td>\n",
       "      <td>prior</td>\n",
       "      <td>7</td>\n",
       "      <td>2</td>\n",
       "      <td>7</td>\n",
       "      <td>8.0</td>\n",
       "      <td>196</td>\n",
       "      <td>5</td>\n",
       "      <td>1</td>\n",
       "      <td>Soda</td>\n",
       "      <td>77</td>\n",
       "      <td>7</td>\n",
       "      <td>beverages</td>\n",
       "      <td>soft drinks</td>\n",
       "    </tr>\n",
       "    <tr>\n",
       "      <th>28</th>\n",
       "      <td>342306</td>\n",
       "      <td>52</td>\n",
       "      <td>prior</td>\n",
       "      <td>9</td>\n",
       "      <td>1</td>\n",
       "      <td>11</td>\n",
       "      <td>7.0</td>\n",
       "      <td>196</td>\n",
       "      <td>5</td>\n",
       "      <td>1</td>\n",
       "      <td>Soda</td>\n",
       "      <td>77</td>\n",
       "      <td>7</td>\n",
       "      <td>beverages</td>\n",
       "      <td>soft drinks</td>\n",
       "    </tr>\n",
       "    <tr>\n",
       "      <th>29</th>\n",
       "      <td>1520353</td>\n",
       "      <td>52</td>\n",
       "      <td>prior</td>\n",
       "      <td>10</td>\n",
       "      <td>2</td>\n",
       "      <td>10</td>\n",
       "      <td>8.0</td>\n",
       "      <td>196</td>\n",
       "      <td>4</td>\n",
       "      <td>1</td>\n",
       "      <td>Soda</td>\n",
       "      <td>77</td>\n",
       "      <td>7</td>\n",
       "      <td>beverages</td>\n",
       "      <td>soft drinks</td>\n",
       "    </tr>\n",
       "    <tr>\n",
       "      <th>...</th>\n",
       "      <td>...</td>\n",
       "      <td>...</td>\n",
       "      <td>...</td>\n",
       "      <td>...</td>\n",
       "      <td>...</td>\n",
       "      <td>...</td>\n",
       "      <td>...</td>\n",
       "      <td>...</td>\n",
       "      <td>...</td>\n",
       "      <td>...</td>\n",
       "      <td>...</td>\n",
       "      <td>...</td>\n",
       "      <td>...</td>\n",
       "      <td>...</td>\n",
       "      <td>...</td>\n",
       "    </tr>\n",
       "    <tr>\n",
       "      <th>32434459</th>\n",
       "      <td>1594218</td>\n",
       "      <td>112019</td>\n",
       "      <td>prior</td>\n",
       "      <td>8</td>\n",
       "      <td>4</td>\n",
       "      <td>16</td>\n",
       "      <td>5.0</td>\n",
       "      <td>19066</td>\n",
       "      <td>2</td>\n",
       "      <td>0</td>\n",
       "      <td>Organic Wheat Bran</td>\n",
       "      <td>68</td>\n",
       "      <td>10</td>\n",
       "      <td>bulk</td>\n",
       "      <td>bulk grains rice dried goods</td>\n",
       "    </tr>\n",
       "    <tr>\n",
       "      <th>32434460</th>\n",
       "      <td>475207</td>\n",
       "      <td>125309</td>\n",
       "      <td>prior</td>\n",
       "      <td>10</td>\n",
       "      <td>5</td>\n",
       "      <td>15</td>\n",
       "      <td>3.0</td>\n",
       "      <td>19066</td>\n",
       "      <td>19</td>\n",
       "      <td>0</td>\n",
       "      <td>Organic Wheat Bran</td>\n",
       "      <td>68</td>\n",
       "      <td>10</td>\n",
       "      <td>bulk</td>\n",
       "      <td>bulk grains rice dried goods</td>\n",
       "    </tr>\n",
       "    <tr>\n",
       "      <th>32434461</th>\n",
       "      <td>866595</td>\n",
       "      <td>127376</td>\n",
       "      <td>prior</td>\n",
       "      <td>3</td>\n",
       "      <td>1</td>\n",
       "      <td>11</td>\n",
       "      <td>30.0</td>\n",
       "      <td>19066</td>\n",
       "      <td>24</td>\n",
       "      <td>0</td>\n",
       "      <td>Organic Wheat Bran</td>\n",
       "      <td>68</td>\n",
       "      <td>10</td>\n",
       "      <td>bulk</td>\n",
       "      <td>bulk grains rice dried goods</td>\n",
       "    </tr>\n",
       "    <tr>\n",
       "      <th>32434462</th>\n",
       "      <td>643500</td>\n",
       "      <td>134489</td>\n",
       "      <td>prior</td>\n",
       "      <td>20</td>\n",
       "      <td>3</td>\n",
       "      <td>18</td>\n",
       "      <td>11.0</td>\n",
       "      <td>19066</td>\n",
       "      <td>32</td>\n",
       "      <td>0</td>\n",
       "      <td>Organic Wheat Bran</td>\n",
       "      <td>68</td>\n",
       "      <td>10</td>\n",
       "      <td>bulk</td>\n",
       "      <td>bulk grains rice dried goods</td>\n",
       "    </tr>\n",
       "    <tr>\n",
       "      <th>32434463</th>\n",
       "      <td>1374152</td>\n",
       "      <td>137916</td>\n",
       "      <td>prior</td>\n",
       "      <td>24</td>\n",
       "      <td>5</td>\n",
       "      <td>13</td>\n",
       "      <td>8.0</td>\n",
       "      <td>19066</td>\n",
       "      <td>37</td>\n",
       "      <td>0</td>\n",
       "      <td>Organic Wheat Bran</td>\n",
       "      <td>68</td>\n",
       "      <td>10</td>\n",
       "      <td>bulk</td>\n",
       "      <td>bulk grains rice dried goods</td>\n",
       "    </tr>\n",
       "    <tr>\n",
       "      <th>32434464</th>\n",
       "      <td>1450054</td>\n",
       "      <td>144954</td>\n",
       "      <td>prior</td>\n",
       "      <td>4</td>\n",
       "      <td>0</td>\n",
       "      <td>10</td>\n",
       "      <td>28.0</td>\n",
       "      <td>19066</td>\n",
       "      <td>25</td>\n",
       "      <td>0</td>\n",
       "      <td>Organic Wheat Bran</td>\n",
       "      <td>68</td>\n",
       "      <td>10</td>\n",
       "      <td>bulk</td>\n",
       "      <td>bulk grains rice dried goods</td>\n",
       "    </tr>\n",
       "    <tr>\n",
       "      <th>32434465</th>\n",
       "      <td>1942870</td>\n",
       "      <td>145764</td>\n",
       "      <td>prior</td>\n",
       "      <td>43</td>\n",
       "      <td>1</td>\n",
       "      <td>9</td>\n",
       "      <td>5.0</td>\n",
       "      <td>19066</td>\n",
       "      <td>8</td>\n",
       "      <td>0</td>\n",
       "      <td>Organic Wheat Bran</td>\n",
       "      <td>68</td>\n",
       "      <td>10</td>\n",
       "      <td>bulk</td>\n",
       "      <td>bulk grains rice dried goods</td>\n",
       "    </tr>\n",
       "    <tr>\n",
       "      <th>32434466</th>\n",
       "      <td>2677748</td>\n",
       "      <td>145764</td>\n",
       "      <td>prior</td>\n",
       "      <td>49</td>\n",
       "      <td>1</td>\n",
       "      <td>12</td>\n",
       "      <td>4.0</td>\n",
       "      <td>19066</td>\n",
       "      <td>9</td>\n",
       "      <td>1</td>\n",
       "      <td>Organic Wheat Bran</td>\n",
       "      <td>68</td>\n",
       "      <td>10</td>\n",
       "      <td>bulk</td>\n",
       "      <td>bulk grains rice dried goods</td>\n",
       "    </tr>\n",
       "    <tr>\n",
       "      <th>32434467</th>\n",
       "      <td>320369</td>\n",
       "      <td>157216</td>\n",
       "      <td>prior</td>\n",
       "      <td>4</td>\n",
       "      <td>2</td>\n",
       "      <td>14</td>\n",
       "      <td>30.0</td>\n",
       "      <td>19066</td>\n",
       "      <td>2</td>\n",
       "      <td>0</td>\n",
       "      <td>Organic Wheat Bran</td>\n",
       "      <td>68</td>\n",
       "      <td>10</td>\n",
       "      <td>bulk</td>\n",
       "      <td>bulk grains rice dried goods</td>\n",
       "    </tr>\n",
       "    <tr>\n",
       "      <th>32434468</th>\n",
       "      <td>1236840</td>\n",
       "      <td>168391</td>\n",
       "      <td>prior</td>\n",
       "      <td>47</td>\n",
       "      <td>1</td>\n",
       "      <td>8</td>\n",
       "      <td>3.0</td>\n",
       "      <td>19066</td>\n",
       "      <td>7</td>\n",
       "      <td>0</td>\n",
       "      <td>Organic Wheat Bran</td>\n",
       "      <td>68</td>\n",
       "      <td>10</td>\n",
       "      <td>bulk</td>\n",
       "      <td>bulk grains rice dried goods</td>\n",
       "    </tr>\n",
       "    <tr>\n",
       "      <th>32434469</th>\n",
       "      <td>142252</td>\n",
       "      <td>173054</td>\n",
       "      <td>prior</td>\n",
       "      <td>15</td>\n",
       "      <td>2</td>\n",
       "      <td>13</td>\n",
       "      <td>6.0</td>\n",
       "      <td>19066</td>\n",
       "      <td>12</td>\n",
       "      <td>0</td>\n",
       "      <td>Organic Wheat Bran</td>\n",
       "      <td>68</td>\n",
       "      <td>10</td>\n",
       "      <td>bulk</td>\n",
       "      <td>bulk grains rice dried goods</td>\n",
       "    </tr>\n",
       "    <tr>\n",
       "      <th>32434470</th>\n",
       "      <td>2594758</td>\n",
       "      <td>19875</td>\n",
       "      <td>prior</td>\n",
       "      <td>76</td>\n",
       "      <td>5</td>\n",
       "      <td>12</td>\n",
       "      <td>1.0</td>\n",
       "      <td>27414</td>\n",
       "      <td>2</td>\n",
       "      <td>0</td>\n",
       "      <td>Organic Emmer Farro</td>\n",
       "      <td>68</td>\n",
       "      <td>10</td>\n",
       "      <td>bulk</td>\n",
       "      <td>bulk grains rice dried goods</td>\n",
       "    </tr>\n",
       "    <tr>\n",
       "      <th>32434471</th>\n",
       "      <td>1276188</td>\n",
       "      <td>20964</td>\n",
       "      <td>prior</td>\n",
       "      <td>16</td>\n",
       "      <td>4</td>\n",
       "      <td>9</td>\n",
       "      <td>3.0</td>\n",
       "      <td>27414</td>\n",
       "      <td>9</td>\n",
       "      <td>0</td>\n",
       "      <td>Organic Emmer Farro</td>\n",
       "      <td>68</td>\n",
       "      <td>10</td>\n",
       "      <td>bulk</td>\n",
       "      <td>bulk grains rice dried goods</td>\n",
       "    </tr>\n",
       "    <tr>\n",
       "      <th>32434472</th>\n",
       "      <td>3084357</td>\n",
       "      <td>23612</td>\n",
       "      <td>prior</td>\n",
       "      <td>30</td>\n",
       "      <td>3</td>\n",
       "      <td>15</td>\n",
       "      <td>11.0</td>\n",
       "      <td>27414</td>\n",
       "      <td>11</td>\n",
       "      <td>0</td>\n",
       "      <td>Organic Emmer Farro</td>\n",
       "      <td>68</td>\n",
       "      <td>10</td>\n",
       "      <td>bulk</td>\n",
       "      <td>bulk grains rice dried goods</td>\n",
       "    </tr>\n",
       "    <tr>\n",
       "      <th>32434473</th>\n",
       "      <td>2482335</td>\n",
       "      <td>27445</td>\n",
       "      <td>prior</td>\n",
       "      <td>53</td>\n",
       "      <td>3</td>\n",
       "      <td>7</td>\n",
       "      <td>4.0</td>\n",
       "      <td>27414</td>\n",
       "      <td>4</td>\n",
       "      <td>0</td>\n",
       "      <td>Organic Emmer Farro</td>\n",
       "      <td>68</td>\n",
       "      <td>10</td>\n",
       "      <td>bulk</td>\n",
       "      <td>bulk grains rice dried goods</td>\n",
       "    </tr>\n",
       "    <tr>\n",
       "      <th>32434474</th>\n",
       "      <td>431923</td>\n",
       "      <td>39605</td>\n",
       "      <td>prior</td>\n",
       "      <td>7</td>\n",
       "      <td>3</td>\n",
       "      <td>18</td>\n",
       "      <td>8.0</td>\n",
       "      <td>27414</td>\n",
       "      <td>2</td>\n",
       "      <td>0</td>\n",
       "      <td>Organic Emmer Farro</td>\n",
       "      <td>68</td>\n",
       "      <td>10</td>\n",
       "      <td>bulk</td>\n",
       "      <td>bulk grains rice dried goods</td>\n",
       "    </tr>\n",
       "    <tr>\n",
       "      <th>32434475</th>\n",
       "      <td>1876739</td>\n",
       "      <td>39605</td>\n",
       "      <td>prior</td>\n",
       "      <td>16</td>\n",
       "      <td>4</td>\n",
       "      <td>19</td>\n",
       "      <td>10.0</td>\n",
       "      <td>27414</td>\n",
       "      <td>4</td>\n",
       "      <td>1</td>\n",
       "      <td>Organic Emmer Farro</td>\n",
       "      <td>68</td>\n",
       "      <td>10</td>\n",
       "      <td>bulk</td>\n",
       "      <td>bulk grains rice dried goods</td>\n",
       "    </tr>\n",
       "    <tr>\n",
       "      <th>32434476</th>\n",
       "      <td>1284427</td>\n",
       "      <td>63374</td>\n",
       "      <td>prior</td>\n",
       "      <td>15</td>\n",
       "      <td>2</td>\n",
       "      <td>21</td>\n",
       "      <td>8.0</td>\n",
       "      <td>27414</td>\n",
       "      <td>12</td>\n",
       "      <td>0</td>\n",
       "      <td>Organic Emmer Farro</td>\n",
       "      <td>68</td>\n",
       "      <td>10</td>\n",
       "      <td>bulk</td>\n",
       "      <td>bulk grains rice dried goods</td>\n",
       "    </tr>\n",
       "    <tr>\n",
       "      <th>32434477</th>\n",
       "      <td>3010357</td>\n",
       "      <td>73539</td>\n",
       "      <td>prior</td>\n",
       "      <td>3</td>\n",
       "      <td>2</td>\n",
       "      <td>17</td>\n",
       "      <td>22.0</td>\n",
       "      <td>27414</td>\n",
       "      <td>12</td>\n",
       "      <td>0</td>\n",
       "      <td>Organic Emmer Farro</td>\n",
       "      <td>68</td>\n",
       "      <td>10</td>\n",
       "      <td>bulk</td>\n",
       "      <td>bulk grains rice dried goods</td>\n",
       "    </tr>\n",
       "    <tr>\n",
       "      <th>32434478</th>\n",
       "      <td>34371</td>\n",
       "      <td>80613</td>\n",
       "      <td>prior</td>\n",
       "      <td>11</td>\n",
       "      <td>0</td>\n",
       "      <td>18</td>\n",
       "      <td>14.0</td>\n",
       "      <td>27414</td>\n",
       "      <td>4</td>\n",
       "      <td>0</td>\n",
       "      <td>Organic Emmer Farro</td>\n",
       "      <td>68</td>\n",
       "      <td>10</td>\n",
       "      <td>bulk</td>\n",
       "      <td>bulk grains rice dried goods</td>\n",
       "    </tr>\n",
       "    <tr>\n",
       "      <th>32434479</th>\n",
       "      <td>2675372</td>\n",
       "      <td>95621</td>\n",
       "      <td>prior</td>\n",
       "      <td>3</td>\n",
       "      <td>3</td>\n",
       "      <td>7</td>\n",
       "      <td>30.0</td>\n",
       "      <td>27414</td>\n",
       "      <td>1</td>\n",
       "      <td>0</td>\n",
       "      <td>Organic Emmer Farro</td>\n",
       "      <td>68</td>\n",
       "      <td>10</td>\n",
       "      <td>bulk</td>\n",
       "      <td>bulk grains rice dried goods</td>\n",
       "    </tr>\n",
       "    <tr>\n",
       "      <th>32434480</th>\n",
       "      <td>2385114</td>\n",
       "      <td>97504</td>\n",
       "      <td>prior</td>\n",
       "      <td>2</td>\n",
       "      <td>1</td>\n",
       "      <td>16</td>\n",
       "      <td>21.0</td>\n",
       "      <td>27414</td>\n",
       "      <td>11</td>\n",
       "      <td>0</td>\n",
       "      <td>Organic Emmer Farro</td>\n",
       "      <td>68</td>\n",
       "      <td>10</td>\n",
       "      <td>bulk</td>\n",
       "      <td>bulk grains rice dried goods</td>\n",
       "    </tr>\n",
       "    <tr>\n",
       "      <th>32434481</th>\n",
       "      <td>899611</td>\n",
       "      <td>108564</td>\n",
       "      <td>prior</td>\n",
       "      <td>10</td>\n",
       "      <td>1</td>\n",
       "      <td>13</td>\n",
       "      <td>11.0</td>\n",
       "      <td>27414</td>\n",
       "      <td>5</td>\n",
       "      <td>0</td>\n",
       "      <td>Organic Emmer Farro</td>\n",
       "      <td>68</td>\n",
       "      <td>10</td>\n",
       "      <td>bulk</td>\n",
       "      <td>bulk grains rice dried goods</td>\n",
       "    </tr>\n",
       "    <tr>\n",
       "      <th>32434482</th>\n",
       "      <td>918749</td>\n",
       "      <td>119382</td>\n",
       "      <td>prior</td>\n",
       "      <td>12</td>\n",
       "      <td>0</td>\n",
       "      <td>20</td>\n",
       "      <td>14.0</td>\n",
       "      <td>27414</td>\n",
       "      <td>8</td>\n",
       "      <td>0</td>\n",
       "      <td>Organic Emmer Farro</td>\n",
       "      <td>68</td>\n",
       "      <td>10</td>\n",
       "      <td>bulk</td>\n",
       "      <td>bulk grains rice dried goods</td>\n",
       "    </tr>\n",
       "    <tr>\n",
       "      <th>32434483</th>\n",
       "      <td>2849594</td>\n",
       "      <td>122544</td>\n",
       "      <td>prior</td>\n",
       "      <td>5</td>\n",
       "      <td>5</td>\n",
       "      <td>15</td>\n",
       "      <td>30.0</td>\n",
       "      <td>27414</td>\n",
       "      <td>3</td>\n",
       "      <td>0</td>\n",
       "      <td>Organic Emmer Farro</td>\n",
       "      <td>68</td>\n",
       "      <td>10</td>\n",
       "      <td>bulk</td>\n",
       "      <td>bulk grains rice dried goods</td>\n",
       "    </tr>\n",
       "    <tr>\n",
       "      <th>32434484</th>\n",
       "      <td>2939884</td>\n",
       "      <td>130327</td>\n",
       "      <td>prior</td>\n",
       "      <td>3</td>\n",
       "      <td>1</td>\n",
       "      <td>13</td>\n",
       "      <td>0.0</td>\n",
       "      <td>27414</td>\n",
       "      <td>5</td>\n",
       "      <td>0</td>\n",
       "      <td>Organic Emmer Farro</td>\n",
       "      <td>68</td>\n",
       "      <td>10</td>\n",
       "      <td>bulk</td>\n",
       "      <td>bulk grains rice dried goods</td>\n",
       "    </tr>\n",
       "    <tr>\n",
       "      <th>32434485</th>\n",
       "      <td>3267360</td>\n",
       "      <td>150683</td>\n",
       "      <td>prior</td>\n",
       "      <td>1</td>\n",
       "      <td>5</td>\n",
       "      <td>16</td>\n",
       "      <td>NaN</td>\n",
       "      <td>27414</td>\n",
       "      <td>13</td>\n",
       "      <td>0</td>\n",
       "      <td>Organic Emmer Farro</td>\n",
       "      <td>68</td>\n",
       "      <td>10</td>\n",
       "      <td>bulk</td>\n",
       "      <td>bulk grains rice dried goods</td>\n",
       "    </tr>\n",
       "    <tr>\n",
       "      <th>32434486</th>\n",
       "      <td>414077</td>\n",
       "      <td>159238</td>\n",
       "      <td>prior</td>\n",
       "      <td>9</td>\n",
       "      <td>6</td>\n",
       "      <td>12</td>\n",
       "      <td>8.0</td>\n",
       "      <td>27414</td>\n",
       "      <td>1</td>\n",
       "      <td>0</td>\n",
       "      <td>Organic Emmer Farro</td>\n",
       "      <td>68</td>\n",
       "      <td>10</td>\n",
       "      <td>bulk</td>\n",
       "      <td>bulk grains rice dried goods</td>\n",
       "    </tr>\n",
       "    <tr>\n",
       "      <th>32434487</th>\n",
       "      <td>813243</td>\n",
       "      <td>171675</td>\n",
       "      <td>prior</td>\n",
       "      <td>13</td>\n",
       "      <td>2</td>\n",
       "      <td>6</td>\n",
       "      <td>13.0</td>\n",
       "      <td>27414</td>\n",
       "      <td>34</td>\n",
       "      <td>0</td>\n",
       "      <td>Organic Emmer Farro</td>\n",
       "      <td>68</td>\n",
       "      <td>10</td>\n",
       "      <td>bulk</td>\n",
       "      <td>bulk grains rice dried goods</td>\n",
       "    </tr>\n",
       "    <tr>\n",
       "      <th>32434488</th>\n",
       "      <td>909758</td>\n",
       "      <td>176580</td>\n",
       "      <td>prior</td>\n",
       "      <td>4</td>\n",
       "      <td>6</td>\n",
       "      <td>15</td>\n",
       "      <td>5.0</td>\n",
       "      <td>27414</td>\n",
       "      <td>15</td>\n",
       "      <td>0</td>\n",
       "      <td>Organic Emmer Farro</td>\n",
       "      <td>68</td>\n",
       "      <td>10</td>\n",
       "      <td>bulk</td>\n",
       "      <td>bulk grains rice dried goods</td>\n",
       "    </tr>\n",
       "  </tbody>\n",
       "</table>\n",
       "<p>32434489 rows × 15 columns</p>\n",
       "</div>"
      ],
      "text/plain": [
       "          order_id  user_id eval_set  order_number  order_dow  \\\n",
       "0          2539329        1    prior             1          2   \n",
       "1          2398795        1    prior             2          3   \n",
       "2           473747        1    prior             3          3   \n",
       "3          2254736        1    prior             4          4   \n",
       "4           431534        1    prior             5          4   \n",
       "5          3367565        1    prior             6          2   \n",
       "6           550135        1    prior             7          1   \n",
       "7          3108588        1    prior             8          1   \n",
       "8          2295261        1    prior             9          1   \n",
       "9          2550362        1    prior            10          4   \n",
       "10         2968173       15    prior            15          1   \n",
       "11         1870022       15    prior            17          2   \n",
       "12         1911383       15    prior            18          2   \n",
       "13         2715276       15    prior            21          1   \n",
       "14          487368       15    prior            22          1   \n",
       "15         2293453       19    prior             2          5   \n",
       "16         1973799       19    prior             5          6   \n",
       "17          532817       19    prior             7          4   \n",
       "18         1573906       21    prior            10          3   \n",
       "19         1593000       31    prior            10          3   \n",
       "20         2231262       31    prior            17          3   \n",
       "21         2580647       43    prior             6          4   \n",
       "22         2187180       43    prior             9          4   \n",
       "23         2497897       52    prior             1          1   \n",
       "24         1318871       52    prior             2          1   \n",
       "25         1261384       52    prior             3          1   \n",
       "26          580568       52    prior             5          2   \n",
       "27         2428073       52    prior             7          2   \n",
       "28          342306       52    prior             9          1   \n",
       "29         1520353       52    prior            10          2   \n",
       "...            ...      ...      ...           ...        ...   \n",
       "32434459   1594218   112019    prior             8          4   \n",
       "32434460    475207   125309    prior            10          5   \n",
       "32434461    866595   127376    prior             3          1   \n",
       "32434462    643500   134489    prior            20          3   \n",
       "32434463   1374152   137916    prior            24          5   \n",
       "32434464   1450054   144954    prior             4          0   \n",
       "32434465   1942870   145764    prior            43          1   \n",
       "32434466   2677748   145764    prior            49          1   \n",
       "32434467    320369   157216    prior             4          2   \n",
       "32434468   1236840   168391    prior            47          1   \n",
       "32434469    142252   173054    prior            15          2   \n",
       "32434470   2594758    19875    prior            76          5   \n",
       "32434471   1276188    20964    prior            16          4   \n",
       "32434472   3084357    23612    prior            30          3   \n",
       "32434473   2482335    27445    prior            53          3   \n",
       "32434474    431923    39605    prior             7          3   \n",
       "32434475   1876739    39605    prior            16          4   \n",
       "32434476   1284427    63374    prior            15          2   \n",
       "32434477   3010357    73539    prior             3          2   \n",
       "32434478     34371    80613    prior            11          0   \n",
       "32434479   2675372    95621    prior             3          3   \n",
       "32434480   2385114    97504    prior             2          1   \n",
       "32434481    899611   108564    prior            10          1   \n",
       "32434482    918749   119382    prior            12          0   \n",
       "32434483   2849594   122544    prior             5          5   \n",
       "32434484   2939884   130327    prior             3          1   \n",
       "32434485   3267360   150683    prior             1          5   \n",
       "32434486    414077   159238    prior             9          6   \n",
       "32434487    813243   171675    prior            13          2   \n",
       "32434488    909758   176580    prior             4          6   \n",
       "\n",
       "          order_hour_of_day  days_since_prior_order  product_id  \\\n",
       "0                         8                     NaN         196   \n",
       "1                         7                    15.0         196   \n",
       "2                        12                    21.0         196   \n",
       "3                         7                    29.0         196   \n",
       "4                        15                    28.0         196   \n",
       "5                         7                    19.0         196   \n",
       "6                         9                    20.0         196   \n",
       "7                        14                    14.0         196   \n",
       "8                        16                     0.0         196   \n",
       "9                         8                    30.0         196   \n",
       "10                        9                     7.0         196   \n",
       "11                       16                     8.0         196   \n",
       "12                       11                     7.0         196   \n",
       "13                        9                     7.0         196   \n",
       "14                       10                    14.0         196   \n",
       "15                       14                     6.0         196   \n",
       "16                       12                     8.0         196   \n",
       "17                       17                     6.0         196   \n",
       "18                       10                     6.0         196   \n",
       "19                        8                     7.0         196   \n",
       "20                       11                     8.0         196   \n",
       "21                       16                     4.0         196   \n",
       "22                       12                     3.0         196   \n",
       "23                        9                     NaN         196   \n",
       "24                       10                     7.0         196   \n",
       "25                       10                     7.0         196   \n",
       "26                       10                     8.0         196   \n",
       "27                        7                     8.0         196   \n",
       "28                       11                     7.0         196   \n",
       "29                       10                     8.0         196   \n",
       "...                     ...                     ...         ...   \n",
       "32434459                 16                     5.0       19066   \n",
       "32434460                 15                     3.0       19066   \n",
       "32434461                 11                    30.0       19066   \n",
       "32434462                 18                    11.0       19066   \n",
       "32434463                 13                     8.0       19066   \n",
       "32434464                 10                    28.0       19066   \n",
       "32434465                  9                     5.0       19066   \n",
       "32434466                 12                     4.0       19066   \n",
       "32434467                 14                    30.0       19066   \n",
       "32434468                  8                     3.0       19066   \n",
       "32434469                 13                     6.0       19066   \n",
       "32434470                 12                     1.0       27414   \n",
       "32434471                  9                     3.0       27414   \n",
       "32434472                 15                    11.0       27414   \n",
       "32434473                  7                     4.0       27414   \n",
       "32434474                 18                     8.0       27414   \n",
       "32434475                 19                    10.0       27414   \n",
       "32434476                 21                     8.0       27414   \n",
       "32434477                 17                    22.0       27414   \n",
       "32434478                 18                    14.0       27414   \n",
       "32434479                  7                    30.0       27414   \n",
       "32434480                 16                    21.0       27414   \n",
       "32434481                 13                    11.0       27414   \n",
       "32434482                 20                    14.0       27414   \n",
       "32434483                 15                    30.0       27414   \n",
       "32434484                 13                     0.0       27414   \n",
       "32434485                 16                     NaN       27414   \n",
       "32434486                 12                     8.0       27414   \n",
       "32434487                  6                    13.0       27414   \n",
       "32434488                 15                     5.0       27414   \n",
       "\n",
       "          add_to_cart_order  reordered         product_name  aisle_id  \\\n",
       "0                         1          0                 Soda        77   \n",
       "1                         1          1                 Soda        77   \n",
       "2                         1          1                 Soda        77   \n",
       "3                         1          1                 Soda        77   \n",
       "4                         1          1                 Soda        77   \n",
       "5                         1          1                 Soda        77   \n",
       "6                         1          1                 Soda        77   \n",
       "7                         2          1                 Soda        77   \n",
       "8                         4          1                 Soda        77   \n",
       "9                         1          1                 Soda        77   \n",
       "10                        2          0                 Soda        77   \n",
       "11                        6          1                 Soda        77   \n",
       "12                        1          1                 Soda        77   \n",
       "13                        1          1                 Soda        77   \n",
       "14                        1          1                 Soda        77   \n",
       "15                        3          0                 Soda        77   \n",
       "16                       15          1                 Soda        77   \n",
       "17                        1          1                 Soda        77   \n",
       "18                        2          0                 Soda        77   \n",
       "19                       17          0                 Soda        77   \n",
       "20                       14          1                 Soda        77   \n",
       "21                        9          0                 Soda        77   \n",
       "22                        1          1                 Soda        77   \n",
       "23                        4          0                 Soda        77   \n",
       "24                        5          1                 Soda        77   \n",
       "25                        3          1                 Soda        77   \n",
       "26                        6          1                 Soda        77   \n",
       "27                        5          1                 Soda        77   \n",
       "28                        5          1                 Soda        77   \n",
       "29                        4          1                 Soda        77   \n",
       "...                     ...        ...                  ...       ...   \n",
       "32434459                  2          0   Organic Wheat Bran        68   \n",
       "32434460                 19          0   Organic Wheat Bran        68   \n",
       "32434461                 24          0   Organic Wheat Bran        68   \n",
       "32434462                 32          0   Organic Wheat Bran        68   \n",
       "32434463                 37          0   Organic Wheat Bran        68   \n",
       "32434464                 25          0   Organic Wheat Bran        68   \n",
       "32434465                  8          0   Organic Wheat Bran        68   \n",
       "32434466                  9          1   Organic Wheat Bran        68   \n",
       "32434467                  2          0   Organic Wheat Bran        68   \n",
       "32434468                  7          0   Organic Wheat Bran        68   \n",
       "32434469                 12          0   Organic Wheat Bran        68   \n",
       "32434470                  2          0  Organic Emmer Farro        68   \n",
       "32434471                  9          0  Organic Emmer Farro        68   \n",
       "32434472                 11          0  Organic Emmer Farro        68   \n",
       "32434473                  4          0  Organic Emmer Farro        68   \n",
       "32434474                  2          0  Organic Emmer Farro        68   \n",
       "32434475                  4          1  Organic Emmer Farro        68   \n",
       "32434476                 12          0  Organic Emmer Farro        68   \n",
       "32434477                 12          0  Organic Emmer Farro        68   \n",
       "32434478                  4          0  Organic Emmer Farro        68   \n",
       "32434479                  1          0  Organic Emmer Farro        68   \n",
       "32434480                 11          0  Organic Emmer Farro        68   \n",
       "32434481                  5          0  Organic Emmer Farro        68   \n",
       "32434482                  8          0  Organic Emmer Farro        68   \n",
       "32434483                  3          0  Organic Emmer Farro        68   \n",
       "32434484                  5          0  Organic Emmer Farro        68   \n",
       "32434485                 13          0  Organic Emmer Farro        68   \n",
       "32434486                  1          0  Organic Emmer Farro        68   \n",
       "32434487                 34          0  Organic Emmer Farro        68   \n",
       "32434488                 15          0  Organic Emmer Farro        68   \n",
       "\n",
       "          department_id department                         aisle  \n",
       "0                     7  beverages                   soft drinks  \n",
       "1                     7  beverages                   soft drinks  \n",
       "2                     7  beverages                   soft drinks  \n",
       "3                     7  beverages                   soft drinks  \n",
       "4                     7  beverages                   soft drinks  \n",
       "5                     7  beverages                   soft drinks  \n",
       "6                     7  beverages                   soft drinks  \n",
       "7                     7  beverages                   soft drinks  \n",
       "8                     7  beverages                   soft drinks  \n",
       "9                     7  beverages                   soft drinks  \n",
       "10                    7  beverages                   soft drinks  \n",
       "11                    7  beverages                   soft drinks  \n",
       "12                    7  beverages                   soft drinks  \n",
       "13                    7  beverages                   soft drinks  \n",
       "14                    7  beverages                   soft drinks  \n",
       "15                    7  beverages                   soft drinks  \n",
       "16                    7  beverages                   soft drinks  \n",
       "17                    7  beverages                   soft drinks  \n",
       "18                    7  beverages                   soft drinks  \n",
       "19                    7  beverages                   soft drinks  \n",
       "20                    7  beverages                   soft drinks  \n",
       "21                    7  beverages                   soft drinks  \n",
       "22                    7  beverages                   soft drinks  \n",
       "23                    7  beverages                   soft drinks  \n",
       "24                    7  beverages                   soft drinks  \n",
       "25                    7  beverages                   soft drinks  \n",
       "26                    7  beverages                   soft drinks  \n",
       "27                    7  beverages                   soft drinks  \n",
       "28                    7  beverages                   soft drinks  \n",
       "29                    7  beverages                   soft drinks  \n",
       "...                 ...        ...                           ...  \n",
       "32434459             10       bulk  bulk grains rice dried goods  \n",
       "32434460             10       bulk  bulk grains rice dried goods  \n",
       "32434461             10       bulk  bulk grains rice dried goods  \n",
       "32434462             10       bulk  bulk grains rice dried goods  \n",
       "32434463             10       bulk  bulk grains rice dried goods  \n",
       "32434464             10       bulk  bulk grains rice dried goods  \n",
       "32434465             10       bulk  bulk grains rice dried goods  \n",
       "32434466             10       bulk  bulk grains rice dried goods  \n",
       "32434467             10       bulk  bulk grains rice dried goods  \n",
       "32434468             10       bulk  bulk grains rice dried goods  \n",
       "32434469             10       bulk  bulk grains rice dried goods  \n",
       "32434470             10       bulk  bulk grains rice dried goods  \n",
       "32434471             10       bulk  bulk grains rice dried goods  \n",
       "32434472             10       bulk  bulk grains rice dried goods  \n",
       "32434473             10       bulk  bulk grains rice dried goods  \n",
       "32434474             10       bulk  bulk grains rice dried goods  \n",
       "32434475             10       bulk  bulk grains rice dried goods  \n",
       "32434476             10       bulk  bulk grains rice dried goods  \n",
       "32434477             10       bulk  bulk grains rice dried goods  \n",
       "32434478             10       bulk  bulk grains rice dried goods  \n",
       "32434479             10       bulk  bulk grains rice dried goods  \n",
       "32434480             10       bulk  bulk grains rice dried goods  \n",
       "32434481             10       bulk  bulk grains rice dried goods  \n",
       "32434482             10       bulk  bulk grains rice dried goods  \n",
       "32434483             10       bulk  bulk grains rice dried goods  \n",
       "32434484             10       bulk  bulk grains rice dried goods  \n",
       "32434485             10       bulk  bulk grains rice dried goods  \n",
       "32434486             10       bulk  bulk grains rice dried goods  \n",
       "32434487             10       bulk  bulk grains rice dried goods  \n",
       "32434488             10       bulk  bulk grains rice dried goods  \n",
       "\n",
       "[32434489 rows x 15 columns]"
      ]
     },
     "execution_count": 43,
     "metadata": {},
     "output_type": "execute_result"
    }
   ],
   "source": [
    "allprior=oprior.merge(prior)\n",
    "allprior=allprior.merge(prod)\n",
    "allprior=allprior.merge(dep)\n",
    "allprior=allprior.merge(aisles)\n",
    "allprior"
   ]
  },
  {
   "cell_type": "code",
   "execution_count": 44,
   "metadata": {
    "collapsed": false
   },
   "outputs": [
    {
     "data": {
      "text/plain": [
       "(32434489, 15)"
      ]
     },
     "execution_count": 44,
     "metadata": {},
     "output_type": "execute_result"
    }
   ],
   "source": [
    "allprior.shape"
   ]
  },
  {
   "cell_type": "code",
   "execution_count": 45,
   "metadata": {
    "collapsed": false
   },
   "outputs": [
    {
     "data": {
      "text/plain": [
       "(1384617, 15)"
      ]
     },
     "execution_count": 45,
     "metadata": {},
     "output_type": "execute_result"
    }
   ],
   "source": [
    "alltrain.shape"
   ]
  },
  {
   "cell_type": "markdown",
   "metadata": {},
   "source": [
    "## ALLTRAIN TABLE"
   ]
  },
  {
   "cell_type": "markdown",
   "metadata": {},
   "source": [
    "## Q9. What is the probability of a specific product being ordered?"
   ]
  },
  {
   "cell_type": "code",
   "execution_count": 46,
   "metadata": {
    "collapsed": false
   },
   "outputs": [
    {
     "data": {
      "text/html": [
       "<div>\n",
       "<table border=\"1\" class=\"dataframe\">\n",
       "  <thead>\n",
       "    <tr style=\"text-align: right;\">\n",
       "      <th></th>\n",
       "      <th>product_name</th>\n",
       "      <th>P(ordered)</th>\n",
       "    </tr>\n",
       "  </thead>\n",
       "  <tbody>\n",
       "    <tr>\n",
       "      <th>Banana</th>\n",
       "      <td>18726</td>\n",
       "      <td>0.013524</td>\n",
       "    </tr>\n",
       "    <tr>\n",
       "      <th>Bag of Organic Bananas</th>\n",
       "      <td>15480</td>\n",
       "      <td>0.011180</td>\n",
       "    </tr>\n",
       "    <tr>\n",
       "      <th>Organic Strawberries</th>\n",
       "      <td>10894</td>\n",
       "      <td>0.007868</td>\n",
       "    </tr>\n",
       "    <tr>\n",
       "      <th>Organic Baby Spinach</th>\n",
       "      <td>9784</td>\n",
       "      <td>0.007066</td>\n",
       "    </tr>\n",
       "    <tr>\n",
       "      <th>Large Lemon</th>\n",
       "      <td>8135</td>\n",
       "      <td>0.005875</td>\n",
       "    </tr>\n",
       "  </tbody>\n",
       "</table>\n",
       "</div>"
      ],
      "text/plain": [
       "                        product_name  P(ordered)\n",
       "Banana                         18726    0.013524\n",
       "Bag of Organic Bananas         15480    0.011180\n",
       "Organic Strawberries           10894    0.007868\n",
       "Organic Baby Spinach            9784    0.007066\n",
       "Large Lemon                     8135    0.005875"
      ]
     },
     "execution_count": 46,
     "metadata": {},
     "output_type": "execute_result"
    }
   ],
   "source": [
    "## Probability of Products being ordered using alltrain table \n",
    "ProbA=alltrain.product_name.value_counts()\n",
    "ProbA=pd.DataFrame(ProbA)\n",
    "ProbA['P(ordered)']=ProbA['product_name']/alltrain.product_name.size\n",
    "ProbA.head(5)"
   ]
  },
  {
   "cell_type": "markdown",
   "metadata": {},
   "source": [
    "## Q10. What is the probability of each department being ordered from?\n"
   ]
  },
  {
   "cell_type": "code",
   "execution_count": 47,
   "metadata": {
    "collapsed": false
   },
   "outputs": [
    {
     "data": {
      "text/html": [
       "<div>\n",
       "<table border=\"1\" class=\"dataframe\">\n",
       "  <thead>\n",
       "    <tr style=\"text-align: right;\">\n",
       "      <th></th>\n",
       "      <th>department</th>\n",
       "      <th>P(ordered)</th>\n",
       "    </tr>\n",
       "  </thead>\n",
       "  <tbody>\n",
       "    <tr>\n",
       "      <th>produce</th>\n",
       "      <td>409087</td>\n",
       "      <td>0.295451</td>\n",
       "    </tr>\n",
       "    <tr>\n",
       "      <th>dairy eggs</th>\n",
       "      <td>217051</td>\n",
       "      <td>0.156759</td>\n",
       "    </tr>\n",
       "    <tr>\n",
       "      <th>snacks</th>\n",
       "      <td>118862</td>\n",
       "      <td>0.085845</td>\n",
       "    </tr>\n",
       "    <tr>\n",
       "      <th>beverages</th>\n",
       "      <td>114046</td>\n",
       "      <td>0.082366</td>\n",
       "    </tr>\n",
       "    <tr>\n",
       "      <th>frozen</th>\n",
       "      <td>100426</td>\n",
       "      <td>0.072530</td>\n",
       "    </tr>\n",
       "  </tbody>\n",
       "</table>\n",
       "</div>"
      ],
      "text/plain": [
       "            department  P(ordered)\n",
       "produce         409087    0.295451\n",
       "dairy eggs      217051    0.156759\n",
       "snacks          118862    0.085845\n",
       "beverages       114046    0.082366\n",
       "frozen          100426    0.072530"
      ]
     },
     "execution_count": 47,
     "metadata": {},
     "output_type": "execute_result"
    }
   ],
   "source": [
    "ProbD=alltrain.department.value_counts()\n",
    "ProbD=pd.DataFrame(ProbD)\n",
    "ProbD['P(ordered)']=ProbD['department']/alltrain.department.size\n",
    "ProbD.head(5)"
   ]
  },
  {
   "cell_type": "markdown",
   "metadata": {},
   "source": [
    "## Q11. What is the probability of each aisle being ordered from?\n"
   ]
  },
  {
   "cell_type": "code",
   "execution_count": 48,
   "metadata": {
    "collapsed": false
   },
   "outputs": [
    {
     "data": {
      "text/html": [
       "<div>\n",
       "<table border=\"1\" class=\"dataframe\">\n",
       "  <thead>\n",
       "    <tr style=\"text-align: right;\">\n",
       "      <th></th>\n",
       "      <th>aisle</th>\n",
       "      <th>P(ordered)</th>\n",
       "    </tr>\n",
       "  </thead>\n",
       "  <tbody>\n",
       "    <tr>\n",
       "      <th>fresh vegetables</th>\n",
       "      <td>150609</td>\n",
       "      <td>0.108773</td>\n",
       "    </tr>\n",
       "    <tr>\n",
       "      <th>fresh fruits</th>\n",
       "      <td>150473</td>\n",
       "      <td>0.108675</td>\n",
       "    </tr>\n",
       "    <tr>\n",
       "      <th>packaged vegetables fruits</th>\n",
       "      <td>78493</td>\n",
       "      <td>0.056689</td>\n",
       "    </tr>\n",
       "    <tr>\n",
       "      <th>yogurt</th>\n",
       "      <td>55240</td>\n",
       "      <td>0.039896</td>\n",
       "    </tr>\n",
       "    <tr>\n",
       "      <th>packaged cheese</th>\n",
       "      <td>41699</td>\n",
       "      <td>0.030116</td>\n",
       "    </tr>\n",
       "  </tbody>\n",
       "</table>\n",
       "</div>"
      ],
      "text/plain": [
       "                             aisle  P(ordered)\n",
       "fresh vegetables            150609    0.108773\n",
       "fresh fruits                150473    0.108675\n",
       "packaged vegetables fruits   78493    0.056689\n",
       "yogurt                       55240    0.039896\n",
       "packaged cheese              41699    0.030116"
      ]
     },
     "execution_count": 48,
     "metadata": {},
     "output_type": "execute_result"
    }
   ],
   "source": [
    "ProbB=alltrain.aisle.value_counts()\n",
    "ProbB=pd.DataFrame(ProbB)\n",
    "ProbB['P(ordered)']=ProbB['aisle']/alltrain.aisle.size\n",
    "ProbB.head(5)"
   ]
  },
  {
   "cell_type": "markdown",
   "metadata": {},
   "source": [
    "## Q12. Can you classify the customer as MEAT EATER,  VEGETARIAN, VEGAN?"
   ]
  },
  {
   "cell_type": "markdown",
   "metadata": {},
   "source": [
    "### MEAT EATERS \n",
    "(will order from aisle_id = 5, 7, 15, 34, 35, 39, 49, 95, 96, 106, 122)"
   ]
  },
  {
   "cell_type": "code",
   "execution_count": 49,
   "metadata": {
    "collapsed": false
   },
   "outputs": [
    {
     "data": {
      "text/plain": [
       "38858"
      ]
     },
     "execution_count": 49,
     "metadata": {},
     "output_type": "execute_result"
    }
   ],
   "source": [
    "Train=alltrain.sort_values(by='user_id')\n",
    "Meat1=Train[Train.aisle_id==5].sort_values(by='user_id')\n",
    "Meat2=Train[Train.aisle_id==7].sort_values(by='user_id')\n",
    "Meat3=Train[Train.aisle_id==15].sort_values(by='user_id')\n",
    "Meat4=Train[Train.aisle_id==34].sort_values(by='user_id')\n",
    "Meat5=Train[Train.aisle_id==35].sort_values(by='user_id')\n",
    "Meat6=Train[Train.aisle_id==39].sort_values(by='user_id')\n",
    "Meat7=Train[Train.aisle_id==49].sort_values(by='user_id')\n",
    "Meat8=Train[Train.aisle_id==95].sort_values(by='user_id')\n",
    "Meat9=Train[Train.aisle_id==96].sort_values(by='user_id')\n",
    "Meat10=Train[Train.aisle_id==106].sort_values(by='user_id')\n",
    "Meat11=Train[Train.aisle_id==122].sort_values(by='user_id')\n",
    "\n",
    "#Meat Eaters DataFrame\n",
    "MeatE=pd.concat([Meat1,Meat2,Meat3, Meat4,Meat5, Meat6, Meat7, Meat8, Meat9, Meat10, Meat11])\n",
    "\n",
    "# Number of meat eaters out of 131209  customers\n",
    "MeatEnumcust=MeatE.user_id.unique()\n",
    "MeatEnumcust.size\n"
   ]
  },
  {
   "cell_type": "code",
   "execution_count": 50,
   "metadata": {
    "collapsed": false
   },
   "outputs": [
    {
     "data": {
      "text/plain": [
       "array([    14,     43,     44, ..., 205422, 205528, 205825], dtype=int64)"
      ]
     },
     "execution_count": 50,
     "metadata": {},
     "output_type": "execute_result"
    }
   ],
   "source": [
    "MeatEnumcust"
   ]
  },
  {
   "cell_type": "code",
   "execution_count": 51,
   "metadata": {
    "collapsed": false
   },
   "outputs": [
    {
     "data": {
      "text/plain": [
       "131209"
      ]
     },
     "execution_count": 51,
     "metadata": {},
     "output_type": "execute_result"
    }
   ],
   "source": [
    "traincust=alltrain.user_id.unique().size\n",
    "traincust"
   ]
  },
  {
   "cell_type": "markdown",
   "metadata": {},
   "source": [
    "##  Meat & Seafood Eaters (38,858 Customers)"
   ]
  },
  {
   "cell_type": "code",
   "execution_count": 52,
   "metadata": {
    "collapsed": false
   },
   "outputs": [
    {
     "data": {
      "text/plain": [
       "38858"
      ]
     },
     "execution_count": 52,
     "metadata": {},
     "output_type": "execute_result"
    }
   ],
   "source": [
    "MeatEnumcust.size"
   ]
  },
  {
   "cell_type": "code",
   "execution_count": 53,
   "metadata": {
    "collapsed": false
   },
   "outputs": [
    {
     "data": {
      "text/plain": [
       "(1327866, 16)"
      ]
     },
     "execution_count": 53,
     "metadata": {},
     "output_type": "execute_result"
    }
   ],
   "source": [
    "#MeatE is taken out of Train DF\n",
    "NonMeat=Train.merge(MeatE, how='outer', indicator=True)\n",
    "NonMeat=NonMeat[NonMeat._merge=='left_only']\n",
    "NonMeat.shape"
   ]
  },
  {
   "cell_type": "code",
   "execution_count": 54,
   "metadata": {
    "collapsed": false
   },
   "outputs": [
    {
     "data": {
      "text/plain": [
       "(1384617, 15)"
      ]
     },
     "execution_count": 54,
     "metadata": {},
     "output_type": "execute_result"
    }
   ],
   "source": [
    "Train.shape"
   ]
  },
  {
   "cell_type": "code",
   "execution_count": 55,
   "metadata": {
    "collapsed": false
   },
   "outputs": [
    {
     "data": {
      "text/plain": [
       "38858"
      ]
     },
     "execution_count": 55,
     "metadata": {},
     "output_type": "execute_result"
    }
   ],
   "source": [
    "MeatE.user_id.unique().size"
   ]
  },
  {
   "cell_type": "code",
   "execution_count": 56,
   "metadata": {
    "collapsed": false
   },
   "outputs": [
    {
     "data": {
      "text/plain": [
       "(56751, 15)"
      ]
     },
     "execution_count": 56,
     "metadata": {},
     "output_type": "execute_result"
    }
   ],
   "source": [
    "MeatE.shape"
   ]
  },
  {
   "cell_type": "code",
   "execution_count": 57,
   "metadata": {
    "collapsed": false
   },
   "outputs": [
    {
     "data": {
      "text/plain": [
       "(1384617, 15)"
      ]
     },
     "execution_count": 57,
     "metadata": {},
     "output_type": "execute_result"
    }
   ],
   "source": [
    "alltrain.shape"
   ]
  },
  {
   "cell_type": "markdown",
   "metadata": {
    "collapsed": true
   },
   "source": [
    "## MeatEaters & meat+ Fish eaters (34,287 customers)"
   ]
  },
  {
   "cell_type": "code",
   "execution_count": 58,
   "metadata": {
    "collapsed": false
   },
   "outputs": [
    {
     "data": {
      "text/plain": [
       "34287"
      ]
     },
     "execution_count": 58,
     "metadata": {},
     "output_type": "execute_result"
    }
   ],
   "source": [
    "## No Fish Eaters\n",
    "OnlyMeat=pd.concat([Meat1,Meat2,Meat5, Meat7, Meat9, Meat10, Meat11])\n",
    "NoFish=OnlyMeat.user_id.unique()\n",
    "NoFish.size\n"
   ]
  },
  {
   "cell_type": "code",
   "execution_count": 59,
   "metadata": {
    "collapsed": false
   },
   "outputs": [
    {
     "data": {
      "text/html": [
       "<div>\n",
       "<table border=\"1\" class=\"dataframe\">\n",
       "  <thead>\n",
       "    <tr style=\"text-align: right;\">\n",
       "      <th></th>\n",
       "      <th>user_id</th>\n",
       "      <th>category</th>\n",
       "    </tr>\n",
       "  </thead>\n",
       "  <tbody>\n",
       "    <tr>\n",
       "      <th>0</th>\n",
       "      <td>14</td>\n",
       "      <td>Meat Lovers</td>\n",
       "    </tr>\n",
       "    <tr>\n",
       "      <th>1</th>\n",
       "      <td>43</td>\n",
       "      <td>Meat Lovers</td>\n",
       "    </tr>\n",
       "    <tr>\n",
       "      <th>2</th>\n",
       "      <td>44</td>\n",
       "      <td>Meat Lovers</td>\n",
       "    </tr>\n",
       "    <tr>\n",
       "      <th>3</th>\n",
       "      <td>53</td>\n",
       "      <td>Meat Lovers</td>\n",
       "    </tr>\n",
       "    <tr>\n",
       "      <th>4</th>\n",
       "      <td>201</td>\n",
       "      <td>Meat Lovers</td>\n",
       "    </tr>\n",
       "  </tbody>\n",
       "</table>\n",
       "</div>"
      ],
      "text/plain": [
       "   user_id     category\n",
       "0       14  Meat Lovers\n",
       "1       43  Meat Lovers\n",
       "2       44  Meat Lovers\n",
       "3       53  Meat Lovers\n",
       "4      201  Meat Lovers"
      ]
     },
     "execution_count": 59,
     "metadata": {},
     "output_type": "execute_result"
    }
   ],
   "source": [
    "Meaties=pd.DataFrame(NoFish, columns=['user_id'])\n",
    "Meaties['category']='Meat Lovers'\n",
    "Meaties.head()"
   ]
  },
  {
   "cell_type": "code",
   "execution_count": null,
   "metadata": {
    "collapsed": true
   },
   "outputs": [],
   "source": []
  },
  {
   "cell_type": "markdown",
   "metadata": {},
   "source": [
    "## Pescatarians(4,571 customers)"
   ]
  },
  {
   "cell_type": "code",
   "execution_count": 60,
   "metadata": {
    "collapsed": false
   },
   "outputs": [
    {
     "data": {
      "text/plain": [
       "7727"
      ]
     },
     "execution_count": 60,
     "metadata": {},
     "output_type": "execute_result"
    }
   ],
   "source": [
    "Fish=pd.concat([Meat3, Meat4, Meat6, Meat8])\n",
    "Fishy=Fish.user_id.unique()\n",
    "Fishy.size"
   ]
  },
  {
   "cell_type": "code",
   "execution_count": 61,
   "metadata": {
    "collapsed": false
   },
   "outputs": [
    {
     "data": {
      "text/plain": [
       "4571"
      ]
     },
     "execution_count": 61,
     "metadata": {},
     "output_type": "execute_result"
    }
   ],
   "source": [
    "Pescatarians=np.setdiff1d(Fishy, NoFish)\n",
    "Pescatarians.size"
   ]
  },
  {
   "cell_type": "code",
   "execution_count": 62,
   "metadata": {
    "collapsed": false
   },
   "outputs": [
    {
     "data": {
      "text/html": [
       "<div>\n",
       "<table border=\"1\" class=\"dataframe\">\n",
       "  <thead>\n",
       "    <tr style=\"text-align: right;\">\n",
       "      <th></th>\n",
       "      <th>user_id</th>\n",
       "      <th>category</th>\n",
       "    </tr>\n",
       "  </thead>\n",
       "  <tbody>\n",
       "    <tr>\n",
       "      <th>0</th>\n",
       "      <td>8</td>\n",
       "      <td>Pescatarian</td>\n",
       "    </tr>\n",
       "    <tr>\n",
       "      <th>1</th>\n",
       "      <td>47</td>\n",
       "      <td>Pescatarian</td>\n",
       "    </tr>\n",
       "    <tr>\n",
       "      <th>2</th>\n",
       "      <td>161</td>\n",
       "      <td>Pescatarian</td>\n",
       "    </tr>\n",
       "    <tr>\n",
       "      <th>3</th>\n",
       "      <td>211</td>\n",
       "      <td>Pescatarian</td>\n",
       "    </tr>\n",
       "    <tr>\n",
       "      <th>4</th>\n",
       "      <td>250</td>\n",
       "      <td>Pescatarian</td>\n",
       "    </tr>\n",
       "  </tbody>\n",
       "</table>\n",
       "</div>"
      ],
      "text/plain": [
       "   user_id     category\n",
       "0        8  Pescatarian\n",
       "1       47  Pescatarian\n",
       "2      161  Pescatarian\n",
       "3      211  Pescatarian\n",
       "4      250  Pescatarian"
      ]
     },
     "execution_count": 62,
     "metadata": {},
     "output_type": "execute_result"
    }
   ],
   "source": [
    "Pescats=pd.DataFrame(Pescatarians, columns=['user_id'])\n",
    "Pescats['category']='Pescatarian'\n",
    "Pescats.head()\n"
   ]
  },
  {
   "cell_type": "code",
   "execution_count": null,
   "metadata": {
    "collapsed": true
   },
   "outputs": [],
   "source": []
  },
  {
   "cell_type": "markdown",
   "metadata": {},
   "source": [
    "## Vegetarians (Vegetarians & Vegans - Total of 92,351 customers)"
   ]
  },
  {
   "cell_type": "code",
   "execution_count": 63,
   "metadata": {
    "collapsed": false
   },
   "outputs": [
    {
     "data": {
      "text/plain": [
       "92351"
      ]
     },
     "execution_count": 63,
     "metadata": {},
     "output_type": "execute_result"
    }
   ],
   "source": [
    "## remove all MeatE user_ids\n",
    "Veg=Train.loc[~Train.user_id.isin(MeatEnumcust)]\n",
    "Veg.user_id.unique().size"
   ]
  },
  {
   "cell_type": "code",
   "execution_count": 64,
   "metadata": {
    "collapsed": true
   },
   "outputs": [],
   "source": [
    "## Vegans dont eat eggs, yogurt, cheese, milk and dairies"
   ]
  },
  {
   "cell_type": "code",
   "execution_count": 65,
   "metadata": {
    "collapsed": false
   },
   "outputs": [
    {
     "data": {
      "text/plain": [
       "10737"
      ]
     },
     "execution_count": 65,
     "metadata": {},
     "output_type": "execute_result"
    }
   ],
   "source": [
    "#egg eaters\n",
    "Vegegg=Veg[Veg.aisle_id==86]\n",
    "Vegegg.user_id.unique().size"
   ]
  },
  {
   "cell_type": "code",
   "execution_count": 66,
   "metadata": {
    "collapsed": false
   },
   "outputs": [
    {
     "data": {
      "text/plain": [
       "20344"
      ]
     },
     "execution_count": 66,
     "metadata": {},
     "output_type": "execute_result"
    }
   ],
   "source": [
    " #yogurt eaters\n",
    "Vegyogurt=Veg[Veg.aisle_id==120]\n",
    "Vegyogurt.user_id.unique().size    "
   ]
  },
  {
   "cell_type": "code",
   "execution_count": 67,
   "metadata": {
    "collapsed": false
   },
   "outputs": [
    {
     "data": {
      "text/plain": [
       "(41, 15)"
      ]
     },
     "execution_count": 67,
     "metadata": {},
     "output_type": "execute_result"
    }
   ],
   "source": [
    "##Vegan Yogurts\n",
    "VeganYog1=Vegyogurt[Vegyogurt.product_name.str.contains('Non-Dairy')]\n",
    "VeganYog1.shape\n"
   ]
  },
  {
   "cell_type": "code",
   "execution_count": 68,
   "metadata": {
    "collapsed": false
   },
   "outputs": [
    {
     "data": {
      "text/plain": [
       "(33373, 16)"
      ]
     },
     "execution_count": 68,
     "metadata": {},
     "output_type": "execute_result"
    }
   ],
   "source": [
    "##NonVegan Yogurts\n",
    "NonVeganYogurts=Vegyogurt.merge(VeganYog1, how='outer', indicator=True)\n",
    "NonVeganYogurts=NonVeganYogurts[NonVeganYogurts._merge=='left_only']\n",
    "NonVeganYogurts.shape"
   ]
  },
  {
   "cell_type": "code",
   "execution_count": 69,
   "metadata": {
    "collapsed": false
   },
   "outputs": [
    {
     "data": {
      "text/plain": [
       "(33414, 15)"
      ]
     },
     "execution_count": 69,
     "metadata": {},
     "output_type": "execute_result"
    }
   ],
   "source": [
    "Vegyogurt.shape"
   ]
  },
  {
   "cell_type": "code",
   "execution_count": 70,
   "metadata": {
    "collapsed": false
   },
   "outputs": [
    {
     "data": {
      "text/plain": [
       "(30348, 15)"
      ]
     },
     "execution_count": 70,
     "metadata": {},
     "output_type": "execute_result"
    }
   ],
   "source": [
    "#cheese\n",
    "Vegycheam=Veg[(Veg.aisle_id==2)| (Veg.aisle_id==21) | (Veg.aisle_id==108)]\n",
    "Vegycheam.shape\n"
   ]
  },
  {
   "cell_type": "code",
   "execution_count": 71,
   "metadata": {
    "collapsed": false
   },
   "outputs": [
    {
     "data": {
      "text/plain": [
       "(0, 15)"
      ]
     },
     "execution_count": 71,
     "metadata": {},
     "output_type": "execute_result"
    }
   ],
   "source": [
    "##Vegan Cheese\n",
    "# Non-Dairy\n",
    "VeganCheam1=Vegycheam[Vegycheam.product_name.str.contains('Non-Dairy')]\n",
    "VeganCheam1.shape"
   ]
  },
  {
   "cell_type": "code",
   "execution_count": 72,
   "metadata": {
    "collapsed": false
   },
   "outputs": [
    {
     "data": {
      "text/plain": [
       "(3, 15)"
      ]
     },
     "execution_count": 72,
     "metadata": {},
     "output_type": "execute_result"
    }
   ],
   "source": [
    "#Soy Cheese\n",
    "VeganCheam2=Vegycheam[Vegycheam.product_name.str.contains('Soy')]\n",
    "VeganCheam2.shape"
   ]
  },
  {
   "cell_type": "code",
   "execution_count": 73,
   "metadata": {
    "collapsed": false
   },
   "outputs": [
    {
     "data": {
      "text/plain": [
       "(6, 15)"
      ]
     },
     "execution_count": 73,
     "metadata": {},
     "output_type": "execute_result"
    }
   ],
   "source": [
    "##Cashew Cheese\n",
    "VeganCheam3=Vegycheam[Vegycheam.product_name.str.contains('Cashew Cheese')]\n",
    "VeganCheam3.shape\n"
   ]
  },
  {
   "cell_type": "code",
   "execution_count": 74,
   "metadata": {
    "collapsed": false
   },
   "outputs": [
    {
     "data": {
      "text/plain": [
       "(80, 15)"
      ]
     },
     "execution_count": 74,
     "metadata": {},
     "output_type": "execute_result"
    }
   ],
   "source": [
    "#Almond Cheese\n",
    "VeganCheam4=Vegycheam[Vegycheam.product_name.str.contains('Almond')]\n",
    "VeganCheam4.shape\n"
   ]
  },
  {
   "cell_type": "code",
   "execution_count": 75,
   "metadata": {
    "collapsed": false
   },
   "outputs": [
    {
     "data": {
      "text/plain": [
       "(156, 15)"
      ]
     },
     "execution_count": 75,
     "metadata": {},
     "output_type": "execute_result"
    }
   ],
   "source": [
    "VeganCheam5=Vegycheam[Vegycheam.product_name.str.contains('Cheese Alternative')]\n",
    "VeganCheam5.shape\n"
   ]
  },
  {
   "cell_type": "code",
   "execution_count": 76,
   "metadata": {
    "collapsed": false
   },
   "outputs": [
    {
     "data": {
      "text/plain": [
       "195"
      ]
     },
     "execution_count": 76,
     "metadata": {},
     "output_type": "execute_result"
    }
   ],
   "source": [
    "## Vegan Cheese\n",
    "VeganCheese=pd.concat([VeganCheam1, VeganCheam2, VeganCheam3, VeganCheam4, VeganCheam5])\n",
    "\n",
    "VeganCheese.index.unique().size"
   ]
  },
  {
   "cell_type": "code",
   "execution_count": 77,
   "metadata": {
    "collapsed": false
   },
   "outputs": [
    {
     "data": {
      "text/plain": [
       "(30153, 16)"
      ]
     },
     "execution_count": 77,
     "metadata": {},
     "output_type": "execute_result"
    }
   ],
   "source": [
    "## NonVeganCheese\n",
    "NonVeganCheese=Vegycheam.merge(VeganCheese, how='outer', indicator=True)\n",
    "NonVeganCheese=NonVeganCheese[NonVeganCheese._merge=='left_only']\n",
    "NonVeganCheese.shape"
   ]
  },
  {
   "cell_type": "code",
   "execution_count": 78,
   "metadata": {
    "collapsed": false
   },
   "outputs": [
    {
     "data": {
      "text/plain": [
       "(30348, 15)"
      ]
     },
     "execution_count": 78,
     "metadata": {},
     "output_type": "execute_result"
    }
   ],
   "source": [
    "Vegycheam.shape"
   ]
  },
  {
   "cell_type": "code",
   "execution_count": 79,
   "metadata": {
    "collapsed": false
   },
   "outputs": [
    {
     "data": {
      "text/plain": [
       "18185"
      ]
     },
     "execution_count": 79,
     "metadata": {},
     "output_type": "execute_result"
    }
   ],
   "source": [
    "## Milk drinkers\n",
    "Milk=Veg[Veg.aisle_id==84]\n",
    "Milk.user_id.unique().size\n"
   ]
  },
  {
   "cell_type": "code",
   "execution_count": 80,
   "metadata": {
    "collapsed": false
   },
   "outputs": [
    {
     "data": {
      "text/html": [
       "<div>\n",
       "<table border=\"1\" class=\"dataframe\">\n",
       "  <thead>\n",
       "    <tr style=\"text-align: right;\">\n",
       "      <th></th>\n",
       "      <th>order_id</th>\n",
       "      <th>user_id</th>\n",
       "      <th>eval_set</th>\n",
       "      <th>order_number</th>\n",
       "      <th>order_dow</th>\n",
       "      <th>order_hour_of_day</th>\n",
       "      <th>days_since_prior_order</th>\n",
       "      <th>product_id</th>\n",
       "      <th>add_to_cart_order</th>\n",
       "      <th>reordered</th>\n",
       "      <th>product_name</th>\n",
       "      <th>aisle_id</th>\n",
       "      <th>department_id</th>\n",
       "      <th>department</th>\n",
       "      <th>aisle</th>\n",
       "    </tr>\n",
       "  </thead>\n",
       "  <tbody>\n",
       "    <tr>\n",
       "      <th>210985</th>\n",
       "      <td>1187899</td>\n",
       "      <td>1</td>\n",
       "      <td>train</td>\n",
       "      <td>11</td>\n",
       "      <td>4</td>\n",
       "      <td>8</td>\n",
       "      <td>14.0</td>\n",
       "      <td>27845</td>\n",
       "      <td>9</td>\n",
       "      <td>0</td>\n",
       "      <td>Organic Whole Milk</td>\n",
       "      <td>84</td>\n",
       "      <td>16</td>\n",
       "      <td>dairy eggs</td>\n",
       "      <td>milk</td>\n",
       "    </tr>\n",
       "    <tr>\n",
       "      <th>215893</th>\n",
       "      <td>1827621</td>\n",
       "      <td>13</td>\n",
       "      <td>train</td>\n",
       "      <td>13</td>\n",
       "      <td>0</td>\n",
       "      <td>21</td>\n",
       "      <td>8.0</td>\n",
       "      <td>4210</td>\n",
       "      <td>3</td>\n",
       "      <td>1</td>\n",
       "      <td>Whole Milk</td>\n",
       "      <td>84</td>\n",
       "      <td>16</td>\n",
       "      <td>dairy eggs</td>\n",
       "      <td>milk</td>\n",
       "    </tr>\n",
       "    <tr>\n",
       "      <th>210986</th>\n",
       "      <td>698604</td>\n",
       "      <td>34</td>\n",
       "      <td>train</td>\n",
       "      <td>6</td>\n",
       "      <td>4</td>\n",
       "      <td>13</td>\n",
       "      <td>30.0</td>\n",
       "      <td>27845</td>\n",
       "      <td>1</td>\n",
       "      <td>1</td>\n",
       "      <td>Organic Whole Milk</td>\n",
       "      <td>84</td>\n",
       "      <td>16</td>\n",
       "      <td>dairy eggs</td>\n",
       "      <td>milk</td>\n",
       "    </tr>\n",
       "    <tr>\n",
       "      <th>218768</th>\n",
       "      <td>1750084</td>\n",
       "      <td>50</td>\n",
       "      <td>train</td>\n",
       "      <td>68</td>\n",
       "      <td>3</td>\n",
       "      <td>9</td>\n",
       "      <td>7.0</td>\n",
       "      <td>31720</td>\n",
       "      <td>6</td>\n",
       "      <td>1</td>\n",
       "      <td>Organic  Whole Milk</td>\n",
       "      <td>84</td>\n",
       "      <td>16</td>\n",
       "      <td>dairy eggs</td>\n",
       "      <td>milk</td>\n",
       "    </tr>\n",
       "    <tr>\n",
       "      <th>219924</th>\n",
       "      <td>2608424</td>\n",
       "      <td>72</td>\n",
       "      <td>train</td>\n",
       "      <td>13</td>\n",
       "      <td>2</td>\n",
       "      <td>14</td>\n",
       "      <td>30.0</td>\n",
       "      <td>38689</td>\n",
       "      <td>1</td>\n",
       "      <td>1</td>\n",
       "      <td>Organic Reduced Fat Milk</td>\n",
       "      <td>84</td>\n",
       "      <td>16</td>\n",
       "      <td>dairy eggs</td>\n",
       "      <td>milk</td>\n",
       "    </tr>\n",
       "  </tbody>\n",
       "</table>\n",
       "</div>"
      ],
      "text/plain": [
       "        order_id  user_id eval_set  order_number  order_dow  \\\n",
       "210985   1187899        1    train            11          4   \n",
       "215893   1827621       13    train            13          0   \n",
       "210986    698604       34    train             6          4   \n",
       "218768   1750084       50    train            68          3   \n",
       "219924   2608424       72    train            13          2   \n",
       "\n",
       "        order_hour_of_day  days_since_prior_order  product_id  \\\n",
       "210985                  8                    14.0       27845   \n",
       "215893                 21                     8.0        4210   \n",
       "210986                 13                    30.0       27845   \n",
       "218768                  9                     7.0       31720   \n",
       "219924                 14                    30.0       38689   \n",
       "\n",
       "        add_to_cart_order  reordered              product_name  aisle_id  \\\n",
       "210985                  9          0        Organic Whole Milk        84   \n",
       "215893                  3          1                Whole Milk        84   \n",
       "210986                  1          1        Organic Whole Milk        84   \n",
       "218768                  6          1       Organic  Whole Milk        84   \n",
       "219924                  1          1  Organic Reduced Fat Milk        84   \n",
       "\n",
       "        department_id  department aisle  \n",
       "210985             16  dairy eggs  milk  \n",
       "215893             16  dairy eggs  milk  \n",
       "210986             16  dairy eggs  milk  \n",
       "218768             16  dairy eggs  milk  \n",
       "219924             16  dairy eggs  milk  "
      ]
     },
     "execution_count": 80,
     "metadata": {},
     "output_type": "execute_result"
    }
   ],
   "source": [
    "Milk.head()\n"
   ]
  },
  {
   "cell_type": "code",
   "execution_count": 81,
   "metadata": {
    "collapsed": true
   },
   "outputs": [],
   "source": [
    "## Vegan Milks"
   ]
  },
  {
   "cell_type": "code",
   "execution_count": 82,
   "metadata": {
    "collapsed": false
   },
   "outputs": [
    {
     "data": {
      "text/plain": [
       "(201, 15)"
      ]
     },
     "execution_count": 82,
     "metadata": {},
     "output_type": "execute_result"
    }
   ],
   "source": [
    "#Almond Milk\n",
    "VeganM1=Milk[Milk.product_name.str.contains('Almond')]\n",
    "VeganM1.shape"
   ]
  },
  {
   "cell_type": "code",
   "execution_count": 83,
   "metadata": {
    "collapsed": false
   },
   "outputs": [
    {
     "data": {
      "text/plain": [
       "(16, 15)"
      ]
     },
     "execution_count": 83,
     "metadata": {},
     "output_type": "execute_result"
    }
   ],
   "source": [
    "#Cashew Milk\n",
    "VeganM2=Milk[Milk.product_name.str.contains('Cashew')]\n",
    "VeganM2.shape"
   ]
  },
  {
   "cell_type": "code",
   "execution_count": 84,
   "metadata": {
    "collapsed": false
   },
   "outputs": [
    {
     "data": {
      "text/plain": [
       "(7, 15)"
      ]
     },
     "execution_count": 84,
     "metadata": {},
     "output_type": "execute_result"
    }
   ],
   "source": [
    "# Hemp Milk\n",
    "VeganM3=Milk[Milk.product_name.str.contains('Hemp')]\n",
    "VeganM3.shape"
   ]
  },
  {
   "cell_type": "code",
   "execution_count": 85,
   "metadata": {
    "collapsed": false
   },
   "outputs": [
    {
     "data": {
      "text/plain": [
       "(57, 15)"
      ]
     },
     "execution_count": 85,
     "metadata": {},
     "output_type": "execute_result"
    }
   ],
   "source": [
    "# Non-Dairy\n",
    "VeganM4=Milk[Milk.product_name.str.contains('Non-Dairy')]\n",
    "VeganM4.shape"
   ]
  },
  {
   "cell_type": "code",
   "execution_count": 86,
   "metadata": {
    "collapsed": false
   },
   "outputs": [
    {
     "data": {
      "text/plain": [
       "(260, 15)"
      ]
     },
     "execution_count": 86,
     "metadata": {},
     "output_type": "execute_result"
    }
   ],
   "source": [
    "#Coconut\n",
    "VeganM5=Milk[Milk.product_name.str.contains('Coconut')]\n",
    "VeganM5.shape"
   ]
  },
  {
   "cell_type": "code",
   "execution_count": 87,
   "metadata": {
    "collapsed": false
   },
   "outputs": [
    {
     "data": {
      "text/plain": [
       "476"
      ]
     },
     "execution_count": 87,
     "metadata": {},
     "output_type": "execute_result"
    }
   ],
   "source": [
    "## Vegan Milk\n",
    "VeganMilk=pd.concat([VeganM1, VeganM2, VeganM3, VeganM4, VeganM5])\n",
    "VeganMilk.index.unique().size"
   ]
  },
  {
   "cell_type": "code",
   "execution_count": 88,
   "metadata": {
    "collapsed": false
   },
   "outputs": [
    {
     "data": {
      "text/plain": [
       "(19698, 16)"
      ]
     },
     "execution_count": 88,
     "metadata": {},
     "output_type": "execute_result"
    }
   ],
   "source": [
    "#NonVeganMilk\n",
    "NonVeganMilk=Milk.merge(VeganMilk, how='outer', indicator=True)\n",
    "NonVeganMilk=NonVeganMilk[NonVeganMilk._merge=='left_only']\n",
    "NonVeganMilk.shape\n",
    "\n",
    "\n"
   ]
  },
  {
   "cell_type": "code",
   "execution_count": 89,
   "metadata": {
    "collapsed": false
   },
   "outputs": [
    {
     "data": {
      "text/plain": [
       "(20174, 15)"
      ]
     },
     "execution_count": 89,
     "metadata": {},
     "output_type": "execute_result"
    }
   ],
   "source": [
    "Milk.shape"
   ]
  },
  {
   "cell_type": "code",
   "execution_count": 90,
   "metadata": {
    "collapsed": false
   },
   "outputs": [
    {
     "data": {
      "text/plain": [
       "(7806, 15)"
      ]
     },
     "execution_count": 90,
     "metadata": {},
     "output_type": "execute_result"
    }
   ],
   "source": [
    "##cream eaters\n",
    "cream=Veg[Veg.aisle_id==53]\n",
    "cream.shape"
   ]
  },
  {
   "cell_type": "code",
   "execution_count": 91,
   "metadata": {
    "collapsed": false
   },
   "outputs": [
    {
     "data": {
      "text/plain": [
       "(36, 15)"
      ]
     },
     "execution_count": 91,
     "metadata": {},
     "output_type": "execute_result"
    }
   ],
   "source": [
    "VeganCream1=cream[cream.product_name.str.contains('Non-Dairy')]\n",
    "VeganCream1.shape\n"
   ]
  },
  {
   "cell_type": "code",
   "execution_count": 92,
   "metadata": {
    "collapsed": false
   },
   "outputs": [
    {
     "data": {
      "text/plain": [
       "(404, 15)"
      ]
     },
     "execution_count": 92,
     "metadata": {},
     "output_type": "execute_result"
    }
   ],
   "source": [
    "VeganCream2=cream[cream.product_name.str.contains('Coconut')]\n",
    "VeganCream2.shape"
   ]
  },
  {
   "cell_type": "code",
   "execution_count": 93,
   "metadata": {
    "collapsed": false
   },
   "outputs": [
    {
     "data": {
      "text/plain": [
       "(8, 15)"
      ]
     },
     "execution_count": 93,
     "metadata": {},
     "output_type": "execute_result"
    }
   ],
   "source": [
    "VeganCream3=cream[cream.product_name.str.contains('Soy')]\n",
    "VeganCream3.shape"
   ]
  },
  {
   "cell_type": "code",
   "execution_count": 94,
   "metadata": {
    "collapsed": false
   },
   "outputs": [
    {
     "data": {
      "text/plain": [
       "(6, 15)"
      ]
     },
     "execution_count": 94,
     "metadata": {},
     "output_type": "execute_result"
    }
   ],
   "source": [
    "VeganCream4=cream[cream.product_name.str.contains('Rice')]\n",
    "VeganCream4.shape"
   ]
  },
  {
   "cell_type": "code",
   "execution_count": 95,
   "metadata": {
    "collapsed": false
   },
   "outputs": [
    {
     "data": {
      "text/plain": [
       "(404, 15)"
      ]
     },
     "execution_count": 95,
     "metadata": {},
     "output_type": "execute_result"
    }
   ],
   "source": [
    "VeganCream5=cream[cream.product_name.str.contains('Almond')]\n",
    "VeganCream5.shape"
   ]
  },
  {
   "cell_type": "code",
   "execution_count": 96,
   "metadata": {
    "collapsed": false
   },
   "outputs": [
    {
     "data": {
      "text/plain": [
       "560"
      ]
     },
     "execution_count": 96,
     "metadata": {},
     "output_type": "execute_result"
    }
   ],
   "source": [
    "##Vegan Creams\n",
    "VeganCreams=pd.concat([VeganCream1, VeganCream2, VeganCream3, VeganCream4, VeganCream5])\n",
    "VeganCreams.index.unique().size"
   ]
  },
  {
   "cell_type": "code",
   "execution_count": 97,
   "metadata": {
    "collapsed": false
   },
   "outputs": [
    {
     "data": {
      "text/plain": [
       "(7246, 16)"
      ]
     },
     "execution_count": 97,
     "metadata": {},
     "output_type": "execute_result"
    }
   ],
   "source": [
    "## NonVegan Creams\n",
    "NonVeganCreams=cream.merge(VeganCreams, how='outer', indicator=True)\n",
    "NonVeganCreams=NonVeganCreams[NonVeganCreams._merge=='left_only']\n",
    "NonVeganCreams.shape"
   ]
  },
  {
   "cell_type": "code",
   "execution_count": 98,
   "metadata": {
    "collapsed": false
   },
   "outputs": [
    {
     "data": {
      "text/plain": [
       "(7806, 15)"
      ]
     },
     "execution_count": 98,
     "metadata": {},
     "output_type": "execute_result"
    }
   ],
   "source": [
    "cream.shape"
   ]
  },
  {
   "cell_type": "markdown",
   "metadata": {},
   "source": [
    "## How many NonVegan Vegetarian Customers? (49,168 NonVegan Vegetarians)"
   ]
  },
  {
   "cell_type": "code",
   "execution_count": 99,
   "metadata": {
    "collapsed": false
   },
   "outputs": [
    {
     "data": {
      "text/plain": [
       "49112"
      ]
     },
     "execution_count": 99,
     "metadata": {},
     "output_type": "execute_result"
    }
   ],
   "source": [
    "NonVeganFood=pd.concat([Vegegg, NonVeganYogurts, NonVeganCheese, NonVeganMilk, NonVeganCreams])\n",
    "NotVegan=NonVeganFood.user_id.unique()\n",
    "NotVegan.size"
   ]
  },
  {
   "cell_type": "code",
   "execution_count": 100,
   "metadata": {
    "collapsed": false
   },
   "outputs": [
    {
     "data": {
      "text/html": [
       "<div>\n",
       "<table border=\"1\" class=\"dataframe\">\n",
       "  <thead>\n",
       "    <tr style=\"text-align: right;\">\n",
       "      <th></th>\n",
       "      <th>user_id</th>\n",
       "      <th>category</th>\n",
       "    </tr>\n",
       "  </thead>\n",
       "  <tbody>\n",
       "    <tr>\n",
       "      <th>0</th>\n",
       "      <td>17</td>\n",
       "      <td>NonVegan</td>\n",
       "    </tr>\n",
       "    <tr>\n",
       "      <th>1</th>\n",
       "      <td>38</td>\n",
       "      <td>NonVegan</td>\n",
       "    </tr>\n",
       "    <tr>\n",
       "      <th>2</th>\n",
       "      <td>64</td>\n",
       "      <td>NonVegan</td>\n",
       "    </tr>\n",
       "    <tr>\n",
       "      <th>3</th>\n",
       "      <td>79</td>\n",
       "      <td>NonVegan</td>\n",
       "    </tr>\n",
       "    <tr>\n",
       "      <th>4</th>\n",
       "      <td>87</td>\n",
       "      <td>NonVegan</td>\n",
       "    </tr>\n",
       "  </tbody>\n",
       "</table>\n",
       "</div>"
      ],
      "text/plain": [
       "   user_id  category\n",
       "0       17  NonVegan\n",
       "1       38  NonVegan\n",
       "2       64  NonVegan\n",
       "3       79  NonVegan\n",
       "4       87  NonVegan"
      ]
     },
     "execution_count": 100,
     "metadata": {},
     "output_type": "execute_result"
    }
   ],
   "source": [
    "NonVeganVegetarian=pd.DataFrame(NotVegan, columns=['user_id'])\n",
    "NonVeganVegetarian['category']='NonVegan'\n",
    "NonVeganVegetarian.head()"
   ]
  },
  {
   "cell_type": "markdown",
   "metadata": {},
   "source": [
    "## How many are Vegan Customers? (43,183 Are Vegans)"
   ]
  },
  {
   "cell_type": "code",
   "execution_count": 101,
   "metadata": {
    "collapsed": false
   },
   "outputs": [
    {
     "data": {
      "text/plain": [
       "43239"
      ]
     },
     "execution_count": 101,
     "metadata": {},
     "output_type": "execute_result"
    }
   ],
   "source": [
    "AllVegans=Veg.loc[~Veg.user_id.isin(NotVegan)]\n",
    "PureVegan=AllVegans.user_id.unique()\n",
    "PureVegan.size"
   ]
  },
  {
   "cell_type": "code",
   "execution_count": 102,
   "metadata": {
    "collapsed": false
   },
   "outputs": [
    {
     "data": {
      "text/plain": [
       "array([    21,     24,     30, ..., 206195, 206196, 206209], dtype=int64)"
      ]
     },
     "execution_count": 102,
     "metadata": {},
     "output_type": "execute_result"
    }
   ],
   "source": [
    "PureVegan"
   ]
  },
  {
   "cell_type": "code",
   "execution_count": 103,
   "metadata": {
    "collapsed": false
   },
   "outputs": [
    {
     "data": {
      "text/html": [
       "<div>\n",
       "<table border=\"1\" class=\"dataframe\">\n",
       "  <thead>\n",
       "    <tr style=\"text-align: right;\">\n",
       "      <th></th>\n",
       "      <th>user_id</th>\n",
       "      <th>category</th>\n",
       "    </tr>\n",
       "  </thead>\n",
       "  <tbody>\n",
       "    <tr>\n",
       "      <th>0</th>\n",
       "      <td>21</td>\n",
       "      <td>Vegan</td>\n",
       "    </tr>\n",
       "    <tr>\n",
       "      <th>1</th>\n",
       "      <td>24</td>\n",
       "      <td>Vegan</td>\n",
       "    </tr>\n",
       "    <tr>\n",
       "      <th>2</th>\n",
       "      <td>30</td>\n",
       "      <td>Vegan</td>\n",
       "    </tr>\n",
       "    <tr>\n",
       "      <th>3</th>\n",
       "      <td>42</td>\n",
       "      <td>Vegan</td>\n",
       "    </tr>\n",
       "    <tr>\n",
       "      <th>4</th>\n",
       "      <td>49</td>\n",
       "      <td>Vegan</td>\n",
       "    </tr>\n",
       "  </tbody>\n",
       "</table>\n",
       "</div>"
      ],
      "text/plain": [
       "   user_id category\n",
       "0       21    Vegan\n",
       "1       24    Vegan\n",
       "2       30    Vegan\n",
       "3       42    Vegan\n",
       "4       49    Vegan"
      ]
     },
     "execution_count": 103,
     "metadata": {},
     "output_type": "execute_result"
    }
   ],
   "source": [
    "Vegan=pd.DataFrame(PureVegan, columns=['user_id'])\n",
    "Vegan['category']='Vegan'\n",
    "Vegan.head()"
   ]
  },
  {
   "cell_type": "code",
   "execution_count": 104,
   "metadata": {
    "collapsed": false
   },
   "outputs": [
    {
     "data": {
      "text/plain": [
       "(131209, 2)"
      ]
     },
     "execution_count": 104,
     "metadata": {},
     "output_type": "execute_result"
    }
   ],
   "source": [
    "Train_users=pd.concat([Meaties, Pescats, NonVeganVegetarian, Vegan])\n",
    "Train_users.shape"
   ]
  },
  {
   "cell_type": "code",
   "execution_count": 105,
   "metadata": {
    "collapsed": false
   },
   "outputs": [
    {
     "data": {
      "text/plain": [
       "(131209,)"
      ]
     },
     "execution_count": 105,
     "metadata": {},
     "output_type": "execute_result"
    }
   ],
   "source": [
    "Train.user_id.unique().shape"
   ]
  },
  {
   "cell_type": "markdown",
   "metadata": {},
   "source": [
    "## Q13. What is the probability that customer is meat eater, pescatarian, novegan, vegan?"
   ]
  },
  {
   "cell_type": "code",
   "execution_count": 106,
   "metadata": {
    "collapsed": false
   },
   "outputs": [
    {
     "data": {
      "text/html": [
       "<div>\n",
       "<table border=\"1\" class=\"dataframe\">\n",
       "  <thead>\n",
       "    <tr style=\"text-align: right;\">\n",
       "      <th></th>\n",
       "      <th>user_id</th>\n",
       "      <th>category</th>\n",
       "      <th>Probability</th>\n",
       "    </tr>\n",
       "  </thead>\n",
       "  <tbody>\n",
       "    <tr>\n",
       "      <th>0</th>\n",
       "      <td>14</td>\n",
       "      <td>Meat Lovers</td>\n",
       "      <td>0.261316</td>\n",
       "    </tr>\n",
       "    <tr>\n",
       "      <th>1</th>\n",
       "      <td>43</td>\n",
       "      <td>Meat Lovers</td>\n",
       "      <td>0.261316</td>\n",
       "    </tr>\n",
       "    <tr>\n",
       "      <th>2</th>\n",
       "      <td>44</td>\n",
       "      <td>Meat Lovers</td>\n",
       "      <td>0.261316</td>\n",
       "    </tr>\n",
       "    <tr>\n",
       "      <th>3</th>\n",
       "      <td>53</td>\n",
       "      <td>Meat Lovers</td>\n",
       "      <td>0.261316</td>\n",
       "    </tr>\n",
       "    <tr>\n",
       "      <th>4</th>\n",
       "      <td>201</td>\n",
       "      <td>Meat Lovers</td>\n",
       "      <td>0.261316</td>\n",
       "    </tr>\n",
       "    <tr>\n",
       "      <th>5</th>\n",
       "      <td>238</td>\n",
       "      <td>Meat Lovers</td>\n",
       "      <td>0.261316</td>\n",
       "    </tr>\n",
       "    <tr>\n",
       "      <th>6</th>\n",
       "      <td>473</td>\n",
       "      <td>Meat Lovers</td>\n",
       "      <td>0.261316</td>\n",
       "    </tr>\n",
       "    <tr>\n",
       "      <th>7</th>\n",
       "      <td>495</td>\n",
       "      <td>Meat Lovers</td>\n",
       "      <td>0.261316</td>\n",
       "    </tr>\n",
       "    <tr>\n",
       "      <th>8</th>\n",
       "      <td>499</td>\n",
       "      <td>Meat Lovers</td>\n",
       "      <td>0.261316</td>\n",
       "    </tr>\n",
       "    <tr>\n",
       "      <th>9</th>\n",
       "      <td>558</td>\n",
       "      <td>Meat Lovers</td>\n",
       "      <td>0.261316</td>\n",
       "    </tr>\n",
       "    <tr>\n",
       "      <th>10</th>\n",
       "      <td>846</td>\n",
       "      <td>Meat Lovers</td>\n",
       "      <td>0.261316</td>\n",
       "    </tr>\n",
       "    <tr>\n",
       "      <th>11</th>\n",
       "      <td>1022</td>\n",
       "      <td>Meat Lovers</td>\n",
       "      <td>0.261316</td>\n",
       "    </tr>\n",
       "    <tr>\n",
       "      <th>12</th>\n",
       "      <td>1299</td>\n",
       "      <td>Meat Lovers</td>\n",
       "      <td>0.261316</td>\n",
       "    </tr>\n",
       "    <tr>\n",
       "      <th>13</th>\n",
       "      <td>1406</td>\n",
       "      <td>Meat Lovers</td>\n",
       "      <td>0.261316</td>\n",
       "    </tr>\n",
       "    <tr>\n",
       "      <th>14</th>\n",
       "      <td>1446</td>\n",
       "      <td>Meat Lovers</td>\n",
       "      <td>0.261316</td>\n",
       "    </tr>\n",
       "    <tr>\n",
       "      <th>15</th>\n",
       "      <td>1641</td>\n",
       "      <td>Meat Lovers</td>\n",
       "      <td>0.261316</td>\n",
       "    </tr>\n",
       "    <tr>\n",
       "      <th>16</th>\n",
       "      <td>1978</td>\n",
       "      <td>Meat Lovers</td>\n",
       "      <td>0.261316</td>\n",
       "    </tr>\n",
       "    <tr>\n",
       "      <th>17</th>\n",
       "      <td>2091</td>\n",
       "      <td>Meat Lovers</td>\n",
       "      <td>0.261316</td>\n",
       "    </tr>\n",
       "    <tr>\n",
       "      <th>18</th>\n",
       "      <td>2101</td>\n",
       "      <td>Meat Lovers</td>\n",
       "      <td>0.261316</td>\n",
       "    </tr>\n",
       "    <tr>\n",
       "      <th>19</th>\n",
       "      <td>2214</td>\n",
       "      <td>Meat Lovers</td>\n",
       "      <td>0.261316</td>\n",
       "    </tr>\n",
       "    <tr>\n",
       "      <th>20</th>\n",
       "      <td>2228</td>\n",
       "      <td>Meat Lovers</td>\n",
       "      <td>0.261316</td>\n",
       "    </tr>\n",
       "    <tr>\n",
       "      <th>21</th>\n",
       "      <td>2287</td>\n",
       "      <td>Meat Lovers</td>\n",
       "      <td>0.261316</td>\n",
       "    </tr>\n",
       "    <tr>\n",
       "      <th>22</th>\n",
       "      <td>2345</td>\n",
       "      <td>Meat Lovers</td>\n",
       "      <td>0.261316</td>\n",
       "    </tr>\n",
       "    <tr>\n",
       "      <th>23</th>\n",
       "      <td>2354</td>\n",
       "      <td>Meat Lovers</td>\n",
       "      <td>0.261316</td>\n",
       "    </tr>\n",
       "    <tr>\n",
       "      <th>24</th>\n",
       "      <td>2409</td>\n",
       "      <td>Meat Lovers</td>\n",
       "      <td>0.261316</td>\n",
       "    </tr>\n",
       "    <tr>\n",
       "      <th>25</th>\n",
       "      <td>2487</td>\n",
       "      <td>Meat Lovers</td>\n",
       "      <td>0.261316</td>\n",
       "    </tr>\n",
       "    <tr>\n",
       "      <th>26</th>\n",
       "      <td>2488</td>\n",
       "      <td>Meat Lovers</td>\n",
       "      <td>0.261316</td>\n",
       "    </tr>\n",
       "    <tr>\n",
       "      <th>27</th>\n",
       "      <td>2525</td>\n",
       "      <td>Meat Lovers</td>\n",
       "      <td>0.261316</td>\n",
       "    </tr>\n",
       "    <tr>\n",
       "      <th>28</th>\n",
       "      <td>2551</td>\n",
       "      <td>Meat Lovers</td>\n",
       "      <td>0.261316</td>\n",
       "    </tr>\n",
       "    <tr>\n",
       "      <th>29</th>\n",
       "      <td>2654</td>\n",
       "      <td>Meat Lovers</td>\n",
       "      <td>0.261316</td>\n",
       "    </tr>\n",
       "    <tr>\n",
       "      <th>...</th>\n",
       "      <td>...</td>\n",
       "      <td>...</td>\n",
       "      <td>...</td>\n",
       "    </tr>\n",
       "    <tr>\n",
       "      <th>131179</th>\n",
       "      <td>206076</td>\n",
       "      <td>Vegan</td>\n",
       "      <td>0.329543</td>\n",
       "    </tr>\n",
       "    <tr>\n",
       "      <th>131180</th>\n",
       "      <td>206077</td>\n",
       "      <td>Vegan</td>\n",
       "      <td>0.329543</td>\n",
       "    </tr>\n",
       "    <tr>\n",
       "      <th>131181</th>\n",
       "      <td>206081</td>\n",
       "      <td>Vegan</td>\n",
       "      <td>0.329543</td>\n",
       "    </tr>\n",
       "    <tr>\n",
       "      <th>131182</th>\n",
       "      <td>206087</td>\n",
       "      <td>Vegan</td>\n",
       "      <td>0.329543</td>\n",
       "    </tr>\n",
       "    <tr>\n",
       "      <th>131183</th>\n",
       "      <td>206089</td>\n",
       "      <td>Vegan</td>\n",
       "      <td>0.329543</td>\n",
       "    </tr>\n",
       "    <tr>\n",
       "      <th>131184</th>\n",
       "      <td>206093</td>\n",
       "      <td>Vegan</td>\n",
       "      <td>0.329543</td>\n",
       "    </tr>\n",
       "    <tr>\n",
       "      <th>131185</th>\n",
       "      <td>206098</td>\n",
       "      <td>Vegan</td>\n",
       "      <td>0.329543</td>\n",
       "    </tr>\n",
       "    <tr>\n",
       "      <th>131186</th>\n",
       "      <td>206100</td>\n",
       "      <td>Vegan</td>\n",
       "      <td>0.329543</td>\n",
       "    </tr>\n",
       "    <tr>\n",
       "      <th>131187</th>\n",
       "      <td>206107</td>\n",
       "      <td>Vegan</td>\n",
       "      <td>0.329543</td>\n",
       "    </tr>\n",
       "    <tr>\n",
       "      <th>131188</th>\n",
       "      <td>206123</td>\n",
       "      <td>Vegan</td>\n",
       "      <td>0.329543</td>\n",
       "    </tr>\n",
       "    <tr>\n",
       "      <th>131189</th>\n",
       "      <td>206125</td>\n",
       "      <td>Vegan</td>\n",
       "      <td>0.329543</td>\n",
       "    </tr>\n",
       "    <tr>\n",
       "      <th>131190</th>\n",
       "      <td>206132</td>\n",
       "      <td>Vegan</td>\n",
       "      <td>0.329543</td>\n",
       "    </tr>\n",
       "    <tr>\n",
       "      <th>131191</th>\n",
       "      <td>206133</td>\n",
       "      <td>Vegan</td>\n",
       "      <td>0.329543</td>\n",
       "    </tr>\n",
       "    <tr>\n",
       "      <th>131192</th>\n",
       "      <td>206136</td>\n",
       "      <td>Vegan</td>\n",
       "      <td>0.329543</td>\n",
       "    </tr>\n",
       "    <tr>\n",
       "      <th>131193</th>\n",
       "      <td>206137</td>\n",
       "      <td>Vegan</td>\n",
       "      <td>0.329543</td>\n",
       "    </tr>\n",
       "    <tr>\n",
       "      <th>131194</th>\n",
       "      <td>206145</td>\n",
       "      <td>Vegan</td>\n",
       "      <td>0.329543</td>\n",
       "    </tr>\n",
       "    <tr>\n",
       "      <th>131195</th>\n",
       "      <td>206146</td>\n",
       "      <td>Vegan</td>\n",
       "      <td>0.329543</td>\n",
       "    </tr>\n",
       "    <tr>\n",
       "      <th>131196</th>\n",
       "      <td>206155</td>\n",
       "      <td>Vegan</td>\n",
       "      <td>0.329543</td>\n",
       "    </tr>\n",
       "    <tr>\n",
       "      <th>131197</th>\n",
       "      <td>206156</td>\n",
       "      <td>Vegan</td>\n",
       "      <td>0.329543</td>\n",
       "    </tr>\n",
       "    <tr>\n",
       "      <th>131198</th>\n",
       "      <td>206158</td>\n",
       "      <td>Vegan</td>\n",
       "      <td>0.329543</td>\n",
       "    </tr>\n",
       "    <tr>\n",
       "      <th>131199</th>\n",
       "      <td>206159</td>\n",
       "      <td>Vegan</td>\n",
       "      <td>0.329543</td>\n",
       "    </tr>\n",
       "    <tr>\n",
       "      <th>131200</th>\n",
       "      <td>206164</td>\n",
       "      <td>Vegan</td>\n",
       "      <td>0.329543</td>\n",
       "    </tr>\n",
       "    <tr>\n",
       "      <th>131201</th>\n",
       "      <td>206169</td>\n",
       "      <td>Vegan</td>\n",
       "      <td>0.329543</td>\n",
       "    </tr>\n",
       "    <tr>\n",
       "      <th>131202</th>\n",
       "      <td>206172</td>\n",
       "      <td>Vegan</td>\n",
       "      <td>0.329543</td>\n",
       "    </tr>\n",
       "    <tr>\n",
       "      <th>131203</th>\n",
       "      <td>206176</td>\n",
       "      <td>Vegan</td>\n",
       "      <td>0.329543</td>\n",
       "    </tr>\n",
       "    <tr>\n",
       "      <th>131204</th>\n",
       "      <td>206186</td>\n",
       "      <td>Vegan</td>\n",
       "      <td>0.329543</td>\n",
       "    </tr>\n",
       "    <tr>\n",
       "      <th>131205</th>\n",
       "      <td>206193</td>\n",
       "      <td>Vegan</td>\n",
       "      <td>0.329543</td>\n",
       "    </tr>\n",
       "    <tr>\n",
       "      <th>131206</th>\n",
       "      <td>206195</td>\n",
       "      <td>Vegan</td>\n",
       "      <td>0.329543</td>\n",
       "    </tr>\n",
       "    <tr>\n",
       "      <th>131207</th>\n",
       "      <td>206196</td>\n",
       "      <td>Vegan</td>\n",
       "      <td>0.329543</td>\n",
       "    </tr>\n",
       "    <tr>\n",
       "      <th>131208</th>\n",
       "      <td>206209</td>\n",
       "      <td>Vegan</td>\n",
       "      <td>0.329543</td>\n",
       "    </tr>\n",
       "  </tbody>\n",
       "</table>\n",
       "<p>131209 rows × 3 columns</p>\n",
       "</div>"
      ],
      "text/plain": [
       "        user_id     category  Probability\n",
       "0            14  Meat Lovers     0.261316\n",
       "1            43  Meat Lovers     0.261316\n",
       "2            44  Meat Lovers     0.261316\n",
       "3            53  Meat Lovers     0.261316\n",
       "4           201  Meat Lovers     0.261316\n",
       "5           238  Meat Lovers     0.261316\n",
       "6           473  Meat Lovers     0.261316\n",
       "7           495  Meat Lovers     0.261316\n",
       "8           499  Meat Lovers     0.261316\n",
       "9           558  Meat Lovers     0.261316\n",
       "10          846  Meat Lovers     0.261316\n",
       "11         1022  Meat Lovers     0.261316\n",
       "12         1299  Meat Lovers     0.261316\n",
       "13         1406  Meat Lovers     0.261316\n",
       "14         1446  Meat Lovers     0.261316\n",
       "15         1641  Meat Lovers     0.261316\n",
       "16         1978  Meat Lovers     0.261316\n",
       "17         2091  Meat Lovers     0.261316\n",
       "18         2101  Meat Lovers     0.261316\n",
       "19         2214  Meat Lovers     0.261316\n",
       "20         2228  Meat Lovers     0.261316\n",
       "21         2287  Meat Lovers     0.261316\n",
       "22         2345  Meat Lovers     0.261316\n",
       "23         2354  Meat Lovers     0.261316\n",
       "24         2409  Meat Lovers     0.261316\n",
       "25         2487  Meat Lovers     0.261316\n",
       "26         2488  Meat Lovers     0.261316\n",
       "27         2525  Meat Lovers     0.261316\n",
       "28         2551  Meat Lovers     0.261316\n",
       "29         2654  Meat Lovers     0.261316\n",
       "...         ...          ...          ...\n",
       "131179   206076        Vegan     0.329543\n",
       "131180   206077        Vegan     0.329543\n",
       "131181   206081        Vegan     0.329543\n",
       "131182   206087        Vegan     0.329543\n",
       "131183   206089        Vegan     0.329543\n",
       "131184   206093        Vegan     0.329543\n",
       "131185   206098        Vegan     0.329543\n",
       "131186   206100        Vegan     0.329543\n",
       "131187   206107        Vegan     0.329543\n",
       "131188   206123        Vegan     0.329543\n",
       "131189   206125        Vegan     0.329543\n",
       "131190   206132        Vegan     0.329543\n",
       "131191   206133        Vegan     0.329543\n",
       "131192   206136        Vegan     0.329543\n",
       "131193   206137        Vegan     0.329543\n",
       "131194   206145        Vegan     0.329543\n",
       "131195   206146        Vegan     0.329543\n",
       "131196   206155        Vegan     0.329543\n",
       "131197   206156        Vegan     0.329543\n",
       "131198   206158        Vegan     0.329543\n",
       "131199   206159        Vegan     0.329543\n",
       "131200   206164        Vegan     0.329543\n",
       "131201   206169        Vegan     0.329543\n",
       "131202   206172        Vegan     0.329543\n",
       "131203   206176        Vegan     0.329543\n",
       "131204   206186        Vegan     0.329543\n",
       "131205   206193        Vegan     0.329543\n",
       "131206   206195        Vegan     0.329543\n",
       "131207   206196        Vegan     0.329543\n",
       "131208   206209        Vegan     0.329543\n",
       "\n",
       "[131209 rows x 3 columns]"
      ]
     },
     "execution_count": 106,
     "metadata": {},
     "output_type": "execute_result"
    }
   ],
   "source": [
    "\n",
    "Class=Train_users['category'].value_counts()\n",
    "Class=pd.DataFrame(Class, columns=['category'])\n",
    "Class['Probability']=Class.category/Class.category.sum()   # Probability same as percentage?\n",
    "Class=Class.reset_index()\n",
    "Class=Class.rename(columns={'index':'category', 'category': 'counts'})\n",
    "Classi=Class.loc[:, ['category', 'Probability']]    \n",
    "Train_users.merge(Classi)\n",
    "\n",
    "\n",
    "\n",
    "\n"
   ]
  },
  {
   "cell_type": "code",
   "execution_count": 107,
   "metadata": {
    "collapsed": false
   },
   "outputs": [
    {
     "data": {
      "text/plain": [
       "<matplotlib.text.Text at 0x15460c0a160>"
      ]
     },
     "execution_count": 107,
     "metadata": {},
     "output_type": "execute_result"
    },
    {
     "data": {
      "image/png": "[encoded data removed]",
      "text/plain": [
       "<matplotlib.figure.Figure at 0x15460bd1b00>"
      ]
     },
     "metadata": {},
     "output_type": "display_data"
    }
   ],
   "source": [
    "Train_users.category.value_counts().sort_index().plot(kind='pie', autopct='%1.0f%%')\n",
    "plt.title('Customers Diet Classifications')"
   ]
  },
  {
   "cell_type": "markdown",
   "metadata": {},
   "source": [
    "## Q17. What is the average number of products for each customer per order"
   ]
  },
  {
   "cell_type": "code",
   "execution_count": 108,
   "metadata": {
    "collapsed": false
   },
   "outputs": [
    {
     "data": {
      "text/plain": [
       "10.552759338155157"
      ]
     },
     "execution_count": 108,
     "metadata": {},
     "output_type": "execute_result"
    }
   ],
   "source": [
    "Train.groupby('order_id')['product_name'].size().mean()   ## overall average products per order"
   ]
  },
  {
   "cell_type": "code",
   "execution_count": 109,
   "metadata": {
    "collapsed": false
   },
   "outputs": [
    {
     "data": {
      "text/plain": [
       "user_id\n",
       "1         11\n",
       "2         31\n",
       "5          9\n",
       "7          9\n",
       "8         18\n",
       "9         22\n",
       "10         4\n",
       "13         5\n",
       "14        11\n",
       "17         6\n",
       "18        11\n",
       "21         6\n",
       "23        12\n",
       "24         1\n",
       "27        17\n",
       "29        17\n",
       "30         1\n",
       "34         5\n",
       "37        12\n",
       "38        19\n",
       "41        15\n",
       "42         7\n",
       "43        33\n",
       "44         6\n",
       "46         6\n",
       "47         6\n",
       "48        13\n",
       "49         6\n",
       "50         6\n",
       "52        11\n",
       "          ..\n",
       "206159     1\n",
       "206162     8\n",
       "206164     2\n",
       "206165    20\n",
       "206167    17\n",
       "206169     3\n",
       "206170     7\n",
       "206171     5\n",
       "206172     3\n",
       "206174    15\n",
       "206175     9\n",
       "206176     6\n",
       "206177     6\n",
       "206178    14\n",
       "206181     9\n",
       "206184     1\n",
       "206185    11\n",
       "206186     7\n",
       "206188    18\n",
       "206190    10\n",
       "206191    23\n",
       "206193     6\n",
       "206195     6\n",
       "206196    15\n",
       "206198    13\n",
       "206199    22\n",
       "206200    19\n",
       "206203    13\n",
       "206205    19\n",
       "206209     8\n",
       "dtype: int64"
      ]
     },
     "execution_count": 109,
     "metadata": {},
     "output_type": "execute_result"
    }
   ],
   "source": [
    "Train.groupby('user_id')['order_id'].size()      # number of products ordered per customer\n"
   ]
  },
  {
   "cell_type": "code",
   "execution_count": 110,
   "metadata": {
    "collapsed": false
   },
   "outputs": [
    {
     "data": {
      "text/html": [
       "<div>\n",
       "<table border=\"1\" class=\"dataframe\">\n",
       "  <thead>\n",
       "    <tr style=\"text-align: right;\">\n",
       "      <th></th>\n",
       "      <th>order_id</th>\n",
       "      <th>user_id</th>\n",
       "      <th>eval_set</th>\n",
       "      <th>order_number</th>\n",
       "      <th>order_dow</th>\n",
       "      <th>order_hour_of_day</th>\n",
       "      <th>days_since_prior_order</th>\n",
       "      <th>product_id</th>\n",
       "      <th>add_to_cart_order</th>\n",
       "      <th>reordered</th>\n",
       "      <th>product_name</th>\n",
       "      <th>aisle_id</th>\n",
       "      <th>department_id</th>\n",
       "      <th>department</th>\n",
       "      <th>aisle</th>\n",
       "    </tr>\n",
       "  </thead>\n",
       "  <tbody>\n",
       "    <tr>\n",
       "      <th>0</th>\n",
       "      <td>1187899</td>\n",
       "      <td>1</td>\n",
       "      <td>train</td>\n",
       "      <td>11</td>\n",
       "      <td>4</td>\n",
       "      <td>8</td>\n",
       "      <td>14.0</td>\n",
       "      <td>196</td>\n",
       "      <td>1</td>\n",
       "      <td>1</td>\n",
       "      <td>Soda</td>\n",
       "      <td>77</td>\n",
       "      <td>7</td>\n",
       "      <td>beverages</td>\n",
       "      <td>soft drinks</td>\n",
       "    </tr>\n",
       "    <tr>\n",
       "      <th>378536</th>\n",
       "      <td>1187899</td>\n",
       "      <td>1</td>\n",
       "      <td>train</td>\n",
       "      <td>11</td>\n",
       "      <td>4</td>\n",
       "      <td>8</td>\n",
       "      <td>14.0</td>\n",
       "      <td>10258</td>\n",
       "      <td>6</td>\n",
       "      <td>1</td>\n",
       "      <td>Pistachios</td>\n",
       "      <td>117</td>\n",
       "      <td>19</td>\n",
       "      <td>snacks</td>\n",
       "      <td>nuts seeds dried fruit</td>\n",
       "    </tr>\n",
       "    <tr>\n",
       "      <th>367083</th>\n",
       "      <td>1187899</td>\n",
       "      <td>1</td>\n",
       "      <td>train</td>\n",
       "      <td>11</td>\n",
       "      <td>4</td>\n",
       "      <td>8</td>\n",
       "      <td>14.0</td>\n",
       "      <td>39657</td>\n",
       "      <td>5</td>\n",
       "      <td>1</td>\n",
       "      <td>Milk Chocolate Almonds</td>\n",
       "      <td>45</td>\n",
       "      <td>19</td>\n",
       "      <td>snacks</td>\n",
       "      <td>candy chocolate</td>\n",
       "    </tr>\n",
       "    <tr>\n",
       "      <th>331097</th>\n",
       "      <td>1187899</td>\n",
       "      <td>1</td>\n",
       "      <td>train</td>\n",
       "      <td>11</td>\n",
       "      <td>4</td>\n",
       "      <td>8</td>\n",
       "      <td>14.0</td>\n",
       "      <td>26405</td>\n",
       "      <td>4</td>\n",
       "      <td>1</td>\n",
       "      <td>XL Pick-A-Size Paper Towel Rolls</td>\n",
       "      <td>54</td>\n",
       "      <td>17</td>\n",
       "      <td>household</td>\n",
       "      <td>paper goods</td>\n",
       "    </tr>\n",
       "    <tr>\n",
       "      <th>485945</th>\n",
       "      <td>1187899</td>\n",
       "      <td>1</td>\n",
       "      <td>train</td>\n",
       "      <td>11</td>\n",
       "      <td>4</td>\n",
       "      <td>8</td>\n",
       "      <td>14.0</td>\n",
       "      <td>13032</td>\n",
       "      <td>7</td>\n",
       "      <td>1</td>\n",
       "      <td>Cinnamon Toast Crunch</td>\n",
       "      <td>121</td>\n",
       "      <td>14</td>\n",
       "      <td>breakfast</td>\n",
       "      <td>cereal</td>\n",
       "    </tr>\n",
       "  </tbody>\n",
       "</table>\n",
       "</div>"
      ],
      "text/plain": [
       "        order_id  user_id eval_set  order_number  order_dow  \\\n",
       "0        1187899        1    train            11          4   \n",
       "378536   1187899        1    train            11          4   \n",
       "367083   1187899        1    train            11          4   \n",
       "331097   1187899        1    train            11          4   \n",
       "485945   1187899        1    train            11          4   \n",
       "\n",
       "        order_hour_of_day  days_since_prior_order  product_id  \\\n",
       "0                       8                    14.0         196   \n",
       "378536                  8                    14.0       10258   \n",
       "367083                  8                    14.0       39657   \n",
       "331097                  8                    14.0       26405   \n",
       "485945                  8                    14.0       13032   \n",
       "\n",
       "        add_to_cart_order  reordered                      product_name  \\\n",
       "0                       1          1                              Soda   \n",
       "378536                  6          1                        Pistachios   \n",
       "367083                  5          1            Milk Chocolate Almonds   \n",
       "331097                  4          1  XL Pick-A-Size Paper Towel Rolls   \n",
       "485945                  7          1             Cinnamon Toast Crunch   \n",
       "\n",
       "        aisle_id  department_id department                   aisle  \n",
       "0             77              7  beverages             soft drinks  \n",
       "378536       117             19     snacks  nuts seeds dried fruit  \n",
       "367083        45             19     snacks         candy chocolate  \n",
       "331097        54             17  household             paper goods  \n",
       "485945       121             14  breakfast                  cereal  "
      ]
     },
     "execution_count": 110,
     "metadata": {},
     "output_type": "execute_result"
    }
   ],
   "source": [
    "Train.head()"
   ]
  },
  {
   "cell_type": "code",
   "execution_count": 111,
   "metadata": {
    "collapsed": false
   },
   "outputs": [
    {
     "data": {
      "text/plain": [
       "<matplotlib.text.Text at 0x15400357b38>"
      ]
     },
     "execution_count": 111,
     "metadata": {},
     "output_type": "execute_result"
    },
    {
     "data": {
      "image/png": "[encoded data removed]",
      "text/plain": [
       "<matplotlib.figure.Figure at 0x15460be63c8>"
      ]
     },
     "metadata": {},
     "output_type": "display_data"
    }
   ],
   "source": [
    "Freq=Train.days_since_prior_order.value_counts().sort_index()\n",
    "Freq.plot(kind='bar')\n",
    "plt.xlabel('Day of Month')\n",
    "plt.ylabel('Order Volume')"
   ]
  },
  {
   "cell_type": "markdown",
   "metadata": {
    "collapsed": true
   },
   "source": [
    "## What is the probability of product being ordered from given that they are Meat Eaters, Pescatarian, Vegan, NonVegan?"
   ]
  },
  {
   "cell_type": "code",
   "execution_count": 112,
   "metadata": {
    "collapsed": false
   },
   "outputs": [
    {
     "data": {
      "text/html": [
       "<div>\n",
       "<table border=\"1\" class=\"dataframe\">\n",
       "  <thead>\n",
       "    <tr style=\"text-align: right;\">\n",
       "      <th></th>\n",
       "      <th>user_id</th>\n",
       "      <th>category</th>\n",
       "    </tr>\n",
       "  </thead>\n",
       "  <tbody>\n",
       "    <tr>\n",
       "      <th>0</th>\n",
       "      <td>14</td>\n",
       "      <td>Meat Lovers</td>\n",
       "    </tr>\n",
       "    <tr>\n",
       "      <th>1</th>\n",
       "      <td>43</td>\n",
       "      <td>Meat Lovers</td>\n",
       "    </tr>\n",
       "    <tr>\n",
       "      <th>2</th>\n",
       "      <td>44</td>\n",
       "      <td>Meat Lovers</td>\n",
       "    </tr>\n",
       "    <tr>\n",
       "      <th>3</th>\n",
       "      <td>53</td>\n",
       "      <td>Meat Lovers</td>\n",
       "    </tr>\n",
       "    <tr>\n",
       "      <th>4</th>\n",
       "      <td>201</td>\n",
       "      <td>Meat Lovers</td>\n",
       "    </tr>\n",
       "    <tr>\n",
       "      <th>5</th>\n",
       "      <td>238</td>\n",
       "      <td>Meat Lovers</td>\n",
       "    </tr>\n",
       "    <tr>\n",
       "      <th>6</th>\n",
       "      <td>473</td>\n",
       "      <td>Meat Lovers</td>\n",
       "    </tr>\n",
       "    <tr>\n",
       "      <th>7</th>\n",
       "      <td>495</td>\n",
       "      <td>Meat Lovers</td>\n",
       "    </tr>\n",
       "    <tr>\n",
       "      <th>8</th>\n",
       "      <td>499</td>\n",
       "      <td>Meat Lovers</td>\n",
       "    </tr>\n",
       "    <tr>\n",
       "      <th>9</th>\n",
       "      <td>558</td>\n",
       "      <td>Meat Lovers</td>\n",
       "    </tr>\n",
       "    <tr>\n",
       "      <th>10</th>\n",
       "      <td>846</td>\n",
       "      <td>Meat Lovers</td>\n",
       "    </tr>\n",
       "    <tr>\n",
       "      <th>11</th>\n",
       "      <td>1022</td>\n",
       "      <td>Meat Lovers</td>\n",
       "    </tr>\n",
       "    <tr>\n",
       "      <th>12</th>\n",
       "      <td>1299</td>\n",
       "      <td>Meat Lovers</td>\n",
       "    </tr>\n",
       "    <tr>\n",
       "      <th>13</th>\n",
       "      <td>1406</td>\n",
       "      <td>Meat Lovers</td>\n",
       "    </tr>\n",
       "    <tr>\n",
       "      <th>14</th>\n",
       "      <td>1446</td>\n",
       "      <td>Meat Lovers</td>\n",
       "    </tr>\n",
       "    <tr>\n",
       "      <th>15</th>\n",
       "      <td>1641</td>\n",
       "      <td>Meat Lovers</td>\n",
       "    </tr>\n",
       "    <tr>\n",
       "      <th>16</th>\n",
       "      <td>1978</td>\n",
       "      <td>Meat Lovers</td>\n",
       "    </tr>\n",
       "    <tr>\n",
       "      <th>17</th>\n",
       "      <td>2091</td>\n",
       "      <td>Meat Lovers</td>\n",
       "    </tr>\n",
       "    <tr>\n",
       "      <th>18</th>\n",
       "      <td>2101</td>\n",
       "      <td>Meat Lovers</td>\n",
       "    </tr>\n",
       "    <tr>\n",
       "      <th>19</th>\n",
       "      <td>2214</td>\n",
       "      <td>Meat Lovers</td>\n",
       "    </tr>\n",
       "    <tr>\n",
       "      <th>20</th>\n",
       "      <td>2228</td>\n",
       "      <td>Meat Lovers</td>\n",
       "    </tr>\n",
       "    <tr>\n",
       "      <th>21</th>\n",
       "      <td>2287</td>\n",
       "      <td>Meat Lovers</td>\n",
       "    </tr>\n",
       "    <tr>\n",
       "      <th>22</th>\n",
       "      <td>2345</td>\n",
       "      <td>Meat Lovers</td>\n",
       "    </tr>\n",
       "    <tr>\n",
       "      <th>23</th>\n",
       "      <td>2354</td>\n",
       "      <td>Meat Lovers</td>\n",
       "    </tr>\n",
       "    <tr>\n",
       "      <th>24</th>\n",
       "      <td>2409</td>\n",
       "      <td>Meat Lovers</td>\n",
       "    </tr>\n",
       "    <tr>\n",
       "      <th>25</th>\n",
       "      <td>2487</td>\n",
       "      <td>Meat Lovers</td>\n",
       "    </tr>\n",
       "    <tr>\n",
       "      <th>26</th>\n",
       "      <td>2488</td>\n",
       "      <td>Meat Lovers</td>\n",
       "    </tr>\n",
       "    <tr>\n",
       "      <th>27</th>\n",
       "      <td>2525</td>\n",
       "      <td>Meat Lovers</td>\n",
       "    </tr>\n",
       "    <tr>\n",
       "      <th>28</th>\n",
       "      <td>2551</td>\n",
       "      <td>Meat Lovers</td>\n",
       "    </tr>\n",
       "    <tr>\n",
       "      <th>29</th>\n",
       "      <td>2654</td>\n",
       "      <td>Meat Lovers</td>\n",
       "    </tr>\n",
       "    <tr>\n",
       "      <th>...</th>\n",
       "      <td>...</td>\n",
       "      <td>...</td>\n",
       "    </tr>\n",
       "    <tr>\n",
       "      <th>43209</th>\n",
       "      <td>206076</td>\n",
       "      <td>Vegan</td>\n",
       "    </tr>\n",
       "    <tr>\n",
       "      <th>43210</th>\n",
       "      <td>206077</td>\n",
       "      <td>Vegan</td>\n",
       "    </tr>\n",
       "    <tr>\n",
       "      <th>43211</th>\n",
       "      <td>206081</td>\n",
       "      <td>Vegan</td>\n",
       "    </tr>\n",
       "    <tr>\n",
       "      <th>43212</th>\n",
       "      <td>206087</td>\n",
       "      <td>Vegan</td>\n",
       "    </tr>\n",
       "    <tr>\n",
       "      <th>43213</th>\n",
       "      <td>206089</td>\n",
       "      <td>Vegan</td>\n",
       "    </tr>\n",
       "    <tr>\n",
       "      <th>43214</th>\n",
       "      <td>206093</td>\n",
       "      <td>Vegan</td>\n",
       "    </tr>\n",
       "    <tr>\n",
       "      <th>43215</th>\n",
       "      <td>206098</td>\n",
       "      <td>Vegan</td>\n",
       "    </tr>\n",
       "    <tr>\n",
       "      <th>43216</th>\n",
       "      <td>206100</td>\n",
       "      <td>Vegan</td>\n",
       "    </tr>\n",
       "    <tr>\n",
       "      <th>43217</th>\n",
       "      <td>206107</td>\n",
       "      <td>Vegan</td>\n",
       "    </tr>\n",
       "    <tr>\n",
       "      <th>43218</th>\n",
       "      <td>206123</td>\n",
       "      <td>Vegan</td>\n",
       "    </tr>\n",
       "    <tr>\n",
       "      <th>43219</th>\n",
       "      <td>206125</td>\n",
       "      <td>Vegan</td>\n",
       "    </tr>\n",
       "    <tr>\n",
       "      <th>43220</th>\n",
       "      <td>206132</td>\n",
       "      <td>Vegan</td>\n",
       "    </tr>\n",
       "    <tr>\n",
       "      <th>43221</th>\n",
       "      <td>206133</td>\n",
       "      <td>Vegan</td>\n",
       "    </tr>\n",
       "    <tr>\n",
       "      <th>43222</th>\n",
       "      <td>206136</td>\n",
       "      <td>Vegan</td>\n",
       "    </tr>\n",
       "    <tr>\n",
       "      <th>43223</th>\n",
       "      <td>206137</td>\n",
       "      <td>Vegan</td>\n",
       "    </tr>\n",
       "    <tr>\n",
       "      <th>43224</th>\n",
       "      <td>206145</td>\n",
       "      <td>Vegan</td>\n",
       "    </tr>\n",
       "    <tr>\n",
       "      <th>43225</th>\n",
       "      <td>206146</td>\n",
       "      <td>Vegan</td>\n",
       "    </tr>\n",
       "    <tr>\n",
       "      <th>43226</th>\n",
       "      <td>206155</td>\n",
       "      <td>Vegan</td>\n",
       "    </tr>\n",
       "    <tr>\n",
       "      <th>43227</th>\n",
       "      <td>206156</td>\n",
       "      <td>Vegan</td>\n",
       "    </tr>\n",
       "    <tr>\n",
       "      <th>43228</th>\n",
       "      <td>206158</td>\n",
       "      <td>Vegan</td>\n",
       "    </tr>\n",
       "    <tr>\n",
       "      <th>43229</th>\n",
       "      <td>206159</td>\n",
       "      <td>Vegan</td>\n",
       "    </tr>\n",
       "    <tr>\n",
       "      <th>43230</th>\n",
       "      <td>206164</td>\n",
       "      <td>Vegan</td>\n",
       "    </tr>\n",
       "    <tr>\n",
       "      <th>43231</th>\n",
       "      <td>206169</td>\n",
       "      <td>Vegan</td>\n",
       "    </tr>\n",
       "    <tr>\n",
       "      <th>43232</th>\n",
       "      <td>206172</td>\n",
       "      <td>Vegan</td>\n",
       "    </tr>\n",
       "    <tr>\n",
       "      <th>43233</th>\n",
       "      <td>206176</td>\n",
       "      <td>Vegan</td>\n",
       "    </tr>\n",
       "    <tr>\n",
       "      <th>43234</th>\n",
       "      <td>206186</td>\n",
       "      <td>Vegan</td>\n",
       "    </tr>\n",
       "    <tr>\n",
       "      <th>43235</th>\n",
       "      <td>206193</td>\n",
       "      <td>Vegan</td>\n",
       "    </tr>\n",
       "    <tr>\n",
       "      <th>43236</th>\n",
       "      <td>206195</td>\n",
       "      <td>Vegan</td>\n",
       "    </tr>\n",
       "    <tr>\n",
       "      <th>43237</th>\n",
       "      <td>206196</td>\n",
       "      <td>Vegan</td>\n",
       "    </tr>\n",
       "    <tr>\n",
       "      <th>43238</th>\n",
       "      <td>206209</td>\n",
       "      <td>Vegan</td>\n",
       "    </tr>\n",
       "  </tbody>\n",
       "</table>\n",
       "<p>131209 rows × 2 columns</p>\n",
       "</div>"
      ],
      "text/plain": [
       "       user_id     category\n",
       "0           14  Meat Lovers\n",
       "1           43  Meat Lovers\n",
       "2           44  Meat Lovers\n",
       "3           53  Meat Lovers\n",
       "4          201  Meat Lovers\n",
       "5          238  Meat Lovers\n",
       "6          473  Meat Lovers\n",
       "7          495  Meat Lovers\n",
       "8          499  Meat Lovers\n",
       "9          558  Meat Lovers\n",
       "10         846  Meat Lovers\n",
       "11        1022  Meat Lovers\n",
       "12        1299  Meat Lovers\n",
       "13        1406  Meat Lovers\n",
       "14        1446  Meat Lovers\n",
       "15        1641  Meat Lovers\n",
       "16        1978  Meat Lovers\n",
       "17        2091  Meat Lovers\n",
       "18        2101  Meat Lovers\n",
       "19        2214  Meat Lovers\n",
       "20        2228  Meat Lovers\n",
       "21        2287  Meat Lovers\n",
       "22        2345  Meat Lovers\n",
       "23        2354  Meat Lovers\n",
       "24        2409  Meat Lovers\n",
       "25        2487  Meat Lovers\n",
       "26        2488  Meat Lovers\n",
       "27        2525  Meat Lovers\n",
       "28        2551  Meat Lovers\n",
       "29        2654  Meat Lovers\n",
       "...        ...          ...\n",
       "43209   206076        Vegan\n",
       "43210   206077        Vegan\n",
       "43211   206081        Vegan\n",
       "43212   206087        Vegan\n",
       "43213   206089        Vegan\n",
       "43214   206093        Vegan\n",
       "43215   206098        Vegan\n",
       "43216   206100        Vegan\n",
       "43217   206107        Vegan\n",
       "43218   206123        Vegan\n",
       "43219   206125        Vegan\n",
       "43220   206132        Vegan\n",
       "43221   206133        Vegan\n",
       "43222   206136        Vegan\n",
       "43223   206137        Vegan\n",
       "43224   206145        Vegan\n",
       "43225   206146        Vegan\n",
       "43226   206155        Vegan\n",
       "43227   206156        Vegan\n",
       "43228   206158        Vegan\n",
       "43229   206159        Vegan\n",
       "43230   206164        Vegan\n",
       "43231   206169        Vegan\n",
       "43232   206172        Vegan\n",
       "43233   206176        Vegan\n",
       "43234   206186        Vegan\n",
       "43235   206193        Vegan\n",
       "43236   206195        Vegan\n",
       "43237   206196        Vegan\n",
       "43238   206209        Vegan\n",
       "\n",
       "[131209 rows x 2 columns]"
      ]
     },
     "execution_count": 112,
     "metadata": {},
     "output_type": "execute_result"
    }
   ],
   "source": [
    "Train_users"
   ]
  },
  {
   "cell_type": "code",
   "execution_count": 116,
   "metadata": {
    "collapsed": false
   },
   "outputs": [],
   "source": [
    "Train=Train.merge(Train_users)\n",
    "G1=Train[Train.category=='Meat Lovers']\n",
    "G2=Train[Train.category=='Pescatarian']\n",
    "G3=Train[Train.category=='NonVegan']\n",
    "G4=Train[Train.category=='Vegan']\n"
   ]
  },
  {
   "cell_type": "code",
   "execution_count": 121,
   "metadata": {
    "collapsed": false
   },
   "outputs": [
    {
     "data": {
      "text/plain": [
       "Banana                    0.012779\n",
       "Bag of Organic Bananas    0.008780\n",
       "Organic Strawberries      0.007367\n",
       "Organic Baby Spinach      0.006385\n",
       "Large Lemon               0.005823\n",
       "Name: product_name, dtype: float64"
      ]
     },
     "execution_count": 121,
     "metadata": {},
     "output_type": "execute_result"
    }
   ],
   "source": [
    "#Meat Lovers Pobability of product to be ordered\n",
    "ProbG1=G1.product_name.value_counts()/G1.product_name.size\n",
    "ProbG1.head()"
   ]
  },
  {
   "cell_type": "code",
   "execution_count": 122,
   "metadata": {
    "collapsed": false
   },
   "outputs": [
    {
     "data": {
      "text/plain": [
       "Banana                    0.011825\n",
       "Bag of Organic Bananas    0.010064\n",
       "Organic Strawberries      0.007783\n",
       "Organic Baby Spinach      0.006659\n",
       "Large Lemon               0.005854\n",
       "Name: product_name, dtype: float64"
      ]
     },
     "execution_count": 122,
     "metadata": {},
     "output_type": "execute_result"
    }
   ],
   "source": [
    "#Pescatarian Pobability of product to be ordered\n",
    "ProbG2=G2.product_name.value_counts()/G2.product_name.size\n",
    "ProbG2.head()"
   ]
  },
  {
   "cell_type": "code",
   "execution_count": 123,
   "metadata": {
    "collapsed": false
   },
   "outputs": [
    {
     "data": {
      "text/plain": [
       "Banana                    0.014687\n",
       "Bag of Organic Bananas    0.012030\n",
       "Organic Strawberries      0.008391\n",
       "Organic Baby Spinach      0.007092\n",
       "Large Lemon               0.005927\n",
       "Name: product_name, dtype: float64"
      ]
     },
     "execution_count": 123,
     "metadata": {},
     "output_type": "execute_result"
    }
   ],
   "source": [
    "#NonVegan Pobability of product to be ordered\n",
    "ProbG3=G3.product_name.value_counts()/G3.product_name.size\n",
    "ProbG3.head()"
   ]
  },
  {
   "cell_type": "code",
   "execution_count": 125,
   "metadata": {
    "collapsed": false
   },
   "outputs": [
    {
     "data": {
      "text/plain": [
       "Bag of Organic Bananas    0.014675\n",
       "Banana                    0.012936\n",
       "Organic Baby Spinach      0.008561\n",
       "Organic Strawberries      0.007793\n",
       "Large Lemon               0.005876\n",
       "Name: product_name, dtype: float64"
      ]
     },
     "execution_count": 125,
     "metadata": {},
     "output_type": "execute_result"
    }
   ],
   "source": [
    "#Vegan Pobability of product to be ordered\n",
    "ProbG4=G4.product_name.value_counts()/G4.product_name.size\n",
    "ProbG4.head()"
   ]
  },
  {
   "cell_type": "code",
   "execution_count": null,
   "metadata": {
    "collapsed": true
   },
   "outputs": [],
   "source": []
  }
 ],
 "metadata": {
  "kernelspec": {
   "display_name": "Python 3",
   "language": "python",
   "name": "python3"
  },
  "language_info": {
   "codemirror_mode": {
    "name": "ipython",
    "version": 3
   },
   "file_extension": ".py",
   "mimetype": "text/x-python",
   "name": "python",
   "nbconvert_exporter": "python",
   "pygments_lexer": "ipython3",
   "version": "3.6.0"
  }
 },
 "nbformat": 4,
 "nbformat_minor": 2
}
