{
 "cells": [
  {
   "cell_type": "markdown",
   "metadata": {},
   "source": [
    "# Capstone Project 1: Instacart Market Basket Analysis\n",
    "## Part 2: Predicting Customer's Diet Classification\n",
    "\n",
    "Part 1 of this Project is the Exploratory Data Analysis where a list of questions where answered about the dataset.  This part two section includes:\n",
    "\n",
    "1. overall Aisle Perent distribution calculation\n",
    "2. extracting three sample dataset from customer's order history\n",
    "3. identifying Diet Classification by USERS\n",
    "4. identifying Diet Classification by ORDERS\n",
    "5. generating simulated sample data set\n",
    "6. hypothesis testing part 1: Are there significant differences between Diet distributions classified by USERS vs. by ORDERS?\n",
    "7. hypothesis testing part 2: Are there significant differences between Diet distribution classified by USERS and by ORDERS   \n",
    "   using Empirical dataset vs. Simulated dataset \n",
    "8. Limitations of this algorithm\n",
    "\n",
    "Note: Headings that start with \"F\" (F1,F2,...Fn) are functions"
   ]
  },
  {
   "cell_type": "code",
   "execution_count": 1,
   "metadata": {
    "collapsed": false
   },
   "outputs": [],
   "source": [
    "import pandas as pd\n",
    "import matplotlib.pyplot as plt\n",
    "import matplotlib.ticker as ticker\n",
    "import numpy as np\n",
    "% matplotlib inline\n",
    "import seaborn as sns\n",
    "from matplotlib import rcParams\n",
    "from scipy import stats\n",
    "sns.set(style=\"whitegrid\", color_codes=True)\n",
    "sns.set_context(\"poster\")"
   ]
  },
  {
   "cell_type": "code",
   "execution_count": 2,
   "metadata": {
    "collapsed": false
   },
   "outputs": [],
   "source": [
    "## Read and Save all Tables in a DF\n",
    "prod=pd.read_csv('products.csv')\n",
    "aisles=pd.read_csv('aisles.csv')\n",
    "dep=pd.read_csv('departments.csv')\n",
    "orders=pd.read_csv('orders.csv')\n",
    "train=pd.read_csv('order_products__train.csv')\n",
    "prior=pd.read_csv('order_products__prior.csv')\n",
    "samp=pd.read_csv('sample_submission.csv')"
   ]
  },
  {
   "cell_type": "code",
   "execution_count": 3,
   "metadata": {
    "collapsed": false
   },
   "outputs": [
    {
     "data": {
      "text/html": [
       "<div>\n",
       "<table border=\"1\" class=\"dataframe\">\n",
       "  <thead>\n",
       "    <tr style=\"text-align: right;\">\n",
       "      <th></th>\n",
       "      <th>aisle_id</th>\n",
       "      <th>aisle</th>\n",
       "    </tr>\n",
       "  </thead>\n",
       "  <tbody>\n",
       "    <tr>\n",
       "      <th>0</th>\n",
       "      <td>1</td>\n",
       "      <td>prepared soups salads</td>\n",
       "    </tr>\n",
       "    <tr>\n",
       "      <th>1</th>\n",
       "      <td>2</td>\n",
       "      <td>specialty cheeses</td>\n",
       "    </tr>\n",
       "    <tr>\n",
       "      <th>2</th>\n",
       "      <td>3</td>\n",
       "      <td>energy granola bars</td>\n",
       "    </tr>\n",
       "    <tr>\n",
       "      <th>3</th>\n",
       "      <td>4</td>\n",
       "      <td>instant foods</td>\n",
       "    </tr>\n",
       "    <tr>\n",
       "      <th>4</th>\n",
       "      <td>5</td>\n",
       "      <td>marinades meat preparation</td>\n",
       "    </tr>\n",
       "  </tbody>\n",
       "</table>\n",
       "</div>"
      ],
      "text/plain": [
       "   aisle_id                       aisle\n",
       "0         1       prepared soups salads\n",
       "1         2           specialty cheeses\n",
       "2         3         energy granola bars\n",
       "3         4               instant foods\n",
       "4         5  marinades meat preparation"
      ]
     },
     "execution_count": 3,
     "metadata": {},
     "output_type": "execute_result"
    }
   ],
   "source": [
    "aisles.head()"
   ]
  },
  {
   "cell_type": "code",
   "execution_count": 4,
   "metadata": {
    "collapsed": true
   },
   "outputs": [],
   "source": [
    "## Orders Table Separated to three\n",
    "oprior=orders[orders.eval_set=='prior']\n",
    "otrain=orders[orders.eval_set=='train']\n",
    "otest=orders[orders.eval_set=='test']"
   ]
  },
  {
   "cell_type": "code",
   "execution_count": 5,
   "metadata": {
    "collapsed": false
   },
   "outputs": [
    {
     "data": {
      "text/html": [
       "<div>\n",
       "<table border=\"1\" class=\"dataframe\">\n",
       "  <thead>\n",
       "    <tr style=\"text-align: right;\">\n",
       "      <th></th>\n",
       "      <th>order_id</th>\n",
       "      <th>user_id</th>\n",
       "      <th>eval_set</th>\n",
       "      <th>order_number</th>\n",
       "      <th>order_dow</th>\n",
       "      <th>order_hour_of_day</th>\n",
       "      <th>days_since_prior_order</th>\n",
       "    </tr>\n",
       "  </thead>\n",
       "  <tbody>\n",
       "    <tr>\n",
       "      <th>0</th>\n",
       "      <td>2539329</td>\n",
       "      <td>1</td>\n",
       "      <td>prior</td>\n",
       "      <td>1</td>\n",
       "      <td>2</td>\n",
       "      <td>8</td>\n",
       "      <td>NaN</td>\n",
       "    </tr>\n",
       "    <tr>\n",
       "      <th>1</th>\n",
       "      <td>2398795</td>\n",
       "      <td>1</td>\n",
       "      <td>prior</td>\n",
       "      <td>2</td>\n",
       "      <td>3</td>\n",
       "      <td>7</td>\n",
       "      <td>15.0</td>\n",
       "    </tr>\n",
       "    <tr>\n",
       "      <th>2</th>\n",
       "      <td>473747</td>\n",
       "      <td>1</td>\n",
       "      <td>prior</td>\n",
       "      <td>3</td>\n",
       "      <td>3</td>\n",
       "      <td>12</td>\n",
       "      <td>21.0</td>\n",
       "    </tr>\n",
       "    <tr>\n",
       "      <th>3</th>\n",
       "      <td>2254736</td>\n",
       "      <td>1</td>\n",
       "      <td>prior</td>\n",
       "      <td>4</td>\n",
       "      <td>4</td>\n",
       "      <td>7</td>\n",
       "      <td>29.0</td>\n",
       "    </tr>\n",
       "    <tr>\n",
       "      <th>4</th>\n",
       "      <td>431534</td>\n",
       "      <td>1</td>\n",
       "      <td>prior</td>\n",
       "      <td>5</td>\n",
       "      <td>4</td>\n",
       "      <td>15</td>\n",
       "      <td>28.0</td>\n",
       "    </tr>\n",
       "  </tbody>\n",
       "</table>\n",
       "</div>"
      ],
      "text/plain": [
       "   order_id  user_id eval_set  order_number  order_dow  order_hour_of_day  \\\n",
       "0   2539329        1    prior             1          2                  8   \n",
       "1   2398795        1    prior             2          3                  7   \n",
       "2    473747        1    prior             3          3                 12   \n",
       "3   2254736        1    prior             4          4                  7   \n",
       "4    431534        1    prior             5          4                 15   \n",
       "\n",
       "   days_since_prior_order  \n",
       "0                     NaN  \n",
       "1                    15.0  \n",
       "2                    21.0  \n",
       "3                    29.0  \n",
       "4                    28.0  "
      ]
     },
     "execution_count": 5,
     "metadata": {},
     "output_type": "execute_result"
    }
   ],
   "source": [
    "oprior.head()"
   ]
  },
  {
   "cell_type": "code",
   "execution_count": 6,
   "metadata": {
    "collapsed": false
   },
   "outputs": [
    {
     "data": {
      "text/plain": [
       "206209"
      ]
     },
     "execution_count": 6,
     "metadata": {},
     "output_type": "execute_result"
    }
   ],
   "source": [
    "## Total number of Customers that are in oprior dataframe\n",
    "oprior.user_id.unique().size"
   ]
  },
  {
   "cell_type": "code",
   "execution_count": 7,
   "metadata": {
    "collapsed": false
   },
   "outputs": [],
   "source": [
    "##Merging Oprior DataFrame with prod and aisle dataframes\n",
    "Allprior=oprior.merge(prior)\n",
    "Allprior=Allprior.merge(prod)\n",
    "Allprior=Allprior.merge(aisles)"
   ]
  },
  {
   "cell_type": "markdown",
   "metadata": {
    "collapsed": false
   },
   "source": [
    "# 1. Overall Aisle Perent distribution calculation"
   ]
  },
  {
   "cell_type": "code",
   "execution_count": 8,
   "metadata": {
    "collapsed": false,
    "scrolled": true
   },
   "outputs": [
    {
     "data": {
      "text/html": [
       "<div>\n",
       "<table border=\"1\" class=\"dataframe\">\n",
       "  <thead>\n",
       "    <tr style=\"text-align: right;\">\n",
       "      <th></th>\n",
       "      <th>aisle_id</th>\n",
       "      <th>aisle_percent</th>\n",
       "    </tr>\n",
       "  </thead>\n",
       "  <tbody>\n",
       "    <tr>\n",
       "      <th>0</th>\n",
       "      <td>1</td>\n",
       "      <td>0.002218</td>\n",
       "    </tr>\n",
       "    <tr>\n",
       "      <th>1</th>\n",
       "      <td>2</td>\n",
       "      <td>0.002543</td>\n",
       "    </tr>\n",
       "    <tr>\n",
       "      <th>2</th>\n",
       "      <td>3</td>\n",
       "      <td>0.014071</td>\n",
       "    </tr>\n",
       "    <tr>\n",
       "      <th>3</th>\n",
       "      <td>4</td>\n",
       "      <td>0.006187</td>\n",
       "    </tr>\n",
       "    <tr>\n",
       "      <th>4</th>\n",
       "      <td>5</td>\n",
       "      <td>0.001927</td>\n",
       "    </tr>\n",
       "  </tbody>\n",
       "</table>\n",
       "</div>"
      ],
      "text/plain": [
       "   aisle_id  aisle_percent\n",
       "0         1       0.002218\n",
       "1         2       0.002543\n",
       "2         3       0.014071\n",
       "3         4       0.006187\n",
       "4         5       0.001927"
      ]
     },
     "execution_count": 8,
     "metadata": {},
     "output_type": "execute_result"
    }
   ],
   "source": [
    "##Percentage of orders coming from each aisle in the entire Allprior dataframe\n",
    "aisle_percent=Allprior.aisle_id.value_counts()/Allprior.aisle_id.size\n",
    "aisle_percent=pd.DataFrame(aisle_percent).sort_index().reset_index()\n",
    "aisle_percent.columns=['aisle_id', 'aisle_percent']\n",
    "aisle_percent.head()\n"
   ]
  },
  {
   "cell_type": "code",
   "execution_count": 9,
   "metadata": {
    "collapsed": false
   },
   "outputs": [
    {
     "data": {
      "image/png": "[encoded data removed]",
      "text/plain": [
       "<matplotlib.figure.Figure at 0x1c6449d8940>"
      ]
     },
     "metadata": {},
     "output_type": "display_data"
    }
   ],
   "source": [
    "fig, ax = plt.subplots(figsize=(8,10))\n",
    "plt.barh(range(len(aisle_percent.aisle_percent)), aisle_percent.aisle_percent, color='r')\n",
    "plt.ylim(0,135)\n",
    "plt.xlabel('Percent')\n",
    "plt.ylabel('aisle_id')\n",
    "plt.title('Aisle Distribution')\n",
    "ax.set_yticks(np.arange(0,136,5))\n",
    "plt.show()"
   ]
  },
  {
   "cell_type": "code",
   "execution_count": 10,
   "metadata": {
    "collapsed": false
   },
   "outputs": [],
   "source": [
    "## U is the dataframe of users with their number of orders\n",
    "U=oprior.groupby('user_id')['order_number'].agg(['max'])\n",
    "U['user_id']=U.index.get_level_values('user_id').values\n",
    "U.columns=['max_order', 'user_id']"
   ]
  },
  {
   "cell_type": "code",
   "execution_count": 11,
   "metadata": {
    "collapsed": false
   },
   "outputs": [],
   "source": [
    "## P_num is the dataframe of users with order_id and the number of products per order\n",
    "P_num=Allprior.groupby('user_id')['order_id'].value_counts()\n",
    "P_num=pd.DataFrame(P_num)\n",
    "P_num.columns=['prod_per_order']\n",
    "P_num['user_id']=P_num.index.get_level_values('user_id').values\n",
    "P_num['order_id']=P_num.index.get_level_values('order_id').values"
   ]
  },
  {
   "cell_type": "code",
   "execution_count": 12,
   "metadata": {
    "collapsed": false
   },
   "outputs": [],
   "source": [
    "### Tot_p is the dataframe of users with total number of products they ordered\n",
    "Tot_p=Allprior.user_id.value_counts()\n",
    "Tot_p=pd.DataFrame(Tot_p).reset_index()\n",
    "Tot_p.columns=['user_id', 'total_products']"
   ]
  },
  {
   "cell_type": "markdown",
   "metadata": {},
   "source": [
    "##  F1. This function provides a sample of 10,000 random users from the oprior dataframe for training dataset"
   ]
  },
  {
   "cell_type": "code",
   "execution_count": 13,
   "metadata": {
    "collapsed": false
   },
   "outputs": [],
   "source": [
    "def Sample_maker(Q):\n",
    "    PO=Q.merge(P_num).merge(Tot_p)\n",
    "    sample1=Q.sample(n=10000, replace=False, random_state=0, axis=0)\n",
    "    \n",
    "    ## sample1 is the DataFrame of the first dataset\n",
    "    sample1=sample1.merge(PO, how='inner')\n",
    "    sample1=sample1.loc[:,['user_id', 'order_id', 'max_order', 'prod_per_order', 'total_products']]\n",
    "\n",
    "\n",
    "    #Emp is the Empirical dataframe\n",
    "    Emp=sample1.merge(Allprior, how='inner')\n",
    "    \n",
    "    return Emp"
   ]
  },
  {
   "cell_type": "markdown",
   "metadata": {},
   "source": [
    "## F2. This Function classifies Users as Meat_Lovers, Pescatarian, Vegan, NonVegan according to users overall order history"
   ]
  },
  {
   "cell_type": "code",
   "execution_count": 14,
   "metadata": {
    "collapsed": true
   },
   "outputs": [],
   "source": [
    "def Diet_Class_user(A):\n",
    "    ## Total products ordered from Meat & Seafood Aisles\n",
    "    MS=A[(A.aisle_id==5)|(A.aisle_id==7)|(A.aisle_id==15)|(A.aisle_id==34)|(A.aisle_id==35)|(A.aisle_id==39)|(A.aisle_id==49)|(A.aisle_id==95)|(A.aisle_id==96)|(A.aisle_id==106)|(A.aisle_id==122)]\n",
    "    \n",
    "    ##Eats Meat and Fish\n",
    "    M=MS[(MS.aisle_id==5)|(A.aisle_id==7)|(A.aisle_id==35)|(A.aisle_id==49)|(A.aisle_id==96)|(A.aisle_id==106)|(A.aisle_id==122)]\n",
    "    MF=M.user_id.unique()\n",
    "    Meat_L=pd.DataFrame(MF, columns=['user_id'])\n",
    "    Meat_L['Diet']='Meat_Lovers'\n",
    "    \n",
    "    ##Pescatarian that eat and not eat other meat\n",
    "    P=MS[(MS.aisle_id==15)|(MS.aisle_id==34)|(MS.aisle_id==39)|(MS.aisle_id==95)]\n",
    "    F=P.user_id.unique()\n",
    "    \n",
    "    ## Pescatarian customers\n",
    "    Pesca=np.setdiff1d(F,MF)\n",
    "    Pesca=pd.DataFrame(Pesca, columns=['user_id'])\n",
    "    Pesca['Diet']='Pescatarian'\n",
    "\n",
    "    ## All Vegetarians\n",
    "    Veg=A.loc[~A.user_id.isin(MS.user_id)]\n",
    "\n",
    "    # NonVegan \n",
    "    NV=Veg[(Veg.aisle_id==86)|(Veg.aisle_id==2)|(Veg.aisle_id==21)|(Veg.aisle_id==53)|(Veg.aisle_id==84)|(Veg.aisle_id==108)|(Veg.aisle_id==120)]\n",
    "    F1=NV.user_id.unique()\n",
    "\n",
    "    NonVeg=pd.DataFrame(F1, columns=['user_id'])\n",
    "    NonVeg['Diet']='NonVegan'\n",
    "    \n",
    "    ##Vegans\n",
    "    Vegans=Veg.loc[~Veg.user_id.isin(F1)]\n",
    "    Vega=Vegans.user_id.unique()\n",
    "    Vega=pd.DataFrame(Vega, columns=['user_id'])\n",
    "    Vega['Diet']='Vegan'\n",
    "    \n",
    "    ## Merge all DataFrame of Different Diets\n",
    "    Sample_class=pd.concat([Meat_L, Pesca, NonVeg, Vega])\n",
    "    \n",
    "    return Sample_class"
   ]
  },
  {
   "cell_type": "markdown",
   "metadata": {},
   "source": [
    "## F3. This Function classifies Meat_Lovers, Pescatarian, Vegan, NonVegan according to orders and disregarding who ordered it (the user)"
   ]
  },
  {
   "cell_type": "code",
   "execution_count": 15,
   "metadata": {
    "collapsed": true
   },
   "outputs": [],
   "source": [
    "def Diet_Class_orders(A):\n",
    "    ## Total products ordered from Meat & Seafood Aisles\n",
    "    MS=A[(A.aisle_id==5)|(A.aisle_id==7)|(A.aisle_id==15)|(A.aisle_id==34)|(A.aisle_id==35)|(A.aisle_id==39)|(A.aisle_id==49)|(A.aisle_id==95)|(A.aisle_id==96)|(A.aisle_id==106)|(A.aisle_id==122)]\n",
    "    \n",
    "    ##Eats Meat and Fish\n",
    "    M=MS[(MS.aisle_id==5)|(A.aisle_id==7)|(A.aisle_id==35)|(A.aisle_id==49)|(A.aisle_id==96)|(A.aisle_id==106)|(A.aisle_id==122)]\n",
    "    MF=M.order_id.unique()\n",
    "    Meat_L=pd.DataFrame(MF, columns=['order_id'])\n",
    "    Meat_L['Diet']='Meat_Lovers'\n",
    "    \n",
    "    ##Pescatarian that eat and not eat other meat\n",
    "    P=MS[(MS.aisle_id==15)|(MS.aisle_id==34)|(MS.aisle_id==39)|(MS.aisle_id==95)]\n",
    "    F=P.order_id.unique()\n",
    "    \n",
    "    ## Pescatarian customers\n",
    "    Pesca=np.setdiff1d(F,MF)\n",
    "    Pesca=pd.DataFrame(Pesca, columns=['order_id'])\n",
    "    Pesca['Diet']='Pescatarian'\n",
    "\n",
    "    ## All Vegetarians\n",
    "    Veg=A.loc[~A.order_id.isin(MS.order_id)]\n",
    "\n",
    "    # NonVegan \n",
    "    NV=Veg[(Veg.aisle_id==86)|(Veg.aisle_id==2)|(Veg.aisle_id==21)|(Veg.aisle_id==53)|(Veg.aisle_id==84)|(Veg.aisle_id==108)|(Veg.aisle_id==120)]\n",
    "    F1=NV.order_id.unique()\n",
    "\n",
    "    NonVeg=pd.DataFrame(F1, columns=['order_id'])\n",
    "    NonVeg['Diet']='NonVegan'\n",
    "    \n",
    "    ##Vegans\n",
    "    Vegans=Veg.loc[~Veg.order_id.isin(F1)]\n",
    "    Vega=Vegans.order_id.unique()\n",
    "    Vega=pd.DataFrame(Vega, columns=['order_id'])\n",
    "    Vega['Diet']='Vegan'\n",
    "    \n",
    "    ## Merge all DataFrame of Different Diets\n",
    "    Sample_class=pd.concat([Meat_L, Pesca, NonVeg, Vega])\n",
    "    \n",
    "    return Sample_class"
   ]
  },
  {
   "cell_type": "markdown",
   "metadata": {},
   "source": [
    "## F4. This function returns a horizontal bar graph of distrubution of the four Diet Categories of Customers "
   ]
  },
  {
   "cell_type": "code",
   "execution_count": 16,
   "metadata": {
    "collapsed": true
   },
   "outputs": [],
   "source": [
    "def Diet_Percentage(B):\n",
    "    Per=B.Diet.value_counts()\n",
    "    Per=pd.DataFrame(Per).reset_index()\n",
    "    Per.columns=['Diet','Size']\n",
    "    Per['Percent']=Per.Size/Per.Size.sum()\n",
    "    \n",
    "    #Bar=Per.sort_index().plot(kind='barh', color='r')\n",
    "    #plt.xlabel('Percentage')\n",
    "    #plt.title('Customer Diet Distribution')\n",
    "    return Per"
   ]
  },
  {
   "cell_type": "markdown",
   "metadata": {},
   "source": [
    "## F5. This function excludes the 10,000 users previously used in a training dataset "
   ]
  },
  {
   "cell_type": "code",
   "execution_count": 17,
   "metadata": {
    "collapsed": true
   },
   "outputs": [],
   "source": [
    "def Remaining_users(S): ## S is an Empirical Sample Generated DataFrame (E1, E2, E3)\n",
    "    Rem=U.loc[~U.user_id.isin(S.user_id)]\n",
    "    return Rem\n",
    "    "
   ]
  },
  {
   "cell_type": "markdown",
   "metadata": {},
   "source": [
    "## 2. Extracting three empirical sample dataset from customer's order history \n",
    "### E1, E2 and E3 are the 3 Empirical Samples each with 10,000 users are extracted"
   ]
  },
  {
   "cell_type": "markdown",
   "metadata": {},
   "source": [
    "## 3. Identifying Diet Classification by USERS\n",
    "### P_user1, P_user2, P_user3 are the USERS FROM E1,E2 and E3 dataframe with classified USERS Diet"
   ]
  },
  {
   "cell_type": "code",
   "execution_count": 18,
   "metadata": {
    "collapsed": false
   },
   "outputs": [
    {
     "name": "stderr",
     "output_type": "stream",
     "text": [
      "C:\\Users\\pamel\\AppData\\Local\\Continuum\\Anaconda3\\lib\\site-packages\\ipykernel\\__main__.py:6: UserWarning: Boolean Series key will be reindexed to match DataFrame index.\n"
     ]
    },
    {
     "data": {
      "text/html": [
       "<div>\n",
       "<table border=\"1\" class=\"dataframe\">\n",
       "  <thead>\n",
       "    <tr style=\"text-align: right;\">\n",
       "      <th></th>\n",
       "      <th>Diet</th>\n",
       "      <th>Size</th>\n",
       "      <th>Percent</th>\n",
       "    </tr>\n",
       "  </thead>\n",
       "  <tbody>\n",
       "    <tr>\n",
       "      <th>0</th>\n",
       "      <td>Meat_Lovers</td>\n",
       "      <td>6426</td>\n",
       "      <td>0.6426</td>\n",
       "    </tr>\n",
       "    <tr>\n",
       "      <th>1</th>\n",
       "      <td>NonVegan</td>\n",
       "      <td>2336</td>\n",
       "      <td>0.2336</td>\n",
       "    </tr>\n",
       "    <tr>\n",
       "      <th>2</th>\n",
       "      <td>Vegan</td>\n",
       "      <td>774</td>\n",
       "      <td>0.0774</td>\n",
       "    </tr>\n",
       "    <tr>\n",
       "      <th>3</th>\n",
       "      <td>Pescatarian</td>\n",
       "      <td>464</td>\n",
       "      <td>0.0464</td>\n",
       "    </tr>\n",
       "  </tbody>\n",
       "</table>\n",
       "</div>"
      ],
      "text/plain": [
       "          Diet  Size  Percent\n",
       "0  Meat_Lovers  6426   0.6426\n",
       "1     NonVegan  2336   0.2336\n",
       "2        Vegan   774   0.0774\n",
       "3  Pescatarian   464   0.0464"
      ]
     },
     "execution_count": 18,
     "metadata": {},
     "output_type": "execute_result"
    }
   ],
   "source": [
    "## First Empirical Sample with 10,000 users from oprior DataFrame\n",
    "\n",
    "E1=Sample_maker(U)           # Empirical Sample Generated\n",
    "C1=Diet_Class_user(E1)       # Diets are of 10,000 in the Empirical Sample Classified by USERS\n",
    "P_user1=Diet_Percentage(C1) # This returns the percentage of the different Diet Classification\n",
    "P_user1"
   ]
  },
  {
   "cell_type": "code",
   "execution_count": 19,
   "metadata": {
    "collapsed": false
   },
   "outputs": [
    {
     "name": "stderr",
     "output_type": "stream",
     "text": [
      "C:\\Users\\pamel\\AppData\\Local\\Continuum\\Anaconda3\\lib\\site-packages\\ipykernel\\__main__.py:6: UserWarning: Boolean Series key will be reindexed to match DataFrame index.\n"
     ]
    },
    {
     "data": {
      "text/html": [
       "<div>\n",
       "<table border=\"1\" class=\"dataframe\">\n",
       "  <thead>\n",
       "    <tr style=\"text-align: right;\">\n",
       "      <th></th>\n",
       "      <th>Diet</th>\n",
       "      <th>Size</th>\n",
       "      <th>Percent</th>\n",
       "    </tr>\n",
       "  </thead>\n",
       "  <tbody>\n",
       "    <tr>\n",
       "      <th>0</th>\n",
       "      <td>Meat_Lovers</td>\n",
       "      <td>6517</td>\n",
       "      <td>0.6517</td>\n",
       "    </tr>\n",
       "    <tr>\n",
       "      <th>1</th>\n",
       "      <td>NonVegan</td>\n",
       "      <td>2294</td>\n",
       "      <td>0.2294</td>\n",
       "    </tr>\n",
       "    <tr>\n",
       "      <th>2</th>\n",
       "      <td>Vegan</td>\n",
       "      <td>691</td>\n",
       "      <td>0.0691</td>\n",
       "    </tr>\n",
       "    <tr>\n",
       "      <th>3</th>\n",
       "      <td>Pescatarian</td>\n",
       "      <td>498</td>\n",
       "      <td>0.0498</td>\n",
       "    </tr>\n",
       "  </tbody>\n",
       "</table>\n",
       "</div>"
      ],
      "text/plain": [
       "          Diet  Size  Percent\n",
       "0  Meat_Lovers  6517   0.6517\n",
       "1     NonVegan  2294   0.2294\n",
       "2        Vegan   691   0.0691\n",
       "3  Pescatarian   498   0.0498"
      ]
     },
     "execution_count": 19,
     "metadata": {},
     "output_type": "execute_result"
    }
   ],
   "source": [
    "## Second Empirical Sample with 10,000 users from oprior DataFrame\n",
    "U1=Remaining_users(E1)      # The 10,000 users in the first Emprical Sample (E1) is excluded from the oprior DataFrame\n",
    "\n",
    "E2=Sample_maker(U1)         # Empirical Sample Generated\n",
    "C2=Diet_Class_user(E2)      # Diets are of 10,000 in the Empirical Sample Classified\n",
    "P_user2=Diet_Percentage(C2)      # This returns the percentage of the different Diet Classification\n",
    "P_user2"
   ]
  },
  {
   "cell_type": "code",
   "execution_count": 20,
   "metadata": {
    "collapsed": false
   },
   "outputs": [
    {
     "name": "stderr",
     "output_type": "stream",
     "text": [
      "C:\\Users\\pamel\\AppData\\Local\\Continuum\\Anaconda3\\lib\\site-packages\\ipykernel\\__main__.py:6: UserWarning: Boolean Series key will be reindexed to match DataFrame index.\n"
     ]
    },
    {
     "data": {
      "text/html": [
       "<div>\n",
       "<table border=\"1\" class=\"dataframe\">\n",
       "  <thead>\n",
       "    <tr style=\"text-align: right;\">\n",
       "      <th></th>\n",
       "      <th>Diet</th>\n",
       "      <th>Size</th>\n",
       "      <th>Percent</th>\n",
       "    </tr>\n",
       "  </thead>\n",
       "  <tbody>\n",
       "    <tr>\n",
       "      <th>0</th>\n",
       "      <td>Meat_Lovers</td>\n",
       "      <td>6511</td>\n",
       "      <td>0.6511</td>\n",
       "    </tr>\n",
       "    <tr>\n",
       "      <th>1</th>\n",
       "      <td>NonVegan</td>\n",
       "      <td>2335</td>\n",
       "      <td>0.2335</td>\n",
       "    </tr>\n",
       "    <tr>\n",
       "      <th>2</th>\n",
       "      <td>Vegan</td>\n",
       "      <td>676</td>\n",
       "      <td>0.0676</td>\n",
       "    </tr>\n",
       "    <tr>\n",
       "      <th>3</th>\n",
       "      <td>Pescatarian</td>\n",
       "      <td>478</td>\n",
       "      <td>0.0478</td>\n",
       "    </tr>\n",
       "  </tbody>\n",
       "</table>\n",
       "</div>"
      ],
      "text/plain": [
       "          Diet  Size  Percent\n",
       "0  Meat_Lovers  6511   0.6511\n",
       "1     NonVegan  2335   0.2335\n",
       "2        Vegan   676   0.0676\n",
       "3  Pescatarian   478   0.0478"
      ]
     },
     "execution_count": 20,
     "metadata": {},
     "output_type": "execute_result"
    }
   ],
   "source": [
    "## Third Empirical Sample with 10,000 users from oprior DataFrame\n",
    "\n",
    "ET=pd.concat([E1,E2])           # The first two Empirical Sample were merged a\n",
    "U2=Remaining_users(ET)      # The 10,000 users in the first and second Emprical Sample (E1+E2) is excluded from the oprior DataFrame\n",
    "E3=Sample_maker(U2)         # Empirical Sample Generated\n",
    "C3=Diet_Class_user(E3)      # Diets are of 10,000 in the Empirical Sample Classified\n",
    "P_user3=Diet_Percentage(C3)      # This returns the percentage of the different Diet Classification\n",
    "P_user3"
   ]
  },
  {
   "cell_type": "markdown",
   "metadata": {},
   "source": [
    "## Bar Graph Comparison of % Diet Classification according to USERS across three Empirical Sample Datasets"
   ]
  },
  {
   "cell_type": "code",
   "execution_count": 21,
   "metadata": {
    "collapsed": false
   },
   "outputs": [
    {
     "data": {
      "image/png": "[encoded data removed]",
      "text/plain": [
       "<matplotlib.figure.Figure at 0x1c601083da0>"
      ]
     },
     "metadata": {},
     "output_type": "display_data"
    }
   ],
   "source": [
    "fig, ax = plt.subplots(figsize=(10,8))\n",
    "\n",
    "X = np.arange(4)\n",
    "plt.bar(X + 0.00, P_user1.Percent, color = 'b', width = 0.25)\n",
    "plt.bar(X + 0.25, P_user2.Percent, color = 'g', width = 0.25)\n",
    "plt.bar(X + 0.50, P_user3.Percent, color = 'r', width = 0.25)\n",
    "plt.ylabel('Percent')\n",
    "\n",
    "ax.set_xticks([p + 1.5 * 0.25 for p in X])\n",
    "ax.set_xticklabels(P_user1.Diet)\n",
    "\n",
    "plt.legend(['P_user1', 'P_user2', 'P_user3'], loc='upper right')\n",
    "plt.title('Diet Distribution of 3 Empirical Sample (user_id)')\n",
    "plt.show()"
   ]
  },
  {
   "cell_type": "markdown",
   "metadata": {},
   "source": [
    "## 4. Identifying Diet Classification by ORDERS"
   ]
  },
  {
   "cell_type": "code",
   "execution_count": 22,
   "metadata": {
    "collapsed": false
   },
   "outputs": [
    {
     "name": "stderr",
     "output_type": "stream",
     "text": [
      "C:\\Users\\pamel\\AppData\\Local\\Continuum\\Anaconda3\\lib\\site-packages\\ipykernel\\__main__.py:6: UserWarning: Boolean Series key will be reindexed to match DataFrame index.\n"
     ]
    },
    {
     "data": {
      "text/html": [
       "<div>\n",
       "<table border=\"1\" class=\"dataframe\">\n",
       "  <thead>\n",
       "    <tr style=\"text-align: right;\">\n",
       "      <th></th>\n",
       "      <th>Diet</th>\n",
       "      <th>Size</th>\n",
       "      <th>Percent</th>\n",
       "    </tr>\n",
       "  </thead>\n",
       "  <tbody>\n",
       "    <tr>\n",
       "      <th>0</th>\n",
       "      <td>NonVegan</td>\n",
       "      <td>61868</td>\n",
       "      <td>0.401318</td>\n",
       "    </tr>\n",
       "    <tr>\n",
       "      <th>1</th>\n",
       "      <td>Vegan</td>\n",
       "      <td>49542</td>\n",
       "      <td>0.321363</td>\n",
       "    </tr>\n",
       "    <tr>\n",
       "      <th>2</th>\n",
       "      <td>Meat_Lovers</td>\n",
       "      <td>37813</td>\n",
       "      <td>0.245281</td>\n",
       "    </tr>\n",
       "    <tr>\n",
       "      <th>3</th>\n",
       "      <td>Pescatarian</td>\n",
       "      <td>4939</td>\n",
       "      <td>0.032038</td>\n",
       "    </tr>\n",
       "  </tbody>\n",
       "</table>\n",
       "</div>"
      ],
      "text/plain": [
       "          Diet   Size   Percent\n",
       "0     NonVegan  61868  0.401318\n",
       "1        Vegan  49542  0.321363\n",
       "2  Meat_Lovers  37813  0.245281\n",
       "3  Pescatarian   4939  0.032038"
      ]
     },
     "execution_count": 22,
     "metadata": {},
     "output_type": "execute_result"
    }
   ],
   "source": [
    "## Reclassification of Diets using E1 with 154162 total orders\n",
    "C_order1=Diet_Class_orders(E1)       # Diets are classified per order_id\n",
    "P_order1=Diet_Percentage(C_order1)   # This returns the percentage and a bar graph distribution of the different Diet Classification\n",
    "P_order1"
   ]
  },
  {
   "cell_type": "code",
   "execution_count": 23,
   "metadata": {
    "collapsed": false
   },
   "outputs": [
    {
     "name": "stderr",
     "output_type": "stream",
     "text": [
      "C:\\Users\\pamel\\AppData\\Local\\Continuum\\Anaconda3\\lib\\site-packages\\ipykernel\\__main__.py:6: UserWarning: Boolean Series key will be reindexed to match DataFrame index.\n"
     ]
    },
    {
     "data": {
      "text/html": [
       "<div>\n",
       "<table border=\"1\" class=\"dataframe\">\n",
       "  <thead>\n",
       "    <tr style=\"text-align: right;\">\n",
       "      <th></th>\n",
       "      <th>Diet</th>\n",
       "      <th>Size</th>\n",
       "      <th>Percent</th>\n",
       "    </tr>\n",
       "  </thead>\n",
       "  <tbody>\n",
       "    <tr>\n",
       "      <th>0</th>\n",
       "      <td>NonVegan</td>\n",
       "      <td>62354</td>\n",
       "      <td>0.398321</td>\n",
       "    </tr>\n",
       "    <tr>\n",
       "      <th>1</th>\n",
       "      <td>Vegan</td>\n",
       "      <td>49480</td>\n",
       "      <td>0.316081</td>\n",
       "    </tr>\n",
       "    <tr>\n",
       "      <th>2</th>\n",
       "      <td>Meat_Lovers</td>\n",
       "      <td>39572</td>\n",
       "      <td>0.252788</td>\n",
       "    </tr>\n",
       "    <tr>\n",
       "      <th>3</th>\n",
       "      <td>Pescatarian</td>\n",
       "      <td>5136</td>\n",
       "      <td>0.032809</td>\n",
       "    </tr>\n",
       "  </tbody>\n",
       "</table>\n",
       "</div>"
      ],
      "text/plain": [
       "          Diet   Size   Percent\n",
       "0     NonVegan  62354  0.398321\n",
       "1        Vegan  49480  0.316081\n",
       "2  Meat_Lovers  39572  0.252788\n",
       "3  Pescatarian   5136  0.032809"
      ]
     },
     "execution_count": 23,
     "metadata": {},
     "output_type": "execute_result"
    }
   ],
   "source": [
    "## Reclassification of Diets using E2 with 156542\n",
    "C_order2=Diet_Class_orders(E2)          # Diets are classified per order_id\n",
    "P_order2=Diet_Percentage(C_order2)      # This returns the percentage of the different Diet Classification\n",
    "P_order2"
   ]
  },
  {
   "cell_type": "code",
   "execution_count": 24,
   "metadata": {
    "collapsed": false
   },
   "outputs": [
    {
     "name": "stderr",
     "output_type": "stream",
     "text": [
      "C:\\Users\\pamel\\AppData\\Local\\Continuum\\Anaconda3\\lib\\site-packages\\ipykernel\\__main__.py:6: UserWarning: Boolean Series key will be reindexed to match DataFrame index.\n"
     ]
    },
    {
     "data": {
      "text/html": [
       "<div>\n",
       "<table border=\"1\" class=\"dataframe\">\n",
       "  <thead>\n",
       "    <tr style=\"text-align: right;\">\n",
       "      <th></th>\n",
       "      <th>Diet</th>\n",
       "      <th>Size</th>\n",
       "      <th>Percent</th>\n",
       "    </tr>\n",
       "  </thead>\n",
       "  <tbody>\n",
       "    <tr>\n",
       "      <th>0</th>\n",
       "      <td>NonVegan</td>\n",
       "      <td>63624</td>\n",
       "      <td>0.404260</td>\n",
       "    </tr>\n",
       "    <tr>\n",
       "      <th>1</th>\n",
       "      <td>Vegan</td>\n",
       "      <td>50124</td>\n",
       "      <td>0.318482</td>\n",
       "    </tr>\n",
       "    <tr>\n",
       "      <th>2</th>\n",
       "      <td>Meat_Lovers</td>\n",
       "      <td>38783</td>\n",
       "      <td>0.246423</td>\n",
       "    </tr>\n",
       "    <tr>\n",
       "      <th>3</th>\n",
       "      <td>Pescatarian</td>\n",
       "      <td>4853</td>\n",
       "      <td>0.030835</td>\n",
       "    </tr>\n",
       "  </tbody>\n",
       "</table>\n",
       "</div>"
      ],
      "text/plain": [
       "          Diet   Size   Percent\n",
       "0     NonVegan  63624  0.404260\n",
       "1        Vegan  50124  0.318482\n",
       "2  Meat_Lovers  38783  0.246423\n",
       "3  Pescatarian   4853  0.030835"
      ]
     },
     "execution_count": 24,
     "metadata": {},
     "output_type": "execute_result"
    }
   ],
   "source": [
    "## Reclassification of Diets using E3 with 157384 total orders\n",
    "C_order3=Diet_Class_orders(E3)          # Diets are classified per order_id\n",
    "P_order3=Diet_Percentage(C_order3)      # This returns the percentage of the different Diet Classification\n",
    "P_order3"
   ]
  },
  {
   "cell_type": "code",
   "execution_count": 25,
   "metadata": {
    "collapsed": false
   },
   "outputs": [
    {
     "data": {
      "image/png": "[encoded data removed]",
      "text/plain": [
       "<matplotlib.figure.Figure at 0x1c633f2af28>"
      ]
     },
     "metadata": {},
     "output_type": "display_data"
    }
   ],
   "source": [
    "## Bar Graph comparison of Diet distribution using Empirical Samples classified using ORDERS\n",
    "fig, ax = plt.subplots(figsize=(10,8))\n",
    "\n",
    "X = np.arange(4)\n",
    "plt.bar(X + 0.00, P_order1.Percent, color = 'c', width = 0.25)\n",
    "plt.bar(X + 0.25, P_order2.Percent, color = 'm', width = 0.25)\n",
    "plt.bar(X + 0.50, P_order3.Percent, color = 'g', width = 0.25)\n",
    "plt.ylabel('Percent')\n",
    "\n",
    "ax.set_xticks([p + 1.5 * 0.25 for p in X])\n",
    "ax.set_xticklabels(P_order1.Diet)\n",
    "\n",
    "plt.legend(['P_order1', 'P_order2', 'P_order3'], loc='upper right')\n",
    "plt.title('Diet Distribution of 3 Empirical Samples (order_id)')\n",
    "plt.show()\n",
    "\n",
    "\n"
   ]
  },
  {
   "cell_type": "markdown",
   "metadata": {},
   "source": [
    "## 5. Generating simulated sample data set\n",
    "## F6. This function generates simulated sample dataframe"
   ]
  },
  {
   "cell_type": "code",
   "execution_count": 26,
   "metadata": {
    "collapsed": false
   },
   "outputs": [],
   "source": [
    "def Simulated_sample(S):  # S isn an empirical sample generated dataframe (E1,E2, E3)\n",
    "    G=S.loc[:, ['user_id', 'order_id', 'prod_per_order']]\n",
    "    G=G.drop_duplicates()\n",
    "    \n",
    "    ## G.prod_per_order is turned into a list n.  n will be used on a loop to generate a simulated order dataframe\n",
    "    n=pd.Series.tolist(G.prod_per_order)\n",
    "\n",
    "    ## This will generate the simulated orders where aisle is randomly picked accoring to its calculated probability or percentage from aisle_percent dataframe\n",
    "    B=[]\n",
    "    for i in n:\n",
    "        Q=np.random.choice(a=aisle_percent.aisle_id, size=i, p=aisle_percent.aisle_percent)\n",
    "        Q=Q.tolist()\n",
    "        B.append(Q)\n",
    "    \n",
    "    ## The simulated list of randomly picked aisles \"B\" is turned into dataframe \n",
    "        \n",
    "    Sim1=pd.DataFrame(B).reset_index().stack()\n",
    "    Sim1=pd.DataFrame(Sim1).reset_index()\n",
    "    Sim1=Sim1.rename(columns={'level_0':'order_id', 'level_1':'product_num', 0:'aisle_id'})\n",
    "    Sim1=Sim1[Sim1['product_num']!='index']\n",
    "    Sim1['user_id']=S['user_id']\n",
    "    \n",
    "    return Sim1"
   ]
  },
  {
   "cell_type": "code",
   "execution_count": 27,
   "metadata": {
    "collapsed": false
   },
   "outputs": [],
   "source": [
    "## This is the first simulated Sample dataframe with randomly picked aisles\n",
    "Simu1= Simulated_sample(E1)"
   ]
  },
  {
   "cell_type": "code",
   "execution_count": 28,
   "metadata": {
    "collapsed": false
   },
   "outputs": [
    {
     "name": "stderr",
     "output_type": "stream",
     "text": [
      "C:\\Users\\pamel\\AppData\\Local\\Continuum\\Anaconda3\\lib\\site-packages\\ipykernel\\__main__.py:6: UserWarning: Boolean Series key will be reindexed to match DataFrame index.\n"
     ]
    },
    {
     "data": {
      "text/html": [
       "<div>\n",
       "<table border=\"1\" class=\"dataframe\">\n",
       "  <thead>\n",
       "    <tr style=\"text-align: right;\">\n",
       "      <th></th>\n",
       "      <th>Diet</th>\n",
       "      <th>Size</th>\n",
       "      <th>Percent</th>\n",
       "    </tr>\n",
       "  </thead>\n",
       "  <tbody>\n",
       "    <tr>\n",
       "      <th>0</th>\n",
       "      <td>NonVegan</td>\n",
       "      <td>65765</td>\n",
       "      <td>0.426597</td>\n",
       "    </tr>\n",
       "    <tr>\n",
       "      <th>1</th>\n",
       "      <td>Meat_Lovers</td>\n",
       "      <td>42214</td>\n",
       "      <td>0.273829</td>\n",
       "    </tr>\n",
       "    <tr>\n",
       "      <th>2</th>\n",
       "      <td>Vegan</td>\n",
       "      <td>40756</td>\n",
       "      <td>0.264371</td>\n",
       "    </tr>\n",
       "    <tr>\n",
       "      <th>3</th>\n",
       "      <td>Pescatarian</td>\n",
       "      <td>5427</td>\n",
       "      <td>0.035203</td>\n",
       "    </tr>\n",
       "  </tbody>\n",
       "</table>\n",
       "</div>"
      ],
      "text/plain": [
       "          Diet   Size   Percent\n",
       "0     NonVegan  65765  0.426597\n",
       "1  Meat_Lovers  42214  0.273829\n",
       "2        Vegan  40756  0.264371\n",
       "3  Pescatarian   5427  0.035203"
      ]
     },
     "execution_count": 28,
     "metadata": {},
     "output_type": "execute_result"
    }
   ],
   "source": [
    "Csim_or=Diet_Class_orders(Simu1)    #Each order is classified to a certain Diet\n",
    "Psimulated_order=Diet_Percentage(Csim_or)    #Percentage of each diet is calculated\n",
    "Psimulated_order\n"
   ]
  },
  {
   "cell_type": "code",
   "execution_count": 29,
   "metadata": {
    "collapsed": false
   },
   "outputs": [
    {
     "name": "stderr",
     "output_type": "stream",
     "text": [
      "C:\\Users\\pamel\\AppData\\Local\\Continuum\\Anaconda3\\lib\\site-packages\\ipykernel\\__main__.py:6: UserWarning: Boolean Series key will be reindexed to match DataFrame index.\n"
     ]
    },
    {
     "data": {
      "text/html": [
       "<div>\n",
       "<table border=\"1\" class=\"dataframe\">\n",
       "  <thead>\n",
       "    <tr style=\"text-align: right;\">\n",
       "      <th></th>\n",
       "      <th>Diet</th>\n",
       "      <th>Size</th>\n",
       "      <th>Percent</th>\n",
       "    </tr>\n",
       "  </thead>\n",
       "  <tbody>\n",
       "    <tr>\n",
       "      <th>0</th>\n",
       "      <td>Meat_Lovers</td>\n",
       "      <td>8199</td>\n",
       "      <td>0.819572</td>\n",
       "    </tr>\n",
       "    <tr>\n",
       "      <th>1</th>\n",
       "      <td>NonVegan</td>\n",
       "      <td>1397</td>\n",
       "      <td>0.139644</td>\n",
       "    </tr>\n",
       "    <tr>\n",
       "      <th>2</th>\n",
       "      <td>Pescatarian</td>\n",
       "      <td>240</td>\n",
       "      <td>0.023990</td>\n",
       "    </tr>\n",
       "    <tr>\n",
       "      <th>3</th>\n",
       "      <td>Vegan</td>\n",
       "      <td>168</td>\n",
       "      <td>0.016793</td>\n",
       "    </tr>\n",
       "  </tbody>\n",
       "</table>\n",
       "</div>"
      ],
      "text/plain": [
       "          Diet  Size   Percent\n",
       "0  Meat_Lovers  8199  0.819572\n",
       "1     NonVegan  1397  0.139644\n",
       "2  Pescatarian   240  0.023990\n",
       "3        Vegan   168  0.016793"
      ]
     },
     "execution_count": 29,
     "metadata": {},
     "output_type": "execute_result"
    }
   ],
   "source": [
    "Csim_us=Diet_Class_user(Simu1)    ## Each user is classified to a certain Diet\n",
    "Psimulated_user=Diet_Percentage(Csim_us) ## Percentage of each diet calculated\n",
    "Psimulated_user"
   ]
  },
  {
   "cell_type": "markdown",
   "metadata": {},
   "source": [
    "## F7. This function will merge two dataframes from two group of proportions being compared "
   ]
  },
  {
   "cell_type": "code",
   "execution_count": 30,
   "metadata": {
    "collapsed": true
   },
   "outputs": [],
   "source": [
    "## This function will merge two dataframes from two group of proportions being compared \n",
    "def df_prop_compare(M, N):    ## M and N are dataframes with Diet classification with Size and Percent\n",
    "    M.columns=['Diet', 'Size1', 'Percent1']\n",
    "    N.columns=['Diet', 'Size2', 'Percent2']\n",
    "    MN=M.merge(N)\n",
    "    return MN"
   ]
  },
  {
   "cell_type": "code",
   "execution_count": 31,
   "metadata": {
    "collapsed": false
   },
   "outputs": [
    {
     "data": {
      "text/html": [
       "<div>\n",
       "<table border=\"1\" class=\"dataframe\">\n",
       "  <thead>\n",
       "    <tr style=\"text-align: right;\">\n",
       "      <th></th>\n",
       "      <th>Diet</th>\n",
       "      <th>Size1</th>\n",
       "      <th>Percent1</th>\n",
       "      <th>Size2</th>\n",
       "      <th>Percent2</th>\n",
       "    </tr>\n",
       "  </thead>\n",
       "  <tbody>\n",
       "    <tr>\n",
       "      <th>0</th>\n",
       "      <td>Meat_Lovers</td>\n",
       "      <td>6426</td>\n",
       "      <td>0.6426</td>\n",
       "      <td>37813</td>\n",
       "      <td>0.245281</td>\n",
       "    </tr>\n",
       "    <tr>\n",
       "      <th>1</th>\n",
       "      <td>NonVegan</td>\n",
       "      <td>2336</td>\n",
       "      <td>0.2336</td>\n",
       "      <td>61868</td>\n",
       "      <td>0.401318</td>\n",
       "    </tr>\n",
       "    <tr>\n",
       "      <th>2</th>\n",
       "      <td>Vegan</td>\n",
       "      <td>774</td>\n",
       "      <td>0.0774</td>\n",
       "      <td>49542</td>\n",
       "      <td>0.321363</td>\n",
       "    </tr>\n",
       "    <tr>\n",
       "      <th>3</th>\n",
       "      <td>Pescatarian</td>\n",
       "      <td>464</td>\n",
       "      <td>0.0464</td>\n",
       "      <td>4939</td>\n",
       "      <td>0.032038</td>\n",
       "    </tr>\n",
       "  </tbody>\n",
       "</table>\n",
       "</div>"
      ],
      "text/plain": [
       "          Diet  Size1  Percent1  Size2  Percent2\n",
       "0  Meat_Lovers   6426    0.6426  37813  0.245281\n",
       "1     NonVegan   2336    0.2336  61868  0.401318\n",
       "2        Vegan    774    0.0774  49542  0.321363\n",
       "3  Pescatarian    464    0.0464   4939  0.032038"
      ]
     },
     "execution_count": 31,
     "metadata": {},
     "output_type": "execute_result"
    }
   ],
   "source": [
    "## User_Order_Emp is the dataframe with Sizes and Percentages of Diets classifications from all \"users\" and \"orders\"\n",
    "User_Order_Emp=df_prop_compare(P_user1, P_order1)\n",
    "User_Order_Emp"
   ]
  },
  {
   "cell_type": "markdown",
   "metadata": {},
   "source": [
    "## 6. Hypothesis testing part 1: Are there significant differences between Diet distributions classified by USERS vs. by ORDERS? "
   ]
  },
  {
   "cell_type": "markdown",
   "metadata": {},
   "source": [
    "Ho: There is no significant difference in classifying Diets using \"users overall orders\" versus using \"individual orders disregarding who ordered it\"\n",
    "\n",
    "H1:There is significant difference in classifying Diets between using \"users overall orders\" versus using \"individual orders disregarding who ordered it\"   "
   ]
  },
  {
   "cell_type": "code",
   "execution_count": 32,
   "metadata": {
    "collapsed": false
   },
   "outputs": [
    {
     "data": {
      "image/png": "[encoded data removed]",
      "text/plain": [
       "<matplotlib.figure.Figure at 0x1c616584b70>"
      ]
     },
     "metadata": {},
     "output_type": "display_data"
    }
   ],
   "source": [
    "fig, ax = plt.subplots(figsize=(10,8))\n",
    "\n",
    "X = np.arange(4)\n",
    "plt.bar(X + 0.00, User_Order_Emp.Percent1, color = 'b', width = 0.25)\n",
    "plt.bar(X + 0.25, User_Order_Emp.Percent2, color = 'g', width = 0.25)\n",
    "plt.ylabel('Percent')\n",
    "\n",
    "ax.set_xticks([p + 1.5 * 0.25 for p in X])\n",
    "ax.set_xticklabels(User_Order_Emp.Diet)\n",
    "\n",
    "plt.legend(['P_user1', 'P_order1'], loc='upper right')\n",
    "plt.title('Diet Distribution by USERS and by ORDERS of Empirical Samples')\n",
    "plt.show()"
   ]
  },
  {
   "cell_type": "markdown",
   "metadata": {},
   "source": [
    "##  F8. This function calculates variance, standard deviation, difference in proportion, MOE, degrees of freedom, t_value and p_value "
   ]
  },
  {
   "cell_type": "code",
   "execution_count": 33,
   "metadata": {
    "collapsed": false
   },
   "outputs": [],
   "source": [
    "def diff_std_p_val(W):    ## W is a dataframe with the Diet classification Sizes and Percentages of 2 groups being compared\n",
    "    W['var_1']=W.Percent1*(1-W.Percent1)/W.Size1\n",
    "    W['var_2']=W.Percent2*(1-W.Percent2)/W.Size2\n",
    "    W['var1_2']=W.var_1+W.var_2\n",
    "    W['std_var1_2']=  W.var1_2**0.5             ## a.k.a. standard error\n",
    "\n",
    "    W['%_diff']=abs(W.Percent1-W.Percent2)      ## absolute difference between two proportions\n",
    "\n",
    "    W['moe']=1.96*W.std_var1_2                   ## margin of error\n",
    "\n",
    "    W['DF']= ((W.var_1/W.Size1 +W.var_2/W.Size2)**2)/(((W.var_1/W.Size1)**2/W.Size1)+((W.var_2/W.Size2)**2/W.Size2))  ## degrees of freedom\n",
    "\n",
    "    W['t_val']=(W['%_diff']-0)/W.std_var1_2\n",
    "\n",
    "    W['p_val']=stats.t.sf(np.abs(W.t_val), W.DF)*2  # two-sided pvalue = Prob(abs(t)>tt)\n",
    "\n",
    "    return W   "
   ]
  },
  {
   "cell_type": "code",
   "execution_count": 44,
   "metadata": {
    "collapsed": false
   },
   "outputs": [
    {
     "data": {
      "text/html": [
       "<div>\n",
       "<table border=\"1\" class=\"dataframe\">\n",
       "  <thead>\n",
       "    <tr style=\"text-align: right;\">\n",
       "      <th></th>\n",
       "      <th>Diet</th>\n",
       "      <th>Size1</th>\n",
       "      <th>Percent1</th>\n",
       "      <th>Size2</th>\n",
       "      <th>Percent2</th>\n",
       "      <th>var_1</th>\n",
       "      <th>var_2</th>\n",
       "      <th>var1_2</th>\n",
       "      <th>std_var1_2</th>\n",
       "      <th>%_diff</th>\n",
       "      <th>moe</th>\n",
       "      <th>DF</th>\n",
       "      <th>t_val</th>\n",
       "      <th>p_val</th>\n",
       "    </tr>\n",
       "  </thead>\n",
       "  <tbody>\n",
       "    <tr>\n",
       "      <th>0</th>\n",
       "      <td>Meat_Lovers</td>\n",
       "      <td>6426</td>\n",
       "      <td>0.6426</td>\n",
       "      <td>37813</td>\n",
       "      <td>0.245281</td>\n",
       "      <td>0.000036</td>\n",
       "      <td>0.000005</td>\n",
       "      <td>0.000041</td>\n",
       "      <td>0.006375</td>\n",
       "      <td>0.397319</td>\n",
       "      <td>0.012494</td>\n",
       "      <td>6728.036494</td>\n",
       "      <td>62.328394</td>\n",
       "      <td>0.000000e+00</td>\n",
       "    </tr>\n",
       "    <tr>\n",
       "      <th>1</th>\n",
       "      <td>NonVegan</td>\n",
       "      <td>2336</td>\n",
       "      <td>0.2336</td>\n",
       "      <td>61868</td>\n",
       "      <td>0.401318</td>\n",
       "      <td>0.000077</td>\n",
       "      <td>0.000004</td>\n",
       "      <td>0.000081</td>\n",
       "      <td>0.008973</td>\n",
       "      <td>0.167718</td>\n",
       "      <td>0.017588</td>\n",
       "      <td>2344.946897</td>\n",
       "      <td>18.690405</td>\n",
       "      <td>8.871788e-73</td>\n",
       "    </tr>\n",
       "    <tr>\n",
       "      <th>2</th>\n",
       "      <td>Vegan</td>\n",
       "      <td>774</td>\n",
       "      <td>0.0774</td>\n",
       "      <td>49542</td>\n",
       "      <td>0.321363</td>\n",
       "      <td>0.000092</td>\n",
       "      <td>0.000004</td>\n",
       "      <td>0.000097</td>\n",
       "      <td>0.009832</td>\n",
       "      <td>0.243963</td>\n",
       "      <td>0.019270</td>\n",
       "      <td>775.154368</td>\n",
       "      <td>24.813971</td>\n",
       "      <td>1.682779e-100</td>\n",
       "    </tr>\n",
       "    <tr>\n",
       "      <th>3</th>\n",
       "      <td>Pescatarian</td>\n",
       "      <td>464</td>\n",
       "      <td>0.0464</td>\n",
       "      <td>4939</td>\n",
       "      <td>0.032038</td>\n",
       "      <td>0.000095</td>\n",
       "      <td>0.000006</td>\n",
       "      <td>0.000102</td>\n",
       "      <td>0.010082</td>\n",
       "      <td>0.014362</td>\n",
       "      <td>0.019760</td>\n",
       "      <td>469.756461</td>\n",
       "      <td>1.424601</td>\n",
       "      <td>1.549365e-01</td>\n",
       "    </tr>\n",
       "  </tbody>\n",
       "</table>\n",
       "</div>"
      ],
      "text/plain": [
       "          Diet  Size1  Percent1  Size2  Percent2     var_1     var_2  \\\n",
       "0  Meat_Lovers   6426    0.6426  37813  0.245281  0.000036  0.000005   \n",
       "1     NonVegan   2336    0.2336  61868  0.401318  0.000077  0.000004   \n",
       "2        Vegan    774    0.0774  49542  0.321363  0.000092  0.000004   \n",
       "3  Pescatarian    464    0.0464   4939  0.032038  0.000095  0.000006   \n",
       "\n",
       "     var1_2  std_var1_2    %_diff       moe           DF      t_val  \\\n",
       "0  0.000041    0.006375  0.397319  0.012494  6728.036494  62.328394   \n",
       "1  0.000081    0.008973  0.167718  0.017588  2344.946897  18.690405   \n",
       "2  0.000097    0.009832  0.243963  0.019270   775.154368  24.813971   \n",
       "3  0.000102    0.010082  0.014362  0.019760   469.756461   1.424601   \n",
       "\n",
       "           p_val  \n",
       "0   0.000000e+00  \n",
       "1   8.871788e-73  \n",
       "2  1.682779e-100  \n",
       "3   1.549365e-01  "
      ]
     },
     "execution_count": 44,
     "metadata": {},
     "output_type": "execute_result"
    }
   ],
   "source": [
    "## pvalues of Diets % difference between using \"users overall orders\" and using \"individual orders disregarding who ordered \n",
    "Use_Or=diff_std_p_val(User_Order_Emp)\n",
    "Use_Or"
   ]
  },
  {
   "cell_type": "markdown",
   "metadata": {},
   "source": [
    "### For Meat_Lovers, NonVegan, and Vegan, p_values are <0.05, we can reject the null hypothesis and accept H1.  \n",
    "H1:There is significant difference in classifying these 3 Diets between using \"users overall orders\" and using \"individual orders disregarding who ordered it\" .  \n",
    "However for Pescatarian p_value>0.05 which means there is no significant difference in calculating % of this group by \"USERS\" or by \"ORDERS\""
   ]
  },
  {
   "cell_type": "markdown",
   "metadata": {},
   "source": [
    "## 7. Hypothesis testing part 2: Are there significant differences between Diet distribution classified by USERS and by ORDERS using Empirical dataset vs. Simulated dataset"
   ]
  },
  {
   "cell_type": "markdown",
   "metadata": {},
   "source": [
    "II.A\n",
    "Ho: There is no significant difference between Diet distribution classified by USERS using Empirical dataset versus Simulated dataset\n",
    "\n",
    "H1: There is significant difference between Diet distribution classified by USERS using Empirical dataset versus Simulated dataset"
   ]
  },
  {
   "cell_type": "code",
   "execution_count": 35,
   "metadata": {
    "collapsed": false
   },
   "outputs": [
    {
     "data": {
      "text/html": [
       "<div>\n",
       "<table border=\"1\" class=\"dataframe\">\n",
       "  <thead>\n",
       "    <tr style=\"text-align: right;\">\n",
       "      <th></th>\n",
       "      <th>Diet</th>\n",
       "      <th>Size1</th>\n",
       "      <th>Percent1</th>\n",
       "      <th>Size2</th>\n",
       "      <th>Percent2</th>\n",
       "    </tr>\n",
       "  </thead>\n",
       "  <tbody>\n",
       "    <tr>\n",
       "      <th>0</th>\n",
       "      <td>Meat_Lovers</td>\n",
       "      <td>6426</td>\n",
       "      <td>0.6426</td>\n",
       "      <td>8199</td>\n",
       "      <td>0.819572</td>\n",
       "    </tr>\n",
       "    <tr>\n",
       "      <th>1</th>\n",
       "      <td>NonVegan</td>\n",
       "      <td>2336</td>\n",
       "      <td>0.2336</td>\n",
       "      <td>1397</td>\n",
       "      <td>0.139644</td>\n",
       "    </tr>\n",
       "    <tr>\n",
       "      <th>2</th>\n",
       "      <td>Vegan</td>\n",
       "      <td>774</td>\n",
       "      <td>0.0774</td>\n",
       "      <td>168</td>\n",
       "      <td>0.016793</td>\n",
       "    </tr>\n",
       "    <tr>\n",
       "      <th>3</th>\n",
       "      <td>Pescatarian</td>\n",
       "      <td>464</td>\n",
       "      <td>0.0464</td>\n",
       "      <td>240</td>\n",
       "      <td>0.023990</td>\n",
       "    </tr>\n",
       "  </tbody>\n",
       "</table>\n",
       "</div>"
      ],
      "text/plain": [
       "          Diet  Size1  Percent1  Size2  Percent2\n",
       "0  Meat_Lovers   6426    0.6426   8199  0.819572\n",
       "1     NonVegan   2336    0.2336   1397  0.139644\n",
       "2        Vegan    774    0.0774    168  0.016793\n",
       "3  Pescatarian    464    0.0464    240  0.023990"
      ]
     },
     "execution_count": 35,
     "metadata": {},
     "output_type": "execute_result"
    }
   ],
   "source": [
    "## Sim_Emp_User is the dataframe comparing % of empirical sample and simulated sample both classified by USERS\n",
    "Sim_Emp_User=df_prop_compare(P_user1, Psimulated_user)\n",
    "Sim_Emp_User"
   ]
  },
  {
   "cell_type": "code",
   "execution_count": 36,
   "metadata": {
    "collapsed": false
   },
   "outputs": [
    {
     "data": {
      "image/png": "[encoded data removed]",
      "text/plain": [
       "<matplotlib.figure.Figure at 0x1c61659ce80>"
      ]
     },
     "metadata": {},
     "output_type": "display_data"
    }
   ],
   "source": [
    "fig, ax = plt.subplots(figsize=(10,8))\n",
    "\n",
    "X = np.arange(4)\n",
    "plt.bar(X + 0.00, Sim_Emp_User.Percent1, color = 'r', width = 0.25)\n",
    "plt.bar(X + 0.25, Sim_Emp_User.Percent2, color = 'm', width = 0.25)\n",
    "plt.ylabel('Percent')\n",
    "\n",
    "ax.set_xticks([p + 1.5 * 0.25 for p in X])\n",
    "ax.set_xticklabels(Sim_Emp_User.Diet)\n",
    "\n",
    "plt.legend(['P_user1', 'Psimulated_user'], loc='upper right')\n",
    "plt.title('Diet Distribution by USERS Empirical and Simulated')\n",
    "plt.show()\n"
   ]
  },
  {
   "cell_type": "code",
   "execution_count": 43,
   "metadata": {
    "collapsed": false
   },
   "outputs": [
    {
     "data": {
      "text/html": [
       "<div>\n",
       "<table border=\"1\" class=\"dataframe\">\n",
       "  <thead>\n",
       "    <tr style=\"text-align: right;\">\n",
       "      <th></th>\n",
       "      <th>Diet</th>\n",
       "      <th>Size1</th>\n",
       "      <th>Percent1</th>\n",
       "      <th>Size2</th>\n",
       "      <th>Percent2</th>\n",
       "      <th>var_1</th>\n",
       "      <th>var_2</th>\n",
       "      <th>var1_2</th>\n",
       "      <th>std_var1_2</th>\n",
       "      <th>%_diff</th>\n",
       "      <th>moe</th>\n",
       "      <th>DF</th>\n",
       "      <th>t_val</th>\n",
       "      <th>p_val</th>\n",
       "    </tr>\n",
       "  </thead>\n",
       "  <tbody>\n",
       "    <tr>\n",
       "      <th>0</th>\n",
       "      <td>Meat_Lovers</td>\n",
       "      <td>6426</td>\n",
       "      <td>0.6426</td>\n",
       "      <td>8199</td>\n",
       "      <td>0.819572</td>\n",
       "      <td>0.000036</td>\n",
       "      <td>0.000018</td>\n",
       "      <td>0.000054</td>\n",
       "      <td>0.007333</td>\n",
       "      <td>0.176972</td>\n",
       "      <td>0.014373</td>\n",
       "      <td>11147.572447</td>\n",
       "      <td>24.133064</td>\n",
       "      <td>1.798661e-125</td>\n",
       "    </tr>\n",
       "    <tr>\n",
       "      <th>1</th>\n",
       "      <td>NonVegan</td>\n",
       "      <td>2336</td>\n",
       "      <td>0.2336</td>\n",
       "      <td>1397</td>\n",
       "      <td>0.139644</td>\n",
       "      <td>0.000077</td>\n",
       "      <td>0.000086</td>\n",
       "      <td>0.000163</td>\n",
       "      <td>0.012753</td>\n",
       "      <td>0.093956</td>\n",
       "      <td>0.024996</td>\n",
       "      <td>2806.163157</td>\n",
       "      <td>7.367304</td>\n",
       "      <td>2.277683e-13</td>\n",
       "    </tr>\n",
       "    <tr>\n",
       "      <th>2</th>\n",
       "      <td>Vegan</td>\n",
       "      <td>774</td>\n",
       "      <td>0.0774</td>\n",
       "      <td>168</td>\n",
       "      <td>0.016793</td>\n",
       "      <td>0.000092</td>\n",
       "      <td>0.000098</td>\n",
       "      <td>0.000191</td>\n",
       "      <td>0.013804</td>\n",
       "      <td>0.060607</td>\n",
       "      <td>0.027055</td>\n",
       "      <td>241.262728</td>\n",
       "      <td>4.390623</td>\n",
       "      <td>1.691955e-05</td>\n",
       "    </tr>\n",
       "    <tr>\n",
       "      <th>3</th>\n",
       "      <td>Pescatarian</td>\n",
       "      <td>464</td>\n",
       "      <td>0.0464</td>\n",
       "      <td>240</td>\n",
       "      <td>0.023990</td>\n",
       "      <td>0.000095</td>\n",
       "      <td>0.000098</td>\n",
       "      <td>0.000193</td>\n",
       "      <td>0.013890</td>\n",
       "      <td>0.022410</td>\n",
       "      <td>0.027224</td>\n",
       "      <td>480.492026</td>\n",
       "      <td>1.613404</td>\n",
       "      <td>1.073132e-01</td>\n",
       "    </tr>\n",
       "  </tbody>\n",
       "</table>\n",
       "</div>"
      ],
      "text/plain": [
       "          Diet  Size1  Percent1  Size2  Percent2     var_1     var_2  \\\n",
       "0  Meat_Lovers   6426    0.6426   8199  0.819572  0.000036  0.000018   \n",
       "1     NonVegan   2336    0.2336   1397  0.139644  0.000077  0.000086   \n",
       "2        Vegan    774    0.0774    168  0.016793  0.000092  0.000098   \n",
       "3  Pescatarian    464    0.0464    240  0.023990  0.000095  0.000098   \n",
       "\n",
       "     var1_2  std_var1_2    %_diff       moe            DF      t_val  \\\n",
       "0  0.000054    0.007333  0.176972  0.014373  11147.572447  24.133064   \n",
       "1  0.000163    0.012753  0.093956  0.024996   2806.163157   7.367304   \n",
       "2  0.000191    0.013804  0.060607  0.027055    241.262728   4.390623   \n",
       "3  0.000193    0.013890  0.022410  0.027224    480.492026   1.613404   \n",
       "\n",
       "           p_val  \n",
       "0  1.798661e-125  \n",
       "1   2.277683e-13  \n",
       "2   1.691955e-05  \n",
       "3   1.073132e-01  "
      ]
     },
     "execution_count": 43,
     "metadata": {},
     "output_type": "execute_result"
    }
   ],
   "source": [
    "##Sim_Emp is a dataframe with calculated standard deviation, moe, degrees of freedom, t_values and p_values (USERS)\n",
    "Sim_Emp=diff_std_p_val(Sim_Emp_User)\n",
    "Sim_Emp"
   ]
  },
  {
   "cell_type": "markdown",
   "metadata": {},
   "source": [
    "### For Meat_Lovers, NonVegan, and Vegan, p_values are <0.05, we can reject the null hypothesis and accept H1.  \n",
    "H1:There is significant difference between Diet distribution classified by USERS using Empirical dataset versus Simulated dataset. \n",
    "However for Pescatarian classified by USERS p_value>0.05 which means there is no significant difference in % of this group using Empirical dataset and Simulated dataset"
   ]
  },
  {
   "cell_type": "markdown",
   "metadata": {
    "collapsed": true
   },
   "source": [
    "II.B\n",
    "Ho: There is no significant difference between Diet distribution classified by ORDERS using Empirical dataset versus Simulated dataset\n",
    "\n",
    "H1: There is significant difference between Diet distribution classified by ORDERS using Empirical dataset versus Simulated dataset"
   ]
  },
  {
   "cell_type": "code",
   "execution_count": 39,
   "metadata": {
    "collapsed": false
   },
   "outputs": [
    {
     "data": {
      "text/html": [
       "<div>\n",
       "<table border=\"1\" class=\"dataframe\">\n",
       "  <thead>\n",
       "    <tr style=\"text-align: right;\">\n",
       "      <th></th>\n",
       "      <th>Diet</th>\n",
       "      <th>Size1</th>\n",
       "      <th>Percent1</th>\n",
       "      <th>Size2</th>\n",
       "      <th>Percent2</th>\n",
       "    </tr>\n",
       "  </thead>\n",
       "  <tbody>\n",
       "    <tr>\n",
       "      <th>0</th>\n",
       "      <td>NonVegan</td>\n",
       "      <td>61868</td>\n",
       "      <td>0.401318</td>\n",
       "      <td>65765</td>\n",
       "      <td>0.426597</td>\n",
       "    </tr>\n",
       "    <tr>\n",
       "      <th>1</th>\n",
       "      <td>Vegan</td>\n",
       "      <td>49542</td>\n",
       "      <td>0.321363</td>\n",
       "      <td>40756</td>\n",
       "      <td>0.264371</td>\n",
       "    </tr>\n",
       "    <tr>\n",
       "      <th>2</th>\n",
       "      <td>Meat_Lovers</td>\n",
       "      <td>37813</td>\n",
       "      <td>0.245281</td>\n",
       "      <td>42214</td>\n",
       "      <td>0.273829</td>\n",
       "    </tr>\n",
       "    <tr>\n",
       "      <th>3</th>\n",
       "      <td>Pescatarian</td>\n",
       "      <td>4939</td>\n",
       "      <td>0.032038</td>\n",
       "      <td>5427</td>\n",
       "      <td>0.035203</td>\n",
       "    </tr>\n",
       "  </tbody>\n",
       "</table>\n",
       "</div>"
      ],
      "text/plain": [
       "          Diet  Size1  Percent1  Size2  Percent2\n",
       "0     NonVegan  61868  0.401318  65765  0.426597\n",
       "1        Vegan  49542  0.321363  40756  0.264371\n",
       "2  Meat_Lovers  37813  0.245281  42214  0.273829\n",
       "3  Pescatarian   4939  0.032038   5427  0.035203"
      ]
     },
     "execution_count": 39,
     "metadata": {},
     "output_type": "execute_result"
    }
   ],
   "source": [
    "## Sim_Emp_Order is the dataframe comparing % of empirical sample and simulated sample both classified by ORDERS\n",
    "Sim_Emp_Order=df_prop_compare(P_order1, Psimulated_order)\n",
    "Sim_Emp_Order"
   ]
  },
  {
   "cell_type": "code",
   "execution_count": 40,
   "metadata": {
    "collapsed": false
   },
   "outputs": [
    {
     "data": {
      "image/png": "[encoded data removed]",
      "text/plain": [
       "<matplotlib.figure.Figure at 0x1c6165edda0>"
      ]
     },
     "metadata": {},
     "output_type": "display_data"
    }
   ],
   "source": [
    "fig, ax = plt.subplots(figsize=(10,8))\n",
    "\n",
    "X = np.arange(4)\n",
    "plt.bar(X + 0.00, Sim_Emp_Order.Percent1, color = 'b', width = 0.25)\n",
    "plt.bar(X + 0.25, Sim_Emp_Order.Percent2, color = 'm', width = 0.25)\n",
    "plt.ylabel('Percent')\n",
    "\n",
    "ax.set_xticks([p + 1.5 * 0.25 for p in X])\n",
    "ax.set_xticklabels(Sim_Emp_Order.Diet)\n",
    "\n",
    "plt.legend(['P_order1', 'Psimulated_order'], loc='upper right')\n",
    "plt.title('Diet Distribution by ORDERS Empirical and Simulated')\n",
    "plt.show()\n"
   ]
  },
  {
   "cell_type": "code",
   "execution_count": 42,
   "metadata": {
    "collapsed": false
   },
   "outputs": [
    {
     "data": {
      "text/html": [
       "<div>\n",
       "<table border=\"1\" class=\"dataframe\">\n",
       "  <thead>\n",
       "    <tr style=\"text-align: right;\">\n",
       "      <th></th>\n",
       "      <th>Diet</th>\n",
       "      <th>Size1</th>\n",
       "      <th>Percent1</th>\n",
       "      <th>Size2</th>\n",
       "      <th>Percent2</th>\n",
       "      <th>var_1</th>\n",
       "      <th>var_2</th>\n",
       "      <th>var1_2</th>\n",
       "      <th>std_var1_2</th>\n",
       "      <th>%_diff</th>\n",
       "      <th>moe</th>\n",
       "      <th>DF</th>\n",
       "      <th>t_val</th>\n",
       "      <th>p_val</th>\n",
       "    </tr>\n",
       "  </thead>\n",
       "  <tbody>\n",
       "    <tr>\n",
       "      <th>0</th>\n",
       "      <td>NonVegan</td>\n",
       "      <td>61868</td>\n",
       "      <td>0.401318</td>\n",
       "      <td>65765</td>\n",
       "      <td>0.426597</td>\n",
       "      <td>0.000004</td>\n",
       "      <td>0.000004</td>\n",
       "      <td>0.000008</td>\n",
       "      <td>0.002757</td>\n",
       "      <td>0.025279</td>\n",
       "      <td>0.005404</td>\n",
       "      <td>126767.318622</td>\n",
       "      <td>9.167737</td>\n",
       "      <td>4.899879e-20</td>\n",
       "    </tr>\n",
       "    <tr>\n",
       "      <th>1</th>\n",
       "      <td>Vegan</td>\n",
       "      <td>49542</td>\n",
       "      <td>0.321363</td>\n",
       "      <td>40756</td>\n",
       "      <td>0.264371</td>\n",
       "      <td>0.000004</td>\n",
       "      <td>0.000005</td>\n",
       "      <td>0.000009</td>\n",
       "      <td>0.003029</td>\n",
       "      <td>0.056992</td>\n",
       "      <td>0.005937</td>\n",
       "      <td>85554.039824</td>\n",
       "      <td>18.816422</td>\n",
       "      <td>7.999529e-79</td>\n",
       "    </tr>\n",
       "    <tr>\n",
       "      <th>2</th>\n",
       "      <td>Meat_Lovers</td>\n",
       "      <td>37813</td>\n",
       "      <td>0.245281</td>\n",
       "      <td>42214</td>\n",
       "      <td>0.273829</td>\n",
       "      <td>0.000005</td>\n",
       "      <td>0.000005</td>\n",
       "      <td>0.000010</td>\n",
       "      <td>0.003099</td>\n",
       "      <td>0.028548</td>\n",
       "      <td>0.006075</td>\n",
       "      <td>78709.416825</td>\n",
       "      <td>9.210883</td>\n",
       "      <td>3.311050e-20</td>\n",
       "    </tr>\n",
       "    <tr>\n",
       "      <th>3</th>\n",
       "      <td>Pescatarian</td>\n",
       "      <td>4939</td>\n",
       "      <td>0.032038</td>\n",
       "      <td>5427</td>\n",
       "      <td>0.035203</td>\n",
       "      <td>0.000006</td>\n",
       "      <td>0.000006</td>\n",
       "      <td>0.000013</td>\n",
       "      <td>0.003541</td>\n",
       "      <td>0.003166</td>\n",
       "      <td>0.006940</td>\n",
       "      <td>10271.545686</td>\n",
       "      <td>0.894010</td>\n",
       "      <td>3.713376e-01</td>\n",
       "    </tr>\n",
       "  </tbody>\n",
       "</table>\n",
       "</div>"
      ],
      "text/plain": [
       "          Diet  Size1  Percent1  Size2  Percent2     var_1     var_2  \\\n",
       "0     NonVegan  61868  0.401318  65765  0.426597  0.000004  0.000004   \n",
       "1        Vegan  49542  0.321363  40756  0.264371  0.000004  0.000005   \n",
       "2  Meat_Lovers  37813  0.245281  42214  0.273829  0.000005  0.000005   \n",
       "3  Pescatarian   4939  0.032038   5427  0.035203  0.000006  0.000006   \n",
       "\n",
       "     var1_2  std_var1_2    %_diff       moe             DF      t_val  \\\n",
       "0  0.000008    0.002757  0.025279  0.005404  126767.318622   9.167737   \n",
       "1  0.000009    0.003029  0.056992  0.005937   85554.039824  18.816422   \n",
       "2  0.000010    0.003099  0.028548  0.006075   78709.416825   9.210883   \n",
       "3  0.000013    0.003541  0.003166  0.006940   10271.545686   0.894010   \n",
       "\n",
       "          p_val  \n",
       "0  4.899879e-20  \n",
       "1  7.999529e-79  \n",
       "2  3.311050e-20  \n",
       "3  3.713376e-01  "
      ]
     },
     "execution_count": 42,
     "metadata": {},
     "output_type": "execute_result"
    }
   ],
   "source": [
    "##Sim_Emp_Order is a dataframe with calculated standard deviation, moe, degrees of freedom, t_values and p_values (ORDERS)\n",
    "Sim_Emp_Order=diff_std_p_val(Sim_Emp_Order)\n",
    "Sim_Emp_Order"
   ]
  },
  {
   "cell_type": "markdown",
   "metadata": {},
   "source": [
    "### For Meat_Lovers, NonVegan, and Vegan, p_values are <0.05, we can reject the null hypothesis and accept H1. \n",
    "H1: There is significant difference between Diet distribution classified by ORDERS using Empirical dataset versus Simulated dataset.  \n",
    "However for Pescatarian classified by ORDERS p_value>0.05 which means there is no significant difference in % of this group using Empirical dataset and Simulated dataset"
   ]
  },
  {
   "cell_type": "markdown",
   "metadata": {},
   "source": [
    "## 8. Limitations of this algorithm\n",
    "* This algorithm does not account users that very rarely buy meat but are nonvegans or vegans.  The algorithm will still classify the user as Meat_Lovers as long as they buy any meat.  It will be the same case for users who very rarely buy fish even but are nonvegans or vegans they will be classified as Pescatarian when they buy on the seafood aisle."
   ]
  }
 ],
 "metadata": {
  "kernelspec": {
   "display_name": "Python 3",
   "language": "python",
   "name": "python3"
  },
  "language_info": {
   "codemirror_mode": {
    "name": "ipython",
    "version": 3
   },
   "file_extension": ".py",
   "mimetype": "text/x-python",
   "name": "python",
   "nbconvert_exporter": "python",
   "pygments_lexer": "ipython3",
   "version": "3.6.0"
  }
 },
 "nbformat": 4,
 "nbformat_minor": 2
}
